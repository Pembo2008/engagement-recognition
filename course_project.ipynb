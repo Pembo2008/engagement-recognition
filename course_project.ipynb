{
  "cells": [
    {
      "cell_type": "markdown",
      "metadata": {
        "id": "view-in-github",
        "colab_type": "text"
      },
      "source": [
        "<a href=\"https://colab.research.google.com/github/Pembo2008/engagement-recognition/blob/main/course_project.ipynb\" target=\"_parent\"><img src=\"https://colab.research.google.com/assets/colab-badge.svg\" alt=\"Open In Colab\"/></a>"
      ]
    },
    {
      "cell_type": "markdown",
      "metadata": {
        "id": "qPgCJXANxOEd"
      },
      "source": [
        "# ***ПРОЕКТ ЭМОЦИОНАЛЬНАЯ ВОВЛЕЧЕННОСТЬ УЧАСТНИКОВ ОНЛАЙН МЕРОПРИЯТИЯ***"
      ]
    },
    {
      "cell_type": "markdown",
      "metadata": {
        "id": "v2RqEKmSxey3"
      },
      "source": [
        "Импорт библиотек"
      ]
    },
    {
      "cell_type": "code",
      "execution_count": 1,
      "metadata": {
        "id": "D4jjksO7K5Dp"
      },
      "outputs": [],
      "source": [
        "import os\n",
        "from PIL import Image\n",
        "import cv2\n",
        "from sklearn.model_selection import train_test_split\n",
        "from sklearn import preprocessing\n",
        "from sklearn import svm\n",
        "from sklearn.ensemble import RandomForestClassifier,RandomForestRegressor\n",
        "from sklearn import svm,metrics,preprocessing\n",
        "from sklearn.neighbors import KNeighborsClassifier\n",
        "from sklearn.decomposition import PCA\n",
        "from sklearn.pipeline import Pipeline\n",
        "from collections import defaultdict\n",
        "import os\n",
        "import random\n",
        "import numpy as np\n",
        "from tqdm import tqdm\n",
        "import time\n",
        "import pickle\n",
        "import pandas as pd\n",
        "import matplotlib.pyplot as plt\n",
        "import pathlib\n",
        "import tensorflow as tf\n",
        "import torch\n",
        "from tensorflow.keras.applications.resnet import preprocess_input\n",
        "from tensorflow.keras.layers import TimeDistributed, GRU, Dense, Dropout, Flatten, LSTM, Activation, MaxPooling2D\n",
        "from tensorflow.keras.regularizers import l2 as L2_reg\n",
        "from tensorflow.keras.layers import Conv2D, BatchNormalization,MaxPool2D, GlobalMaxPool2D, Input, Masking, Conv3D, MaxPooling3D, GlobalMaxPool3D\n",
        "from tensorflow.keras.optimizers import SGD, Adam\n",
        "from tensorflow.compat.v1.keras.backend import set_session\n",
        "import glob\n",
        "from itertools import chain\n",
        "import os\n",
        "import random\n",
        "import zipfile\n",
        "\n",
        "import matplotlib.pyplot as plt\n",
        "import numpy as np\n",
        "import pandas as pd\n",
        "import torch\n",
        "import torch.nn as nn\n",
        "import torch.nn.functional as F\n",
        "import torch.optim as optim\n",
        "from PIL import Image\n",
        "from sklearn.model_selection import train_test_split\n",
        "from torch.optim.lr_scheduler import StepLR\n",
        "from torch.utils.data import DataLoader, Dataset\n",
        "from torchvision import datasets, transforms\n",
        "from tqdm.notebook import tqdm \n",
        "config = tf.compat.v1.ConfigProto()\n",
        "config.gpu_options.allow_growth = True\n",
        "sess=tf.compat.v1.Session(config=config)\n",
        "set_session(sess)"
      ]
    },
    {
      "cell_type": "code",
      "execution_count": 2,
      "metadata": {
        "colab": {
          "base_uri": "https://localhost:8080/"
        },
        "id": "XEiiNoX2KYEI",
        "outputId": "101fe1ba-10f0-40e2-c9b9-95c0366459c9"
      },
      "outputs": [
        {
          "output_type": "execute_result",
          "data": {
            "text/plain": [
              "device(type='cuda')"
            ]
          },
          "metadata": {},
          "execution_count": 2
        }
      ],
      "source": [
        "device = torch.device('cuda')\n",
        "device"
      ]
    },
    {
      "cell_type": "code",
      "execution_count": 3,
      "metadata": {
        "id": "tXeRjESPRcsm"
      },
      "outputs": [],
      "source": [
        "DATA_DIR = '/content/drive/MyDrive/project/Датасэт'"
      ]
    },
    {
      "cell_type": "markdown",
      "metadata": {
        "id": "ibCjyiqAoQsT"
      },
      "source": [
        "## **Preparing** **data**"
      ]
    },
    {
      "cell_type": "code",
      "execution_count": null,
      "metadata": {
        "id": "Y8165deSXb8i"
      },
      "outputs": [],
      "source": [
        "def process_dir(dirname):\n",
        "    print(dirname)\n",
        "    d=os.path.join(DATA_DIR,dirname)\n",
        "    for filename in tqdm(os.listdir(d)):\n",
        "        if filename.lower().endswith('ini'):\n",
        "            continue\n",
        "        if os.path.isdir(os.path.join(d,filename)):\n",
        "            videofile=None\n",
        "            for fn in os.listdir(os.path.join(d,filename)):\n",
        "                if fn.lower().endswith('ini'):\n",
        "                    continue\n",
        "                videofile=fn\n",
        "            if videofile is None:\n",
        "                print(filename)\n",
        "                continue\n",
        "            filename=os.path.join(filename,videofile)\n",
        "        fn, ext = os.path.splitext(os.path.basename(filename))\n",
        "        outdir=os.path.join(d,fn)\n",
        "        if not os.path.exists(outdir):\n",
        "            os.makedirs(outdir)\n",
        "        command = \"ffmpeg -i \"+os.path.join(d,filename) + \" -r 0.5 '\"+outdir+\"/%05d.png'\"\n",
        "        print(command)\n",
        "        os.system(command=command)\n",
        "\n",
        "process_dir('Test')"
      ]
    },
    {
      "cell_type": "code",
      "execution_count": null,
      "metadata": {
        "id": "J8n7bbsyxy9A"
      },
      "outputs": [],
      "source": [
        "process_dir('Train')"
      ]
    },
    {
      "cell_type": "code",
      "execution_count": null,
      "metadata": {
        "id": "wYIk_x-FxzM1"
      },
      "outputs": [],
      "source": [
        "process_dir('Validation')"
      ]
    },
    {
      "cell_type": "code",
      "execution_count": null,
      "metadata": {
        "id": "6evdtd4RT8TU"
      },
      "outputs": [],
      "source": [
        "def extract_openface_features(dirname,outdir):\n",
        "    print(dirname)\n",
        "    if not os.path.exists(outdir):\n",
        "        os.makedirs(outdir)\n",
        "    os.chdir(dirname)\n",
        "    command='/home/avsavchenko/src/distr/OpenFace/build/bin/FeatureExtraction -pose -aus -gaze -out_dir '+outdir\n",
        "    for filename in os.listdir('.'):\n",
        "        if filename.lower().endswith('ini'):\n",
        "            continue\n",
        "        \n",
        "        if os.path.isdir(filename):\n",
        "            command+=' -fdir '+filename\n",
        "        \n",
        "    print(command)\n",
        "    os.system(command=command)\n",
        "\n",
        "cur_dir=os.getcwd()\n",
        "extract_openface_features(os.path.join(DATA_DIR,'frames/validation/'),os.path.join(DATA_DIR,'frames/faces/openface/validation/'))\n",
        "extract_openface_features(os.path.join(DATA_DIR,'frames/Train/'),os.path.join(DATA_DIR,'frames/faces/openface/Train/'))\n",
        "os.chdir(cur_dir)\n",
        "print(os.getcwd())"
      ]
    },
    {
      "cell_type": "code",
      "execution_count": null,
      "metadata": {
        "id": "M_RyRkvCOdCX"
      },
      "outputs": [],
      "source": [
        "from __future__ import absolute_import\n",
        "from __future__ import division\n",
        "from __future__ import print_function\n",
        "\n",
        "import sys\n",
        "import os\n",
        "#os.environ['CUDA_VISIBLE_DEVICES'] = ''\n",
        "import argparse\n",
        "import tensorflow as tf\n",
        "import numpy as np\n",
        "import cv2\n",
        "import time\n",
        "\n",
        "import subprocess, re \n",
        "\n",
        "\n",
        "def is_specialfile(path,exts):\n",
        "    _, file_extension = os.path.splitext(path)\n",
        "    return file_extension.lower() in exts\n",
        "\n",
        "img_extensions=['.jpg','.jpeg','.png']\n",
        "def is_image(path):\n",
        "    return is_specialfile(path,img_extensions)\n",
        "\n",
        "video_extensions=['.mov','.avi']\n",
        "def is_video(path):\n",
        "    return is_specialfile(path,video_extensions)\n",
        "    \n",
        "class FacialImageProcessing:\n",
        "    # minsize: minimum of faces' size\n",
        "    def __init__(self, print_stat=False, minsize = 16):\n",
        "        self.print_stat=print_stat\n",
        "        self.minsize=minsize\n",
        "        \n",
        "        models_path = '/content/drive/MyDrive/project/Датасэт/Models'\n",
        "        # models_path=os.path.join(models_path,'..','models','pretrained_faces')\n",
        "        model_files={os.path.join(models_path,'mtcnn.pb'):''}\n",
        "\n",
        "        with tf.Graph().as_default() as full_graph:\n",
        "            for model_file in model_files:\n",
        "                tf.import_graph_def(FacialImageProcessing.load_graph_def(model_file), name=model_files[model_file])\n",
        "        self.sess=tf.compat.v1.Session(graph=full_graph)#,config=tf.ConfigProto(device_count={'CPU':1,'GPU':0}))\n",
        "        self.pnet, self.rnet, self.onet = FacialImageProcessing.load_mtcnn(self.sess,full_graph)     \n",
        "\n",
        "    def close(self):\n",
        "        self.sess.close()\n",
        "    \n",
        "    @staticmethod\n",
        "    def load_graph_def(frozen_graph_filename):\n",
        "        graph_def=None\n",
        "        with tf.io.gfile.GFile(frozen_graph_filename, 'rb') as f:\n",
        "            graph_def = tf.compat.v1.GraphDef()\n",
        "            graph_def.ParseFromString(f.read())\n",
        "        return graph_def\n",
        "    \n",
        "    @staticmethod\n",
        "    def load_graph(frozen_graph_filename, prefix=''):\n",
        "        graph_def = FacialImageProcessing.load_graph_def(frozen_graph_filename)\n",
        "        with tf.Graph().as_default() as graph:\n",
        "            tf.import_graph_def(graph_def, name=prefix)\n",
        "        return graph\n",
        "\n",
        "    @staticmethod\n",
        "    def load_mtcnn(sess,graph):\n",
        "        pnet_out_1=graph.get_tensor_by_name('pnet/conv4-2/BiasAdd:0')\n",
        "        pnet_out_2=graph.get_tensor_by_name('pnet/prob1:0')\n",
        "        pnet_in=graph.get_tensor_by_name('pnet/input:0')\n",
        "        \n",
        "        rnet_out_1=graph.get_tensor_by_name('rnet/conv5-2/conv5-2:0')\n",
        "        rnet_out_2=graph.get_tensor_by_name('rnet/prob1:0')\n",
        "        rnet_in=graph.get_tensor_by_name('rnet/input:0')\n",
        "        \n",
        "        onet_out_1=graph.get_tensor_by_name('onet/conv6-2/conv6-2:0')\n",
        "        onet_out_2=graph.get_tensor_by_name('onet/conv6-3/conv6-3:0')\n",
        "        onet_out_3=graph.get_tensor_by_name('onet/prob1:0')\n",
        "        onet_in=graph.get_tensor_by_name('onet/input:0')\n",
        "        \n",
        "        pnet_fun = lambda img : sess.run((pnet_out_1, pnet_out_2), feed_dict={pnet_in:img})\n",
        "        rnet_fun = lambda img : sess.run((rnet_out_1, rnet_out_2), feed_dict={rnet_in:img})\n",
        "        onet_fun = lambda img : sess.run((onet_out_1, onet_out_2, onet_out_3), feed_dict={onet_in:img})\n",
        "        return pnet_fun, rnet_fun, onet_fun\n",
        "        \n",
        "    @staticmethod\n",
        "    def bbreg(boundingbox,reg):\n",
        "        # calibrate bounding boxes\n",
        "        if reg.shape[1]==1:\n",
        "            reg = np.reshape(reg, (reg.shape[2], reg.shape[3]))\n",
        "\n",
        "        w = boundingbox[:,2]-boundingbox[:,0]+1\n",
        "        h = boundingbox[:,3]-boundingbox[:,1]+1\n",
        "        b1 = boundingbox[:,0]+reg[:,0]*w\n",
        "        b2 = boundingbox[:,1]+reg[:,1]*h\n",
        "        b3 = boundingbox[:,2]+reg[:,2]*w\n",
        "        b4 = boundingbox[:,3]+reg[:,3]*h\n",
        "        boundingbox[:,0:4] = np.transpose(np.vstack([b1, b2, b3, b4 ]))\n",
        "        return boundingbox\n",
        "     \n",
        "    @staticmethod\n",
        "    def generateBoundingBox(imap, reg, scale, t):\n",
        "        # use heatmap to generate bounding boxes\n",
        "        stride=2\n",
        "        cellsize=12\n",
        "\n",
        "        imap = np.transpose(imap)\n",
        "        dx1 = np.transpose(reg[:,:,0])\n",
        "        dy1 = np.transpose(reg[:,:,1])\n",
        "        dx2 = np.transpose(reg[:,:,2])\n",
        "        dy2 = np.transpose(reg[:,:,3])\n",
        "        y, x = np.where(imap >= t)\n",
        "        if y.shape[0]==1:\n",
        "            dx1 = np.flipud(dx1)\n",
        "            dy1 = np.flipud(dy1)\n",
        "            dx2 = np.flipud(dx2)\n",
        "            dy2 = np.flipud(dy2)\n",
        "        score = imap[(y,x)]\n",
        "        reg = np.transpose(np.vstack([ dx1[(y,x)], dy1[(y,x)], dx2[(y,x)], dy2[(y,x)] ]))\n",
        "        if reg.size==0:\n",
        "            reg = np.empty((0,3))\n",
        "        bb = np.transpose(np.vstack([y,x]))\n",
        "        q1 = np.fix((stride*bb+1)/scale)\n",
        "        q2 = np.fix((stride*bb+cellsize-1+1)/scale)\n",
        "        boundingbox = np.hstack([q1, q2, np.expand_dims(score,1), reg])\n",
        "        return boundingbox, reg\n",
        "     \n",
        "    # function pick = nms(boxes,threshold,type)\n",
        "    @staticmethod\n",
        "    def nms(boxes, threshold, method):\n",
        "        if boxes.size==0:\n",
        "            return np.empty((0,3))\n",
        "        x1 = boxes[:,0]\n",
        "        y1 = boxes[:,1]\n",
        "        x2 = boxes[:,2]\n",
        "        y2 = boxes[:,3]\n",
        "        s = boxes[:,4]\n",
        "        area = (x2-x1+1) * (y2-y1+1)\n",
        "        I = np.argsort(s)\n",
        "        pick = np.zeros_like(s, dtype=np.int16)\n",
        "        counter = 0\n",
        "        while I.size>0:\n",
        "            i = I[-1]\n",
        "            pick[counter] = i\n",
        "            counter += 1\n",
        "            idx = I[0:-1]\n",
        "            xx1 = np.maximum(x1[i], x1[idx])\n",
        "            yy1 = np.maximum(y1[i], y1[idx])\n",
        "            xx2 = np.minimum(x2[i], x2[idx])\n",
        "            yy2 = np.minimum(y2[i], y2[idx])\n",
        "            w = np.maximum(0.0, xx2-xx1+1)\n",
        "            h = np.maximum(0.0, yy2-yy1+1)\n",
        "            inter = w * h\n",
        "            if method == 'Min':\n",
        "                o = inter / np.minimum(area[i], area[idx])\n",
        "            else:\n",
        "                o = inter / (area[i] + area[idx] - inter)\n",
        "            I = I[np.where(o<=threshold)]\n",
        "        pick = pick[0:counter]\n",
        "        return pick\n",
        "\n",
        "    # function [dy edy dx edx y ey x ex tmpw tmph] = pad(total_boxes,w,h)\n",
        "    @staticmethod\n",
        "    def pad(total_boxes, w, h):\n",
        "        # compute the padding coordinates (pad the bounding boxes to square)\n",
        "        tmpw = (total_boxes[:,2]-total_boxes[:,0]+1).astype(np.int32)\n",
        "        tmph = (total_boxes[:,3]-total_boxes[:,1]+1).astype(np.int32)\n",
        "        numbox = total_boxes.shape[0]\n",
        "\n",
        "        dx = np.ones((numbox), dtype=np.int32)\n",
        "        dy = np.ones((numbox), dtype=np.int32)\n",
        "        edx = tmpw.copy().astype(np.int32)\n",
        "        edy = tmph.copy().astype(np.int32)\n",
        "\n",
        "        x = total_boxes[:,0].copy().astype(np.int32)\n",
        "        y = total_boxes[:,1].copy().astype(np.int32)\n",
        "        ex = total_boxes[:,2].copy().astype(np.int32)\n",
        "        ey = total_boxes[:,3].copy().astype(np.int32)\n",
        "\n",
        "        tmp = np.where(ex>w)\n",
        "        edx.flat[tmp] = np.expand_dims(-ex[tmp]+w+tmpw[tmp],1)\n",
        "        ex[tmp] = w\n",
        "        \n",
        "        tmp = np.where(ey>h)\n",
        "        edy.flat[tmp] = np.expand_dims(-ey[tmp]+h+tmph[tmp],1)\n",
        "        ey[tmp] = h\n",
        "\n",
        "        tmp = np.where(x<1)\n",
        "        dx.flat[tmp] = np.expand_dims(2-x[tmp],1)\n",
        "        x[tmp] = 1\n",
        "\n",
        "        tmp = np.where(y<1)\n",
        "        dy.flat[tmp] = np.expand_dims(2-y[tmp],1)\n",
        "        y[tmp] = 1\n",
        "        \n",
        "        return dy, edy, dx, edx, y, ey, x, ex, tmpw, tmph\n",
        "\n",
        "    # function [bboxA] = rerec(bboxA)\n",
        "    @staticmethod\n",
        "    def rerec(bboxA):\n",
        "        # convert bboxA to square\n",
        "        h = bboxA[:,3]-bboxA[:,1]\n",
        "        w = bboxA[:,2]-bboxA[:,0]\n",
        "        l = np.maximum(w, h)\n",
        "        bboxA[:,0] = bboxA[:,0]+w*0.5-l*0.5\n",
        "        bboxA[:,1] = bboxA[:,1]+h*0.5-l*0.5\n",
        "        bboxA[:,2:4] = bboxA[:,0:2] + np.transpose(np.tile(l,(2,1)))\n",
        "        return bboxA\n",
        "\n",
        "    def detect_faces(self,img):\n",
        "        # im: input image\n",
        "        # threshold: threshold=[th1 th2 th3], th1-3 are three steps's threshold\n",
        "        threshold = [ 0.6, 0.7, 0.9 ]  # three steps's threshold\n",
        "        # fastresize: resize img from last scale (using in high-resolution images) if fastresize==true\n",
        "        factor = 0.709 # scale factor\n",
        "        factor_count=0\n",
        "        total_boxes=np.empty((0,9))\n",
        "        points=np.array([])\n",
        "        h=img.shape[0]\n",
        "        w=img.shape[1]\n",
        "        minl=np.amin([h, w])\n",
        "        m=12.0/self.minsize\n",
        "        minl=minl*m\n",
        "        # creat scale pyramid\n",
        "        scales=[]\n",
        "        while minl>=12:\n",
        "            scales += [m*np.power(factor, factor_count)]\n",
        "            minl = minl*factor\n",
        "            factor_count += 1\n",
        "\n",
        "        # first stage\n",
        "        #t=time.time()\n",
        "        for j in range(len(scales)):\n",
        "            scale=scales[j]\n",
        "            hs=int(np.ceil(h*scale))\n",
        "            ws=int(np.ceil(w*scale))\n",
        "            im_data = cv2.resize(img, (ws,hs), interpolation=cv2.INTER_AREA)\n",
        "            im_data = (im_data-127.5)*0.0078125\n",
        "            img_x = np.expand_dims(im_data, 0)\n",
        "            img_y = np.transpose(img_x, (0,2,1,3))\n",
        "            out = self.pnet(img_y)\n",
        "            out0 = np.transpose(out[0], (0,2,1,3))\n",
        "            out1 = np.transpose(out[1], (0,2,1,3))\n",
        "            \n",
        "            boxes, _ = FacialImageProcessing.generateBoundingBox(out1[0,:,:,1].copy(), out0[0,:,:,:].copy(), scale, threshold[0])\n",
        "            \n",
        "            # inter-scale nms\n",
        "            pick = FacialImageProcessing.nms(boxes.copy(), 0.5, 'Union')\n",
        "            if boxes.size>0 and pick.size>0:\n",
        "                boxes = boxes[pick,:]\n",
        "                total_boxes = np.append(total_boxes, boxes, axis=0)\n",
        "        numbox = total_boxes.shape[0]\n",
        "        #elapsed = time.time() - t\n",
        "        #print('1 phase nb=%d elapsed=%f'%(numbox,elapsed))\n",
        "        if numbox>0:\n",
        "            pick = FacialImageProcessing.nms(total_boxes.copy(), 0.7, 'Union')\n",
        "            total_boxes = total_boxes[pick,:]\n",
        "            regw = total_boxes[:,2]-total_boxes[:,0]\n",
        "            regh = total_boxes[:,3]-total_boxes[:,1]\n",
        "            qq1 = total_boxes[:,0]+total_boxes[:,5]*regw\n",
        "            qq2 = total_boxes[:,1]+total_boxes[:,6]*regh\n",
        "            qq3 = total_boxes[:,2]+total_boxes[:,7]*regw\n",
        "            qq4 = total_boxes[:,3]+total_boxes[:,8]*regh\n",
        "            total_boxes = np.transpose(np.vstack([qq1, qq2, qq3, qq4, total_boxes[:,4]]))\n",
        "            total_boxes = FacialImageProcessing.rerec(total_boxes.copy())\n",
        "            total_boxes[:,0:4] = np.fix(total_boxes[:,0:4]).astype(np.int32)\n",
        "            dy, edy, dx, edx, y, ey, x, ex, tmpw, tmph = FacialImageProcessing.pad(total_boxes.copy(), w, h)\n",
        "\n",
        "        numbox = total_boxes.shape[0]\n",
        "        #elapsed = time.time() - t\n",
        "        #print('2 phase nb=%d elapsed=%f'%(numbox,elapsed))\n",
        "        if numbox>0:\n",
        "            # second stage\n",
        "            tempimg = np.zeros((24,24,3,numbox))\n",
        "            for k in range(0,numbox):\n",
        "                tmp = np.zeros((int(tmph[k]),int(tmpw[k]),3))\n",
        "                tmp[dy[k]-1:edy[k],dx[k]-1:edx[k],:] = img[y[k]-1:ey[k],x[k]-1:ex[k],:]\n",
        "                if tmp.shape[0]>0 and tmp.shape[1]>0 or tmp.shape[0]==0 and tmp.shape[1]==0:\n",
        "                    tempimg[:,:,:,k] = cv2.resize(tmp, (24,24), interpolation=cv2.INTER_AREA)\n",
        "                else:\n",
        "                    return np.empty()\n",
        "            tempimg = (tempimg-127.5)*0.0078125\n",
        "            tempimg1 = np.transpose(tempimg, (3,1,0,2))\n",
        "            out = self.rnet(tempimg1)\n",
        "            out0 = np.transpose(out[0])\n",
        "            out1 = np.transpose(out[1])\n",
        "            score = out1[1,:]\n",
        "            ipass = np.where(score>threshold[1])\n",
        "            total_boxes = np.hstack([total_boxes[ipass[0],0:4].copy(), np.expand_dims(score[ipass].copy(),1)])\n",
        "            mv = out0[:,ipass[0]]\n",
        "            if total_boxes.shape[0]>0:\n",
        "                pick = FacialImageProcessing.nms(total_boxes, 0.7, 'Union')\n",
        "                total_boxes = total_boxes[pick,:]\n",
        "                total_boxes = FacialImageProcessing.bbreg(total_boxes.copy(), np.transpose(mv[:,pick]))\n",
        "                total_boxes = FacialImageProcessing.rerec(total_boxes.copy())\n",
        "\n",
        "        numbox = total_boxes.shape[0]\n",
        "        #elapsed = time.time() - t\n",
        "        #print('3 phase nb=%d elapsed=%f'%(numbox,elapsed))\n",
        "        if numbox>0:\n",
        "            # third stage\n",
        "            total_boxes = np.fix(total_boxes).astype(np.int32)\n",
        "            dy, edy, dx, edx, y, ey, x, ex, tmpw, tmph = FacialImageProcessing.pad(total_boxes.copy(), w, h)\n",
        "            tempimg = np.zeros((48,48,3,numbox))\n",
        "            for k in range(0,numbox):\n",
        "                tmp = np.zeros((int(tmph[k]),int(tmpw[k]),3))\n",
        "                tmp[dy[k]-1:edy[k],dx[k]-1:edx[k],:] = img[y[k]-1:ey[k],x[k]-1:ex[k],:]\n",
        "                if tmp.shape[0]>0 and tmp.shape[1]>0 or tmp.shape[0]==0 and tmp.shape[1]==0:\n",
        "                    tempimg[:,:,:,k] = cv2.resize(tmp, (48,48), interpolation=cv2.INTER_AREA)\n",
        "                else:\n",
        "                    return np.empty()\n",
        "            tempimg = (tempimg-127.5)*0.0078125\n",
        "            tempimg1 = np.transpose(tempimg, (3,1,0,2))\n",
        "            out = self.onet(tempimg1)\n",
        "            out0 = np.transpose(out[0])\n",
        "            out1 = np.transpose(out[1])\n",
        "            out2 = np.transpose(out[2])\n",
        "            score = out2[1,:]\n",
        "            points = out1\n",
        "            ipass = np.where(score>threshold[2])\n",
        "            points = points[:,ipass[0]]\n",
        "            total_boxes = np.hstack([total_boxes[ipass[0],0:4].copy(), np.expand_dims(score[ipass].copy(),1)])\n",
        "            mv = out0[:,ipass[0]]\n",
        "\n",
        "            w = total_boxes[:,2]-total_boxes[:,0]+1\n",
        "            h = total_boxes[:,3]-total_boxes[:,1]+1\n",
        "            points[0:5,:] = np.tile(w,(5, 1))*points[0:5,:] + np.tile(total_boxes[:,0],(5, 1))-1\n",
        "            points[5:10,:] = np.tile(h,(5, 1))*points[5:10,:] + np.tile(total_boxes[:,1],(5, 1))-1\n",
        "            if total_boxes.shape[0]>0:\n",
        "                total_boxes = FacialImageProcessing.bbreg(total_boxes.copy(), np.transpose(mv))\n",
        "                pick = FacialImageProcessing.nms(total_boxes.copy(), 0.7, 'Min')\n",
        "                total_boxes = total_boxes[pick,:]\n",
        "                points = points[:,pick]\n",
        "        #elapsed = time.time() - t\n",
        "        #print('4 phase elapsed=%f'%(elapsed))            \n",
        "        return total_boxes, points"
      ]
    },
    {
      "cell_type": "code",
      "execution_count": null,
      "metadata": {
        "id": "BQFt63WlMOeM"
      },
      "outputs": [],
      "source": [
        "imgProcessing=FacialImageProcessing(False)"
      ]
    },
    {
      "cell_type": "code",
      "execution_count": null,
      "metadata": {
        "colab": {
          "base_uri": "https://localhost:8080/"
        },
        "id": "zkP2kjaOMU7l",
        "outputId": "4381fb57-c0a0-426d-e3c6-ae3075cef737"
      },
      "outputs": [
        {
          "name": "stderr",
          "output_type": "stream",
          "text": [
            "\r  0%|          | 0/20 [00:00<?, ?it/s]"
          ]
        },
        {
          "name": "stdout",
          "output_type": "stream",
          "text": [
            "3_4\n"
          ]
        },
        {
          "name": "stderr",
          "output_type": "stream",
          "text": [
            " 15%|█▌        | 3/20 [02:03<11:12, 39.59s/it]"
          ]
        },
        {
          "name": "stdout",
          "output_type": "stream",
          "text": [
            "Too many faces ( 2 ) found for  /content/drive/MyDrive/project/Датасэт/Validation/frames/3_1_1/00024.png\n",
            "Too many faces ( 2 ) found for  /content/drive/MyDrive/project/Датасэт/Validation/frames/3_1_1/00025.png\n"
          ]
        },
        {
          "name": "stderr",
          "output_type": "stream",
          "text": [
            "\r 20%|██        | 4/20 [02:42<10:30, 39.42s/it]"
          ]
        },
        {
          "name": "stdout",
          "output_type": "stream",
          "text": [
            "No faces found for  /content/drive/MyDrive/project/Датасэт/Validation/frames/0_1_4/00102.png\n"
          ]
        },
        {
          "name": "stderr",
          "output_type": "stream",
          "text": [
            " 75%|███████▌  | 15/20 [12:16<04:57, 59.41s/it]"
          ]
        },
        {
          "name": "stdout",
          "output_type": "stream",
          "text": [
            "No faces found for  /content/drive/MyDrive/project/Датасэт/Validation/frames/2_7_5/00029.png\n",
            "No faces found for  /content/drive/MyDrive/project/Датасэт/Validation/frames/2_7_5/00030.png\n",
            "No faces found for  /content/drive/MyDrive/project/Датасэт/Validation/frames/2_7_5/00031.png\n",
            "No faces found for  /content/drive/MyDrive/project/Датасэт/Validation/frames/2_7_5/00032.png\n",
            "No faces found for  /content/drive/MyDrive/project/Датасэт/Validation/frames/2_7_5/00033.png\n",
            "No faces found for  /content/drive/MyDrive/project/Датасэт/Validation/frames/2_7_5/00034.png\n",
            "No faces found for  /content/drive/MyDrive/project/Датасэт/Validation/frames/2_7_5/00035.png\n",
            "No faces found for  /content/drive/MyDrive/project/Датасэт/Validation/frames/2_7_5/00036.png\n",
            "No faces found for  /content/drive/MyDrive/project/Датасэт/Validation/frames/2_7_5/00037.png\n",
            "No faces found for  /content/drive/MyDrive/project/Датасэт/Validation/frames/2_7_5/00038.png\n",
            "No faces found for  /content/drive/MyDrive/project/Датасэт/Validation/frames/2_7_5/00039.png\n",
            "No faces found for  /content/drive/MyDrive/project/Датасэт/Validation/frames/2_7_5/00040.png\n",
            "No faces found for  /content/drive/MyDrive/project/Датасэт/Validation/frames/2_7_5/00041.png\n",
            "No faces found for  /content/drive/MyDrive/project/Датасэт/Validation/frames/2_7_5/00042.png\n",
            "No faces found for  /content/drive/MyDrive/project/Датасэт/Validation/frames/2_7_5/00043.png\n",
            "No faces found for  /content/drive/MyDrive/project/Датасэт/Validation/frames/2_7_5/00050.png\n",
            "No faces found for  /content/drive/MyDrive/project/Датасэт/Validation/frames/2_7_5/00083.png\n",
            "No faces found for  /content/drive/MyDrive/project/Датасэт/Validation/frames/2_7_5/00115.png\n"
          ]
        },
        {
          "name": "stderr",
          "output_type": "stream",
          "text": [
            "\r 80%|████████  | 16/20 [12:42<03:17, 49.44s/it]"
          ]
        },
        {
          "name": "stdout",
          "output_type": "stream",
          "text": [
            "No faces found for  /content/drive/MyDrive/project/Датасэт/Validation/frames/2_7_6/00016.png\n",
            "No faces found for  /content/drive/MyDrive/project/Датасэт/Validation/frames/2_7_6/00017.png\n",
            "No faces found for  /content/drive/MyDrive/project/Датасэт/Validation/frames/2_7_6/00018.png\n",
            "No faces found for  /content/drive/MyDrive/project/Датасэт/Validation/frames/2_7_6/00019.png\n",
            "No faces found for  /content/drive/MyDrive/project/Датасэт/Validation/frames/2_7_6/00020.png\n",
            "No faces found for  /content/drive/MyDrive/project/Датасэт/Validation/frames/2_7_6/00021.png\n",
            "No faces found for  /content/drive/MyDrive/project/Датасэт/Validation/frames/2_7_6/00022.png\n",
            "No faces found for  /content/drive/MyDrive/project/Датасэт/Validation/frames/2_7_6/00023.png\n",
            "No faces found for  /content/drive/MyDrive/project/Датасэт/Validation/frames/2_7_6/00046.png\n",
            "No faces found for  /content/drive/MyDrive/project/Датасэт/Validation/frames/2_7_6/00047.png\n",
            "No faces found for  /content/drive/MyDrive/project/Датасэт/Validation/frames/2_7_6/00048.png\n",
            "No faces found for  /content/drive/MyDrive/project/Датасэт/Validation/frames/2_7_6/00049.png\n",
            "No faces found for  /content/drive/MyDrive/project/Датасэт/Validation/frames/2_7_6/00050.png\n",
            "No faces found for  /content/drive/MyDrive/project/Датасэт/Validation/frames/2_7_6/00051.png\n",
            "No faces found for  /content/drive/MyDrive/project/Датасэт/Validation/frames/2_7_6/00052.png\n",
            "No faces found for  /content/drive/MyDrive/project/Датасэт/Validation/frames/2_7_6/00053.png\n",
            "No faces found for  /content/drive/MyDrive/project/Датасэт/Validation/frames/2_7_6/00054.png\n",
            "No faces found for  /content/drive/MyDrive/project/Датасэт/Validation/frames/2_7_6/00063.png\n",
            "No faces found for  /content/drive/MyDrive/project/Датасэт/Validation/frames/2_7_6/00064.png\n",
            "No faces found for  /content/drive/MyDrive/project/Датасэт/Validation/frames/2_7_6/00065.png\n",
            "No faces found for  /content/drive/MyDrive/project/Датасэт/Validation/frames/2_7_6/00066.png\n",
            "No faces found for  /content/drive/MyDrive/project/Датасэт/Validation/frames/2_7_6/00067.png\n",
            "No faces found for  /content/drive/MyDrive/project/Датасэт/Validation/frames/2_7_6/00068.png\n",
            "No faces found for  /content/drive/MyDrive/project/Датасэт/Validation/frames/2_7_6/00069.png\n",
            "No faces found for  /content/drive/MyDrive/project/Датасэт/Validation/frames/2_7_6/00070.png\n",
            "No faces found for  /content/drive/MyDrive/project/Датасэт/Validation/frames/2_7_6/00071.png\n",
            "No faces found for  /content/drive/MyDrive/project/Датасэт/Validation/frames/2_7_6/00102.png\n"
          ]
        },
        {
          "name": "stderr",
          "output_type": "stream",
          "text": [
            "100%|██████████| 20/20 [18:13<00:00, 54.69s/it]\n"
          ]
        }
      ],
      "source": [
        "INPUT_SIZE = (224,224)\n",
        "def save_faces(source_path,save_path):\n",
        "    if not os.path.exists(save_path):\n",
        "        os.makedirs(save_path)\n",
        "    for folder in tqdm(os.listdir(source_path)):\n",
        "        if not os.path.exists(os.path.join(save_path, folder)):\n",
        "            os.mkdir(os.path.join(save_path, folder))\n",
        "\n",
        "            for image in os.listdir(os.path.join(source_path, folder)):\n",
        "                filename = os.path.join(source_path, folder, image)\n",
        "                frame_bgr = cv2.imread(filename)\n",
        "                frame = cv2.cvtColor(frame_bgr, cv2.COLOR_BGR2RGB)\n",
        "                bounding_boxes, _ = imgProcessing.detect_faces(frame)\n",
        "\n",
        "                if len(bounding_boxes)==0:\n",
        "                    print('No faces found for ',filename)\n",
        "                    face_img = frame_bgr\n",
        "                    faceFound='noface'\n",
        "                else:\n",
        "                    if len(bounding_boxes)>1:\n",
        "                        print('Too many faces (',len(bounding_boxes),') found for ',filename)\n",
        "                        bounding_boxes=bounding_boxes[:1]\n",
        "\n",
        "                    b=[int(bi) for bi in bounding_boxes[0]]\n",
        "                    x1,y1,x2,y2=b[0:4]\n",
        "                    face_img=frame_bgr[y1:y2,x1:x2,:]\n",
        "\n",
        "                    if np.prod(face_img.shape)==0:\n",
        "                        print('Empty face ',b,' found for ',filename)\n",
        "                        continue\n",
        "                    \n",
        "                    faceFound=''\n",
        "\n",
        "                #face_img=cv2.resize(face_img,INPUT_SIZE)\n",
        "                root,ext=os.path.splitext(image)\n",
        "                cv2.imwrite(os.path.join(save_path, folder, root+faceFound+ext), face_img) \n",
        "        else:\n",
        "            print(folder)\n",
        "        \n",
        "save_faces(os.path.join(DATA_DIR,'Validation/frames'),os.path.join(DATA_DIR,'cropped/Validation'))"
      ]
    },
    {
      "cell_type": "code",
      "execution_count": null,
      "metadata": {
        "colab": {
          "base_uri": "https://localhost:8080/"
        },
        "id": "HPQb-z-2PnWp",
        "outputId": "94e06d1b-4265-470a-84c7-7aa0be3792fa"
      },
      "outputs": [
        {
          "name": "stderr",
          "output_type": "stream",
          "text": [
            "\r  0%|          | 0/20 [00:00<?, ?it/s]"
          ]
        },
        {
          "name": "stdout",
          "output_type": "stream",
          "text": [
            "No faces found for  /content/drive/MyDrive/project/Датасэт/Train/frames/1_3/00009.png\n"
          ]
        },
        {
          "name": "stderr",
          "output_type": "stream",
          "text": [
            "\r  5%|▌         | 1/20 [00:35<11:08, 35.19s/it]"
          ]
        },
        {
          "name": "stdout",
          "output_type": "stream",
          "text": [
            "No faces found for  /content/drive/MyDrive/project/Датасэт/Train/frames/0_5_1/00040.png\n",
            "No faces found for  /content/drive/MyDrive/project/Датасэт/Train/frames/0_5_1/00041.png\n"
          ]
        },
        {
          "name": "stderr",
          "output_type": "stream",
          "text": [
            " 20%|██        | 4/20 [02:35<09:56, 37.27s/it]"
          ]
        },
        {
          "name": "stdout",
          "output_type": "stream",
          "text": [
            "Too many faces ( 2 ) found for  /content/drive/MyDrive/project/Датасэт/Train/frames/3_4_3/00045.png\n",
            "Too many faces ( 2 ) found for  /content/drive/MyDrive/project/Датасэт/Train/frames/3_4_3/00050.png\n"
          ]
        },
        {
          "name": "stderr",
          "output_type": "stream",
          "text": [
            " 35%|███▌      | 7/20 [05:58<11:14, 51.91s/it]"
          ]
        },
        {
          "name": "stdout",
          "output_type": "stream",
          "text": [
            "Too many faces ( 2 ) found for  /content/drive/MyDrive/project/Датасэт/Train/frames/3_4_4/00013.png\n",
            "Too many faces ( 2 ) found for  /content/drive/MyDrive/project/Датасэт/Train/frames/3_4_4/00261.png\n"
          ]
        },
        {
          "name": "stderr",
          "output_type": "stream",
          "text": [
            "\r 40%|████      | 8/20 [06:52<10:31, 52.61s/it]"
          ]
        },
        {
          "name": "stdout",
          "output_type": "stream",
          "text": [
            "No faces found for  /content/drive/MyDrive/project/Датасэт/Train/frames/1_4_2/00260.png\n",
            "No faces found for  /content/drive/MyDrive/project/Датасэт/Train/frames/1_4_2/00261.png\n"
          ]
        },
        {
          "name": "stderr",
          "output_type": "stream",
          "text": [
            "\r 45%|████▌     | 9/20 [07:44<09:35, 52.36s/it]"
          ]
        },
        {
          "name": "stdout",
          "output_type": "stream",
          "text": [
            "Empty face  [-17, 37, 328, 503, 0]  found for  /content/drive/MyDrive/project/Датасэт/Train/frames/0_5/00008.png\n"
          ]
        },
        {
          "name": "stderr",
          "output_type": "stream",
          "text": [
            " 55%|█████▌    | 11/20 [10:03<09:16, 61.81s/it]"
          ]
        },
        {
          "name": "stdout",
          "output_type": "stream",
          "text": [
            "No faces found for  /content/drive/MyDrive/project/Датасэт/Train/frames/2_4_3/00079.png\n"
          ]
        },
        {
          "name": "stderr",
          "output_type": "stream",
          "text": [
            " 75%|███████▌  | 15/20 [14:18<05:39, 67.92s/it]"
          ]
        },
        {
          "name": "stdout",
          "output_type": "stream",
          "text": [
            "No faces found for  /content/drive/MyDrive/project/Датасэт/Train/frames/2_8/00062.png\n",
            "No faces found for  /content/drive/MyDrive/project/Датасэт/Train/frames/2_8/00063.png\n"
          ]
        },
        {
          "name": "stderr",
          "output_type": "stream",
          "text": [
            "\r 80%|████████  | 16/20 [15:52<05:02, 75.69s/it]"
          ]
        },
        {
          "name": "stdout",
          "output_type": "stream",
          "text": [
            "Too many faces ( 2 ) found for  /content/drive/MyDrive/project/Датасэт/Train/frames/2_4_2/00079.png\n",
            "Too many faces ( 2 ) found for  /content/drive/MyDrive/project/Датасэт/Train/frames/2_4_2/00082.png\n",
            "No faces found for  /content/drive/MyDrive/project/Датасэт/Train/frames/2_4_2/00120.png\n",
            "Too many faces ( 2 ) found for  /content/drive/MyDrive/project/Датасэт/Train/frames/2_4_2/00141.png\n"
          ]
        },
        {
          "name": "stderr",
          "output_type": "stream",
          "text": [
            " 95%|█████████▌| 19/20 [18:23<00:59, 59.54s/it]"
          ]
        },
        {
          "name": "stdout",
          "output_type": "stream",
          "text": [
            "No faces found for  /content/drive/MyDrive/project/Датасэт/Train/frames/0_1/00014.png\n",
            "No faces found for  /content/drive/MyDrive/project/Датасэт/Train/frames/0_1/00015.png\n",
            "No faces found for  /content/drive/MyDrive/project/Датасэт/Train/frames/0_1/00016.png\n",
            "No faces found for  /content/drive/MyDrive/project/Датасэт/Train/frames/0_1/00047.png\n",
            "No faces found for  /content/drive/MyDrive/project/Датасэт/Train/frames/0_1/00048.png\n",
            "No faces found for  /content/drive/MyDrive/project/Датасэт/Train/frames/0_1/00049.png\n"
          ]
        },
        {
          "name": "stderr",
          "output_type": "stream",
          "text": [
            "100%|██████████| 20/20 [19:28<00:00, 58.42s/it]\n"
          ]
        }
      ],
      "source": [
        "save_faces(os.path.join(DATA_DIR,'Train/frames'),os.path.join(DATA_DIR,'cropped/Train'))"
      ]
    },
    {
      "cell_type": "code",
      "execution_count": null,
      "metadata": {
        "colab": {
          "base_uri": "https://localhost:8080/"
        },
        "id": "Wnjd9IE9W3OM",
        "outputId": "996503ef-295e-406e-f145-cbd89cdf9513"
      },
      "outputs": [
        {
          "name": "stderr",
          "output_type": "stream",
          "text": [
            " 56%|█████▌    | 10/18 [07:39<04:21, 32.65s/it]"
          ]
        },
        {
          "name": "stdout",
          "output_type": "stream",
          "text": [
            "No faces found for  /content/drive/MyDrive/project/Датасэт/Test/frames/1_6_1/00008.png\n"
          ]
        },
        {
          "name": "stderr",
          "output_type": "stream",
          "text": [
            " 67%|██████▋   | 12/18 [09:53<05:06, 51.02s/it]"
          ]
        },
        {
          "name": "stdout",
          "output_type": "stream",
          "text": [
            "No faces found for  /content/drive/MyDrive/project/Датасэт/Test/frames/1_7/00046.png\n",
            "No faces found for  /content/drive/MyDrive/project/Датасэт/Test/frames/1_7/00047.png\n",
            "No faces found for  /content/drive/MyDrive/project/Датасэт/Test/frames/1_7/00048.png\n",
            "No faces found for  /content/drive/MyDrive/project/Датасэт/Test/frames/1_7/00049.png\n",
            "No faces found for  /content/drive/MyDrive/project/Датасэт/Test/frames/1_7/00050.png\n",
            "No faces found for  /content/drive/MyDrive/project/Датасэт/Test/frames/1_7/00051.png\n",
            "No faces found for  /content/drive/MyDrive/project/Датасэт/Test/frames/1_7/00052.png\n"
          ]
        },
        {
          "name": "stderr",
          "output_type": "stream",
          "text": [
            "\r 72%|███████▏  | 13/18 [10:48<04:21, 52.37s/it]"
          ]
        },
        {
          "name": "stdout",
          "output_type": "stream",
          "text": [
            "No faces found for  /content/drive/MyDrive/project/Датасэт/Test/frames/1_7/00053.png\n"
          ]
        },
        {
          "name": "stderr",
          "output_type": "stream",
          "text": [
            "\r 78%|███████▊  | 14/18 [11:13<02:55, 43.92s/it]"
          ]
        },
        {
          "name": "stdout",
          "output_type": "stream",
          "text": [
            "No faces found for  /content/drive/MyDrive/project/Датасэт/Test/frames/1_7_2/00004.png\n",
            "No faces found for  /content/drive/MyDrive/project/Датасэт/Test/frames/1_7_2/00005.png\n",
            "No faces found for  /content/drive/MyDrive/project/Датасэт/Test/frames/1_7_2/00007.png\n",
            "No faces found for  /content/drive/MyDrive/project/Датасэт/Test/frames/1_7_2/00008.png\n",
            "No faces found for  /content/drive/MyDrive/project/Датасэт/Test/frames/1_7_2/00009.png\n",
            "No faces found for  /content/drive/MyDrive/project/Датасэт/Test/frames/1_7_2/00010.png\n",
            "No faces found for  /content/drive/MyDrive/project/Датасэт/Test/frames/1_7_2/00038.png\n",
            "No faces found for  /content/drive/MyDrive/project/Датасэт/Test/frames/1_7_2/00078.png\n",
            "No faces found for  /content/drive/MyDrive/project/Датасэт/Test/frames/1_7_2/00080.png\n",
            "No faces found for  /content/drive/MyDrive/project/Датасэт/Test/frames/1_7_2/00083.png\n",
            "No faces found for  /content/drive/MyDrive/project/Датасэт/Test/frames/1_7_2/00098.png\n"
          ]
        },
        {
          "name": "stderr",
          "output_type": "stream",
          "text": [
            "\r 83%|████████▎ | 15/18 [11:44<02:00, 40.07s/it]"
          ]
        },
        {
          "name": "stdout",
          "output_type": "stream",
          "text": [
            "No faces found for  /content/drive/MyDrive/project/Датасэт/Test/frames/3_7/00005.png\n",
            "No faces found for  /content/drive/MyDrive/project/Датасэт/Test/frames/3_7/00046.png\n",
            "No faces found for  /content/drive/MyDrive/project/Датасэт/Test/frames/3_7/00047.png\n",
            "No faces found for  /content/drive/MyDrive/project/Датасэт/Test/frames/3_7/00048.png\n",
            "No faces found for  /content/drive/MyDrive/project/Датасэт/Test/frames/3_7/00049.png\n",
            "No faces found for  /content/drive/MyDrive/project/Датасэт/Test/frames/3_7/00060.png\n"
          ]
        },
        {
          "name": "stderr",
          "output_type": "stream",
          "text": [
            "\r 89%|████████▉ | 16/18 [12:46<01:33, 46.75s/it]"
          ]
        },
        {
          "name": "stdout",
          "output_type": "stream",
          "text": [
            "No faces found for  /content/drive/MyDrive/project/Датасэт/Test/frames/2_7_3/00059.png\n"
          ]
        },
        {
          "name": "stderr",
          "output_type": "stream",
          "text": [
            "100%|██████████| 18/18 [13:43<00:00, 45.78s/it]\n"
          ]
        }
      ],
      "source": [
        "save_faces(os.path.join(DATA_DIR,'Test/frames'),os.path.join(DATA_DIR,'cropped/Test'))"
      ]
    },
    {
      "cell_type": "code",
      "execution_count": null,
      "metadata": {
        "id": "gVjUqZIkhXb4"
      },
      "outputs": [],
      "source": [
        "def get_iou(bb1, bb2):\n",
        "    \"\"\"\n",
        "    Calculate the Intersection over Union (IoU) of two bounding boxes.\n",
        "\n",
        "    Parameters\n",
        "    ----------\n",
        "    bb1 : array\n",
        "        order: {'x1', 'y1', 'x2', 'y2'}\n",
        "        The (x1, y1) position is at the top left corner,\n",
        "        the (x2, y2) position is at the bottom right corner\n",
        "    bb2 : array\n",
        "        order: {'x1', 'y1', 'x2', 'y2'}\n",
        "        The (x1, y1) position is at the top left corner,\n",
        "        the (x2, y2) position is at the bottom right corner\n",
        "\n",
        "    Returns\n",
        "    -------\n",
        "    float\n",
        "        in [0, 1]\n",
        "    \"\"\"\n",
        "\n",
        "    # determine the coordinates of the intersection rectangle\n",
        "    x_left = max(bb1[0], bb2[0])\n",
        "    y_top = max(bb1[1], bb2[1])\n",
        "    x_right = min(bb1[2], bb2[2])\n",
        "    y_bottom = min(bb1[3], bb2[3])\n",
        "\n",
        "    if x_right < x_left or y_bottom < y_top:\n",
        "        return 0.0\n",
        "\n",
        "    # The intersection of two axis-aligned bounding boxes is always an\n",
        "    # axis-aligned bounding box\n",
        "    intersection_area = (x_right - x_left) * (y_bottom - y_top)\n",
        "\n",
        "    # compute the area of both AABBs\n",
        "    bb1_area = (bb1[2] - bb1[0]) * (bb1[3] - bb1[1])\n",
        "    bb2_area = (bb2[2] - bb2[0]) * (bb2[3] - bb2[1])\n",
        "\n",
        "    # compute the intersection over union by taking the intersection\n",
        "    # area and dividing it by the sum of prediction + ground-truth\n",
        "    # areas - the interesection area\n",
        "    iou = intersection_area / float(bb1_area + bb2_area - intersection_area)\n",
        "    return iou\n",
        "def preprocess(img, bbox=None, landmark=None, **kwargs):\n",
        "    M = None\n",
        "    image_size = [224,224]\n",
        "    src = np.array([\n",
        "      [30.2946, 51.6963],\n",
        "      [65.5318, 51.5014],\n",
        "      [48.0252, 71.7366],\n",
        "      [33.5493, 92.3655],\n",
        "      [62.7299, 92.2041] ], dtype=np.float32 )\n",
        "    if image_size[1]==224:\n",
        "        src[:,0] += 8.0\n",
        "    src*=2\n",
        "    if landmark is not None:\n",
        "        dst = landmark.astype(np.float32)\n",
        "\n",
        "        tform = trans.SimilarityTransform()\n",
        "        #dst=dst[:3]\n",
        "        #src=src[:3]\n",
        "        #print(dst.shape,src.shape,dst,src)\n",
        "        tform.estimate(dst, src)\n",
        "        M = tform.params[0:2,:]\n",
        "        #M = cv2.estimateRigidTransform( dst.reshape(1,5,2), src.reshape(1,5,2), False)\n",
        "        #print(M)\n",
        "\n",
        "    if M is None:\n",
        "        if bbox is None: #use center crop\n",
        "            det = np.zeros(4, dtype=np.int32)\n",
        "            det[0] = int(img.shape[1]*0.0625)\n",
        "            det[1] = int(img.shape[0]*0.0625)\n",
        "            det[2] = img.shape[1] - det[0]\n",
        "            det[3] = img.shape[0] - det[1]\n",
        "        else:\n",
        "              det = bbox\n",
        "        margin = kwargs.get('margin', 44)\n",
        "        bb = np.zeros(4, dtype=np.int32)\n",
        "        bb[0] = np.maximum(det[0]-margin//2, 0)\n",
        "        bb[1] = np.maximum(det[1]-margin//2, 0)\n",
        "        bb[2] = np.minimum(det[2]+margin//2, img.shape[1])\n",
        "        bb[3] = np.minimum(det[3]+margin//2, img.shape[0])\n",
        "        ret = img[bb[1]:bb[3],bb[0]:bb[2],:]\n",
        "        if len(image_size)>0:\n",
        "              ret = cv2.resize(ret, (image_size[1], image_size[0]))\n",
        "        return ret \n",
        "    else: #do align using landmark\n",
        "        assert len(image_size)==2\n",
        "        warped = cv2.warpAffine(img,M,(image_size[1],image_size[0]), borderValue = 0.0)\n",
        "        return warped"
      ]
    },
    {
      "cell_type": "code",
      "execution_count": null,
      "metadata": {
        "id": "uX0sHHG6aTXX"
      },
      "outputs": [],
      "source": [
        "def save_aligned_faces(source_path,save_path):\n",
        "    if not os.path.exists(save_path):\n",
        "        os.makedirs(save_path)\n",
        "\n",
        "    for folder in tqdm(os.listdir(source_path)):\n",
        "        if not os.path.exists(os.path.join(save_path, folder)):\n",
        "            os.mkdir(os.path.join(save_path, folder))\n",
        "\n",
        "            prev_b = None\n",
        "            counter = 0\n",
        "\n",
        "            for image in sorted(os.listdir(os.path.join(source_path, folder))):\n",
        "                filename = os.path.join(source_path, folder, image)\n",
        "                frame = cv2.imread(filename)\n",
        "                frame = cv2.cvtColor(frame, cv2.COLOR_BGR2RGB)\n",
        "                bounding_boxes, points = imgProcessing.detect_faces(frame)\n",
        "                points = points.T\n",
        "\n",
        "                best_ind=None\n",
        "                if len(bounding_boxes)==0:\n",
        "                    print('No faces found for ',filename)\n",
        "                    counter+=1\n",
        "                    if prev_b is None or counter>3:\n",
        "                        continue\n",
        "                    else:\n",
        "                        b=prev_b\n",
        "                elif len(bounding_boxes)>1:\n",
        "                    print('Too many faces (',len(bounding_boxes),') found for ',filename)\n",
        "                    if prev_b is None:\n",
        "                        #continue\n",
        "                        best_ind=0\n",
        "                        b=[int(bi) for bi in bounding_boxes[best_ind]]\n",
        "                        counter=0\n",
        "                    else:\n",
        "                        best_iou=0\n",
        "                        for i in range(len(bounding_boxes)):\n",
        "                            iou=get_iou(bounding_boxes[i],prev_b)\n",
        "                            if iou>best_iou:\n",
        "                                best_iou=iou\n",
        "                                best_ind=i\n",
        "                        if best_iou>0:\n",
        "                            b=[int(bi) for bi in bounding_boxes[best_ind]]\n",
        "                            print('best_iou (',best_iou,') best_bb ',bounding_boxes[best_ind])\n",
        "                        else:\n",
        "                            #continue\n",
        "                            best_ind=0\n",
        "                            b=[int(bi) for bi in bounding_boxes[best_ind]]\n",
        "                            counter=0\n",
        "                else:\n",
        "                    best_ind=0\n",
        "                    b=[int(bi) for bi in bounding_boxes[best_ind]]\n",
        "                    counter=0\n",
        "                prev_b=b\n",
        "\n",
        "                if True:\n",
        "                    p=None\n",
        "                    if best_ind is not None:\n",
        "                        p=points[best_ind]\n",
        "                        if True: #not USE_RETINA_FACE:\n",
        "                            p = p.reshape((2,5)).T\n",
        "                    face_img=preprocess(frame,b,None) #p)\n",
        "                else:\n",
        "                    x1,y1,x2,y2=b[0:4]\n",
        "                    face_img=frame[y1:y2,x1:x2,:]\n",
        "                if np.prod(face_img.shape)==0:\n",
        "                    print('Empty face ',b,' found for ',filename)\n",
        "                    continue\n",
        "\n",
        "                cv2.imwrite(os.path.join(save_path, folder, image), cv2.cvtColor(face_img, cv2.COLOR_RGB2BGR)) \n"
      ]
    },
    {
      "cell_type": "code",
      "execution_count": null,
      "metadata": {
        "colab": {
          "base_uri": "https://localhost:8080/"
        },
        "id": "U03a9njChkPn",
        "outputId": "ac3518c7-c538-4e35-ad50-259208fcada2"
      },
      "outputs": [
        {
          "name": "stderr",
          "output_type": "stream",
          "text": [
            " 56%|█████▌    | 10/18 [03:21<02:38, 19.79s/it]"
          ]
        },
        {
          "name": "stdout",
          "output_type": "stream",
          "text": [
            "No faces found for  /content/drive/MyDrive/project/Датасэт/Test/frames/1_6_1/00008.png\n"
          ]
        },
        {
          "name": "stderr",
          "output_type": "stream",
          "text": [
            " 67%|██████▋   | 12/18 [03:39<01:25, 14.27s/it]"
          ]
        },
        {
          "name": "stdout",
          "output_type": "stream",
          "text": [
            "No faces found for  /content/drive/MyDrive/project/Датасэт/Test/frames/1_7/00046.png\n",
            "No faces found for  /content/drive/MyDrive/project/Датасэт/Test/frames/1_7/00047.png\n",
            "No faces found for  /content/drive/MyDrive/project/Датасэт/Test/frames/1_7/00048.png\n",
            "No faces found for  /content/drive/MyDrive/project/Датасэт/Test/frames/1_7/00049.png\n",
            "No faces found for  /content/drive/MyDrive/project/Датасэт/Test/frames/1_7/00050.png\n",
            "No faces found for  /content/drive/MyDrive/project/Датасэт/Test/frames/1_7/00051.png\n"
          ]
        },
        {
          "name": "stderr",
          "output_type": "stream",
          "text": [
            "\r 72%|███████▏  | 13/18 [03:46<01:01, 12.24s/it]"
          ]
        },
        {
          "name": "stdout",
          "output_type": "stream",
          "text": [
            "No faces found for  /content/drive/MyDrive/project/Датасэт/Test/frames/1_7/00052.png\n",
            "No faces found for  /content/drive/MyDrive/project/Датасэт/Test/frames/1_7/00053.png\n"
          ]
        },
        {
          "name": "stderr",
          "output_type": "stream",
          "text": [
            "\r 78%|███████▊  | 14/18 [04:03<00:54, 13.63s/it]"
          ]
        },
        {
          "name": "stdout",
          "output_type": "stream",
          "text": [
            "No faces found for  /content/drive/MyDrive/project/Датасэт/Test/frames/1_7_2/00004.png\n",
            "No faces found for  /content/drive/MyDrive/project/Датасэт/Test/frames/1_7_2/00005.png\n",
            "No faces found for  /content/drive/MyDrive/project/Датасэт/Test/frames/1_7_2/00007.png\n",
            "No faces found for  /content/drive/MyDrive/project/Датасэт/Test/frames/1_7_2/00008.png\n",
            "No faces found for  /content/drive/MyDrive/project/Датасэт/Test/frames/1_7_2/00009.png\n",
            "No faces found for  /content/drive/MyDrive/project/Датасэт/Test/frames/1_7_2/00010.png\n",
            "No faces found for  /content/drive/MyDrive/project/Датасэт/Test/frames/1_7_2/00038.png\n",
            "No faces found for  /content/drive/MyDrive/project/Датасэт/Test/frames/1_7_2/00078.png\n",
            "No faces found for  /content/drive/MyDrive/project/Датасэт/Test/frames/1_7_2/00080.png\n",
            "No faces found for  /content/drive/MyDrive/project/Датасэт/Test/frames/1_7_2/00083.png\n",
            "No faces found for  /content/drive/MyDrive/project/Датасэт/Test/frames/1_7_2/00098.png\n"
          ]
        },
        {
          "name": "stderr",
          "output_type": "stream",
          "text": [
            "\r 83%|████████▎ | 15/18 [04:27<00:50, 16.71s/it]"
          ]
        },
        {
          "name": "stdout",
          "output_type": "stream",
          "text": [
            "No faces found for  /content/drive/MyDrive/project/Датасэт/Test/frames/3_7/00005.png\n",
            "No faces found for  /content/drive/MyDrive/project/Датасэт/Test/frames/3_7/00046.png\n",
            "No faces found for  /content/drive/MyDrive/project/Датасэт/Test/frames/3_7/00047.png\n",
            "No faces found for  /content/drive/MyDrive/project/Датасэт/Test/frames/3_7/00048.png\n",
            "No faces found for  /content/drive/MyDrive/project/Датасэт/Test/frames/3_7/00049.png\n",
            "No faces found for  /content/drive/MyDrive/project/Датасэт/Test/frames/3_7/00060.png\n"
          ]
        },
        {
          "name": "stderr",
          "output_type": "stream",
          "text": [
            "\r 89%|████████▉ | 16/18 [04:36<00:29, 14.58s/it]"
          ]
        },
        {
          "name": "stdout",
          "output_type": "stream",
          "text": [
            "No faces found for  /content/drive/MyDrive/project/Датасэт/Test/frames/2_7_3/00059.png\n"
          ]
        },
        {
          "name": "stderr",
          "output_type": "stream",
          "text": [
            "100%|██████████| 18/18 [05:24<00:00, 18.02s/it]\n",
            "  0%|          | 0/20 [00:00<?, ?it/s]"
          ]
        },
        {
          "name": "stdout",
          "output_type": "stream",
          "text": [
            "No faces found for  /content/drive/MyDrive/project/Датасэт/Train/frames/1_3/00009.png\n"
          ]
        },
        {
          "name": "stderr",
          "output_type": "stream",
          "text": [
            "\r  5%|▌         | 1/20 [00:04<01:19,  4.18s/it]"
          ]
        },
        {
          "name": "stdout",
          "output_type": "stream",
          "text": [
            "No faces found for  /content/drive/MyDrive/project/Датасэт/Train/frames/0_5_1/00040.png\n",
            "No faces found for  /content/drive/MyDrive/project/Датасэт/Train/frames/0_5_1/00041.png\n"
          ]
        },
        {
          "name": "stderr",
          "output_type": "stream",
          "text": [
            " 20%|██        | 4/20 [00:22<01:28,  5.52s/it]"
          ]
        },
        {
          "name": "stdout",
          "output_type": "stream",
          "text": [
            "Too many faces ( 2 ) found for  /content/drive/MyDrive/project/Датасэт/Train/frames/3_4_3/00045.png\n",
            "best_iou ( 0.916372512227472 ) best_bb  [516.49691224 267.97326466 829.64618979 658.17209919   0.99981612]\n",
            "Too many faces ( 2 ) found for  /content/drive/MyDrive/project/Датасэт/Train/frames/3_4_3/00050.png\n",
            "best_iou ( 0.9473058242826751 ) best_bb  [519.12025835 284.79786108 817.42057169 652.12221571   0.99972814]\n"
          ]
        },
        {
          "name": "stderr",
          "output_type": "stream",
          "text": [
            " 35%|███▌      | 7/20 [01:08<02:50, 13.15s/it]"
          ]
        },
        {
          "name": "stdout",
          "output_type": "stream",
          "text": [
            "Too many faces ( 2 ) found for  /content/drive/MyDrive/project/Датасэт/Train/frames/3_4_4/00013.png\n",
            "best_iou ( 0.9234273690789145 ) best_bb  [475.37224981 186.67947021 816.3252193  603.70967044   0.9999826 ]\n",
            "Too many faces ( 2 ) found for  /content/drive/MyDrive/project/Датасэт/Train/frames/3_4_4/00261.png\n",
            "best_iou ( 0.9778373073006733 ) best_bb  [545.5022539  255.66013668 863.21906434 632.36798665   0.99998927]\n"
          ]
        },
        {
          "name": "stderr",
          "output_type": "stream",
          "text": [
            "\r 40%|████      | 8/20 [01:55<04:47, 23.99s/it]"
          ]
        },
        {
          "name": "stdout",
          "output_type": "stream",
          "text": [
            "No faces found for  /content/drive/MyDrive/project/Датасэт/Train/frames/1_4_2/00260.png\n",
            "No faces found for  /content/drive/MyDrive/project/Датасэт/Train/frames/1_4_2/00261.png\n"
          ]
        },
        {
          "name": "stderr",
          "output_type": "stream",
          "text": [
            " 55%|█████▌    | 11/20 [03:01<03:02, 20.32s/it]"
          ]
        },
        {
          "name": "stdout",
          "output_type": "stream",
          "text": [
            "No faces found for  /content/drive/MyDrive/project/Датасэт/Train/frames/2_4_3/00079.png\n"
          ]
        },
        {
          "name": "stderr",
          "output_type": "stream",
          "text": [
            " 75%|███████▌  | 15/20 [04:14<01:20, 16.16s/it]"
          ]
        },
        {
          "name": "stdout",
          "output_type": "stream",
          "text": [
            "No faces found for  /content/drive/MyDrive/project/Датасэт/Train/frames/2_8/00062.png\n",
            "No faces found for  /content/drive/MyDrive/project/Датасэт/Train/frames/2_8/00063.png\n"
          ]
        },
        {
          "name": "stderr",
          "output_type": "stream",
          "text": [
            "\r 80%|████████  | 16/20 [04:28<01:01, 15.46s/it]"
          ]
        },
        {
          "name": "stdout",
          "output_type": "stream",
          "text": [
            "Too many faces ( 2 ) found for  /content/drive/MyDrive/project/Датасэт/Train/frames/2_4_2/00079.png\n",
            "best_iou ( 0.9075012311702716 ) best_bb  [481.54323623 210.60274518 795.28766022 601.39398643   0.99975258]\n",
            "Too many faces ( 2 ) found for  /content/drive/MyDrive/project/Датасэт/Train/frames/2_4_2/00082.png\n",
            "best_iou ( 0.8534814484071754 ) best_bb  [498.85488441 221.17923245 809.19997276 612.9591307    0.9999845 ]\n",
            "No faces found for  /content/drive/MyDrive/project/Датасэт/Train/frames/2_4_2/00120.png\n",
            "Too many faces ( 2 ) found for  /content/drive/MyDrive/project/Датасэт/Train/frames/2_4_2/00141.png\n",
            "best_iou ( 0.9751544909560749 ) best_bb  [581.34304529 230.50527787 908.05537689 635.29753804   0.99985504]\n"
          ]
        },
        {
          "name": "stderr",
          "output_type": "stream",
          "text": [
            " 95%|█████████▌| 19/20 [05:46<00:23, 23.68s/it]"
          ]
        },
        {
          "name": "stdout",
          "output_type": "stream",
          "text": [
            "No faces found for  /content/drive/MyDrive/project/Датасэт/Train/frames/0_1/00014.png\n",
            "No faces found for  /content/drive/MyDrive/project/Датасэт/Train/frames/0_1/00015.png\n",
            "No faces found for  /content/drive/MyDrive/project/Датасэт/Train/frames/0_1/00016.png\n",
            "No faces found for  /content/drive/MyDrive/project/Датасэт/Train/frames/0_1/00047.png\n",
            "No faces found for  /content/drive/MyDrive/project/Датасэт/Train/frames/0_1/00048.png\n",
            "No faces found for  /content/drive/MyDrive/project/Датасэт/Train/frames/0_1/00049.png\n"
          ]
        },
        {
          "name": "stderr",
          "output_type": "stream",
          "text": [
            "100%|██████████| 20/20 [05:56<00:00, 17.81s/it]\n",
            " 15%|█▌        | 3/20 [00:58<05:29, 19.40s/it]"
          ]
        },
        {
          "name": "stdout",
          "output_type": "stream",
          "text": [
            "Too many faces ( 2 ) found for  /content/drive/MyDrive/project/Датасэт/Validation/frames/3_1_1/00024.png\n",
            "best_iou ( 0.8934027995232813 ) best_bb  [578.56169632 413.46994331 722.39009653 598.14491691   0.99999917]\n",
            "Too many faces ( 2 ) found for  /content/drive/MyDrive/project/Датасэт/Validation/frames/3_1_1/00025.png\n",
            "best_iou ( 0.8662883953183266 ) best_bb  [586.53905678 405.71091448 727.80274872 596.7704048    0.99999654]\n"
          ]
        },
        {
          "name": "stderr",
          "output_type": "stream",
          "text": [
            "\r 20%|██        | 4/20 [01:03<03:39, 13.72s/it]"
          ]
        },
        {
          "name": "stdout",
          "output_type": "stream",
          "text": [
            "No faces found for  /content/drive/MyDrive/project/Датасэт/Validation/frames/0_1_4/00102.png\n"
          ]
        },
        {
          "name": "stderr",
          "output_type": "stream",
          "text": [
            " 75%|███████▌  | 15/20 [03:32<00:55, 11.17s/it]"
          ]
        },
        {
          "name": "stdout",
          "output_type": "stream",
          "text": [
            "No faces found for  /content/drive/MyDrive/project/Датасэт/Validation/frames/2_7_5/00029.png\n",
            "No faces found for  /content/drive/MyDrive/project/Датасэт/Validation/frames/2_7_5/00030.png\n",
            "No faces found for  /content/drive/MyDrive/project/Датасэт/Validation/frames/2_7_5/00031.png\n",
            "No faces found for  /content/drive/MyDrive/project/Датасэт/Validation/frames/2_7_5/00032.png\n",
            "No faces found for  /content/drive/MyDrive/project/Датасэт/Validation/frames/2_7_5/00033.png\n",
            "No faces found for  /content/drive/MyDrive/project/Датасэт/Validation/frames/2_7_5/00034.png\n",
            "No faces found for  /content/drive/MyDrive/project/Датасэт/Validation/frames/2_7_5/00035.png\n",
            "No faces found for  /content/drive/MyDrive/project/Датасэт/Validation/frames/2_7_5/00036.png\n",
            "No faces found for  /content/drive/MyDrive/project/Датасэт/Validation/frames/2_7_5/00037.png\n",
            "No faces found for  /content/drive/MyDrive/project/Датасэт/Validation/frames/2_7_5/00038.png\n",
            "No faces found for  /content/drive/MyDrive/project/Датасэт/Validation/frames/2_7_5/00039.png\n",
            "No faces found for  /content/drive/MyDrive/project/Датасэт/Validation/frames/2_7_5/00040.png\n",
            "No faces found for  /content/drive/MyDrive/project/Датасэт/Validation/frames/2_7_5/00041.png\n",
            "No faces found for  /content/drive/MyDrive/project/Датасэт/Validation/frames/2_7_5/00042.png\n",
            "No faces found for  /content/drive/MyDrive/project/Датасэт/Validation/frames/2_7_5/00043.png\n",
            "No faces found for  /content/drive/MyDrive/project/Датасэт/Validation/frames/2_7_5/00050.png\n",
            "No faces found for  /content/drive/MyDrive/project/Датасэт/Validation/frames/2_7_5/00083.png\n",
            "No faces found for  /content/drive/MyDrive/project/Датасэт/Validation/frames/2_7_5/00115.png\n"
          ]
        },
        {
          "name": "stderr",
          "output_type": "stream",
          "text": [
            "\r 80%|████████  | 16/20 [03:54<00:57, 14.46s/it]"
          ]
        },
        {
          "name": "stdout",
          "output_type": "stream",
          "text": [
            "No faces found for  /content/drive/MyDrive/project/Датасэт/Validation/frames/2_7_6/00016.png\n",
            "No faces found for  /content/drive/MyDrive/project/Датасэт/Validation/frames/2_7_6/00017.png\n",
            "No faces found for  /content/drive/MyDrive/project/Датасэт/Validation/frames/2_7_6/00018.png\n",
            "No faces found for  /content/drive/MyDrive/project/Датасэт/Validation/frames/2_7_6/00019.png\n",
            "No faces found for  /content/drive/MyDrive/project/Датасэт/Validation/frames/2_7_6/00020.png\n",
            "No faces found for  /content/drive/MyDrive/project/Датасэт/Validation/frames/2_7_6/00021.png\n",
            "No faces found for  /content/drive/MyDrive/project/Датасэт/Validation/frames/2_7_6/00022.png\n",
            "No faces found for  /content/drive/MyDrive/project/Датасэт/Validation/frames/2_7_6/00023.png\n",
            "No faces found for  /content/drive/MyDrive/project/Датасэт/Validation/frames/2_7_6/00046.png\n",
            "No faces found for  /content/drive/MyDrive/project/Датасэт/Validation/frames/2_7_6/00047.png\n",
            "No faces found for  /content/drive/MyDrive/project/Датасэт/Validation/frames/2_7_6/00048.png\n",
            "No faces found for  /content/drive/MyDrive/project/Датасэт/Validation/frames/2_7_6/00049.png\n",
            "No faces found for  /content/drive/MyDrive/project/Датасэт/Validation/frames/2_7_6/00050.png\n",
            "No faces found for  /content/drive/MyDrive/project/Датасэт/Validation/frames/2_7_6/00051.png\n",
            "No faces found for  /content/drive/MyDrive/project/Датасэт/Validation/frames/2_7_6/00052.png\n",
            "No faces found for  /content/drive/MyDrive/project/Датасэт/Validation/frames/2_7_6/00053.png\n",
            "No faces found for  /content/drive/MyDrive/project/Датасэт/Validation/frames/2_7_6/00054.png\n",
            "No faces found for  /content/drive/MyDrive/project/Датасэт/Validation/frames/2_7_6/00063.png\n",
            "No faces found for  /content/drive/MyDrive/project/Датасэт/Validation/frames/2_7_6/00064.png\n",
            "No faces found for  /content/drive/MyDrive/project/Датасэт/Validation/frames/2_7_6/00065.png\n",
            "No faces found for  /content/drive/MyDrive/project/Датасэт/Validation/frames/2_7_6/00066.png\n",
            "No faces found for  /content/drive/MyDrive/project/Датасэт/Validation/frames/2_7_6/00067.png\n",
            "No faces found for  /content/drive/MyDrive/project/Датасэт/Validation/frames/2_7_6/00068.png\n",
            "No faces found for  /content/drive/MyDrive/project/Датасэт/Validation/frames/2_7_6/00069.png\n",
            "No faces found for  /content/drive/MyDrive/project/Датасэт/Validation/frames/2_7_6/00070.png\n",
            "No faces found for  /content/drive/MyDrive/project/Датасэт/Validation/frames/2_7_6/00071.png\n",
            "No faces found for  /content/drive/MyDrive/project/Датасэт/Validation/frames/2_7_6/00102.png\n"
          ]
        },
        {
          "name": "stderr",
          "output_type": "stream",
          "text": [
            "100%|██████████| 20/20 [04:58<00:00, 14.94s/it]\n"
          ]
        }
      ],
      "source": [
        "save_aligned_faces(os.path.join(DATA_DIR,'Test/frames'),os.path.join(DATA_DIR,'cropped/aligned/Test'))\n",
        "save_aligned_faces(os.path.join(DATA_DIR,'Train/frames'),os.path.join(DATA_DIR,'cropped/aligned/Train'))\n",
        "save_aligned_faces(os.path.join(DATA_DIR,'Validation/frames'),os.path.join(DATA_DIR,'cropped/aligned/Validation'))"
      ]
    },
    {
      "cell_type": "code",
      "execution_count": null,
      "metadata": {
        "colab": {
          "base_uri": "https://localhost:8080/",
          "height": 1000
        },
        "id": "-seUiE_bzYRg",
        "outputId": "9f4c97b9-b7c6-4244-b548-fab4d5d776de"
      },
      "outputs": [
        {
          "data": {
            "application/vnd.jupyter.widget-view+json": {
              "model_id": "8acf3f048abc42eaa9e3490e7b4a23d4",
              "version_major": 2,
              "version_minor": 0
            },
            "text/plain": [
              "  0%|          | 0/18 [00:00<?, ?it/s]"
            ]
          },
          "metadata": {},
          "output_type": "display_data"
        },
        {
          "name": "stdout",
          "output_type": "stream",
          "text": [
            "No faces found for  /content/drive/MyDrive/project/Датасэт/Test/frames/1_6_1/00008.png\n",
            "No faces found for  /content/drive/MyDrive/project/Датасэт/Test/frames/1_7/00046.png\n",
            "No faces found for  /content/drive/MyDrive/project/Датасэт/Test/frames/1_7/00047.png\n",
            "No faces found for  /content/drive/MyDrive/project/Датасэт/Test/frames/1_7/00048.png\n",
            "No faces found for  /content/drive/MyDrive/project/Датасэт/Test/frames/1_7/00049.png\n",
            "No faces found for  /content/drive/MyDrive/project/Датасэт/Test/frames/1_7/00050.png\n",
            "No faces found for  /content/drive/MyDrive/project/Датасэт/Test/frames/1_7/00051.png\n",
            "No faces found for  /content/drive/MyDrive/project/Датасэт/Test/frames/1_7/00052.png\n",
            "No faces found for  /content/drive/MyDrive/project/Датасэт/Test/frames/1_7/00053.png\n",
            "No faces found for  /content/drive/MyDrive/project/Датасэт/Test/frames/1_7_2/00004.png\n",
            "No faces found for  /content/drive/MyDrive/project/Датасэт/Test/frames/1_7_2/00005.png\n",
            "No faces found for  /content/drive/MyDrive/project/Датасэт/Test/frames/1_7_2/00007.png\n",
            "No faces found for  /content/drive/MyDrive/project/Датасэт/Test/frames/1_7_2/00008.png\n",
            "No faces found for  /content/drive/MyDrive/project/Датасэт/Test/frames/1_7_2/00009.png\n",
            "No faces found for  /content/drive/MyDrive/project/Датасэт/Test/frames/1_7_2/00010.png\n",
            "No faces found for  /content/drive/MyDrive/project/Датасэт/Test/frames/1_7_2/00038.png\n",
            "No faces found for  /content/drive/MyDrive/project/Датасэт/Test/frames/1_7_2/00055.png\n",
            "No faces found for  /content/drive/MyDrive/project/Датасэт/Test/frames/1_7_2/00078.png\n",
            "No faces found for  /content/drive/MyDrive/project/Датасэт/Test/frames/1_7_2/00079.png\n",
            "No faces found for  /content/drive/MyDrive/project/Датасэт/Test/frames/1_7_2/00080.png\n",
            "No faces found for  /content/drive/MyDrive/project/Датасэт/Test/frames/1_7_2/00083.png\n",
            "No faces found for  /content/drive/MyDrive/project/Датасэт/Test/frames/1_7_2/00098.png\n",
            "No faces found for  /content/drive/MyDrive/project/Датасэт/Test/frames/3_7/00005.png\n",
            "No faces found for  /content/drive/MyDrive/project/Датасэт/Test/frames/3_7/00046.png\n",
            "No faces found for  /content/drive/MyDrive/project/Датасэт/Test/frames/3_7/00047.png\n",
            "No faces found for  /content/drive/MyDrive/project/Датасэт/Test/frames/3_7/00048.png\n",
            "No faces found for  /content/drive/MyDrive/project/Датасэт/Test/frames/3_7/00049.png\n",
            "No faces found for  /content/drive/MyDrive/project/Датасэт/Test/frames/3_7/00060.png\n",
            "No faces found for  /content/drive/MyDrive/project/Датасэт/Test/frames/2_7_3/00059.png\n"
          ]
        },
        {
          "data": {
            "application/vnd.jupyter.widget-view+json": {
              "model_id": "02c480c7d76d413b8138e7c0e1669590",
              "version_major": 2,
              "version_minor": 0
            },
            "text/plain": [
              "  0%|          | 0/20 [00:00<?, ?it/s]"
            ]
          },
          "metadata": {},
          "output_type": "display_data"
        },
        {
          "name": "stdout",
          "output_type": "stream",
          "text": [
            "No faces found for  /content/drive/MyDrive/project/Датасэт/Train/frames/1_3/00009.png\n",
            "No faces found for  /content/drive/MyDrive/project/Датасэт/Train/frames/0_5_1/00040.png\n",
            "No faces found for  /content/drive/MyDrive/project/Датасэт/Train/frames/0_5_1/00041.png\n",
            "Too many faces ( 2 ) found for  /content/drive/MyDrive/project/Датасэт/Train/frames/3_4_4/00089.png\n",
            "best_iou ( 0.9596440329438631 ) best_bb  [509.56414306 215.2859764  833.36680609 612.19771779   0.99994576]\n",
            "Too many faces ( 2 ) found for  /content/drive/MyDrive/project/Датасэт/Train/frames/3_4_4/00090.png\n",
            "best_iou ( 0.9554795359910803 ) best_bb  [517.84188291 215.84387389 837.75404403 612.49367268   0.99998331]\n",
            "Too many faces ( 2 ) found for  /content/drive/MyDrive/project/Датасэт/Train/frames/3_4_4/00093.png\n",
            "best_iou ( 0.9452478055665529 ) best_bb  [515.08553337 208.66246748 841.74161211 609.59455252   0.99990535]\n",
            "Too many faces ( 2 ) found for  /content/drive/MyDrive/project/Датасэт/Train/frames/1_4_2/00083.png\n",
            "best_iou ( 0.9743002411724132 ) best_bb  [491.08335463 278.55187845 803.50596201 659.00688088   0.99996102]\n",
            "Too many faces ( 2 ) found for  /content/drive/MyDrive/project/Датасэт/Train/frames/1_4_2/00111.png\n",
            "best_iou ( 0.948843335762056 ) best_bb  [544.97242602 296.91688085 847.73392749 690.31636514   0.99997342]\n",
            "Too many faces ( 2 ) found for  /content/drive/MyDrive/project/Датасэт/Train/frames/1_4_2/00122.png\n",
            "best_iou ( 0.973572886243127 ) best_bb  [553.05515131 309.07248041 850.8869176  696.90211559   0.99995816]\n",
            "No faces found for  /content/drive/MyDrive/project/Датасэт/Train/frames/1_4_2/00260.png\n",
            "No faces found for  /content/drive/MyDrive/project/Датасэт/Train/frames/1_4_2/00261.png\n",
            "No faces found for  /content/drive/MyDrive/project/Датасэт/Train/frames/2_4_3/00079.png\n",
            "No faces found for  /content/drive/MyDrive/project/Датасэт/Train/frames/2_8/00062.png\n",
            "No faces found for  /content/drive/MyDrive/project/Датасэт/Train/frames/2_8/00063.png\n",
            "No faces found for  /content/drive/MyDrive/project/Датасэт/Train/frames/2_8/00064.png\n",
            "Too many faces ( 2 ) found for  /content/drive/MyDrive/project/Датасэт/Train/frames/2_4_2/00082.png\n",
            "best_iou ( 0.9093670228458725 ) best_bb  [470.39186871 195.93796524 811.89446674 618.64120913   0.99990582]\n",
            "No faces found for  /content/drive/MyDrive/project/Датасэт/Train/frames/2_4_2/00120.png\n",
            "No faces found for  /content/drive/MyDrive/project/Датасэт/Train/frames/0_1/00014.png\n",
            "No faces found for  /content/drive/MyDrive/project/Датасэт/Train/frames/0_1/00015.png\n",
            "No faces found for  /content/drive/MyDrive/project/Датасэт/Train/frames/0_1/00016.png\n",
            "No faces found for  /content/drive/MyDrive/project/Датасэт/Train/frames/0_1/00048.png\n"
          ]
        },
        {
          "data": {
            "application/vnd.jupyter.widget-view+json": {
              "model_id": "957451fab95d49749fec00632a5b3f57",
              "version_major": 2,
              "version_minor": 0
            },
            "text/plain": [
              "  0%|          | 0/20 [00:00<?, ?it/s]"
            ]
          },
          "metadata": {},
          "output_type": "display_data"
        },
        {
          "name": "stdout",
          "output_type": "stream",
          "text": [
            "Too many faces ( 2 ) found for  /content/drive/MyDrive/project/Датасэт/Validation/frames/3_1_1/00024.png\n",
            "best_iou ( 0.9849174188163964 ) best_bb  [584.75502819 406.25657268 726.22939119 595.35224442   0.99999487]\n",
            "Too many faces ( 2 ) found for  /content/drive/MyDrive/project/Датасэт/Validation/frames/3_1_1/00025.png\n",
            "best_iou ( 0.9508705824101706 ) best_bb  [587.68196878 408.3282536  727.68905687 595.00597186   0.99999821]\n",
            "No faces found for  /content/drive/MyDrive/project/Датасэт/Validation/frames/0_1_4/00102.png\n",
            "No faces found for  /content/drive/MyDrive/project/Датасэт/Validation/frames/2_7_5/00029.png\n",
            "No faces found for  /content/drive/MyDrive/project/Датасэт/Validation/frames/2_7_5/00030.png\n",
            "No faces found for  /content/drive/MyDrive/project/Датасэт/Validation/frames/2_7_5/00031.png\n",
            "No faces found for  /content/drive/MyDrive/project/Датасэт/Validation/frames/2_7_5/00032.png\n",
            "No faces found for  /content/drive/MyDrive/project/Датасэт/Validation/frames/2_7_5/00033.png\n",
            "No faces found for  /content/drive/MyDrive/project/Датасэт/Validation/frames/2_7_5/00034.png\n",
            "No faces found for  /content/drive/MyDrive/project/Датасэт/Validation/frames/2_7_5/00035.png\n",
            "No faces found for  /content/drive/MyDrive/project/Датасэт/Validation/frames/2_7_5/00036.png\n",
            "No faces found for  /content/drive/MyDrive/project/Датасэт/Validation/frames/2_7_5/00037.png\n",
            "No faces found for  /content/drive/MyDrive/project/Датасэт/Validation/frames/2_7_5/00038.png\n",
            "No faces found for  /content/drive/MyDrive/project/Датасэт/Validation/frames/2_7_5/00039.png\n",
            "No faces found for  /content/drive/MyDrive/project/Датасэт/Validation/frames/2_7_5/00040.png\n",
            "No faces found for  /content/drive/MyDrive/project/Датасэт/Validation/frames/2_7_5/00041.png\n",
            "No faces found for  /content/drive/MyDrive/project/Датасэт/Validation/frames/2_7_5/00042.png\n",
            "No faces found for  /content/drive/MyDrive/project/Датасэт/Validation/frames/2_7_5/00043.png\n",
            "No faces found for  /content/drive/MyDrive/project/Датасэт/Validation/frames/2_7_5/00050.png\n",
            "No faces found for  /content/drive/MyDrive/project/Датасэт/Validation/frames/2_7_5/00083.png\n",
            "No faces found for  /content/drive/MyDrive/project/Датасэт/Validation/frames/2_7_5/00115.png\n",
            "No faces found for  /content/drive/MyDrive/project/Датасэт/Validation/frames/2_7_6/00016.png\n",
            "No faces found for  /content/drive/MyDrive/project/Датасэт/Validation/frames/2_7_6/00017.png\n",
            "No faces found for  /content/drive/MyDrive/project/Датасэт/Validation/frames/2_7_6/00018.png\n",
            "No faces found for  /content/drive/MyDrive/project/Датасэт/Validation/frames/2_7_6/00019.png\n",
            "No faces found for  /content/drive/MyDrive/project/Датасэт/Validation/frames/2_7_6/00020.png\n",
            "No faces found for  /content/drive/MyDrive/project/Датасэт/Validation/frames/2_7_6/00021.png\n",
            "No faces found for  /content/drive/MyDrive/project/Датасэт/Validation/frames/2_7_6/00022.png\n",
            "No faces found for  /content/drive/MyDrive/project/Датасэт/Validation/frames/2_7_6/00023.png\n",
            "No faces found for  /content/drive/MyDrive/project/Датасэт/Validation/frames/2_7_6/00046.png\n",
            "No faces found for  /content/drive/MyDrive/project/Датасэт/Validation/frames/2_7_6/00047.png\n",
            "No faces found for  /content/drive/MyDrive/project/Датасэт/Validation/frames/2_7_6/00048.png\n",
            "No faces found for  /content/drive/MyDrive/project/Датасэт/Validation/frames/2_7_6/00049.png\n",
            "No faces found for  /content/drive/MyDrive/project/Датасэт/Validation/frames/2_7_6/00050.png\n",
            "No faces found for  /content/drive/MyDrive/project/Датасэт/Validation/frames/2_7_6/00051.png\n",
            "No faces found for  /content/drive/MyDrive/project/Датасэт/Validation/frames/2_7_6/00052.png\n",
            "No faces found for  /content/drive/MyDrive/project/Датасэт/Validation/frames/2_7_6/00053.png\n",
            "No faces found for  /content/drive/MyDrive/project/Датасэт/Validation/frames/2_7_6/00054.png\n",
            "No faces found for  /content/drive/MyDrive/project/Датасэт/Validation/frames/2_7_6/00063.png\n",
            "No faces found for  /content/drive/MyDrive/project/Датасэт/Validation/frames/2_7_6/00064.png\n",
            "No faces found for  /content/drive/MyDrive/project/Датасэт/Validation/frames/2_7_6/00065.png\n",
            "No faces found for  /content/drive/MyDrive/project/Датасэт/Validation/frames/2_7_6/00066.png\n",
            "No faces found for  /content/drive/MyDrive/project/Датасэт/Validation/frames/2_7_6/00067.png\n",
            "No faces found for  /content/drive/MyDrive/project/Датасэт/Validation/frames/2_7_6/00068.png\n",
            "No faces found for  /content/drive/MyDrive/project/Датасэт/Validation/frames/2_7_6/00069.png\n",
            "No faces found for  /content/drive/MyDrive/project/Датасэт/Validation/frames/2_7_6/00070.png\n",
            "No faces found for  /content/drive/MyDrive/project/Датасэт/Validation/frames/2_7_6/00071.png\n",
            "No faces found for  /content/drive/MyDrive/project/Датасэт/Validation/frames/2_7_6/00102.png\n"
          ]
        }
      ],
      "source": [
        "save_aligned_faces(os.path.join(DATA_DIR,'Test/frames'),os.path.join(DATA_DIR,'cropped/aligned_2/Test'))\n",
        "save_aligned_faces(os.path.join(DATA_DIR,'Train/frames'),os.path.join(DATA_DIR,'cropped/aligned_2/Train'))\n",
        "save_aligned_faces(os.path.join(DATA_DIR,'Validation/frames'),os.path.join(DATA_DIR,'cropped/aligned_2/Validation'))"
      ]
    },
    {
      "cell_type": "code",
      "execution_count": null,
      "metadata": {
        "id": "FCvdUZSEiFE9"
      },
      "outputs": [],
      "source": [
        "from tensorflow.keras.applications import mobilenet\n",
        "from tensorflow.keras.models import load_model,Model"
      ]
    },
    {
      "cell_type": "markdown",
      "metadata": {
        "id": "tjoePn3aoX5R"
      },
      "source": [
        "# Data preprocessing 2"
      ]
    },
    {
      "cell_type": "code",
      "execution_count": 4,
      "metadata": {
        "id": "RR6hvXm2smja"
      },
      "outputs": [],
      "source": [
        "data_transforms = {\n",
        "    'Train': transforms.Compose([\n",
        "        transforms.RandomResizedCrop(224),\n",
        "        # transforms.RandomHorizontalFlip(),\n",
        "        transforms.ToTensor(),\n",
        "        transforms.Normalize([0.485, 0.456, 0.406], [0.229, 0.224, 0.225])\n",
        "    ]),\n",
        "    'Test': transforms.Compose([\n",
        "        transforms.Resize(256),\n",
        "        transforms.CenterCrop(224),\n",
        "        transforms.ToTensor(),\n",
        "        transforms.Normalize([0.485, 0.456, 0.406], [0.229, 0.224, 0.225])\n",
        "    ]),\n",
        "    'Validation': transforms.Compose([\n",
        "        transforms.Resize(256),\n",
        "        transforms.CenterCrop(224),\n",
        "        transforms.ToTensor(),\n",
        "        transforms.Normalize([0.485, 0.456, 0.406], [0.229, 0.224, 0.225])\n",
        "    ]),\n",
        "}\n",
        "\n",
        "data_dir = '/content/drive/MyDrive/project/Датасэт/cropped/aligned/'\n",
        "image_datasets = {x: datasets.ImageFolder(os.path.join(data_dir, x),\n",
        "                                          data_transforms[x])\n",
        "                  for x in ['Train','Test','Validation']}\n",
        "dataloaders = {x: torch.utils.data.DataLoader(image_datasets[x], batch_size=4,\n",
        "                                             shuffle=True, num_workers=2)\n",
        "              for x in ['Train','Test','Validation']}\n",
        "dataset_sizes = {x: len(image_datasets[x]) for x in ['Train','Test','Validation']}"
      ]
    },
    {
      "cell_type": "code",
      "execution_count": 5,
      "metadata": {
        "colab": {
          "base_uri": "https://localhost:8080/"
        },
        "id": "QLSoa5k5G5S3",
        "outputId": "dcdc828c-b6cc-4b53-ada8-8dcdd4fe96fc"
      },
      "outputs": [
        {
          "output_type": "execute_result",
          "data": {
            "text/plain": [
              "{'Test': <torch.utils.data.dataloader.DataLoader at 0x7fab4fb78a10>,\n",
              " 'Train': <torch.utils.data.dataloader.DataLoader at 0x7fab4fb78390>,\n",
              " 'Validation': <torch.utils.data.dataloader.DataLoader at 0x7fab4fb78950>}"
            ]
          },
          "metadata": {},
          "execution_count": 5
        }
      ],
      "source": [
        "dataloaders"
      ]
    },
    {
      "cell_type": "code",
      "execution_count": 6,
      "metadata": {
        "colab": {
          "base_uri": "https://localhost:8080/"
        },
        "id": "zGfIjx3ZiARX",
        "outputId": "0917af71-94c2-444e-c5f8-4a10aac8d7c5"
      },
      "outputs": [
        {
          "output_type": "execute_result",
          "data": {
            "text/plain": [
              "['0', '1', '2', '3']"
            ]
          },
          "metadata": {},
          "execution_count": 6
        }
      ],
      "source": [
        "image_datasets['Test'].classes"
      ]
    },
    {
      "cell_type": "code",
      "execution_count": 7,
      "metadata": {
        "id": "ypaH4KYDwB8e"
      },
      "outputs": [],
      "source": [
        "class_names = image_datasets['Train'].classes\n",
        "\n",
        "device = torch.device(\"cuda:0\" if torch.cuda.is_available() else \"cpu\")"
      ]
    },
    {
      "cell_type": "code",
      "execution_count": 8,
      "metadata": {
        "colab": {
          "base_uri": "https://localhost:8080/",
          "height": 148
        },
        "id": "DJlUVtd8FgmN",
        "outputId": "73ea59a1-d3bf-4fa2-c425-b1792a9c6ce5"
      },
      "outputs": [
        {
          "output_type": "display_data",
          "data": {
            "text/plain": [
              "<Figure size 432x288 with 1 Axes>"
            ],
            "image/png": "[encoded data removed]"
          },
          "metadata": {
            "needs_background": "light"
          }
        }
      ],
      "source": [
        "import torchvision\n",
        "\n",
        "\n",
        "def imshow(inp, title=None):\n",
        "    \"\"\"Imshow for Tensor.\"\"\"\n",
        "    inp = inp.numpy().transpose((1, 2, 0))\n",
        "    mean = np.array([0.485, 0.456, 0.406])\n",
        "    std = np.array([0.229, 0.224, 0.225])\n",
        "    inp = std * inp + mean\n",
        "    inp = np.clip(inp, 0, 1)\n",
        "    plt.imshow(inp)\n",
        "    if title is not None:\n",
        "        plt.title(title)\n",
        "    plt.pause(0.001)  # pause a bit so that plots are updated\n",
        "\n",
        "\n",
        "# Get a batch of training data\n",
        "inputs, classes = next(iter(dataloaders['Train']))\n",
        "\n",
        "# Make a grid from batch\n",
        "out = torchvision.utils.make_grid(inputs)\n",
        "\n",
        "imshow(out, title=[class_names[x] for x in classes])"
      ]
    },
    {
      "cell_type": "code",
      "execution_count": 9,
      "metadata": {
        "id": "xMiahvqwJwPM"
      },
      "outputs": [],
      "source": [
        "def train_model(model, criterion, optimizer, scheduler, num_epochs=25):\n",
        "    CUDA_LAUNCH_BLOCKING = \"1\"\n",
        "    since = time.time()\n",
        "\n",
        "    # best_model_wts = copy.deepcopy(model.state_dict())\n",
        "    best_acc = 0.0\n",
        "\n",
        "    for epoch in range(num_epochs):\n",
        "        print(f'Epoch {epoch}/{num_epochs - 1}')\n",
        "        print('-' * 10)\n",
        "\n",
        "        # Each epoch has a training and validation phase\n",
        "        for phase in ['Train', 'Validation']:\n",
        "            if phase == 'Train':\n",
        "                model.train()  # Set model to training mode\n",
        "            else:\n",
        "                model.eval()   # Set model to evaluate mode\n",
        "\n",
        "            running_loss = 0.0\n",
        "            running_corrects = 0\n",
        "\n",
        "            # Iterate over data.\n",
        "            for inputs, labels in dataloaders[phase]:\n",
        "                inputs = inputs.to(device)\n",
        "                labels = labels.to(device)\n",
        "\n",
        "                # zero the parameter gradients\n",
        "                optimizer.zero_grad()\n",
        "\n",
        "                # forward\n",
        "                # track history if only in train\n",
        "                with torch.set_grad_enabled(phase == 'Train'):\n",
        "                    outputs = model(inputs)\n",
        "                    _, preds = torch.max(outputs, 1)\n",
        "                    loss = criterion(outputs, labels)\n",
        "\n",
        "                    # backward + optimize only if in training phase\n",
        "                    if phase == 'Train':\n",
        "                        loss.backward()\n",
        "                        optimizer.step()\n",
        "\n",
        "                # statistics\n",
        "                running_loss += loss.item() * inputs.size(0)\n",
        "                running_corrects += torch.sum(preds == labels.data)\n",
        "            if phase == 'Train':\n",
        "                scheduler.step()\n",
        "\n",
        "            epoch_loss = running_loss / dataset_sizes[phase]\n",
        "            epoch_acc = running_corrects.double() / dataset_sizes[phase]\n",
        "\n",
        "            print(f'{phase} Loss: {epoch_loss:.4f} Acc: {epoch_acc:.4f}')\n",
        "\n",
        "            # deep copy the model\n",
        "            if phase == 'Validation' and epoch_acc > best_acc:\n",
        "                best_acc = epoch_acc\n",
        "                # best_model_wts = copy.deepcopy(model.state_dict())\n",
        "\n",
        "        print()\n",
        "\n",
        "    time_elapsed = time.time() - since\n",
        "    print(f'Training complete in {time_elapsed // 60:.0f}m {time_elapsed % 60:.0f}s')\n",
        "    print(f'Best val Acc: {best_acc:4f}')\n",
        "\n",
        "    # load best model weights\n",
        "    # model.load_state_dict(best_model_wts)\n",
        "    return model"
      ]
    },
    {
      "cell_type": "code",
      "execution_count": 10,
      "metadata": {
        "id": "yc4D2gURikEy"
      },
      "outputs": [],
      "source": [
        "def visualize_model(model, num_images=6):\n",
        "    was_training = model.training\n",
        "    model.eval()\n",
        "    images_so_far = 0\n",
        "    fig = plt.figure()\n",
        "\n",
        "    with torch.no_grad():\n",
        "        for i, (inputs, labels) in enumerate(dataloaders['Test']):\n",
        "            inputs = inputs.to(device)\n",
        "            labels = labels.to(device)\n",
        "\n",
        "            outputs = model(inputs)\n",
        "            _, preds = torch.max(outputs, 1)\n",
        "\n",
        "            for j in range(inputs.size()[0]):\n",
        "                images_so_far += 1\n",
        "                ax = plt.subplot(num_images//2, 4, images_so_far)\n",
        "                ax.axis('off')\n",
        "                ax.set_title(f'predicted: {class_names[preds[j]]}')\n",
        "                imshow(inputs.cpu().data[j])\n",
        "\n",
        "                if images_so_far == num_images:\n",
        "                    model.train(mode=was_training)\n",
        "                    return\n",
        "        model.train(mode=was_training)"
      ]
    },
    {
      "cell_type": "code",
      "execution_count": 11,
      "metadata": {
        "id": "LU9OMBiwqxXk"
      },
      "outputs": [],
      "source": [
        "import torchvision.models as models"
      ]
    },
    {
      "cell_type": "markdown",
      "metadata": {
        "id": "DvcJR9jECm5p"
      },
      "source": [
        "# Resnet"
      ]
    },
    {
      "cell_type": "code",
      "execution_count": null,
      "metadata": {
        "colab": {
          "base_uri": "https://localhost:8080/",
          "height": 66
        },
        "id": "b_NE4BfSjXed",
        "outputId": "de7ee156-13a0-4329-da16-40c513373e01"
      },
      "outputs": [
        {
          "name": "stderr",
          "output_type": "stream",
          "text": [
            "Downloading: \"https://download.pytorch.org/models/resnet18-f37072fd.pth\" to /root/.cache/torch/hub/checkpoints/resnet18-f37072fd.pth\n"
          ]
        },
        {
          "data": {
            "application/vnd.jupyter.widget-view+json": {
              "model_id": "a0cbf86dcce54982bf146e43c05980e8",
              "version_major": 2,
              "version_minor": 0
            },
            "text/plain": [
              "  0%|          | 0.00/44.7M [00:00<?, ?B/s]"
            ]
          },
          "metadata": {},
          "output_type": "display_data"
        }
      ],
      "source": [
        "model_ft = models.resnet18(pretrained=True)\n",
        "num_ftrs = model_ft.fc.in_features\n",
        "# Alternatively, it can be generalized to nn.Linear(num_ftrs, len(class_names)).\n",
        "model_ft.fc = nn.Linear(num_ftrs, 4)\n",
        "\n",
        "model_ft = model_ft.to(device)\n",
        "\n",
        "criterion = nn.CrossEntropyLoss()\n",
        "\n",
        "# Observe that all parameters are being optimized\n",
        "optimizer_ft = torch.optim.SGD(model_ft.parameters(), lr=0.001, momentum=0.9)\n",
        "\n",
        "# Decay LR by a factor of 0.1 every 7 epochs\n",
        "exp_lr_scheduler = torch.optim.lr_scheduler.StepLR(optimizer_ft, step_size=7, gamma=0.1)"
      ]
    },
    {
      "cell_type": "code",
      "execution_count": null,
      "metadata": {
        "colab": {
          "base_uri": "https://localhost:8080/"
        },
        "id": "1Br3y8r1juY1",
        "outputId": "7238647f-9a2e-4351-dff1-4ba6ef9d0649"
      },
      "outputs": [
        {
          "name": "stdout",
          "output_type": "stream",
          "text": [
            "Epoch 0/9\n",
            "----------\n",
            "Train Loss: 0.9808 Acc: 0.6233\n",
            "Validation Loss: 1.1165 Acc: 0.5365\n",
            "\n",
            "Epoch 1/9\n",
            "----------\n",
            "Train Loss: 0.8319 Acc: 0.6792\n",
            "Validation Loss: 1.0281 Acc: 0.6213\n",
            "\n",
            "Epoch 2/9\n",
            "----------\n",
            "Train Loss: 0.8046 Acc: 0.6861\n",
            "Validation Loss: 0.7854 Acc: 0.6588\n",
            "\n",
            "Epoch 3/9\n",
            "----------\n",
            "Train Loss: 0.7293 Acc: 0.7142\n",
            "Validation Loss: 1.0451 Acc: 0.6193\n",
            "\n",
            "Epoch 4/9\n",
            "----------\n",
            "Train Loss: 0.6919 Acc: 0.7315\n",
            "Validation Loss: 0.8552 Acc: 0.6410\n",
            "\n",
            "Epoch 5/9\n",
            "----------\n",
            "Train Loss: 0.6763 Acc: 0.7423\n",
            "Validation Loss: 0.9584 Acc: 0.6667\n",
            "\n",
            "Epoch 6/9\n",
            "----------\n",
            "Train Loss: 0.6474 Acc: 0.7432\n",
            "Validation Loss: 0.8579 Acc: 0.6607\n",
            "\n",
            "Epoch 7/9\n",
            "----------\n",
            "Train Loss: 0.5387 Acc: 0.7886\n",
            "Validation Loss: 0.7354 Acc: 0.7239\n",
            "\n",
            "Epoch 8/9\n",
            "----------\n",
            "Train Loss: 0.5082 Acc: 0.8088\n",
            "Validation Loss: 0.7377 Acc: 0.7337\n",
            "\n",
            "Epoch 9/9\n",
            "----------\n",
            "Train Loss: 0.4839 Acc: 0.8066\n",
            "Validation Loss: 0.8264 Acc: 0.7120\n",
            "\n",
            "Training complete in 9m 1s\n",
            "Best val Acc: 0.733728\n"
          ]
        }
      ],
      "source": [
        "import copy\n",
        "model_ft = train_model(model_ft, criterion, optimizer_ft, exp_lr_scheduler,\n",
        "                       num_epochs=10)"
      ]
    },
    {
      "cell_type": "code",
      "execution_count": null,
      "metadata": {
        "colab": {
          "base_uri": "https://localhost:8080/",
          "height": 581
        },
        "id": "6mRyXSJbk37n",
        "outputId": "6c553c8a-f06f-42eb-869e-3a913e7ee736"
      },
      "outputs": [
        {
          "data": {
            "image/png": "[encoded data removed]",
            "text/plain": [
              "<Figure size 432x288 with 1 Axes>"
            ]
          },
          "metadata": {},
          "output_type": "display_data"
        },
        {
          "data": {
            "image/png": "[encoded data removed]",
            "text/plain": [
              "<Figure size 432x288 with 1 Axes>"
            ]
          },
          "metadata": {},
          "output_type": "display_data"
        },
        {
          "data": {
            "image/png": "[encoded data removed]",
            "text/plain": [
              "<Figure size 432x288 with 1 Axes>"
            ]
          },
          "metadata": {},
          "output_type": "display_data"
        },
        {
          "data": {
            "image/png": "[encoded data removed]",
            "text/plain": [
              "<Figure size 432x288 with 1 Axes>"
            ]
          },
          "metadata": {},
          "output_type": "display_data"
        },
        {
          "data": {
            "image/png": "[encoded data removed]",
            "text/plain": [
              "<Figure size 432x288 with 1 Axes>"
            ]
          },
          "metadata": {},
          "output_type": "display_data"
        },
        {
          "data": {
            "image/png": "[encoded data removed]",
            "text/plain": [
              "<Figure size 432x288 with 1 Axes>"
            ]
          },
          "metadata": {},
          "output_type": "display_data"
        }
      ],
      "source": [
        "visualize_model(model_ft)"
      ]
    },
    {
      "cell_type": "code",
      "execution_count": null,
      "metadata": {
        "id": "N7KetA7tXydH"
      },
      "outputs": [],
      "source": [
        "model_ft = models.resnet18(pretrained=False)\n",
        "num_ftrs = model_ft.fc.in_features\n",
        "# Alternatively, it can be generalized to nn.Linear(num_ftrs, len(class_names)).\n",
        "model_ft.fc = nn.Linear(num_ftrs, 4)\n",
        "\n",
        "model_ft = model_ft.to(device)\n",
        "\n",
        "criterion = nn.CrossEntropyLoss()\n",
        "\n",
        "# Observe that all parameters are being optimized\n",
        "optimizer_ft = torch.optim.SGD(model_ft.parameters(), lr=0.001, momentum=0.9)\n",
        "\n",
        "# Decay LR by a factor of 0.1 every 7 epochs\n",
        "exp_lr_scheduler = torch.optim.lr_scheduler.StepLR(optimizer_ft, step_size=7, gamma=0.1)"
      ]
    },
    {
      "cell_type": "code",
      "execution_count": null,
      "metadata": {
        "colab": {
          "base_uri": "https://localhost:8080/"
        },
        "id": "SLmGy1xPX2j-",
        "outputId": "2421f0bc-5afb-49db-a3d5-0ff35cddb638"
      },
      "outputs": [
        {
          "name": "stdout",
          "output_type": "stream",
          "text": [
            "Epoch 0/24\n",
            "----------\n",
            "Train Loss: 1.3557 Acc: 0.4193\n",
            "Validation Loss: 2.6236 Acc: 0.2468\n",
            "\n",
            "Epoch 1/24\n",
            "----------\n",
            "Train Loss: 1.3072 Acc: 0.4434\n",
            "Validation Loss: 1.7715 Acc: 0.3362\n",
            "\n",
            "Epoch 2/24\n",
            "----------\n",
            "Train Loss: 1.2968 Acc: 0.4412\n",
            "Validation Loss: 2.1633 Acc: 0.2959\n",
            "\n",
            "Epoch 3/24\n",
            "----------\n",
            "Train Loss: 1.2841 Acc: 0.4558\n",
            "Validation Loss: 1.4822 Acc: 0.3470\n",
            "\n",
            "Epoch 4/24\n",
            "----------\n",
            "Train Loss: 1.2343 Acc: 0.4617\n",
            "Validation Loss: 2.0658 Acc: 0.3376\n",
            "\n",
            "Epoch 5/24\n",
            "----------\n",
            "Train Loss: 1.2339 Acc: 0.4850\n",
            "Validation Loss: 2.1767 Acc: 0.2260\n",
            "\n",
            "Epoch 6/24\n",
            "----------\n",
            "Train Loss: 1.1707 Acc: 0.5011\n",
            "Validation Loss: 1.8049 Acc: 0.3020\n",
            "\n",
            "Epoch 7/24\n",
            "----------\n",
            "Train Loss: 1.0823 Acc: 0.5493\n",
            "Validation Loss: 1.9222 Acc: 0.3658\n",
            "\n",
            "Epoch 8/24\n",
            "----------\n",
            "Train Loss: 1.0457 Acc: 0.5544\n",
            "Validation Loss: 1.7863 Acc: 0.3605\n",
            "\n",
            "Epoch 9/24\n",
            "----------\n",
            "Train Loss: 1.0514 Acc: 0.5551\n",
            "Validation Loss: 1.9132 Acc: 0.3611\n",
            "\n",
            "Epoch 10/24\n",
            "----------\n",
            "Train Loss: 1.0271 Acc: 0.5588\n",
            "Validation Loss: 1.8103 Acc: 0.3645\n",
            "\n",
            "Epoch 11/24\n",
            "----------\n",
            "Train Loss: 1.0255 Acc: 0.5676\n",
            "Validation Loss: 2.0386 Acc: 0.2925\n",
            "\n",
            "Epoch 12/24\n",
            "----------\n",
            "Train Loss: 1.0172 Acc: 0.5683\n",
            "Validation Loss: 2.1092 Acc: 0.3295\n",
            "\n",
            "Epoch 13/24\n",
            "----------\n",
            "Train Loss: 1.0393 Acc: 0.5573\n",
            "Validation Loss: 1.9870 Acc: 0.3457\n",
            "\n",
            "Epoch 14/24\n",
            "----------\n",
            "Train Loss: 1.0161 Acc: 0.5544\n",
            "Validation Loss: 2.0352 Acc: 0.3524\n",
            "\n",
            "Epoch 15/24\n",
            "----------\n",
            "Train Loss: 1.0056 Acc: 0.5800\n",
            "Validation Loss: 1.9648 Acc: 0.3497\n",
            "\n",
            "Epoch 16/24\n",
            "----------\n",
            "Train Loss: 0.9943 Acc: 0.5785\n",
            "Validation Loss: 1.9488 Acc: 0.3591\n",
            "\n",
            "Epoch 17/24\n",
            "----------\n",
            "Train Loss: 1.0051 Acc: 0.5829\n",
            "Validation Loss: 1.9409 Acc: 0.3544\n",
            "\n",
            "Epoch 18/24\n",
            "----------\n",
            "Train Loss: 1.0037 Acc: 0.5676\n",
            "Validation Loss: 2.0622 Acc: 0.3490\n",
            "\n",
            "Epoch 19/24\n",
            "----------\n",
            "Train Loss: 0.9947 Acc: 0.5873\n",
            "Validation Loss: 1.9492 Acc: 0.3652\n",
            "\n",
            "Epoch 20/24\n",
            "----------\n",
            "Train Loss: 0.9992 Acc: 0.5851\n",
            "Validation Loss: 1.9597 Acc: 0.3685\n",
            "\n",
            "Epoch 21/24\n",
            "----------\n",
            "Train Loss: 0.9954 Acc: 0.5741\n",
            "Validation Loss: 2.0230 Acc: 0.3490\n",
            "\n",
            "Epoch 22/24\n",
            "----------\n",
            "Train Loss: 0.9836 Acc: 0.5917\n",
            "Validation Loss: 1.8676 Acc: 0.3329\n",
            "\n",
            "Epoch 23/24\n",
            "----------\n",
            "Train Loss: 0.9920 Acc: 0.5851\n",
            "Validation Loss: 1.8815 Acc: 0.3544\n",
            "\n",
            "Epoch 24/24\n",
            "----------\n",
            "Train Loss: 0.9866 Acc: 0.5727\n",
            "Validation Loss: 2.0739 Acc: 0.3443\n",
            "\n",
            "Training complete in 20m 42s\n",
            "Best val Acc: 0.368527\n"
          ]
        }
      ],
      "source": [
        "model_ft = train_model(model_ft, criterion, optimizer_ft, exp_lr_scheduler,\n",
        "                       num_epochs=25)"
      ]
    },
    {
      "cell_type": "code",
      "execution_count": null,
      "metadata": {
        "colab": {
          "base_uri": "https://localhost:8080/",
          "height": 581
        },
        "id": "jhZJYpUQX7j_",
        "outputId": "c2e5fb09-cfbe-4fb1-c939-5829ed9f14d8"
      },
      "outputs": [
        {
          "data": {
            "image/png": "[encoded data removed]",
            "text/plain": [
              "<Figure size 432x288 with 1 Axes>"
            ]
          },
          "metadata": {},
          "output_type": "display_data"
        },
        {
          "data": {
            "image/png": "[encoded data removed]",
            "text/plain": [
              "<Figure size 432x288 with 1 Axes>"
            ]
          },
          "metadata": {},
          "output_type": "display_data"
        },
        {
          "data": {
            "image/png": "[encoded data removed]",
            "text/plain": [
              "<Figure size 432x288 with 1 Axes>"
            ]
          },
          "metadata": {},
          "output_type": "display_data"
        },
        {
          "data": {
            "image/png": "[encoded data removed]",
            "text/plain": [
              "<Figure size 432x288 with 1 Axes>"
            ]
          },
          "metadata": {},
          "output_type": "display_data"
        },
        {
          "data": {
            "image/png": "[encoded data removed]",
            "text/plain": [
              "<Figure size 432x288 with 1 Axes>"
            ]
          },
          "metadata": {},
          "output_type": "display_data"
        },
        {
          "data": {
            "image/png": "[encoded data removed]",
            "text/plain": [
              "<Figure size 432x288 with 1 Axes>"
            ]
          },
          "metadata": {},
          "output_type": "display_data"
        }
      ],
      "source": [
        "visualize_model(model_ft)"
      ]
    },
    {
      "cell_type": "code",
      "execution_count": null,
      "metadata": {
        "colab": {
          "base_uri": "https://localhost:8080/"
        },
        "id": "mqC6DDmK6aCn",
        "outputId": "a482bd82-e547-437f-93e2-a701c955400d"
      },
      "outputs": [
        {
          "name": "stdout",
          "output_type": "stream",
          "text": [
            "Epoch 0/9\n",
            "----------\n",
            "Train Loss: 1.2924 Acc: 0.3647\n",
            "Validation Loss: 1.4122 Acc: 0.3353\n",
            "\n",
            "Epoch 1/9\n",
            "----------\n",
            "Train Loss: 1.2294 Acc: 0.3732\n",
            "Validation Loss: 1.4262 Acc: 0.3353\n",
            "\n",
            "Epoch 2/9\n",
            "----------\n",
            "Train Loss: 1.2301 Acc: 0.3669\n",
            "Validation Loss: 1.4408 Acc: 0.3353\n",
            "\n",
            "Epoch 3/9\n",
            "----------\n",
            "Train Loss: 1.2331 Acc: 0.3773\n",
            "Validation Loss: 1.4349 Acc: 0.3353\n",
            "\n",
            "Epoch 4/9\n",
            "----------\n",
            "Train Loss: 1.2162 Acc: 0.3726\n",
            "Validation Loss: 1.4508 Acc: 0.3353\n",
            "\n",
            "Epoch 5/9\n",
            "----------\n",
            "Train Loss: 1.2267 Acc: 0.3675\n",
            "Validation Loss: 1.4398 Acc: 0.2505\n",
            "\n",
            "Epoch 6/9\n",
            "----------\n",
            "Train Loss: 1.2158 Acc: 0.3801\n",
            "Validation Loss: 1.4594 Acc: 0.2505\n",
            "\n",
            "Epoch 7/9\n",
            "----------\n",
            "Train Loss: 1.2141 Acc: 0.3744\n",
            "Validation Loss: 1.4546 Acc: 0.3353\n",
            "\n",
            "Epoch 8/9\n",
            "----------\n",
            "Train Loss: 1.2130 Acc: 0.3833\n",
            "Validation Loss: 1.4494 Acc: 0.3353\n",
            "\n",
            "Epoch 9/9\n",
            "----------\n",
            "Train Loss: 1.2129 Acc: 0.3833\n",
            "Validation Loss: 1.4501 Acc: 0.3353\n",
            "\n",
            "Training complete in 9m 45s\n",
            "Best val Acc: 0.335306\n"
          ]
        }
      ],
      "source": [
        "params = [p for p in model_ft.parameters() if p.requires_grad]\n",
        "optimizer_ft = torch.optim.Adam(params, lr=0.001, weight_decay=0.0005)\n",
        "\n",
        "# Decay LR by a factor of 0.1 every 7 epochs\n",
        "exp_lr_scheduler = torch.optim.lr_scheduler.StepLR(optimizer_ft, step_size=7, gamma=0.1)\n",
        "model_ft = train_model(model_ft, criterion, optimizer_ft, exp_lr_scheduler,\n",
        "                       num_epochs=10)"
      ]
    },
    {
      "cell_type": "code",
      "execution_count": null,
      "metadata": {
        "colab": {
          "base_uri": "https://localhost:8080/",
          "height": 581
        },
        "id": "UmLXDgck78ak",
        "outputId": "d0dc9635-275f-4ca6-e648-51b6d63f5c97"
      },
      "outputs": [
        {
          "data": {
            "image/png": "[encoded data removed]",
            "text/plain": [
              "<Figure size 432x288 with 1 Axes>"
            ]
          },
          "metadata": {},
          "output_type": "display_data"
        },
        {
          "data": {
            "image/png": "[encoded data removed]",
            "text/plain": [
              "<Figure size 432x288 with 1 Axes>"
            ]
          },
          "metadata": {},
          "output_type": "display_data"
        },
        {
          "data": {
            "image/png": "[encoded data removed]",
            "text/plain": [
              "<Figure size 432x288 with 1 Axes>"
            ]
          },
          "metadata": {},
          "output_type": "display_data"
        },
        {
          "data": {
            "image/png": "[encoded data removed]",
            "text/plain": [
              "<Figure size 432x288 with 1 Axes>"
            ]
          },
          "metadata": {},
          "output_type": "display_data"
        },
        {
          "data": {
            "image/png": "[encoded data removed]",
            "text/plain": [
              "<Figure size 432x288 with 1 Axes>"
            ]
          },
          "metadata": {},
          "output_type": "display_data"
        },
        {
          "data": {
            "image/png": "[encoded data removed]",
            "text/plain": [
              "<Figure size 432x288 with 1 Axes>"
            ]
          },
          "metadata": {},
          "output_type": "display_data"
        }
      ],
      "source": [
        "visualize_model(model_ft)"
      ]
    },
    {
      "cell_type": "markdown",
      "metadata": {
        "id": "mDWtaLmaCq1c"
      },
      "source": [
        "#AlexNet"
      ]
    },
    {
      "cell_type": "code",
      "execution_count": null,
      "metadata": {
        "colab": {
          "base_uri": "https://localhost:8080/",
          "height": 66
        },
        "id": "4zj5myBhmt-l",
        "outputId": "17fedfc3-7b1c-4d4c-e7fa-acd8d1eef7bd"
      },
      "outputs": [
        {
          "name": "stderr",
          "output_type": "stream",
          "text": [
            "Downloading: \"https://download.pytorch.org/models/alexnet-owt-7be5be79.pth\" to /root/.cache/torch/hub/checkpoints/alexnet-owt-7be5be79.pth\n"
          ]
        },
        {
          "data": {
            "application/vnd.jupyter.widget-view+json": {
              "model_id": "8fbfd2a7e23b48beaffe4124be53b896",
              "version_major": 2,
              "version_minor": 0
            },
            "text/plain": [
              "  0%|          | 0.00/233M [00:00<?, ?B/s]"
            ]
          },
          "metadata": {},
          "output_type": "display_data"
        }
      ],
      "source": [
        "model_an = models.alexnet(pretrained=True)\n",
        "model_an.classifier[6] = nn.Linear(4096,4)\n",
        "\n",
        "model_an = model_an.to(device)\n",
        "\n",
        "criterion = nn.CrossEntropyLoss()\n",
        "\n",
        "# Observe that all parameters are being optimized\n",
        "optimizer_ft = torch.optim.SGD(model_an.parameters(), lr=0.001, momentum=0.9)\n",
        "\n",
        "# Decay LR by a factor of 0.1 every 7 epochs\n",
        "exp_lr_scheduler = torch.optim.lr_scheduler.StepLR(optimizer_ft, step_size=7, gamma=0.1)"
      ]
    },
    {
      "cell_type": "code",
      "execution_count": null,
      "metadata": {
        "colab": {
          "base_uri": "https://localhost:8080/"
        },
        "id": "PhDqSdw1rev3",
        "outputId": "2b7dd7ce-d94c-471f-c570-8205fc20dda6"
      },
      "outputs": [
        {
          "name": "stdout",
          "output_type": "stream",
          "text": [
            "Epoch 0/9\n",
            "----------\n",
            "Train Loss: 0.6714 Acc: 0.7202\n",
            "Validation Loss: 0.8997 Acc: 0.6134\n",
            "\n",
            "Epoch 1/9\n",
            "----------\n",
            "Train Loss: 0.6569 Acc: 0.7315\n",
            "Validation Loss: 0.9579 Acc: 0.6706\n",
            "\n",
            "Epoch 2/9\n",
            "----------\n",
            "Train Loss: 0.6002 Acc: 0.7514\n",
            "Validation Loss: 0.8551 Acc: 0.6785\n",
            "\n",
            "Epoch 3/9\n",
            "----------\n",
            "Train Loss: 0.6022 Acc: 0.7577\n",
            "Validation Loss: 1.1902 Acc: 0.6312\n",
            "\n",
            "Epoch 4/9\n",
            "----------\n",
            "Train Loss: 0.5135 Acc: 0.7880\n",
            "Validation Loss: 0.8105 Acc: 0.6903\n",
            "\n",
            "Epoch 5/9\n",
            "----------\n",
            "Train Loss: 0.4833 Acc: 0.8009\n",
            "Validation Loss: 0.7744 Acc: 0.6903\n",
            "\n",
            "Epoch 6/9\n",
            "----------\n",
            "Train Loss: 0.4721 Acc: 0.8060\n",
            "Validation Loss: 0.7960 Acc: 0.7061\n",
            "\n",
            "Epoch 7/9\n",
            "----------\n",
            "Train Loss: 0.4441 Acc: 0.8224\n",
            "Validation Loss: 0.7548 Acc: 0.7002\n",
            "\n",
            "Epoch 8/9\n",
            "----------\n",
            "Train Loss: 0.4655 Acc: 0.8091\n",
            "Validation Loss: 0.7926 Acc: 0.7041\n",
            "\n",
            "Epoch 9/9\n",
            "----------\n",
            "Train Loss: 0.4560 Acc: 0.8215\n",
            "Validation Loss: 0.7637 Acc: 0.7239\n",
            "\n",
            "Training complete in 6m 51s\n",
            "Best val Acc: 0.723866\n"
          ]
        }
      ],
      "source": [
        "import copy\n",
        "model_ft = train_model(model_an, criterion, optimizer_ft, exp_lr_scheduler,\n",
        "                       num_epochs=10)"
      ]
    },
    {
      "cell_type": "code",
      "execution_count": null,
      "metadata": {
        "colab": {
          "base_uri": "https://localhost:8080/",
          "height": 581
        },
        "id": "XgZ82VZRv-C8",
        "outputId": "dbe4bdce-32dd-40c1-c585-476fee32f928"
      },
      "outputs": [
        {
          "data": {
            "image/png": "[encoded data removed]",
            "text/plain": [
              "<Figure size 432x288 with 1 Axes>"
            ]
          },
          "metadata": {},
          "output_type": "display_data"
        },
        {
          "data": {
            "image/png": "[encoded data removed]",
            "text/plain": [
              "<Figure size 432x288 with 1 Axes>"
            ]
          },
          "metadata": {},
          "output_type": "display_data"
        },
        {
          "data": {
            "image/png": "[encoded data removed]",
            "text/plain": [
              "<Figure size 432x288 with 1 Axes>"
            ]
          },
          "metadata": {},
          "output_type": "display_data"
        },
        {
          "data": {
            "image/png": "[encoded data removed]",
            "text/plain": [
              "<Figure size 432x288 with 1 Axes>"
            ]
          },
          "metadata": {},
          "output_type": "display_data"
        },
        {
          "data": {
            "image/png": "[encoded data removed]",
            "text/plain": [
              "<Figure size 432x288 with 1 Axes>"
            ]
          },
          "metadata": {},
          "output_type": "display_data"
        },
        {
          "data": {
            "image/png": "[encoded data removed]",
            "text/plain": [
              "<Figure size 432x288 with 1 Axes>"
            ]
          },
          "metadata": {},
          "output_type": "display_data"
        }
      ],
      "source": [
        "visualize_model(model_an)"
      ]
    },
    {
      "cell_type": "markdown",
      "metadata": {
        "id": "bZmt8WZnwJh3"
      },
      "source": [
        "# VGG"
      ]
    },
    {
      "cell_type": "code",
      "execution_count": null,
      "metadata": {
        "colab": {
          "base_uri": "https://localhost:8080/",
          "height": 66,
          "referenced_widgets": [
            "df154ce1c6a24adc8995e3c66bb46b41",
            "fee887dd0bab46ddaac129b9efa82ec2",
            "db8a5ae67da34ef2a35aeabf1b0fc235",
            "b1aa7fb52eec4908bd7347a8faa5b8ca",
            "c057363f1a984964bf01871a5a339e5c",
            "f01c2589172444b3916f9ca59c9a5de0",
            "6b325ca38c044fefb63b3ed9e0bf0170",
            "2b5859c7997d43e0ac349f9393ffe25b",
            "1e3d6a11cdf542758aa933e73f0913e0",
            "6e9a27cd2c00429f9095981e8eb9aa1d",
            "a5e9e1cd143240889cbf5b3365b99756"
          ]
        },
        "id": "Y9OoaNZ9tuV_",
        "outputId": "5a7cface-76bf-4db2-953e-ccb3e1563634"
      },
      "outputs": [
        {
          "name": "stderr",
          "output_type": "stream",
          "text": [
            "Downloading: \"https://download.pytorch.org/models/vgg11-8a719046.pth\" to /root/.cache/torch/hub/checkpoints/vgg11-8a719046.pth\n"
          ]
        },
        {
          "data": {
            "application/vnd.jupyter.widget-view+json": {
              "model_id": "df154ce1c6a24adc8995e3c66bb46b41",
              "version_major": 2,
              "version_minor": 0
            },
            "text/plain": [
              "  0%|          | 0.00/507M [00:00<?, ?B/s]"
            ]
          },
          "metadata": {},
          "output_type": "display_data"
        }
      ],
      "source": [
        "model_vgg = models.vgg11(pretrained=True)\n",
        "model_vgg.classifier[6] = nn.Linear(4096,4)\n",
        "\n",
        "model_vgg = model_vgg.to(device)\n",
        "\n",
        "criterion = nn.CrossEntropyLoss()\n",
        "\n",
        "# Observe that all parameters are being optimized\n",
        "optimizer_ft = torch.optim.SGD(model_vgg.parameters(), lr=0.001, momentum=0.9)\n",
        "\n",
        "# Decay LR by a factor of 0.1 every 7 epochs\n",
        "exp_lr_scheduler = torch.optim.lr_scheduler.StepLR(optimizer_ft, step_size=7, gamma=0.1)"
      ]
    },
    {
      "cell_type": "code",
      "execution_count": null,
      "metadata": {
        "colab": {
          "base_uri": "https://localhost:8080/",
          "height": 710
        },
        "id": "WALFCiPQwDNS",
        "outputId": "ad56bc4e-1194-4055-8e83-f2ce5d5c07ec"
      },
      "outputs": [
        {
          "name": "stdout",
          "output_type": "stream",
          "text": [
            "Epoch 0/9\n",
            "----------\n",
            "Train Loss: 0.9319 Acc: 0.6022\n",
            "Validation Loss: 0.9067 Acc: 0.5779\n",
            "\n",
            "Epoch 1/9\n",
            "----------\n",
            "Train Loss: 0.7110 Acc: 0.7063\n",
            "Validation Loss: 1.1660 Acc: 0.5010\n",
            "\n",
            "Epoch 2/9\n",
            "----------\n",
            "Train Loss: 0.6518 Acc: 0.7334\n",
            "Validation Loss: 0.8233 Acc: 0.6607\n",
            "\n",
            "Epoch 3/9\n",
            "----------\n",
            "Train Loss: 0.5903 Acc: 0.7615\n",
            "Validation Loss: 0.7407 Acc: 0.6410\n",
            "\n",
            "Epoch 4/9\n",
            "----------\n"
          ]
        },
        {
          "ename": "KeyboardInterrupt",
          "evalue": "ignored",
          "output_type": "error",
          "traceback": [
            "\u001b[0;31m---------------------------------------------------------------------------\u001b[0m",
            "\u001b[0;31mKeyboardInterrupt\u001b[0m                         Traceback (most recent call last)",
            "\u001b[0;32m<ipython-input-26-073a6ba4d695>\u001b[0m in \u001b[0;36m<module>\u001b[0;34m()\u001b[0m\n\u001b[1;32m      1\u001b[0m model_vgg = train_model(model_vgg, criterion, optimizer_ft, exp_lr_scheduler,\n\u001b[0;32m----> 2\u001b[0;31m                        num_epochs=10)\n\u001b[0m",
            "\u001b[0;32m<ipython-input-9-5ffac57b0f32>\u001b[0m in \u001b[0;36mtrain_model\u001b[0;34m(model, criterion, optimizer, scheduler, num_epochs)\u001b[0m\n\u001b[1;32m     21\u001b[0m \u001b[0;34m\u001b[0m\u001b[0m\n\u001b[1;32m     22\u001b[0m             \u001b[0;31m# Iterate over data.\u001b[0m\u001b[0;34m\u001b[0m\u001b[0;34m\u001b[0m\u001b[0;34m\u001b[0m\u001b[0m\n\u001b[0;32m---> 23\u001b[0;31m             \u001b[0;32mfor\u001b[0m \u001b[0minputs\u001b[0m\u001b[0;34m,\u001b[0m \u001b[0mlabels\u001b[0m \u001b[0;32min\u001b[0m \u001b[0mdataloaders\u001b[0m\u001b[0;34m[\u001b[0m\u001b[0mphase\u001b[0m\u001b[0;34m]\u001b[0m\u001b[0;34m:\u001b[0m\u001b[0;34m\u001b[0m\u001b[0;34m\u001b[0m\u001b[0m\n\u001b[0m\u001b[1;32m     24\u001b[0m                 \u001b[0minputs\u001b[0m \u001b[0;34m=\u001b[0m \u001b[0minputs\u001b[0m\u001b[0;34m.\u001b[0m\u001b[0mto\u001b[0m\u001b[0;34m(\u001b[0m\u001b[0mdevice\u001b[0m\u001b[0;34m)\u001b[0m\u001b[0;34m\u001b[0m\u001b[0;34m\u001b[0m\u001b[0m\n\u001b[1;32m     25\u001b[0m                 \u001b[0mlabels\u001b[0m \u001b[0;34m=\u001b[0m \u001b[0mlabels\u001b[0m\u001b[0;34m.\u001b[0m\u001b[0mto\u001b[0m\u001b[0;34m(\u001b[0m\u001b[0mdevice\u001b[0m\u001b[0;34m)\u001b[0m\u001b[0;34m\u001b[0m\u001b[0;34m\u001b[0m\u001b[0m\n",
            "\u001b[0;32m/usr/local/lib/python3.7/dist-packages/torch/utils/data/dataloader.py\u001b[0m in \u001b[0;36m__next__\u001b[0;34m(self)\u001b[0m\n\u001b[1;32m    528\u001b[0m             \u001b[0;32mif\u001b[0m \u001b[0mself\u001b[0m\u001b[0;34m.\u001b[0m\u001b[0m_sampler_iter\u001b[0m \u001b[0;32mis\u001b[0m \u001b[0;32mNone\u001b[0m\u001b[0;34m:\u001b[0m\u001b[0;34m\u001b[0m\u001b[0;34m\u001b[0m\u001b[0m\n\u001b[1;32m    529\u001b[0m                 \u001b[0mself\u001b[0m\u001b[0;34m.\u001b[0m\u001b[0m_reset\u001b[0m\u001b[0;34m(\u001b[0m\u001b[0;34m)\u001b[0m\u001b[0;34m\u001b[0m\u001b[0;34m\u001b[0m\u001b[0m\n\u001b[0;32m--> 530\u001b[0;31m             \u001b[0mdata\u001b[0m \u001b[0;34m=\u001b[0m \u001b[0mself\u001b[0m\u001b[0;34m.\u001b[0m\u001b[0m_next_data\u001b[0m\u001b[0;34m(\u001b[0m\u001b[0;34m)\u001b[0m\u001b[0;34m\u001b[0m\u001b[0;34m\u001b[0m\u001b[0m\n\u001b[0m\u001b[1;32m    531\u001b[0m             \u001b[0mself\u001b[0m\u001b[0;34m.\u001b[0m\u001b[0m_num_yielded\u001b[0m \u001b[0;34m+=\u001b[0m \u001b[0;36m1\u001b[0m\u001b[0;34m\u001b[0m\u001b[0;34m\u001b[0m\u001b[0m\n\u001b[1;32m    532\u001b[0m             \u001b[0;32mif\u001b[0m \u001b[0mself\u001b[0m\u001b[0;34m.\u001b[0m\u001b[0m_dataset_kind\u001b[0m \u001b[0;34m==\u001b[0m \u001b[0m_DatasetKind\u001b[0m\u001b[0;34m.\u001b[0m\u001b[0mIterable\u001b[0m \u001b[0;32mand\u001b[0m\u001b[0;31m \u001b[0m\u001b[0;31m\\\u001b[0m\u001b[0;34m\u001b[0m\u001b[0;34m\u001b[0m\u001b[0m\n",
            "\u001b[0;32m/usr/local/lib/python3.7/dist-packages/torch/utils/data/dataloader.py\u001b[0m in \u001b[0;36m_next_data\u001b[0;34m(self)\u001b[0m\n\u001b[1;32m   1205\u001b[0m \u001b[0;34m\u001b[0m\u001b[0m\n\u001b[1;32m   1206\u001b[0m             \u001b[0;32massert\u001b[0m \u001b[0;32mnot\u001b[0m \u001b[0mself\u001b[0m\u001b[0;34m.\u001b[0m\u001b[0m_shutdown\u001b[0m \u001b[0;32mand\u001b[0m \u001b[0mself\u001b[0m\u001b[0;34m.\u001b[0m\u001b[0m_tasks_outstanding\u001b[0m \u001b[0;34m>\u001b[0m \u001b[0;36m0\u001b[0m\u001b[0;34m\u001b[0m\u001b[0;34m\u001b[0m\u001b[0m\n\u001b[0;32m-> 1207\u001b[0;31m             \u001b[0midx\u001b[0m\u001b[0;34m,\u001b[0m \u001b[0mdata\u001b[0m \u001b[0;34m=\u001b[0m \u001b[0mself\u001b[0m\u001b[0;34m.\u001b[0m\u001b[0m_get_data\u001b[0m\u001b[0;34m(\u001b[0m\u001b[0;34m)\u001b[0m\u001b[0;34m\u001b[0m\u001b[0;34m\u001b[0m\u001b[0m\n\u001b[0m\u001b[1;32m   1208\u001b[0m             \u001b[0mself\u001b[0m\u001b[0;34m.\u001b[0m\u001b[0m_tasks_outstanding\u001b[0m \u001b[0;34m-=\u001b[0m \u001b[0;36m1\u001b[0m\u001b[0;34m\u001b[0m\u001b[0;34m\u001b[0m\u001b[0m\n\u001b[1;32m   1209\u001b[0m             \u001b[0;32mif\u001b[0m \u001b[0mself\u001b[0m\u001b[0;34m.\u001b[0m\u001b[0m_dataset_kind\u001b[0m \u001b[0;34m==\u001b[0m \u001b[0m_DatasetKind\u001b[0m\u001b[0;34m.\u001b[0m\u001b[0mIterable\u001b[0m\u001b[0;34m:\u001b[0m\u001b[0;34m\u001b[0m\u001b[0;34m\u001b[0m\u001b[0m\n",
            "\u001b[0;32m/usr/local/lib/python3.7/dist-packages/torch/utils/data/dataloader.py\u001b[0m in \u001b[0;36m_get_data\u001b[0;34m(self)\u001b[0m\n\u001b[1;32m   1171\u001b[0m         \u001b[0;32melse\u001b[0m\u001b[0;34m:\u001b[0m\u001b[0;34m\u001b[0m\u001b[0;34m\u001b[0m\u001b[0m\n\u001b[1;32m   1172\u001b[0m             \u001b[0;32mwhile\u001b[0m \u001b[0;32mTrue\u001b[0m\u001b[0;34m:\u001b[0m\u001b[0;34m\u001b[0m\u001b[0;34m\u001b[0m\u001b[0m\n\u001b[0;32m-> 1173\u001b[0;31m                 \u001b[0msuccess\u001b[0m\u001b[0;34m,\u001b[0m \u001b[0mdata\u001b[0m \u001b[0;34m=\u001b[0m \u001b[0mself\u001b[0m\u001b[0;34m.\u001b[0m\u001b[0m_try_get_data\u001b[0m\u001b[0;34m(\u001b[0m\u001b[0;34m)\u001b[0m\u001b[0;34m\u001b[0m\u001b[0;34m\u001b[0m\u001b[0m\n\u001b[0m\u001b[1;32m   1174\u001b[0m                 \u001b[0;32mif\u001b[0m \u001b[0msuccess\u001b[0m\u001b[0;34m:\u001b[0m\u001b[0;34m\u001b[0m\u001b[0;34m\u001b[0m\u001b[0m\n\u001b[1;32m   1175\u001b[0m                     \u001b[0;32mreturn\u001b[0m \u001b[0mdata\u001b[0m\u001b[0;34m\u001b[0m\u001b[0;34m\u001b[0m\u001b[0m\n",
            "\u001b[0;32m/usr/local/lib/python3.7/dist-packages/torch/utils/data/dataloader.py\u001b[0m in \u001b[0;36m_try_get_data\u001b[0;34m(self, timeout)\u001b[0m\n\u001b[1;32m   1009\u001b[0m         \u001b[0;31m#   (bool: whether successfully get data, any: data if successful else None)\u001b[0m\u001b[0;34m\u001b[0m\u001b[0;34m\u001b[0m\u001b[0;34m\u001b[0m\u001b[0m\n\u001b[1;32m   1010\u001b[0m         \u001b[0;32mtry\u001b[0m\u001b[0;34m:\u001b[0m\u001b[0;34m\u001b[0m\u001b[0;34m\u001b[0m\u001b[0m\n\u001b[0;32m-> 1011\u001b[0;31m             \u001b[0mdata\u001b[0m \u001b[0;34m=\u001b[0m \u001b[0mself\u001b[0m\u001b[0;34m.\u001b[0m\u001b[0m_data_queue\u001b[0m\u001b[0;34m.\u001b[0m\u001b[0mget\u001b[0m\u001b[0;34m(\u001b[0m\u001b[0mtimeout\u001b[0m\u001b[0;34m=\u001b[0m\u001b[0mtimeout\u001b[0m\u001b[0;34m)\u001b[0m\u001b[0;34m\u001b[0m\u001b[0;34m\u001b[0m\u001b[0m\n\u001b[0m\u001b[1;32m   1012\u001b[0m             \u001b[0;32mreturn\u001b[0m \u001b[0;34m(\u001b[0m\u001b[0;32mTrue\u001b[0m\u001b[0;34m,\u001b[0m \u001b[0mdata\u001b[0m\u001b[0;34m)\u001b[0m\u001b[0;34m\u001b[0m\u001b[0;34m\u001b[0m\u001b[0m\n\u001b[1;32m   1013\u001b[0m         \u001b[0;32mexcept\u001b[0m \u001b[0mException\u001b[0m \u001b[0;32mas\u001b[0m \u001b[0me\u001b[0m\u001b[0;34m:\u001b[0m\u001b[0;34m\u001b[0m\u001b[0;34m\u001b[0m\u001b[0m\n",
            "\u001b[0;32m/usr/lib/python3.7/multiprocessing/queues.py\u001b[0m in \u001b[0;36mget\u001b[0;34m(self, block, timeout)\u001b[0m\n\u001b[1;32m    111\u001b[0m                 \u001b[0mself\u001b[0m\u001b[0;34m.\u001b[0m\u001b[0m_rlock\u001b[0m\u001b[0;34m.\u001b[0m\u001b[0mrelease\u001b[0m\u001b[0;34m(\u001b[0m\u001b[0;34m)\u001b[0m\u001b[0;34m\u001b[0m\u001b[0;34m\u001b[0m\u001b[0m\n\u001b[1;32m    112\u001b[0m         \u001b[0;31m# unserialize the data after having released the lock\u001b[0m\u001b[0;34m\u001b[0m\u001b[0;34m\u001b[0m\u001b[0;34m\u001b[0m\u001b[0m\n\u001b[0;32m--> 113\u001b[0;31m         \u001b[0;32mreturn\u001b[0m \u001b[0m_ForkingPickler\u001b[0m\u001b[0;34m.\u001b[0m\u001b[0mloads\u001b[0m\u001b[0;34m(\u001b[0m\u001b[0mres\u001b[0m\u001b[0;34m)\u001b[0m\u001b[0;34m\u001b[0m\u001b[0;34m\u001b[0m\u001b[0m\n\u001b[0m\u001b[1;32m    114\u001b[0m \u001b[0;34m\u001b[0m\u001b[0m\n\u001b[1;32m    115\u001b[0m     \u001b[0;32mdef\u001b[0m \u001b[0mqsize\u001b[0m\u001b[0;34m(\u001b[0m\u001b[0mself\u001b[0m\u001b[0;34m)\u001b[0m\u001b[0;34m:\u001b[0m\u001b[0;34m\u001b[0m\u001b[0;34m\u001b[0m\u001b[0m\n",
            "\u001b[0;32m/usr/local/lib/python3.7/dist-packages/torch/multiprocessing/reductions.py\u001b[0m in \u001b[0;36mrebuild_storage_fd\u001b[0;34m(cls, df, size)\u001b[0m\n\u001b[1;32m    293\u001b[0m \u001b[0;34m\u001b[0m\u001b[0m\n\u001b[1;32m    294\u001b[0m \u001b[0;32mdef\u001b[0m \u001b[0mrebuild_storage_fd\u001b[0m\u001b[0;34m(\u001b[0m\u001b[0mcls\u001b[0m\u001b[0;34m,\u001b[0m \u001b[0mdf\u001b[0m\u001b[0;34m,\u001b[0m \u001b[0msize\u001b[0m\u001b[0;34m)\u001b[0m\u001b[0;34m:\u001b[0m\u001b[0;34m\u001b[0m\u001b[0;34m\u001b[0m\u001b[0m\n\u001b[0;32m--> 295\u001b[0;31m     \u001b[0mfd\u001b[0m \u001b[0;34m=\u001b[0m \u001b[0mdf\u001b[0m\u001b[0;34m.\u001b[0m\u001b[0mdetach\u001b[0m\u001b[0;34m(\u001b[0m\u001b[0;34m)\u001b[0m\u001b[0;34m\u001b[0m\u001b[0;34m\u001b[0m\u001b[0m\n\u001b[0m\u001b[1;32m    296\u001b[0m     \u001b[0;32mtry\u001b[0m\u001b[0;34m:\u001b[0m\u001b[0;34m\u001b[0m\u001b[0;34m\u001b[0m\u001b[0m\n\u001b[1;32m    297\u001b[0m         \u001b[0mstorage\u001b[0m \u001b[0;34m=\u001b[0m \u001b[0mstorage_from_cache\u001b[0m\u001b[0;34m(\u001b[0m\u001b[0mcls\u001b[0m\u001b[0;34m,\u001b[0m \u001b[0mfd_id\u001b[0m\u001b[0;34m(\u001b[0m\u001b[0mfd\u001b[0m\u001b[0;34m)\u001b[0m\u001b[0;34m)\u001b[0m\u001b[0;34m\u001b[0m\u001b[0;34m\u001b[0m\u001b[0m\n",
            "\u001b[0;32m/usr/lib/python3.7/multiprocessing/resource_sharer.py\u001b[0m in \u001b[0;36mdetach\u001b[0;34m(self)\u001b[0m\n\u001b[1;32m     55\u001b[0m         \u001b[0;32mdef\u001b[0m \u001b[0mdetach\u001b[0m\u001b[0;34m(\u001b[0m\u001b[0mself\u001b[0m\u001b[0;34m)\u001b[0m\u001b[0;34m:\u001b[0m\u001b[0;34m\u001b[0m\u001b[0;34m\u001b[0m\u001b[0m\n\u001b[1;32m     56\u001b[0m             \u001b[0;34m'''Get the fd.  This should only be called once.'''\u001b[0m\u001b[0;34m\u001b[0m\u001b[0;34m\u001b[0m\u001b[0m\n\u001b[0;32m---> 57\u001b[0;31m             \u001b[0;32mwith\u001b[0m \u001b[0m_resource_sharer\u001b[0m\u001b[0;34m.\u001b[0m\u001b[0mget_connection\u001b[0m\u001b[0;34m(\u001b[0m\u001b[0mself\u001b[0m\u001b[0;34m.\u001b[0m\u001b[0m_id\u001b[0m\u001b[0;34m)\u001b[0m \u001b[0;32mas\u001b[0m \u001b[0mconn\u001b[0m\u001b[0;34m:\u001b[0m\u001b[0;34m\u001b[0m\u001b[0;34m\u001b[0m\u001b[0m\n\u001b[0m\u001b[1;32m     58\u001b[0m                 \u001b[0;32mreturn\u001b[0m \u001b[0mreduction\u001b[0m\u001b[0;34m.\u001b[0m\u001b[0mrecv_handle\u001b[0m\u001b[0;34m(\u001b[0m\u001b[0mconn\u001b[0m\u001b[0;34m)\u001b[0m\u001b[0;34m\u001b[0m\u001b[0;34m\u001b[0m\u001b[0m\n\u001b[1;32m     59\u001b[0m \u001b[0;34m\u001b[0m\u001b[0m\n",
            "\u001b[0;32m/usr/lib/python3.7/multiprocessing/resource_sharer.py\u001b[0m in \u001b[0;36mget_connection\u001b[0;34m(ident)\u001b[0m\n\u001b[1;32m     86\u001b[0m         \u001b[0maddress\u001b[0m\u001b[0;34m,\u001b[0m \u001b[0mkey\u001b[0m \u001b[0;34m=\u001b[0m \u001b[0mident\u001b[0m\u001b[0;34m\u001b[0m\u001b[0;34m\u001b[0m\u001b[0m\n\u001b[1;32m     87\u001b[0m         \u001b[0mc\u001b[0m \u001b[0;34m=\u001b[0m \u001b[0mClient\u001b[0m\u001b[0;34m(\u001b[0m\u001b[0maddress\u001b[0m\u001b[0;34m,\u001b[0m \u001b[0mauthkey\u001b[0m\u001b[0;34m=\u001b[0m\u001b[0mprocess\u001b[0m\u001b[0;34m.\u001b[0m\u001b[0mcurrent_process\u001b[0m\u001b[0;34m(\u001b[0m\u001b[0;34m)\u001b[0m\u001b[0;34m.\u001b[0m\u001b[0mauthkey\u001b[0m\u001b[0;34m)\u001b[0m\u001b[0;34m\u001b[0m\u001b[0;34m\u001b[0m\u001b[0m\n\u001b[0;32m---> 88\u001b[0;31m         \u001b[0mc\u001b[0m\u001b[0;34m.\u001b[0m\u001b[0msend\u001b[0m\u001b[0;34m(\u001b[0m\u001b[0;34m(\u001b[0m\u001b[0mkey\u001b[0m\u001b[0;34m,\u001b[0m \u001b[0mos\u001b[0m\u001b[0;34m.\u001b[0m\u001b[0mgetpid\u001b[0m\u001b[0;34m(\u001b[0m\u001b[0;34m)\u001b[0m\u001b[0;34m)\u001b[0m\u001b[0;34m)\u001b[0m\u001b[0;34m\u001b[0m\u001b[0;34m\u001b[0m\u001b[0m\n\u001b[0m\u001b[1;32m     89\u001b[0m         \u001b[0;32mreturn\u001b[0m \u001b[0mc\u001b[0m\u001b[0;34m\u001b[0m\u001b[0;34m\u001b[0m\u001b[0m\n\u001b[1;32m     90\u001b[0m \u001b[0;34m\u001b[0m\u001b[0m\n",
            "\u001b[0;32m/usr/lib/python3.7/multiprocessing/connection.py\u001b[0m in \u001b[0;36msend\u001b[0;34m(self, obj)\u001b[0m\n\u001b[1;32m    204\u001b[0m         \u001b[0mself\u001b[0m\u001b[0;34m.\u001b[0m\u001b[0m_check_closed\u001b[0m\u001b[0;34m(\u001b[0m\u001b[0;34m)\u001b[0m\u001b[0;34m\u001b[0m\u001b[0;34m\u001b[0m\u001b[0m\n\u001b[1;32m    205\u001b[0m         \u001b[0mself\u001b[0m\u001b[0;34m.\u001b[0m\u001b[0m_check_writable\u001b[0m\u001b[0;34m(\u001b[0m\u001b[0;34m)\u001b[0m\u001b[0;34m\u001b[0m\u001b[0;34m\u001b[0m\u001b[0m\n\u001b[0;32m--> 206\u001b[0;31m         \u001b[0mself\u001b[0m\u001b[0;34m.\u001b[0m\u001b[0m_send_bytes\u001b[0m\u001b[0;34m(\u001b[0m\u001b[0m_ForkingPickler\u001b[0m\u001b[0;34m.\u001b[0m\u001b[0mdumps\u001b[0m\u001b[0;34m(\u001b[0m\u001b[0mobj\u001b[0m\u001b[0;34m)\u001b[0m\u001b[0;34m)\u001b[0m\u001b[0;34m\u001b[0m\u001b[0;34m\u001b[0m\u001b[0m\n\u001b[0m\u001b[1;32m    207\u001b[0m \u001b[0;34m\u001b[0m\u001b[0m\n\u001b[1;32m    208\u001b[0m     \u001b[0;32mdef\u001b[0m \u001b[0mrecv_bytes\u001b[0m\u001b[0;34m(\u001b[0m\u001b[0mself\u001b[0m\u001b[0;34m,\u001b[0m \u001b[0mmaxlength\u001b[0m\u001b[0;34m=\u001b[0m\u001b[0;32mNone\u001b[0m\u001b[0;34m)\u001b[0m\u001b[0;34m:\u001b[0m\u001b[0;34m\u001b[0m\u001b[0;34m\u001b[0m\u001b[0m\n",
            "\u001b[0;32m/usr/lib/python3.7/multiprocessing/reduction.py\u001b[0m in \u001b[0;36mdumps\u001b[0;34m(cls, obj, protocol)\u001b[0m\n\u001b[1;32m     49\u001b[0m     \u001b[0;32mdef\u001b[0m \u001b[0mdumps\u001b[0m\u001b[0;34m(\u001b[0m\u001b[0mcls\u001b[0m\u001b[0;34m,\u001b[0m \u001b[0mobj\u001b[0m\u001b[0;34m,\u001b[0m \u001b[0mprotocol\u001b[0m\u001b[0;34m=\u001b[0m\u001b[0;32mNone\u001b[0m\u001b[0;34m)\u001b[0m\u001b[0;34m:\u001b[0m\u001b[0;34m\u001b[0m\u001b[0;34m\u001b[0m\u001b[0m\n\u001b[1;32m     50\u001b[0m         \u001b[0mbuf\u001b[0m \u001b[0;34m=\u001b[0m \u001b[0mio\u001b[0m\u001b[0;34m.\u001b[0m\u001b[0mBytesIO\u001b[0m\u001b[0;34m(\u001b[0m\u001b[0;34m)\u001b[0m\u001b[0;34m\u001b[0m\u001b[0;34m\u001b[0m\u001b[0m\n\u001b[0;32m---> 51\u001b[0;31m         \u001b[0mcls\u001b[0m\u001b[0;34m(\u001b[0m\u001b[0mbuf\u001b[0m\u001b[0;34m,\u001b[0m \u001b[0mprotocol\u001b[0m\u001b[0;34m)\u001b[0m\u001b[0;34m.\u001b[0m\u001b[0mdump\u001b[0m\u001b[0;34m(\u001b[0m\u001b[0mobj\u001b[0m\u001b[0;34m)\u001b[0m\u001b[0;34m\u001b[0m\u001b[0;34m\u001b[0m\u001b[0m\n\u001b[0m\u001b[1;32m     52\u001b[0m         \u001b[0;32mreturn\u001b[0m \u001b[0mbuf\u001b[0m\u001b[0;34m.\u001b[0m\u001b[0mgetbuffer\u001b[0m\u001b[0;34m(\u001b[0m\u001b[0;34m)\u001b[0m\u001b[0;34m\u001b[0m\u001b[0;34m\u001b[0m\u001b[0m\n\u001b[1;32m     53\u001b[0m \u001b[0;34m\u001b[0m\u001b[0m\n",
            "\u001b[0;31mKeyboardInterrupt\u001b[0m: "
          ]
        }
      ],
      "source": [
        "model_vgg = train_model(model_vgg, criterion, optimizer_ft, exp_lr_scheduler,\n",
        "                       num_epochs=10)"
      ]
    },
    {
      "cell_type": "code",
      "execution_count": null,
      "metadata": {
        "id": "CgXfehFewDVR"
      },
      "outputs": [],
      "source": [
        "visualize_model(model_vgg)"
      ]
    },
    {
      "cell_type": "markdown",
      "metadata": {
        "id": "wbsWaC26wMc7"
      },
      "source": [
        "# DenseNet"
      ]
    },
    {
      "cell_type": "code",
      "execution_count": null,
      "metadata": {
        "colab": {
          "base_uri": "https://localhost:8080/",
          "height": 66
        },
        "id": "OtekgIv9wcc4",
        "outputId": "418c70cc-8a3c-4b94-a14e-75b197369226"
      },
      "outputs": [
        {
          "name": "stderr",
          "output_type": "stream",
          "text": [
            "Downloading: \"https://download.pytorch.org/models/densenet121-a639ec97.pth\" to /root/.cache/torch/hub/checkpoints/densenet121-a639ec97.pth\n"
          ]
        },
        {
          "data": {
            "application/vnd.jupyter.widget-view+json": {
              "model_id": "c88a47ace59a4afdbb4130dbfe02dbc8",
              "version_major": 2,
              "version_minor": 0
            },
            "text/plain": [
              "  0%|          | 0.00/30.8M [00:00<?, ?B/s]"
            ]
          },
          "metadata": {},
          "output_type": "display_data"
        }
      ],
      "source": [
        "model_dn = models.densenet121(pretrained=True)\n",
        "model_dn.classifier = nn.Linear(1024,4)\n",
        "\n",
        "model_dn = model_dn.to(device)\n",
        "\n",
        "criterion = nn.CrossEntropyLoss()\n",
        "\n",
        "# Observe that all parameters are being optimized\n",
        "optimizer_ft = torch.optim.SGD(model_dn.parameters(), lr=0.001, momentum=0.9)\n",
        "\n",
        "# Decay LR by a factor of 0.1 every 7 epochs\n",
        "exp_lr_scheduler = torch.optim.lr_scheduler.StepLR(optimizer_ft, step_size=7, gamma=0.1)"
      ]
    },
    {
      "cell_type": "code",
      "execution_count": null,
      "metadata": {
        "colab": {
          "base_uri": "https://localhost:8080/"
        },
        "id": "Te_0tbv4w3fJ",
        "outputId": "a687511c-4a4c-43f3-e278-d2896dc09bb8"
      },
      "outputs": [
        {
          "name": "stdout",
          "output_type": "stream",
          "text": [
            "Epoch 0/9\n",
            "----------\n",
            "Train Loss: 0.7838 Acc: 0.6912\n",
            "Validation Loss: 1.2974 Acc: 0.6391\n",
            "\n",
            "Epoch 1/9\n",
            "----------\n",
            "Train Loss: 0.7038 Acc: 0.7145\n",
            "Validation Loss: 1.2434 Acc: 0.6765\n",
            "\n",
            "Epoch 2/9\n",
            "----------\n",
            "Train Loss: 0.6961 Acc: 0.7284\n",
            "Validation Loss: 1.4406 Acc: 0.5897\n",
            "\n",
            "Epoch 3/9\n",
            "----------\n",
            "Train Loss: 0.6576 Acc: 0.7353\n",
            "Validation Loss: 0.9907 Acc: 0.6233\n",
            "\n",
            "Epoch 4/9\n",
            "----------\n",
            "Train Loss: 0.6037 Acc: 0.7603\n",
            "Validation Loss: 1.0655 Acc: 0.6529\n",
            "\n",
            "Epoch 5/9\n",
            "----------\n",
            "Train Loss: 0.4642 Acc: 0.8170\n",
            "Validation Loss: 1.1357 Acc: 0.6647\n",
            "\n",
            "Epoch 6/9\n",
            "----------\n",
            "Train Loss: 0.4526 Acc: 0.8186\n",
            "Validation Loss: 0.9366 Acc: 0.7298\n",
            "\n",
            "Epoch 7/9\n",
            "----------\n",
            "Train Loss: 0.4569 Acc: 0.8256\n",
            "Validation Loss: 1.1064 Acc: 0.6805\n",
            "\n",
            "Epoch 8/9\n",
            "----------\n",
            "Train Loss: 0.4237 Acc: 0.8246\n",
            "Validation Loss: 0.9990 Acc: 0.7101\n",
            "\n",
            "Epoch 9/9\n",
            "----------\n",
            "Train Loss: 0.4314 Acc: 0.8281\n",
            "Validation Loss: 1.0000 Acc: 0.7022\n",
            "\n",
            "Training complete in 25m 18s\n",
            "Best val Acc: 0.729783\n"
          ]
        }
      ],
      "source": [
        "model_dn = train_model(model_dn, criterion, optimizer_ft, exp_lr_scheduler,\n",
        "                       num_epochs=10)"
      ]
    },
    {
      "cell_type": "code",
      "execution_count": null,
      "metadata": {
        "colab": {
          "base_uri": "https://localhost:8080/",
          "height": 581
        },
        "id": "WPqBKfqkw3w6",
        "outputId": "44734cf4-7fba-428c-ef62-30b26df80b0b"
      },
      "outputs": [
        {
          "data": {
            "image/png": "[encoded data removed]",
            "text/plain": [
              "<Figure size 432x288 with 1 Axes>"
            ]
          },
          "metadata": {},
          "output_type": "display_data"
        },
        {
          "data": {
            "image/png": "[encoded data removed]",
            "text/plain": [
              "<Figure size 432x288 with 1 Axes>"
            ]
          },
          "metadata": {},
          "output_type": "display_data"
        },
        {
          "data": {
            "image/png": "[encoded data removed]",
            "text/plain": [
              "<Figure size 432x288 with 1 Axes>"
            ]
          },
          "metadata": {},
          "output_type": "display_data"
        },
        {
          "data": {
            "image/png": "[encoded data removed]",
            "text/plain": [
              "<Figure size 432x288 with 1 Axes>"
            ]
          },
          "metadata": {},
          "output_type": "display_data"
        },
        {
          "data": {
            "image/png": "[encoded data removed]",
            "text/plain": [
              "<Figure size 432x288 with 1 Axes>"
            ]
          },
          "metadata": {},
          "output_type": "display_data"
        },
        {
          "data": {
            "image/png": "[encoded data removed]",
            "text/plain": [
              "<Figure size 432x288 with 1 Axes>"
            ]
          },
          "metadata": {},
          "output_type": "display_data"
        }
      ],
      "source": [
        "visualize_model(model_dn)"
      ]
    },
    {
      "cell_type": "code",
      "execution_count": null,
      "metadata": {
        "id": "08R-8DI-yxoI"
      },
      "outputs": [],
      "source": [
        "PATH = '/content/drive/MyDrive/project/Датасэт/Models/dn_model.pth'\n",
        "torch.save(model_dn.state_dict(),PATH)"
      ]
    },
    {
      "cell_type": "markdown",
      "metadata": {
        "id": "RpfQ8EHdizRZ"
      },
      "source": [
        "# efficientnet_b6"
      ]
    },
    {
      "cell_type": "code",
      "execution_count": 12,
      "metadata": {
        "id": "p6VYwsZtxMP5",
        "colab": {
          "base_uri": "https://localhost:8080/",
          "height": 66,
          "referenced_widgets": [
            "8d011a6868184f2d8a29e702ed1be849",
            "528137810df447b1ac5c879ecdd7e76f",
            "2cd1a109c2f44b73915d6a97a23f29b4",
            "cff1de733f404d29a41da13a935e6572",
            "109e8cf7945d4186a4bf5e34acab6f66",
            "ec649fdb835e42ea8cf1a4f29bf050eb",
            "e35ab161838d49eba0f22bdff73137a5",
            "06d8f3a9c1e54da69905b1d79bfac4c5",
            "8d8804f5ac5746d3b20af2e72c381942",
            "8d4d3ff882cd450e9307e661326f78bc",
            "8d3c6a2830864067b80aedc9107968fd"
          ]
        },
        "outputId": "a033bd61-d92f-4fac-e07e-d1926c864c64"
      },
      "outputs": [
        {
          "output_type": "stream",
          "name": "stderr",
          "text": [
            "Downloading: \"https://download.pytorch.org/models/efficientnet_b6_lukemelas-c76e70fd.pth\" to /root/.cache/torch/hub/checkpoints/efficientnet_b6_lukemelas-c76e70fd.pth\n"
          ]
        },
        {
          "output_type": "display_data",
          "data": {
            "text/plain": [
              "  0%|          | 0.00/165M [00:00<?, ?B/s]"
            ],
            "application/vnd.jupyter.widget-view+json": {
              "version_major": 2,
              "version_minor": 0,
              "model_id": "8d011a6868184f2d8a29e702ed1be849"
            }
          },
          "metadata": {}
        }
      ],
      "source": [
        "model_e = models.efficientnet_b6(pretrained = True)"
      ]
    },
    {
      "cell_type": "code",
      "execution_count": 13,
      "metadata": {
        "id": "7n28VHESmM2t"
      },
      "outputs": [],
      "source": [
        "model_e.classifier[1] = nn.Linear(2304,4)\n",
        "\n",
        "model_e = model_e.to(device)\n",
        "\n",
        "criterion = nn.CrossEntropyLoss()\n",
        "\n",
        "# Observe that all parameters are being optimized\n",
        "optimizer_ft = torch.optim.SGD(model_e.parameters(), lr=0.001, momentum=0.9)\n",
        "\n",
        "# Decay LR by a factor of 0.1 every 7 epochs\n",
        "exp_lr_scheduler = torch.optim.lr_scheduler.StepLR(optimizer_ft, step_size=7, gamma=0.1)"
      ]
    },
    {
      "cell_type": "code",
      "execution_count": null,
      "metadata": {
        "colab": {
          "background_save": true,
          "base_uri": "https://localhost:8080/"
        },
        "id": "8n-kixKJlSZl",
        "outputId": "ae003d43-5fd7-453d-9663-91a9560e6a4f"
      },
      "outputs": [
        {
          "output_type": "stream",
          "name": "stdout",
          "text": [
            "Epoch 0/9\n",
            "----------\n"
          ]
        }
      ],
      "source": [
        "model_e = train_model(model_e, criterion, optimizer_ft, exp_lr_scheduler,\n",
        "                       num_epochs=10)"
      ]
    },
    {
      "cell_type": "code",
      "execution_count": null,
      "metadata": {
        "id": "kr7aw6jgmaCj"
      },
      "outputs": [],
      "source": [
        "visualize_model(model_e)"
      ]
    },
    {
      "cell_type": "code",
      "execution_count": null,
      "metadata": {
        "id": "a5i5Yuos5Uae"
      },
      "outputs": [],
      "source": [
        ""
      ]
    }
  ],
  "metadata": {
    "accelerator": "GPU",
    "colab": {
      "collapsed_sections": [
        "ibCjyiqAoQsT",
        "baX6CqaLn7js",
        "EZhLyUPioHDK",
        "DvcJR9jECm5p",
        "mDWtaLmaCq1c",
        "bZmt8WZnwJh3",
        "wbsWaC26wMc7"
      ],
      "name": "course project.ipynb",
      "provenance": [],
      "mount_file_id": "17BlBbKlkEwvhAt-K7zgwcy9UPcLon0i1",
      "authorship_tag": "ABX9TyMgbePFhHxabrm7UiQ83GB0",
      "include_colab_link": true
    },
    "kernelspec": {
      "display_name": "Python 3",
      "name": "python3"
    },
    "language_info": {
      "name": "python"
    },
    "widgets": {
      "application/vnd.jupyter.widget-state+json": {
        "1e3d6a11cdf542758aa933e73f0913e0": {
          "model_module": "@jupyter-widgets/controls",
          "model_module_version": "1.5.0",
          "model_name": "ProgressStyleModel",
          "state": {
            "_model_module": "@jupyter-widgets/controls",
            "_model_module_version": "1.5.0",
            "_model_name": "ProgressStyleModel",
            "_view_count": null,
            "_view_module": "@jupyter-widgets/base",
            "_view_module_version": "1.2.0",
            "_view_name": "StyleView",
            "bar_color": null,
            "description_width": ""
          }
        },
        "2b5859c7997d43e0ac349f9393ffe25b": {
          "model_module": "@jupyter-widgets/base",
          "model_module_version": "1.2.0",
          "model_name": "LayoutModel",
          "state": {
            "_model_module": "@jupyter-widgets/base",
            "_model_module_version": "1.2.0",
            "_model_name": "LayoutModel",
            "_view_count": null,
            "_view_module": "@jupyter-widgets/base",
            "_view_module_version": "1.2.0",
            "_view_name": "LayoutView",
            "align_content": null,
            "align_items": null,
            "align_self": null,
            "border": null,
            "bottom": null,
            "display": null,
            "flex": null,
            "flex_flow": null,
            "grid_area": null,
            "grid_auto_columns": null,
            "grid_auto_flow": null,
            "grid_auto_rows": null,
            "grid_column": null,
            "grid_gap": null,
            "grid_row": null,
            "grid_template_areas": null,
            "grid_template_columns": null,
            "grid_template_rows": null,
            "height": null,
            "justify_content": null,
            "justify_items": null,
            "left": null,
            "margin": null,
            "max_height": null,
            "max_width": null,
            "min_height": null,
            "min_width": null,
            "object_fit": null,
            "object_position": null,
            "order": null,
            "overflow": null,
            "overflow_x": null,
            "overflow_y": null,
            "padding": null,
            "right": null,
            "top": null,
            "visibility": null,
            "width": null
          }
        },
        "6b325ca38c044fefb63b3ed9e0bf0170": {
          "model_module": "@jupyter-widgets/controls",
          "model_module_version": "1.5.0",
          "model_name": "DescriptionStyleModel",
          "state": {
            "_model_module": "@jupyter-widgets/controls",
            "_model_module_version": "1.5.0",
            "_model_name": "DescriptionStyleModel",
            "_view_count": null,
            "_view_module": "@jupyter-widgets/base",
            "_view_module_version": "1.2.0",
            "_view_name": "StyleView",
            "description_width": ""
          }
        },
        "6e9a27cd2c00429f9095981e8eb9aa1d": {
          "model_module": "@jupyter-widgets/base",
          "model_module_version": "1.2.0",
          "model_name": "LayoutModel",
          "state": {
            "_model_module": "@jupyter-widgets/base",
            "_model_module_version": "1.2.0",
            "_model_name": "LayoutModel",
            "_view_count": null,
            "_view_module": "@jupyter-widgets/base",
            "_view_module_version": "1.2.0",
            "_view_name": "LayoutView",
            "align_content": null,
            "align_items": null,
            "align_self": null,
            "border": null,
            "bottom": null,
            "display": null,
            "flex": null,
            "flex_flow": null,
            "grid_area": null,
            "grid_auto_columns": null,
            "grid_auto_flow": null,
            "grid_auto_rows": null,
            "grid_column": null,
            "grid_gap": null,
            "grid_row": null,
            "grid_template_areas": null,
            "grid_template_columns": null,
            "grid_template_rows": null,
            "height": null,
            "justify_content": null,
            "justify_items": null,
            "left": null,
            "margin": null,
            "max_height": null,
            "max_width": null,
            "min_height": null,
            "min_width": null,
            "object_fit": null,
            "object_position": null,
            "order": null,
            "overflow": null,
            "overflow_x": null,
            "overflow_y": null,
            "padding": null,
            "right": null,
            "top": null,
            "visibility": null,
            "width": null
          }
        },
        "a5e9e1cd143240889cbf5b3365b99756": {
          "model_module": "@jupyter-widgets/controls",
          "model_module_version": "1.5.0",
          "model_name": "DescriptionStyleModel",
          "state": {
            "_model_module": "@jupyter-widgets/controls",
            "_model_module_version": "1.5.0",
            "_model_name": "DescriptionStyleModel",
            "_view_count": null,
            "_view_module": "@jupyter-widgets/base",
            "_view_module_version": "1.2.0",
            "_view_name": "StyleView",
            "description_width": ""
          }
        },
        "b1aa7fb52eec4908bd7347a8faa5b8ca": {
          "model_module": "@jupyter-widgets/controls",
          "model_module_version": "1.5.0",
          "model_name": "HTMLModel",
          "state": {
            "_dom_classes": [],
            "_model_module": "@jupyter-widgets/controls",
            "_model_module_version": "1.5.0",
            "_model_name": "HTMLModel",
            "_view_count": null,
            "_view_module": "@jupyter-widgets/controls",
            "_view_module_version": "1.5.0",
            "_view_name": "HTMLView",
            "description": "",
            "description_tooltip": null,
            "layout": "IPY_MODEL_6e9a27cd2c00429f9095981e8eb9aa1d",
            "placeholder": "​",
            "style": "IPY_MODEL_a5e9e1cd143240889cbf5b3365b99756",
            "value": " 507M/507M [00:03&lt;00:00, 140MB/s]"
          }
        },
        "c057363f1a984964bf01871a5a339e5c": {
          "model_module": "@jupyter-widgets/base",
          "model_module_version": "1.2.0",
          "model_name": "LayoutModel",
          "state": {
            "_model_module": "@jupyter-widgets/base",
            "_model_module_version": "1.2.0",
            "_model_name": "LayoutModel",
            "_view_count": null,
            "_view_module": "@jupyter-widgets/base",
            "_view_module_version": "1.2.0",
            "_view_name": "LayoutView",
            "align_content": null,
            "align_items": null,
            "align_self": null,
            "border": null,
            "bottom": null,
            "display": null,
            "flex": null,
            "flex_flow": null,
            "grid_area": null,
            "grid_auto_columns": null,
            "grid_auto_flow": null,
            "grid_auto_rows": null,
            "grid_column": null,
            "grid_gap": null,
            "grid_row": null,
            "grid_template_areas": null,
            "grid_template_columns": null,
            "grid_template_rows": null,
            "height": null,
            "justify_content": null,
            "justify_items": null,
            "left": null,
            "margin": null,
            "max_height": null,
            "max_width": null,
            "min_height": null,
            "min_width": null,
            "object_fit": null,
            "object_position": null,
            "order": null,
            "overflow": null,
            "overflow_x": null,
            "overflow_y": null,
            "padding": null,
            "right": null,
            "top": null,
            "visibility": null,
            "width": null
          }
        },
        "db8a5ae67da34ef2a35aeabf1b0fc235": {
          "model_module": "@jupyter-widgets/controls",
          "model_module_version": "1.5.0",
          "model_name": "FloatProgressModel",
          "state": {
            "_dom_classes": [],
            "_model_module": "@jupyter-widgets/controls",
            "_model_module_version": "1.5.0",
            "_model_name": "FloatProgressModel",
            "_view_count": null,
            "_view_module": "@jupyter-widgets/controls",
            "_view_module_version": "1.5.0",
            "_view_name": "ProgressView",
            "bar_style": "success",
            "description": "",
            "description_tooltip": null,
            "layout": "IPY_MODEL_2b5859c7997d43e0ac349f9393ffe25b",
            "max": 531460341,
            "min": 0,
            "orientation": "horizontal",
            "style": "IPY_MODEL_1e3d6a11cdf542758aa933e73f0913e0",
            "value": 531460341
          }
        },
        "df154ce1c6a24adc8995e3c66bb46b41": {
          "model_module": "@jupyter-widgets/controls",
          "model_module_version": "1.5.0",
          "model_name": "HBoxModel",
          "state": {
            "_dom_classes": [],
            "_model_module": "@jupyter-widgets/controls",
            "_model_module_version": "1.5.0",
            "_model_name": "HBoxModel",
            "_view_count": null,
            "_view_module": "@jupyter-widgets/controls",
            "_view_module_version": "1.5.0",
            "_view_name": "HBoxView",
            "box_style": "",
            "children": [
              "IPY_MODEL_fee887dd0bab46ddaac129b9efa82ec2",
              "IPY_MODEL_db8a5ae67da34ef2a35aeabf1b0fc235",
              "IPY_MODEL_b1aa7fb52eec4908bd7347a8faa5b8ca"
            ],
            "layout": "IPY_MODEL_c057363f1a984964bf01871a5a339e5c"
          }
        },
        "f01c2589172444b3916f9ca59c9a5de0": {
          "model_module": "@jupyter-widgets/base",
          "model_module_version": "1.2.0",
          "model_name": "LayoutModel",
          "state": {
            "_model_module": "@jupyter-widgets/base",
            "_model_module_version": "1.2.0",
            "_model_name": "LayoutModel",
            "_view_count": null,
            "_view_module": "@jupyter-widgets/base",
            "_view_module_version": "1.2.0",
            "_view_name": "LayoutView",
            "align_content": null,
            "align_items": null,
            "align_self": null,
            "border": null,
            "bottom": null,
            "display": null,
            "flex": null,
            "flex_flow": null,
            "grid_area": null,
            "grid_auto_columns": null,
            "grid_auto_flow": null,
            "grid_auto_rows": null,
            "grid_column": null,
            "grid_gap": null,
            "grid_row": null,
            "grid_template_areas": null,
            "grid_template_columns": null,
            "grid_template_rows": null,
            "height": null,
            "justify_content": null,
            "justify_items": null,
            "left": null,
            "margin": null,
            "max_height": null,
            "max_width": null,
            "min_height": null,
            "min_width": null,
            "object_fit": null,
            "object_position": null,
            "order": null,
            "overflow": null,
            "overflow_x": null,
            "overflow_y": null,
            "padding": null,
            "right": null,
            "top": null,
            "visibility": null,
            "width": null
          }
        },
        "fee887dd0bab46ddaac129b9efa82ec2": {
          "model_module": "@jupyter-widgets/controls",
          "model_module_version": "1.5.0",
          "model_name": "HTMLModel",
          "state": {
            "_dom_classes": [],
            "_model_module": "@jupyter-widgets/controls",
            "_model_module_version": "1.5.0",
            "_model_name": "HTMLModel",
            "_view_count": null,
            "_view_module": "@jupyter-widgets/controls",
            "_view_module_version": "1.5.0",
            "_view_name": "HTMLView",
            "description": "",
            "description_tooltip": null,
            "layout": "IPY_MODEL_f01c2589172444b3916f9ca59c9a5de0",
            "placeholder": "​",
            "style": "IPY_MODEL_6b325ca38c044fefb63b3ed9e0bf0170",
            "value": "100%"
          }
        },
        "8d011a6868184f2d8a29e702ed1be849": {
          "model_module": "@jupyter-widgets/controls",
          "model_name": "HBoxModel",
          "model_module_version": "1.5.0",
          "state": {
            "_dom_classes": [],
            "_model_module": "@jupyter-widgets/controls",
            "_model_module_version": "1.5.0",
            "_model_name": "HBoxModel",
            "_view_count": null,
            "_view_module": "@jupyter-widgets/controls",
            "_view_module_version": "1.5.0",
            "_view_name": "HBoxView",
            "box_style": "",
            "children": [
              "IPY_MODEL_528137810df447b1ac5c879ecdd7e76f",
              "IPY_MODEL_2cd1a109c2f44b73915d6a97a23f29b4",
              "IPY_MODEL_cff1de733f404d29a41da13a935e6572"
            ],
            "layout": "IPY_MODEL_109e8cf7945d4186a4bf5e34acab6f66"
          }
        },
        "528137810df447b1ac5c879ecdd7e76f": {
          "model_module": "@jupyter-widgets/controls",
          "model_name": "HTMLModel",
          "model_module_version": "1.5.0",
          "state": {
            "_dom_classes": [],
            "_model_module": "@jupyter-widgets/controls",
            "_model_module_version": "1.5.0",
            "_model_name": "HTMLModel",
            "_view_count": null,
            "_view_module": "@jupyter-widgets/controls",
            "_view_module_version": "1.5.0",
            "_view_name": "HTMLView",
            "description": "",
            "description_tooltip": null,
            "layout": "IPY_MODEL_ec649fdb835e42ea8cf1a4f29bf050eb",
            "placeholder": "​",
            "style": "IPY_MODEL_e35ab161838d49eba0f22bdff73137a5",
            "value": "100%"
          }
        },
        "2cd1a109c2f44b73915d6a97a23f29b4": {
          "model_module": "@jupyter-widgets/controls",
          "model_name": "FloatProgressModel",
          "model_module_version": "1.5.0",
          "state": {
            "_dom_classes": [],
            "_model_module": "@jupyter-widgets/controls",
            "_model_module_version": "1.5.0",
            "_model_name": "FloatProgressModel",
            "_view_count": null,
            "_view_module": "@jupyter-widgets/controls",
            "_view_module_version": "1.5.0",
            "_view_name": "ProgressView",
            "bar_style": "success",
            "description": "",
            "description_tooltip": null,
            "layout": "IPY_MODEL_06d8f3a9c1e54da69905b1d79bfac4c5",
            "max": 173394125,
            "min": 0,
            "orientation": "horizontal",
            "style": "IPY_MODEL_8d8804f5ac5746d3b20af2e72c381942",
            "value": 173394125
          }
        },
        "cff1de733f404d29a41da13a935e6572": {
          "model_module": "@jupyter-widgets/controls",
          "model_name": "HTMLModel",
          "model_module_version": "1.5.0",
          "state": {
            "_dom_classes": [],
            "_model_module": "@jupyter-widgets/controls",
            "_model_module_version": "1.5.0",
            "_model_name": "HTMLModel",
            "_view_count": null,
            "_view_module": "@jupyter-widgets/controls",
            "_view_module_version": "1.5.0",
            "_view_name": "HTMLView",
            "description": "",
            "description_tooltip": null,
            "layout": "IPY_MODEL_8d4d3ff882cd450e9307e661326f78bc",
            "placeholder": "​",
            "style": "IPY_MODEL_8d3c6a2830864067b80aedc9107968fd",
            "value": " 165M/165M [00:04&lt;00:00, 35.5MB/s]"
          }
        },
        "109e8cf7945d4186a4bf5e34acab6f66": {
          "model_module": "@jupyter-widgets/base",
          "model_name": "LayoutModel",
          "model_module_version": "1.2.0",
          "state": {
            "_model_module": "@jupyter-widgets/base",
            "_model_module_version": "1.2.0",
            "_model_name": "LayoutModel",
            "_view_count": null,
            "_view_module": "@jupyter-widgets/base",
            "_view_module_version": "1.2.0",
            "_view_name": "LayoutView",
            "align_content": null,
            "align_items": null,
            "align_self": null,
            "border": null,
            "bottom": null,
            "display": null,
            "flex": null,
            "flex_flow": null,
            "grid_area": null,
            "grid_auto_columns": null,
            "grid_auto_flow": null,
            "grid_auto_rows": null,
            "grid_column": null,
            "grid_gap": null,
            "grid_row": null,
            "grid_template_areas": null,
            "grid_template_columns": null,
            "grid_template_rows": null,
            "height": null,
            "justify_content": null,
            "justify_items": null,
            "left": null,
            "margin": null,
            "max_height": null,
            "max_width": null,
            "min_height": null,
            "min_width": null,
            "object_fit": null,
            "object_position": null,
            "order": null,
            "overflow": null,
            "overflow_x": null,
            "overflow_y": null,
            "padding": null,
            "right": null,
            "top": null,
            "visibility": null,
            "width": null
          }
        },
        "ec649fdb835e42ea8cf1a4f29bf050eb": {
          "model_module": "@jupyter-widgets/base",
          "model_name": "LayoutModel",
          "model_module_version": "1.2.0",
          "state": {
            "_model_module": "@jupyter-widgets/base",
            "_model_module_version": "1.2.0",
            "_model_name": "LayoutModel",
            "_view_count": null,
            "_view_module": "@jupyter-widgets/base",
            "_view_module_version": "1.2.0",
            "_view_name": "LayoutView",
            "align_content": null,
            "align_items": null,
            "align_self": null,
            "border": null,
            "bottom": null,
            "display": null,
            "flex": null,
            "flex_flow": null,
            "grid_area": null,
            "grid_auto_columns": null,
            "grid_auto_flow": null,
            "grid_auto_rows": null,
            "grid_column": null,
            "grid_gap": null,
            "grid_row": null,
            "grid_template_areas": null,
            "grid_template_columns": null,
            "grid_template_rows": null,
            "height": null,
            "justify_content": null,
            "justify_items": null,
            "left": null,
            "margin": null,
            "max_height": null,
            "max_width": null,
            "min_height": null,
            "min_width": null,
            "object_fit": null,
            "object_position": null,
            "order": null,
            "overflow": null,
            "overflow_x": null,
            "overflow_y": null,
            "padding": null,
            "right": null,
            "top": null,
            "visibility": null,
            "width": null
          }
        },
        "e35ab161838d49eba0f22bdff73137a5": {
          "model_module": "@jupyter-widgets/controls",
          "model_name": "DescriptionStyleModel",
          "model_module_version": "1.5.0",
          "state": {
            "_model_module": "@jupyter-widgets/controls",
            "_model_module_version": "1.5.0",
            "_model_name": "DescriptionStyleModel",
            "_view_count": null,
            "_view_module": "@jupyter-widgets/base",
            "_view_module_version": "1.2.0",
            "_view_name": "StyleView",
            "description_width": ""
          }
        },
        "06d8f3a9c1e54da69905b1d79bfac4c5": {
          "model_module": "@jupyter-widgets/base",
          "model_name": "LayoutModel",
          "model_module_version": "1.2.0",
          "state": {
            "_model_module": "@jupyter-widgets/base",
            "_model_module_version": "1.2.0",
            "_model_name": "LayoutModel",
            "_view_count": null,
            "_view_module": "@jupyter-widgets/base",
            "_view_module_version": "1.2.0",
            "_view_name": "LayoutView",
            "align_content": null,
            "align_items": null,
            "align_self": null,
            "border": null,
            "bottom": null,
            "display": null,
            "flex": null,
            "flex_flow": null,
            "grid_area": null,
            "grid_auto_columns": null,
            "grid_auto_flow": null,
            "grid_auto_rows": null,
            "grid_column": null,
            "grid_gap": null,
            "grid_row": null,
            "grid_template_areas": null,
            "grid_template_columns": null,
            "grid_template_rows": null,
            "height": null,
            "justify_content": null,
            "justify_items": null,
            "left": null,
            "margin": null,
            "max_height": null,
            "max_width": null,
            "min_height": null,
            "min_width": null,
            "object_fit": null,
            "object_position": null,
            "order": null,
            "overflow": null,
            "overflow_x": null,
            "overflow_y": null,
            "padding": null,
            "right": null,
            "top": null,
            "visibility": null,
            "width": null
          }
        },
        "8d8804f5ac5746d3b20af2e72c381942": {
          "model_module": "@jupyter-widgets/controls",
          "model_name": "ProgressStyleModel",
          "model_module_version": "1.5.0",
          "state": {
            "_model_module": "@jupyter-widgets/controls",
            "_model_module_version": "1.5.0",
            "_model_name": "ProgressStyleModel",
            "_view_count": null,
            "_view_module": "@jupyter-widgets/base",
            "_view_module_version": "1.2.0",
            "_view_name": "StyleView",
            "bar_color": null,
            "description_width": ""
          }
        },
        "8d4d3ff882cd450e9307e661326f78bc": {
          "model_module": "@jupyter-widgets/base",
          "model_name": "LayoutModel",
          "model_module_version": "1.2.0",
          "state": {
            "_model_module": "@jupyter-widgets/base",
            "_model_module_version": "1.2.0",
            "_model_name": "LayoutModel",
            "_view_count": null,
            "_view_module": "@jupyter-widgets/base",
            "_view_module_version": "1.2.0",
            "_view_name": "LayoutView",
            "align_content": null,
            "align_items": null,
            "align_self": null,
            "border": null,
            "bottom": null,
            "display": null,
            "flex": null,
            "flex_flow": null,
            "grid_area": null,
            "grid_auto_columns": null,
            "grid_auto_flow": null,
            "grid_auto_rows": null,
            "grid_column": null,
            "grid_gap": null,
            "grid_row": null,
            "grid_template_areas": null,
            "grid_template_columns": null,
            "grid_template_rows": null,
            "height": null,
            "justify_content": null,
            "justify_items": null,
            "left": null,
            "margin": null,
            "max_height": null,
            "max_width": null,
            "min_height": null,
            "min_width": null,
            "object_fit": null,
            "object_position": null,
            "order": null,
            "overflow": null,
            "overflow_x": null,
            "overflow_y": null,
            "padding": null,
            "right": null,
            "top": null,
            "visibility": null,
            "width": null
          }
        },
        "8d3c6a2830864067b80aedc9107968fd": {
          "model_module": "@jupyter-widgets/controls",
          "model_name": "DescriptionStyleModel",
          "model_module_version": "1.5.0",
          "state": {
            "_model_module": "@jupyter-widgets/controls",
            "_model_module_version": "1.5.0",
            "_model_name": "DescriptionStyleModel",
            "_view_count": null,
            "_view_module": "@jupyter-widgets/base",
            "_view_module_version": "1.2.0",
            "_view_name": "StyleView",
            "description_width": ""
          }
        }
      }
    }
  },
  "nbformat": 4,
  "nbformat_minor": 0
}
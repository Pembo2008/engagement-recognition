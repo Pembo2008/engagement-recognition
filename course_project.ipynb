{
  "nbformat": 4,
  "nbformat_minor": 0,
  "metadata": {
    "colab": {
      "name": "course project.ipynb",
      "provenance": [],
      "collapsed_sections": [],
      "mount_file_id": "17BlBbKlkEwvhAt-K7zgwcy9UPcLon0i1",
      "authorship_tag": "ABX9TyMn8Dq6gNorcuqGhlce2tK6",
      "include_colab_link": true
    },
    "kernelspec": {
      "name": "python3",
      "display_name": "Python 3"
    },
    "language_info": {
      "name": "python"
    },
    "accelerator": "GPU",
    "widgets": {
      "application/vnd.jupyter.widget-state+json": {
        "5be72b6053ac43b3841f16b68400a96f": {
          "model_module": "@jupyter-widgets/controls",
          "model_name": "HBoxModel",
          "model_module_version": "1.5.0",
          "state": {
            "_dom_classes": [],
            "_model_module": "@jupyter-widgets/controls",
            "_model_module_version": "1.5.0",
            "_model_name": "HBoxModel",
            "_view_count": null,
            "_view_module": "@jupyter-widgets/controls",
            "_view_module_version": "1.5.0",
            "_view_name": "HBoxView",
            "box_style": "",
            "children": [
              "IPY_MODEL_516d24ca1cfb4ff0a2f3a8ea79e6b96f",
              "IPY_MODEL_b900ba94ff324ebbb0e1084ccd6f3da0",
              "IPY_MODEL_e0abeb5b658744de9fe68570a901283b"
            ],
            "layout": "IPY_MODEL_523abacfd59f402b9226080374ee3644"
          }
        },
        "516d24ca1cfb4ff0a2f3a8ea79e6b96f": {
          "model_module": "@jupyter-widgets/controls",
          "model_name": "HTMLModel",
          "model_module_version": "1.5.0",
          "state": {
            "_dom_classes": [],
            "_model_module": "@jupyter-widgets/controls",
            "_model_module_version": "1.5.0",
            "_model_name": "HTMLModel",
            "_view_count": null,
            "_view_module": "@jupyter-widgets/controls",
            "_view_module_version": "1.5.0",
            "_view_name": "HTMLView",
            "description": "",
            "description_tooltip": null,
            "layout": "IPY_MODEL_91719fdffdce4b409a33a2e5d7e4c75e",
            "placeholder": "​",
            "style": "IPY_MODEL_71e1fbb96d3748ee81c59540c83d8bfe",
            "value": "100%"
          }
        },
        "b900ba94ff324ebbb0e1084ccd6f3da0": {
          "model_module": "@jupyter-widgets/controls",
          "model_name": "FloatProgressModel",
          "model_module_version": "1.5.0",
          "state": {
            "_dom_classes": [],
            "_model_module": "@jupyter-widgets/controls",
            "_model_module_version": "1.5.0",
            "_model_name": "FloatProgressModel",
            "_view_count": null,
            "_view_module": "@jupyter-widgets/controls",
            "_view_module_version": "1.5.0",
            "_view_name": "ProgressView",
            "bar_style": "success",
            "description": "",
            "description_tooltip": null,
            "layout": "IPY_MODEL_a3063b3e55aa4f74bc6846018678a7de",
            "max": 20,
            "min": 0,
            "orientation": "horizontal",
            "style": "IPY_MODEL_4370fa1172fd432da1c264b0aab3deac",
            "value": 20
          }
        },
        "e0abeb5b658744de9fe68570a901283b": {
          "model_module": "@jupyter-widgets/controls",
          "model_name": "HTMLModel",
          "model_module_version": "1.5.0",
          "state": {
            "_dom_classes": [],
            "_model_module": "@jupyter-widgets/controls",
            "_model_module_version": "1.5.0",
            "_model_name": "HTMLModel",
            "_view_count": null,
            "_view_module": "@jupyter-widgets/controls",
            "_view_module_version": "1.5.0",
            "_view_name": "HTMLView",
            "description": "",
            "description_tooltip": null,
            "layout": "IPY_MODEL_776b4f0571a24fbab0b508c667cd8d28",
            "placeholder": "​",
            "style": "IPY_MODEL_b0e196e7fcc54fec8cfc388db208c25d",
            "value": " 20/20 [03:31&lt;00:00, 15.54s/it]"
          }
        },
        "523abacfd59f402b9226080374ee3644": {
          "model_module": "@jupyter-widgets/base",
          "model_name": "LayoutModel",
          "model_module_version": "1.2.0",
          "state": {
            "_model_module": "@jupyter-widgets/base",
            "_model_module_version": "1.2.0",
            "_model_name": "LayoutModel",
            "_view_count": null,
            "_view_module": "@jupyter-widgets/base",
            "_view_module_version": "1.2.0",
            "_view_name": "LayoutView",
            "align_content": null,
            "align_items": null,
            "align_self": null,
            "border": null,
            "bottom": null,
            "display": null,
            "flex": null,
            "flex_flow": null,
            "grid_area": null,
            "grid_auto_columns": null,
            "grid_auto_flow": null,
            "grid_auto_rows": null,
            "grid_column": null,
            "grid_gap": null,
            "grid_row": null,
            "grid_template_areas": null,
            "grid_template_columns": null,
            "grid_template_rows": null,
            "height": null,
            "justify_content": null,
            "justify_items": null,
            "left": null,
            "margin": null,
            "max_height": null,
            "max_width": null,
            "min_height": null,
            "min_width": null,
            "object_fit": null,
            "object_position": null,
            "order": null,
            "overflow": null,
            "overflow_x": null,
            "overflow_y": null,
            "padding": null,
            "right": null,
            "top": null,
            "visibility": null,
            "width": null
          }
        },
        "91719fdffdce4b409a33a2e5d7e4c75e": {
          "model_module": "@jupyter-widgets/base",
          "model_name": "LayoutModel",
          "model_module_version": "1.2.0",
          "state": {
            "_model_module": "@jupyter-widgets/base",
            "_model_module_version": "1.2.0",
            "_model_name": "LayoutModel",
            "_view_count": null,
            "_view_module": "@jupyter-widgets/base",
            "_view_module_version": "1.2.0",
            "_view_name": "LayoutView",
            "align_content": null,
            "align_items": null,
            "align_self": null,
            "border": null,
            "bottom": null,
            "display": null,
            "flex": null,
            "flex_flow": null,
            "grid_area": null,
            "grid_auto_columns": null,
            "grid_auto_flow": null,
            "grid_auto_rows": null,
            "grid_column": null,
            "grid_gap": null,
            "grid_row": null,
            "grid_template_areas": null,
            "grid_template_columns": null,
            "grid_template_rows": null,
            "height": null,
            "justify_content": null,
            "justify_items": null,
            "left": null,
            "margin": null,
            "max_height": null,
            "max_width": null,
            "min_height": null,
            "min_width": null,
            "object_fit": null,
            "object_position": null,
            "order": null,
            "overflow": null,
            "overflow_x": null,
            "overflow_y": null,
            "padding": null,
            "right": null,
            "top": null,
            "visibility": null,
            "width": null
          }
        },
        "71e1fbb96d3748ee81c59540c83d8bfe": {
          "model_module": "@jupyter-widgets/controls",
          "model_name": "DescriptionStyleModel",
          "model_module_version": "1.5.0",
          "state": {
            "_model_module": "@jupyter-widgets/controls",
            "_model_module_version": "1.5.0",
            "_model_name": "DescriptionStyleModel",
            "_view_count": null,
            "_view_module": "@jupyter-widgets/base",
            "_view_module_version": "1.2.0",
            "_view_name": "StyleView",
            "description_width": ""
          }
        },
        "a3063b3e55aa4f74bc6846018678a7de": {
          "model_module": "@jupyter-widgets/base",
          "model_name": "LayoutModel",
          "model_module_version": "1.2.0",
          "state": {
            "_model_module": "@jupyter-widgets/base",
            "_model_module_version": "1.2.0",
            "_model_name": "LayoutModel",
            "_view_count": null,
            "_view_module": "@jupyter-widgets/base",
            "_view_module_version": "1.2.0",
            "_view_name": "LayoutView",
            "align_content": null,
            "align_items": null,
            "align_self": null,
            "border": null,
            "bottom": null,
            "display": null,
            "flex": null,
            "flex_flow": null,
            "grid_area": null,
            "grid_auto_columns": null,
            "grid_auto_flow": null,
            "grid_auto_rows": null,
            "grid_column": null,
            "grid_gap": null,
            "grid_row": null,
            "grid_template_areas": null,
            "grid_template_columns": null,
            "grid_template_rows": null,
            "height": null,
            "justify_content": null,
            "justify_items": null,
            "left": null,
            "margin": null,
            "max_height": null,
            "max_width": null,
            "min_height": null,
            "min_width": null,
            "object_fit": null,
            "object_position": null,
            "order": null,
            "overflow": null,
            "overflow_x": null,
            "overflow_y": null,
            "padding": null,
            "right": null,
            "top": null,
            "visibility": null,
            "width": null
          }
        },
        "4370fa1172fd432da1c264b0aab3deac": {
          "model_module": "@jupyter-widgets/controls",
          "model_name": "ProgressStyleModel",
          "model_module_version": "1.5.0",
          "state": {
            "_model_module": "@jupyter-widgets/controls",
            "_model_module_version": "1.5.0",
            "_model_name": "ProgressStyleModel",
            "_view_count": null,
            "_view_module": "@jupyter-widgets/base",
            "_view_module_version": "1.2.0",
            "_view_name": "StyleView",
            "bar_color": null,
            "description_width": ""
          }
        },
        "776b4f0571a24fbab0b508c667cd8d28": {
          "model_module": "@jupyter-widgets/base",
          "model_name": "LayoutModel",
          "model_module_version": "1.2.0",
          "state": {
            "_model_module": "@jupyter-widgets/base",
            "_model_module_version": "1.2.0",
            "_model_name": "LayoutModel",
            "_view_count": null,
            "_view_module": "@jupyter-widgets/base",
            "_view_module_version": "1.2.0",
            "_view_name": "LayoutView",
            "align_content": null,
            "align_items": null,
            "align_self": null,
            "border": null,
            "bottom": null,
            "display": null,
            "flex": null,
            "flex_flow": null,
            "grid_area": null,
            "grid_auto_columns": null,
            "grid_auto_flow": null,
            "grid_auto_rows": null,
            "grid_column": null,
            "grid_gap": null,
            "grid_row": null,
            "grid_template_areas": null,
            "grid_template_columns": null,
            "grid_template_rows": null,
            "height": null,
            "justify_content": null,
            "justify_items": null,
            "left": null,
            "margin": null,
            "max_height": null,
            "max_width": null,
            "min_height": null,
            "min_width": null,
            "object_fit": null,
            "object_position": null,
            "order": null,
            "overflow": null,
            "overflow_x": null,
            "overflow_y": null,
            "padding": null,
            "right": null,
            "top": null,
            "visibility": null,
            "width": null
          }
        },
        "b0e196e7fcc54fec8cfc388db208c25d": {
          "model_module": "@jupyter-widgets/controls",
          "model_name": "DescriptionStyleModel",
          "model_module_version": "1.5.0",
          "state": {
            "_model_module": "@jupyter-widgets/controls",
            "_model_module_version": "1.5.0",
            "_model_name": "DescriptionStyleModel",
            "_view_count": null,
            "_view_module": "@jupyter-widgets/base",
            "_view_module_version": "1.2.0",
            "_view_name": "StyleView",
            "description_width": ""
          }
        },
        "fc8e7afb9f9c4ab7be8c88d6800a91e3": {
          "model_module": "@jupyter-widgets/controls",
          "model_name": "HBoxModel",
          "model_module_version": "1.5.0",
          "state": {
            "_dom_classes": [],
            "_model_module": "@jupyter-widgets/controls",
            "_model_module_version": "1.5.0",
            "_model_name": "HBoxModel",
            "_view_count": null,
            "_view_module": "@jupyter-widgets/controls",
            "_view_module_version": "1.5.0",
            "_view_name": "HBoxView",
            "box_style": "",
            "children": [
              "IPY_MODEL_e86bc71fc4eb4aac9fe0d474faa5a185",
              "IPY_MODEL_dc40b0d0b4684091b6fbfcaf86726bb6",
              "IPY_MODEL_56fa177bfc2f41bcbe715e00e5012353"
            ],
            "layout": "IPY_MODEL_5295df00f3f645128b56af103beaa3f8"
          }
        },
        "e86bc71fc4eb4aac9fe0d474faa5a185": {
          "model_module": "@jupyter-widgets/controls",
          "model_name": "HTMLModel",
          "model_module_version": "1.5.0",
          "state": {
            "_dom_classes": [],
            "_model_module": "@jupyter-widgets/controls",
            "_model_module_version": "1.5.0",
            "_model_name": "HTMLModel",
            "_view_count": null,
            "_view_module": "@jupyter-widgets/controls",
            "_view_module_version": "1.5.0",
            "_view_name": "HTMLView",
            "description": "",
            "description_tooltip": null,
            "layout": "IPY_MODEL_04e02294b4fc4c668cff3ce292a3fee6",
            "placeholder": "​",
            "style": "IPY_MODEL_1362b9624239454f9a79242b1486cfd2",
            "value": "100%"
          }
        },
        "dc40b0d0b4684091b6fbfcaf86726bb6": {
          "model_module": "@jupyter-widgets/controls",
          "model_name": "FloatProgressModel",
          "model_module_version": "1.5.0",
          "state": {
            "_dom_classes": [],
            "_model_module": "@jupyter-widgets/controls",
            "_model_module_version": "1.5.0",
            "_model_name": "FloatProgressModel",
            "_view_count": null,
            "_view_module": "@jupyter-widgets/controls",
            "_view_module_version": "1.5.0",
            "_view_name": "ProgressView",
            "bar_style": "success",
            "description": "",
            "description_tooltip": null,
            "layout": "IPY_MODEL_f339d462e7504b09b35128a2fe88929f",
            "max": 20,
            "min": 0,
            "orientation": "horizontal",
            "style": "IPY_MODEL_d703a83acdf942a18f94a69fb59321d1",
            "value": 20
          }
        },
        "56fa177bfc2f41bcbe715e00e5012353": {
          "model_module": "@jupyter-widgets/controls",
          "model_name": "HTMLModel",
          "model_module_version": "1.5.0",
          "state": {
            "_dom_classes": [],
            "_model_module": "@jupyter-widgets/controls",
            "_model_module_version": "1.5.0",
            "_model_name": "HTMLModel",
            "_view_count": null,
            "_view_module": "@jupyter-widgets/controls",
            "_view_module_version": "1.5.0",
            "_view_name": "HTMLView",
            "description": "",
            "description_tooltip": null,
            "layout": "IPY_MODEL_9ae81d6490684667812d5e8eba507493",
            "placeholder": "​",
            "style": "IPY_MODEL_1d17f4fbe1ed409595ea80671b16cb95",
            "value": " 20/20 [03:50&lt;00:00, 12.21s/it]"
          }
        },
        "5295df00f3f645128b56af103beaa3f8": {
          "model_module": "@jupyter-widgets/base",
          "model_name": "LayoutModel",
          "model_module_version": "1.2.0",
          "state": {
            "_model_module": "@jupyter-widgets/base",
            "_model_module_version": "1.2.0",
            "_model_name": "LayoutModel",
            "_view_count": null,
            "_view_module": "@jupyter-widgets/base",
            "_view_module_version": "1.2.0",
            "_view_name": "LayoutView",
            "align_content": null,
            "align_items": null,
            "align_self": null,
            "border": null,
            "bottom": null,
            "display": null,
            "flex": null,
            "flex_flow": null,
            "grid_area": null,
            "grid_auto_columns": null,
            "grid_auto_flow": null,
            "grid_auto_rows": null,
            "grid_column": null,
            "grid_gap": null,
            "grid_row": null,
            "grid_template_areas": null,
            "grid_template_columns": null,
            "grid_template_rows": null,
            "height": null,
            "justify_content": null,
            "justify_items": null,
            "left": null,
            "margin": null,
            "max_height": null,
            "max_width": null,
            "min_height": null,
            "min_width": null,
            "object_fit": null,
            "object_position": null,
            "order": null,
            "overflow": null,
            "overflow_x": null,
            "overflow_y": null,
            "padding": null,
            "right": null,
            "top": null,
            "visibility": null,
            "width": null
          }
        },
        "04e02294b4fc4c668cff3ce292a3fee6": {
          "model_module": "@jupyter-widgets/base",
          "model_name": "LayoutModel",
          "model_module_version": "1.2.0",
          "state": {
            "_model_module": "@jupyter-widgets/base",
            "_model_module_version": "1.2.0",
            "_model_name": "LayoutModel",
            "_view_count": null,
            "_view_module": "@jupyter-widgets/base",
            "_view_module_version": "1.2.0",
            "_view_name": "LayoutView",
            "align_content": null,
            "align_items": null,
            "align_self": null,
            "border": null,
            "bottom": null,
            "display": null,
            "flex": null,
            "flex_flow": null,
            "grid_area": null,
            "grid_auto_columns": null,
            "grid_auto_flow": null,
            "grid_auto_rows": null,
            "grid_column": null,
            "grid_gap": null,
            "grid_row": null,
            "grid_template_areas": null,
            "grid_template_columns": null,
            "grid_template_rows": null,
            "height": null,
            "justify_content": null,
            "justify_items": null,
            "left": null,
            "margin": null,
            "max_height": null,
            "max_width": null,
            "min_height": null,
            "min_width": null,
            "object_fit": null,
            "object_position": null,
            "order": null,
            "overflow": null,
            "overflow_x": null,
            "overflow_y": null,
            "padding": null,
            "right": null,
            "top": null,
            "visibility": null,
            "width": null
          }
        },
        "1362b9624239454f9a79242b1486cfd2": {
          "model_module": "@jupyter-widgets/controls",
          "model_name": "DescriptionStyleModel",
          "model_module_version": "1.5.0",
          "state": {
            "_model_module": "@jupyter-widgets/controls",
            "_model_module_version": "1.5.0",
            "_model_name": "DescriptionStyleModel",
            "_view_count": null,
            "_view_module": "@jupyter-widgets/base",
            "_view_module_version": "1.2.0",
            "_view_name": "StyleView",
            "description_width": ""
          }
        },
        "f339d462e7504b09b35128a2fe88929f": {
          "model_module": "@jupyter-widgets/base",
          "model_name": "LayoutModel",
          "model_module_version": "1.2.0",
          "state": {
            "_model_module": "@jupyter-widgets/base",
            "_model_module_version": "1.2.0",
            "_model_name": "LayoutModel",
            "_view_count": null,
            "_view_module": "@jupyter-widgets/base",
            "_view_module_version": "1.2.0",
            "_view_name": "LayoutView",
            "align_content": null,
            "align_items": null,
            "align_self": null,
            "border": null,
            "bottom": null,
            "display": null,
            "flex": null,
            "flex_flow": null,
            "grid_area": null,
            "grid_auto_columns": null,
            "grid_auto_flow": null,
            "grid_auto_rows": null,
            "grid_column": null,
            "grid_gap": null,
            "grid_row": null,
            "grid_template_areas": null,
            "grid_template_columns": null,
            "grid_template_rows": null,
            "height": null,
            "justify_content": null,
            "justify_items": null,
            "left": null,
            "margin": null,
            "max_height": null,
            "max_width": null,
            "min_height": null,
            "min_width": null,
            "object_fit": null,
            "object_position": null,
            "order": null,
            "overflow": null,
            "overflow_x": null,
            "overflow_y": null,
            "padding": null,
            "right": null,
            "top": null,
            "visibility": null,
            "width": null
          }
        },
        "d703a83acdf942a18f94a69fb59321d1": {
          "model_module": "@jupyter-widgets/controls",
          "model_name": "ProgressStyleModel",
          "model_module_version": "1.5.0",
          "state": {
            "_model_module": "@jupyter-widgets/controls",
            "_model_module_version": "1.5.0",
            "_model_name": "ProgressStyleModel",
            "_view_count": null,
            "_view_module": "@jupyter-widgets/base",
            "_view_module_version": "1.2.0",
            "_view_name": "StyleView",
            "bar_color": null,
            "description_width": ""
          }
        },
        "9ae81d6490684667812d5e8eba507493": {
          "model_module": "@jupyter-widgets/base",
          "model_name": "LayoutModel",
          "model_module_version": "1.2.0",
          "state": {
            "_model_module": "@jupyter-widgets/base",
            "_model_module_version": "1.2.0",
            "_model_name": "LayoutModel",
            "_view_count": null,
            "_view_module": "@jupyter-widgets/base",
            "_view_module_version": "1.2.0",
            "_view_name": "LayoutView",
            "align_content": null,
            "align_items": null,
            "align_self": null,
            "border": null,
            "bottom": null,
            "display": null,
            "flex": null,
            "flex_flow": null,
            "grid_area": null,
            "grid_auto_columns": null,
            "grid_auto_flow": null,
            "grid_auto_rows": null,
            "grid_column": null,
            "grid_gap": null,
            "grid_row": null,
            "grid_template_areas": null,
            "grid_template_columns": null,
            "grid_template_rows": null,
            "height": null,
            "justify_content": null,
            "justify_items": null,
            "left": null,
            "margin": null,
            "max_height": null,
            "max_width": null,
            "min_height": null,
            "min_width": null,
            "object_fit": null,
            "object_position": null,
            "order": null,
            "overflow": null,
            "overflow_x": null,
            "overflow_y": null,
            "padding": null,
            "right": null,
            "top": null,
            "visibility": null,
            "width": null
          }
        },
        "1d17f4fbe1ed409595ea80671b16cb95": {
          "model_module": "@jupyter-widgets/controls",
          "model_name": "DescriptionStyleModel",
          "model_module_version": "1.5.0",
          "state": {
            "_model_module": "@jupyter-widgets/controls",
            "_model_module_version": "1.5.0",
            "_model_name": "DescriptionStyleModel",
            "_view_count": null,
            "_view_module": "@jupyter-widgets/base",
            "_view_module_version": "1.2.0",
            "_view_name": "StyleView",
            "description_width": ""
          }
        },
        "36c7362f61e1483bb8b2f39ea35ff5af": {
          "model_module": "@jupyter-widgets/controls",
          "model_name": "HBoxModel",
          "model_module_version": "1.5.0",
          "state": {
            "_dom_classes": [],
            "_model_module": "@jupyter-widgets/controls",
            "_model_module_version": "1.5.0",
            "_model_name": "HBoxModel",
            "_view_count": null,
            "_view_module": "@jupyter-widgets/controls",
            "_view_module_version": "1.5.0",
            "_view_name": "HBoxView",
            "box_style": "",
            "children": [
              "IPY_MODEL_e951d5998cc046e4a241d8864e1daa18",
              "IPY_MODEL_12dc276d496740cebe69a38327c8750b",
              "IPY_MODEL_cb0145509c894dffabe705599de5a09c"
            ],
            "layout": "IPY_MODEL_13ed7f5b51884d14b9c7d327a43acf68"
          }
        },
        "e951d5998cc046e4a241d8864e1daa18": {
          "model_module": "@jupyter-widgets/controls",
          "model_name": "HTMLModel",
          "model_module_version": "1.5.0",
          "state": {
            "_dom_classes": [],
            "_model_module": "@jupyter-widgets/controls",
            "_model_module_version": "1.5.0",
            "_model_name": "HTMLModel",
            "_view_count": null,
            "_view_module": "@jupyter-widgets/controls",
            "_view_module_version": "1.5.0",
            "_view_name": "HTMLView",
            "description": "",
            "description_tooltip": null,
            "layout": "IPY_MODEL_34dc19a36bab4dbf904575e5fa51ac9f",
            "placeholder": "​",
            "style": "IPY_MODEL_f689cba89d3249d4a624ba633654bcfb",
            "value": "100%"
          }
        },
        "12dc276d496740cebe69a38327c8750b": {
          "model_module": "@jupyter-widgets/controls",
          "model_name": "FloatProgressModel",
          "model_module_version": "1.5.0",
          "state": {
            "_dom_classes": [],
            "_model_module": "@jupyter-widgets/controls",
            "_model_module_version": "1.5.0",
            "_model_name": "FloatProgressModel",
            "_view_count": null,
            "_view_module": "@jupyter-widgets/controls",
            "_view_module_version": "1.5.0",
            "_view_name": "ProgressView",
            "bar_style": "success",
            "description": "",
            "description_tooltip": null,
            "layout": "IPY_MODEL_46216884148942abb9f256e056497174",
            "max": 18,
            "min": 0,
            "orientation": "horizontal",
            "style": "IPY_MODEL_e5b90f27ee314d339787703ae63d24fc",
            "value": 18
          }
        },
        "cb0145509c894dffabe705599de5a09c": {
          "model_module": "@jupyter-widgets/controls",
          "model_name": "HTMLModel",
          "model_module_version": "1.5.0",
          "state": {
            "_dom_classes": [],
            "_model_module": "@jupyter-widgets/controls",
            "_model_module_version": "1.5.0",
            "_model_name": "HTMLModel",
            "_view_count": null,
            "_view_module": "@jupyter-widgets/controls",
            "_view_module_version": "1.5.0",
            "_view_name": "HTMLView",
            "description": "",
            "description_tooltip": null,
            "layout": "IPY_MODEL_c37a7e61542a477295ec27f5d959c7bc",
            "placeholder": "​",
            "style": "IPY_MODEL_766d29b1f80e408da6e04b7d6a4c5921",
            "value": " 18/18 [02:13&lt;00:00,  5.70s/it]"
          }
        },
        "13ed7f5b51884d14b9c7d327a43acf68": {
          "model_module": "@jupyter-widgets/base",
          "model_name": "LayoutModel",
          "model_module_version": "1.2.0",
          "state": {
            "_model_module": "@jupyter-widgets/base",
            "_model_module_version": "1.2.0",
            "_model_name": "LayoutModel",
            "_view_count": null,
            "_view_module": "@jupyter-widgets/base",
            "_view_module_version": "1.2.0",
            "_view_name": "LayoutView",
            "align_content": null,
            "align_items": null,
            "align_self": null,
            "border": null,
            "bottom": null,
            "display": null,
            "flex": null,
            "flex_flow": null,
            "grid_area": null,
            "grid_auto_columns": null,
            "grid_auto_flow": null,
            "grid_auto_rows": null,
            "grid_column": null,
            "grid_gap": null,
            "grid_row": null,
            "grid_template_areas": null,
            "grid_template_columns": null,
            "grid_template_rows": null,
            "height": null,
            "justify_content": null,
            "justify_items": null,
            "left": null,
            "margin": null,
            "max_height": null,
            "max_width": null,
            "min_height": null,
            "min_width": null,
            "object_fit": null,
            "object_position": null,
            "order": null,
            "overflow": null,
            "overflow_x": null,
            "overflow_y": null,
            "padding": null,
            "right": null,
            "top": null,
            "visibility": null,
            "width": null
          }
        },
        "34dc19a36bab4dbf904575e5fa51ac9f": {
          "model_module": "@jupyter-widgets/base",
          "model_name": "LayoutModel",
          "model_module_version": "1.2.0",
          "state": {
            "_model_module": "@jupyter-widgets/base",
            "_model_module_version": "1.2.0",
            "_model_name": "LayoutModel",
            "_view_count": null,
            "_view_module": "@jupyter-widgets/base",
            "_view_module_version": "1.2.0",
            "_view_name": "LayoutView",
            "align_content": null,
            "align_items": null,
            "align_self": null,
            "border": null,
            "bottom": null,
            "display": null,
            "flex": null,
            "flex_flow": null,
            "grid_area": null,
            "grid_auto_columns": null,
            "grid_auto_flow": null,
            "grid_auto_rows": null,
            "grid_column": null,
            "grid_gap": null,
            "grid_row": null,
            "grid_template_areas": null,
            "grid_template_columns": null,
            "grid_template_rows": null,
            "height": null,
            "justify_content": null,
            "justify_items": null,
            "left": null,
            "margin": null,
            "max_height": null,
            "max_width": null,
            "min_height": null,
            "min_width": null,
            "object_fit": null,
            "object_position": null,
            "order": null,
            "overflow": null,
            "overflow_x": null,
            "overflow_y": null,
            "padding": null,
            "right": null,
            "top": null,
            "visibility": null,
            "width": null
          }
        },
        "f689cba89d3249d4a624ba633654bcfb": {
          "model_module": "@jupyter-widgets/controls",
          "model_name": "DescriptionStyleModel",
          "model_module_version": "1.5.0",
          "state": {
            "_model_module": "@jupyter-widgets/controls",
            "_model_module_version": "1.5.0",
            "_model_name": "DescriptionStyleModel",
            "_view_count": null,
            "_view_module": "@jupyter-widgets/base",
            "_view_module_version": "1.2.0",
            "_view_name": "StyleView",
            "description_width": ""
          }
        },
        "46216884148942abb9f256e056497174": {
          "model_module": "@jupyter-widgets/base",
          "model_name": "LayoutModel",
          "model_module_version": "1.2.0",
          "state": {
            "_model_module": "@jupyter-widgets/base",
            "_model_module_version": "1.2.0",
            "_model_name": "LayoutModel",
            "_view_count": null,
            "_view_module": "@jupyter-widgets/base",
            "_view_module_version": "1.2.0",
            "_view_name": "LayoutView",
            "align_content": null,
            "align_items": null,
            "align_self": null,
            "border": null,
            "bottom": null,
            "display": null,
            "flex": null,
            "flex_flow": null,
            "grid_area": null,
            "grid_auto_columns": null,
            "grid_auto_flow": null,
            "grid_auto_rows": null,
            "grid_column": null,
            "grid_gap": null,
            "grid_row": null,
            "grid_template_areas": null,
            "grid_template_columns": null,
            "grid_template_rows": null,
            "height": null,
            "justify_content": null,
            "justify_items": null,
            "left": null,
            "margin": null,
            "max_height": null,
            "max_width": null,
            "min_height": null,
            "min_width": null,
            "object_fit": null,
            "object_position": null,
            "order": null,
            "overflow": null,
            "overflow_x": null,
            "overflow_y": null,
            "padding": null,
            "right": null,
            "top": null,
            "visibility": null,
            "width": null
          }
        },
        "e5b90f27ee314d339787703ae63d24fc": {
          "model_module": "@jupyter-widgets/controls",
          "model_name": "ProgressStyleModel",
          "model_module_version": "1.5.0",
          "state": {
            "_model_module": "@jupyter-widgets/controls",
            "_model_module_version": "1.5.0",
            "_model_name": "ProgressStyleModel",
            "_view_count": null,
            "_view_module": "@jupyter-widgets/base",
            "_view_module_version": "1.2.0",
            "_view_name": "StyleView",
            "bar_color": null,
            "description_width": ""
          }
        },
        "c37a7e61542a477295ec27f5d959c7bc": {
          "model_module": "@jupyter-widgets/base",
          "model_name": "LayoutModel",
          "model_module_version": "1.2.0",
          "state": {
            "_model_module": "@jupyter-widgets/base",
            "_model_module_version": "1.2.0",
            "_model_name": "LayoutModel",
            "_view_count": null,
            "_view_module": "@jupyter-widgets/base",
            "_view_module_version": "1.2.0",
            "_view_name": "LayoutView",
            "align_content": null,
            "align_items": null,
            "align_self": null,
            "border": null,
            "bottom": null,
            "display": null,
            "flex": null,
            "flex_flow": null,
            "grid_area": null,
            "grid_auto_columns": null,
            "grid_auto_flow": null,
            "grid_auto_rows": null,
            "grid_column": null,
            "grid_gap": null,
            "grid_row": null,
            "grid_template_areas": null,
            "grid_template_columns": null,
            "grid_template_rows": null,
            "height": null,
            "justify_content": null,
            "justify_items": null,
            "left": null,
            "margin": null,
            "max_height": null,
            "max_width": null,
            "min_height": null,
            "min_width": null,
            "object_fit": null,
            "object_position": null,
            "order": null,
            "overflow": null,
            "overflow_x": null,
            "overflow_y": null,
            "padding": null,
            "right": null,
            "top": null,
            "visibility": null,
            "width": null
          }
        },
        "766d29b1f80e408da6e04b7d6a4c5921": {
          "model_module": "@jupyter-widgets/controls",
          "model_name": "DescriptionStyleModel",
          "model_module_version": "1.5.0",
          "state": {
            "_model_module": "@jupyter-widgets/controls",
            "_model_module_version": "1.5.0",
            "_model_name": "DescriptionStyleModel",
            "_view_count": null,
            "_view_module": "@jupyter-widgets/base",
            "_view_module_version": "1.2.0",
            "_view_name": "StyleView",
            "description_width": ""
          }
        }
      }
    }
  },
  "cells": [
    {
      "cell_type": "markdown",
      "metadata": {
        "id": "view-in-github",
        "colab_type": "text"
      },
      "source": [
        "<a href=\"https://colab.research.google.com/github/Pembo2008/engagement-recognition/blob/main/course_project.ipynb\" target=\"_parent\"><img src=\"https://colab.research.google.com/assets/colab-badge.svg\" alt=\"Open In Colab\"/></a>"
      ]
    },
    {
      "cell_type": "code",
      "source": [
        "import os\n",
        "from PIL import Image\n",
        "import cv2\n",
        "from sklearn.model_selection import train_test_split\n",
        "from sklearn import preprocessing\n",
        "from sklearn import svm\n",
        "from sklearn.ensemble import RandomForestClassifier,RandomForestRegressor\n",
        "from sklearn import svm,metrics,preprocessing\n",
        "from sklearn.neighbors import KNeighborsClassifier\n",
        "from sklearn.decomposition import PCA\n",
        "from sklearn.pipeline import Pipeline\n",
        "from collections import defaultdict\n",
        "import os\n",
        "import random\n",
        "import numpy as np\n",
        "from tqdm import tqdm\n",
        "import time\n",
        "import pickle\n",
        "import pandas as pd\n",
        "import matplotlib.pyplot as plt\n",
        "import pathlib\n",
        "import tensorflow as tf\n",
        "import torch\n",
        "from tensorflow.keras.applications.resnet import preprocess_input\n",
        "from tensorflow.keras.layers import TimeDistributed, GRU, Dense, Dropout, Flatten, LSTM, Activation, MaxPooling2D\n",
        "from tensorflow.keras.regularizers import l2 as L2_reg\n",
        "from tensorflow.keras.layers import Conv2D, BatchNormalization,MaxPool2D, GlobalMaxPool2D, Input, Masking, Conv3D, MaxPooling3D, GlobalMaxPool3D\n",
        "from tensorflow.keras.optimizers import SGD, Adam\n",
        "from tensorflow.compat.v1.keras.backend import set_session\n",
        "import glob\n",
        "from itertools import chain\n",
        "import os\n",
        "import random\n",
        "import zipfile\n",
        "\n",
        "import matplotlib.pyplot as plt\n",
        "import numpy as np\n",
        "import pandas as pd\n",
        "import torch\n",
        "import torch.nn as nn\n",
        "import torch.nn.functional as F\n",
        "import torch.optim as optim\n",
        "from PIL import Image\n",
        "from sklearn.model_selection import train_test_split\n",
        "from torch.optim.lr_scheduler import StepLR\n",
        "from torch.utils.data import DataLoader, Dataset\n",
        "from torchvision import datasets, transforms\n",
        "from tqdm.notebook import tqdm \n",
        "config = tf.compat.v1.ConfigProto()\n",
        "config.gpu_options.allow_growth = True\n",
        "sess=tf.compat.v1.Session(config=config)\n",
        "set_session(sess)"
      ],
      "metadata": {
        "id": "D4jjksO7K5Dp"
      },
      "execution_count": 1,
      "outputs": []
    },
    {
      "cell_type": "code",
      "source": [
        "device = torch.device('cuda')\n",
        "device"
      ],
      "metadata": {
        "colab": {
          "base_uri": "https://localhost:8080/"
        },
        "id": "XEiiNoX2KYEI",
        "outputId": "dc51d085-1a82-4cd1-b183-71c1670eb427"
      },
      "execution_count": 2,
      "outputs": [
        {
          "output_type": "execute_result",
          "data": {
            "text/plain": [
              "device(type='cuda')"
            ]
          },
          "metadata": {},
          "execution_count": 2
        }
      ]
    },
    {
      "cell_type": "code",
      "source": [
        "DATA_DIR = '/content/drive/MyDrive/project/Датасэт'"
      ],
      "metadata": {
        "id": "tXeRjESPRcsm"
      },
      "execution_count": 3,
      "outputs": []
    },
    {
      "cell_type": "code",
      "source": [
        "# def process_dir(dirname):\n",
        "#     print(dirname)\n",
        "#     d=os.path.join(DATA_DIR,dirname)\n",
        "#     for filename in tqdm(os.listdir(d)):\n",
        "#         if filename.lower().endswith('ini'):\n",
        "#             continue\n",
        "#         if os.path.isdir(os.path.join(d,filename)):\n",
        "#             videofile=None\n",
        "#             for fn in os.listdir(os.path.join(d,filename)):\n",
        "#                 if fn.lower().endswith('ini'):\n",
        "#                     continue\n",
        "#                 videofile=fn\n",
        "#             if videofile is None:\n",
        "#                 print(filename)\n",
        "#                 continue\n",
        "#             filename=os.path.join(filename,videofile)\n",
        "#         fn, ext = os.path.splitext(os.path.basename(filename))\n",
        "#         outdir=os.path.join(d,fn)\n",
        "#         if not os.path.exists(outdir):\n",
        "#             os.makedirs(outdir)\n",
        "#         command = \"ffmpeg -i \"+os.path.join(d,filename) + \" -r 0.5 '\"+outdir+\"/%05d.png'\"\n",
        "#         print(command)\n",
        "#         os.system(command=command)\n",
        "\n",
        "# process_dir('Test')"
      ],
      "metadata": {
        "id": "Y8165deSXb8i",
        "colab": {
          "base_uri": "https://localhost:8080/"
        },
        "outputId": "f25d3c38-7aeb-4218-f952-25652fccf1cf"
      },
      "execution_count": null,
      "outputs": [
        {
          "output_type": "stream",
          "name": "stdout",
          "text": [
            "Test\n"
          ]
        },
        {
          "output_type": "stream",
          "name": "stderr",
          "text": [
            "\r  0%|          | 0/18 [00:00<?, ?it/s]"
          ]
        },
        {
          "output_type": "stream",
          "name": "stdout",
          "text": [
            "ffmpeg -i /content/drive/MyDrive/project/Датасэт/Test/3_4_2.mp4 -r 0.5 '/content/drive/MyDrive/project/Датасэт/Test/3_4_2/%05d.png'\n"
          ]
        },
        {
          "output_type": "stream",
          "name": "stderr",
          "text": [
            "\r  6%|▌         | 1/18 [00:15<04:21, 15.39s/it]"
          ]
        },
        {
          "output_type": "stream",
          "name": "stdout",
          "text": [
            "ffmpeg -i /content/drive/MyDrive/project/Датасэт/Test/1_4.mp4 -r 0.5 '/content/drive/MyDrive/project/Датасэт/Test/1_4/%05d.png'\n"
          ]
        },
        {
          "output_type": "stream",
          "name": "stderr",
          "text": [
            "\r 11%|█         | 2/18 [00:23<02:54, 10.91s/it]"
          ]
        },
        {
          "output_type": "stream",
          "name": "stdout",
          "text": [
            "ffmpeg -i /content/drive/MyDrive/project/Датасэт/Test/3_4_5.mp4 -r 0.5 '/content/drive/MyDrive/project/Датасэт/Test/3_4_5/%05d.png'\n"
          ]
        },
        {
          "output_type": "stream",
          "name": "stderr",
          "text": [
            "\r 17%|█▋        | 3/18 [00:53<04:55, 19.71s/it]"
          ]
        },
        {
          "output_type": "stream",
          "name": "stdout",
          "text": [
            "ffmpeg -i /content/drive/MyDrive/project/Датасэт/Test/3_4_6.mp4 -r 0.5 '/content/drive/MyDrive/project/Датасэт/Test/3_4_6/%05d.png'\n"
          ]
        },
        {
          "output_type": "stream",
          "name": "stderr",
          "text": [
            "\r 22%|██▏       | 4/18 [01:53<08:20, 35.78s/it]"
          ]
        },
        {
          "output_type": "stream",
          "name": "stdout",
          "text": [
            "ffmpeg -i /content/drive/MyDrive/project/Датасэт/Test/3_1.mp4 -r 0.5 '/content/drive/MyDrive/project/Датасэт/Test/3_1/%05d.png'\n"
          ]
        },
        {
          "output_type": "stream",
          "name": "stderr",
          "text": [
            "\r 28%|██▊       | 5/18 [02:09<06:10, 28.51s/it]"
          ]
        },
        {
          "output_type": "stream",
          "name": "stdout",
          "text": [
            "ffmpeg -i /content/drive/MyDrive/project/Датасэт/Test/0_1_1.mp4 -r 0.5 '/content/drive/MyDrive/project/Датасэт/Test/0_1_1/%05d.png'\n"
          ]
        },
        {
          "output_type": "stream",
          "name": "stderr",
          "text": [
            "\r 33%|███▎      | 6/18 [02:49<06:28, 32.37s/it]"
          ]
        },
        {
          "output_type": "stream",
          "name": "stdout",
          "text": [
            "ffmpeg -i /content/drive/MyDrive/project/Датасэт/Test/3_2.mp4 -r 0.5 '/content/drive/MyDrive/project/Датасэт/Test/3_2/%05d.png'\n"
          ]
        },
        {
          "output_type": "stream",
          "name": "stderr",
          "text": [
            "\r 39%|███▉      | 7/18 [03:02<04:46, 26.02s/it]"
          ]
        },
        {
          "output_type": "stream",
          "name": "stdout",
          "text": [
            "ffmpeg -i /content/drive/MyDrive/project/Датасэт/Test/1_2.mp4 -r 0.5 '/content/drive/MyDrive/project/Датасэт/Test/1_2/%05d.png'\n"
          ]
        },
        {
          "output_type": "stream",
          "name": "stderr",
          "text": [
            "\r 44%|████▍     | 8/18 [04:05<06:19, 37.91s/it]"
          ]
        },
        {
          "output_type": "stream",
          "name": "stdout",
          "text": [
            "ffmpeg -i /content/drive/MyDrive/project/Датасэт/Test/2_6_2.mp4 -r 0.5 '/content/drive/MyDrive/project/Датасэт/Test/2_6_2/%05d.png'\n"
          ]
        },
        {
          "output_type": "stream",
          "name": "stderr",
          "text": [
            "\r 50%|█████     | 9/18 [04:46<05:50, 38.99s/it]"
          ]
        },
        {
          "output_type": "stream",
          "name": "stdout",
          "text": [
            "ffmpeg -i /content/drive/MyDrive/project/Датасэт/Test/2_6_3.mp4 -r 0.5 '/content/drive/MyDrive/project/Датасэт/Test/2_6_3/%05d.png'\n"
          ]
        },
        {
          "output_type": "stream",
          "name": "stderr",
          "text": [
            "\r 56%|█████▌    | 10/18 [05:52<06:16, 47.11s/it]"
          ]
        },
        {
          "output_type": "stream",
          "name": "stdout",
          "text": [
            "ffmpeg -i /content/drive/MyDrive/project/Датасэт/Test/1_6_1.mp4 -r 0.5 '/content/drive/MyDrive/project/Датасэт/Test/1_6_1/%05d.png'\n"
          ]
        },
        {
          "output_type": "stream",
          "name": "stderr",
          "text": [
            "\r 61%|██████    | 11/18 [06:15<04:39, 39.94s/it]"
          ]
        },
        {
          "output_type": "stream",
          "name": "stdout",
          "text": [
            "ffmpeg -i /content/drive/MyDrive/project/Датасэт/Test/2_6_4.mp4 -r 0.5 '/content/drive/MyDrive/project/Датасэт/Test/2_6_4/%05d.png'\n"
          ]
        },
        {
          "output_type": "stream",
          "name": "stderr",
          "text": [
            "\r 67%|██████▋   | 12/18 [06:44<03:38, 36.34s/it]"
          ]
        },
        {
          "output_type": "stream",
          "name": "stdout",
          "text": [
            "ffmpeg -i /content/drive/MyDrive/project/Датасэт/Test/1_7.mp4 -r 0.5 '/content/drive/MyDrive/project/Датасэт/Test/1_7/%05d.png'\n"
          ]
        },
        {
          "output_type": "stream",
          "name": "stderr",
          "text": [
            "\r 72%|███████▏  | 13/18 [07:01<02:32, 30.54s/it]"
          ]
        },
        {
          "output_type": "stream",
          "name": "stdout",
          "text": [
            "ffmpeg -i /content/drive/MyDrive/project/Датасэт/Test/2_7.mp4 -r 0.5 '/content/drive/MyDrive/project/Датасэт/Test/2_7/%05d.png'\n"
          ]
        },
        {
          "output_type": "stream",
          "name": "stderr",
          "text": [
            "\r 78%|███████▊  | 14/18 [07:41<02:13, 33.35s/it]"
          ]
        },
        {
          "output_type": "stream",
          "name": "stdout",
          "text": [
            "ffmpeg -i /content/drive/MyDrive/project/Датасэт/Test/1_7_2.mp4 -r 0.5 '/content/drive/MyDrive/project/Датасэт/Test/1_7_2/%05d.png'\n"
          ]
        },
        {
          "output_type": "stream",
          "name": "stderr",
          "text": [
            "\r 83%|████████▎ | 15/18 [08:37<02:00, 40.25s/it]"
          ]
        },
        {
          "output_type": "stream",
          "name": "stdout",
          "text": [
            "ffmpeg -i /content/drive/MyDrive/project/Датасэт/Test/3_7.mp4 -r 0.5 '/content/drive/MyDrive/project/Датасэт/Test/3_7/%05d.png'\n"
          ]
        },
        {
          "output_type": "stream",
          "name": "stderr",
          "text": [
            "\r 89%|████████▉ | 16/18 [08:56<01:07, 33.97s/it]"
          ]
        },
        {
          "output_type": "stream",
          "name": "stdout",
          "text": [
            "ffmpeg -i /content/drive/MyDrive/project/Датасэт/Test/2_7_3.mp4 -r 0.5 '/content/drive/MyDrive/project/Датасэт/Test/2_7_3/%05d.png'\n"
          ]
        },
        {
          "output_type": "stream",
          "name": "stderr",
          "text": [
            "\r 94%|█████████▍| 17/18 [09:52<00:40, 40.67s/it]"
          ]
        },
        {
          "output_type": "stream",
          "name": "stdout",
          "text": [
            "ffmpeg -i /content/drive/MyDrive/project/Датасэт/Test/2_7_4.mp4 -r 0.5 '/content/drive/MyDrive/project/Датасэт/Test/2_7_4/%05d.png'\n"
          ]
        },
        {
          "output_type": "stream",
          "name": "stderr",
          "text": [
            "100%|██████████| 18/18 [10:45<00:00, 35.86s/it]\n"
          ]
        }
      ]
    },
    {
      "cell_type": "code",
      "source": [
        "# process_dir('Train')"
      ],
      "metadata": {
        "colab": {
          "base_uri": "https://localhost:8080/"
        },
        "id": "J8n7bbsyxy9A",
        "outputId": "6d98b875-0ee4-49b5-abe7-00b652c2d0a0"
      },
      "execution_count": null,
      "outputs": [
        {
          "output_type": "stream",
          "name": "stdout",
          "text": [
            "Train\n"
          ]
        },
        {
          "output_type": "stream",
          "name": "stderr",
          "text": [
            "\r  0%|          | 0/20 [00:00<?, ?it/s]"
          ]
        },
        {
          "output_type": "stream",
          "name": "stdout",
          "text": [
            "ffmpeg -i /content/drive/MyDrive/project/Датасэт/Train/1_3.mp4 -r 0.5 '/content/drive/MyDrive/project/Датасэт/Train/1_3/%05d.png'\n"
          ]
        },
        {
          "output_type": "stream",
          "name": "stderr",
          "text": [
            "\r  5%|▌         | 1/20 [00:11<03:46, 11.95s/it]"
          ]
        },
        {
          "output_type": "stream",
          "name": "stdout",
          "text": [
            "ffmpeg -i /content/drive/MyDrive/project/Датасэт/Train/0_5_1.mp4 -r 0.5 '/content/drive/MyDrive/project/Датасэт/Train/0_5_1/%05d.png'\n"
          ]
        },
        {
          "output_type": "stream",
          "name": "stderr",
          "text": [
            "\r 10%|█         | 2/20 [00:28<04:25, 14.73s/it]"
          ]
        },
        {
          "output_type": "stream",
          "name": "stdout",
          "text": [
            "ffmpeg -i /content/drive/MyDrive/project/Датасэт/Train/2_5.mp4 -r 0.5 '/content/drive/MyDrive/project/Датасэт/Train/2_5/%05d.png'\n"
          ]
        },
        {
          "output_type": "stream",
          "name": "stderr",
          "text": [
            "\r 15%|█▌        | 3/20 [00:45<04:24, 15.55s/it]"
          ]
        },
        {
          "output_type": "stream",
          "name": "stdout",
          "text": [
            "ffmpeg -i /content/drive/MyDrive/project/Датасэт/Train/2_1.mp4 -r 0.5 '/content/drive/MyDrive/project/Датасэт/Train/2_1/%05d.png'\n"
          ]
        },
        {
          "output_type": "stream",
          "name": "stderr",
          "text": [
            "\r 20%|██        | 4/20 [00:53<03:26, 12.90s/it]"
          ]
        },
        {
          "output_type": "stream",
          "name": "stdout",
          "text": [
            "ffmpeg -i /content/drive/MyDrive/project/Датасэт/Train/3_4_3.mp4 -r 0.5 '/content/drive/MyDrive/project/Датасэт/Train/3_4_3/%05d.png'\n"
          ]
        },
        {
          "output_type": "stream",
          "name": "stderr",
          "text": [
            "\r 25%|██▌       | 5/20 [01:12<03:44, 14.94s/it]"
          ]
        },
        {
          "output_type": "stream",
          "name": "stdout",
          "text": [
            "ffmpeg -i /content/drive/MyDrive/project/Датасэт/Train/3_2_1.mp4 -r 0.5 '/content/drive/MyDrive/project/Датасэт/Train/3_2_1/%05d.png'\n"
          ]
        },
        {
          "output_type": "stream",
          "name": "stderr",
          "text": [
            "\r 30%|███       | 6/20 [01:30<03:45, 16.10s/it]"
          ]
        },
        {
          "output_type": "stream",
          "name": "stdout",
          "text": [
            "ffmpeg -i /content/drive/MyDrive/project/Датасэт/Train/2_4_4.mp4 -r 0.5 '/content/drive/MyDrive/project/Датасэт/Train/2_4_4/%05d.png'\n"
          ]
        },
        {
          "output_type": "stream",
          "name": "stderr",
          "text": [
            "\r 35%|███▌      | 7/20 [02:01<04:32, 20.94s/it]"
          ]
        },
        {
          "output_type": "stream",
          "name": "stdout",
          "text": [
            "ffmpeg -i /content/drive/MyDrive/project/Датасэт/Train/3_4_4.mp4 -r 0.5 '/content/drive/MyDrive/project/Датасэт/Train/3_4_4/%05d.png'\n"
          ]
        },
        {
          "output_type": "stream",
          "name": "stderr",
          "text": [
            "\r 40%|████      | 8/20 [02:58<06:29, 32.44s/it]"
          ]
        },
        {
          "output_type": "stream",
          "name": "stdout",
          "text": [
            "ffmpeg -i /content/drive/MyDrive/project/Датасэт/Train/1_4_2.mp4 -r 0.5 '/content/drive/MyDrive/project/Датасэт/Train/1_4_2/%05d.png'\n"
          ]
        },
        {
          "output_type": "stream",
          "name": "stderr",
          "text": [
            "\r 45%|████▌     | 9/20 [03:54<07:15, 39.59s/it]"
          ]
        },
        {
          "output_type": "stream",
          "name": "stdout",
          "text": [
            "ffmpeg -i /content/drive/MyDrive/project/Датасэт/Train/0_5.mp4 -r 0.5 '/content/drive/MyDrive/project/Датасэт/Train/0_5/%05d.png'\n"
          ]
        },
        {
          "output_type": "stream",
          "name": "stderr",
          "text": [
            "\r 50%|█████     | 10/20 [04:16<05:41, 34.15s/it]"
          ]
        },
        {
          "output_type": "stream",
          "name": "stdout",
          "text": [
            "ffmpeg -i /content/drive/MyDrive/project/Датасэт/Train/1_5_2.mp4 -r 0.5 '/content/drive/MyDrive/project/Датасэт/Train/1_5_2/%05d.png'\n"
          ]
        },
        {
          "output_type": "stream",
          "name": "stderr",
          "text": [
            "\r 55%|█████▌    | 11/20 [04:42<04:46, 31.79s/it]"
          ]
        },
        {
          "output_type": "stream",
          "name": "stdout",
          "text": [
            "ffmpeg -i /content/drive/MyDrive/project/Датасэт/Train/2_4_3.mp4 -r 0.5 '/content/drive/MyDrive/project/Датасэт/Train/2_4_3/%05d.png'\n"
          ]
        },
        {
          "output_type": "stream",
          "name": "stderr",
          "text": [
            "\r 60%|██████    | 12/20 [05:41<05:19, 39.91s/it]"
          ]
        },
        {
          "output_type": "stream",
          "name": "stdout",
          "text": [
            "ffmpeg -i /content/drive/MyDrive/project/Датасэт/Train/1_1.mp4 -r 0.5 '/content/drive/MyDrive/project/Датасэт/Train/1_1/%05d.png'\n"
          ]
        },
        {
          "output_type": "stream",
          "name": "stderr",
          "text": [
            "\r 65%|██████▌   | 13/20 [05:52<03:39, 31.34s/it]"
          ]
        },
        {
          "output_type": "stream",
          "name": "stdout",
          "text": [
            "ffmpeg -i /content/drive/MyDrive/project/Датасэт/Train/0_1_3.mp4 -r 0.5 '/content/drive/MyDrive/project/Датасэт/Train/0_1_3/%05d.png'\n"
          ]
        },
        {
          "output_type": "stream",
          "name": "stderr",
          "text": [
            "\r 70%|███████   | 14/20 [06:13<02:48, 28.10s/it]"
          ]
        },
        {
          "output_type": "stream",
          "name": "stdout",
          "text": [
            "ffmpeg -i /content/drive/MyDrive/project/Датасэт/Train/1_6.mp4 -r 0.5 '/content/drive/MyDrive/project/Датасэт/Train/1_6/%05d.png'\n"
          ]
        },
        {
          "output_type": "stream",
          "name": "stderr",
          "text": [
            "\r 75%|███████▌  | 15/20 [06:49<02:33, 30.63s/it]"
          ]
        },
        {
          "output_type": "stream",
          "name": "stdout",
          "text": [
            "ffmpeg -i /content/drive/MyDrive/project/Датасэт/Train/2_8.mp4 -r 0.5 '/content/drive/MyDrive/project/Датасэт/Train/2_8/%05d.png'\n"
          ]
        },
        {
          "output_type": "stream",
          "name": "stderr",
          "text": [
            "\r 80%|████████  | 16/20 [07:26<02:09, 32.45s/it]"
          ]
        },
        {
          "output_type": "stream",
          "name": "stdout",
          "text": [
            "ffmpeg -i /content/drive/MyDrive/project/Датасэт/Train/2_4_2.mp4 -r 0.5 '/content/drive/MyDrive/project/Датасэт/Train/2_4_2/%05d.png'\n"
          ]
        },
        {
          "output_type": "stream",
          "name": "stderr",
          "text": [
            "\r 85%|████████▌ | 17/20 [08:00<01:38, 32.93s/it]"
          ]
        },
        {
          "output_type": "stream",
          "name": "stdout",
          "text": [
            "ffmpeg -i /content/drive/MyDrive/project/Датасэт/Train/1_5_1.mp4 -r 0.5 '/content/drive/MyDrive/project/Датасэт/Train/1_5_1/%05d.png'\n"
          ]
        },
        {
          "output_type": "stream",
          "name": "stderr",
          "text": [
            "\r 90%|█████████ | 18/20 [08:28<01:03, 31.52s/it]"
          ]
        },
        {
          "output_type": "stream",
          "name": "stdout",
          "text": [
            "ffmpeg -i /content/drive/MyDrive/project/Датасэт/Train/3_4_7.mp4 -r 0.5 '/content/drive/MyDrive/project/Датасэт/Train/3_4_7/%05d.png'\n"
          ]
        },
        {
          "output_type": "stream",
          "name": "stderr",
          "text": [
            "\r 95%|█████████▌| 19/20 [09:25<00:39, 39.09s/it]"
          ]
        },
        {
          "output_type": "stream",
          "name": "stdout",
          "text": [
            "ffmpeg -i /content/drive/MyDrive/project/Датасэт/Train/0_1.mp4 -r 0.5 '/content/drive/MyDrive/project/Датасэт/Train/0_1/%05d.png'\n"
          ]
        },
        {
          "output_type": "stream",
          "name": "stderr",
          "text": [
            "100%|██████████| 20/20 [09:47<00:00, 29.39s/it]\n"
          ]
        }
      ]
    },
    {
      "cell_type": "code",
      "source": [
        "# process_dir('Validation')"
      ],
      "metadata": {
        "colab": {
          "base_uri": "https://localhost:8080/"
        },
        "id": "wYIk_x-FxzM1",
        "outputId": "62b75d2d-124e-46f0-c189-81a62a815589"
      },
      "execution_count": null,
      "outputs": [
        {
          "output_type": "stream",
          "name": "stdout",
          "text": [
            "Validation\n"
          ]
        },
        {
          "output_type": "stream",
          "name": "stderr",
          "text": [
            "\r  0%|          | 0/20 [00:00<?, ?it/s]"
          ]
        },
        {
          "output_type": "stream",
          "name": "stdout",
          "text": [
            "ffmpeg -i /content/drive/MyDrive/project/Датасэт/Validation/3_4.mp4 -r 0.5 '/content/drive/MyDrive/project/Датасэт/Validation/3_4/%05d.png'\n"
          ]
        },
        {
          "output_type": "stream",
          "name": "stderr",
          "text": [
            "\r  5%|▌         | 1/20 [00:22<07:13, 22.79s/it]"
          ]
        },
        {
          "output_type": "stream",
          "name": "stdout",
          "text": [
            "ffmpeg -i /content/drive/MyDrive/project/Датасэт/Validation/2_4.mp4 -r 0.5 '/content/drive/MyDrive/project/Датасэт/Validation/2_4/%05d.png'\n"
          ]
        },
        {
          "output_type": "stream",
          "name": "stderr",
          "text": [
            "\r 10%|█         | 2/20 [00:33<04:45, 15.88s/it]"
          ]
        },
        {
          "output_type": "stream",
          "name": "stdout",
          "text": [
            "ffmpeg -i /content/drive/MyDrive/project/Датасэт/Validation/3_4_8.mp4 -r 0.5 '/content/drive/MyDrive/project/Датасэт/Validation/3_4_8/%05d.png'\n"
          ]
        },
        {
          "output_type": "stream",
          "name": "stderr",
          "text": [
            "\r 15%|█▌        | 3/20 [01:01<06:03, 21.36s/it]"
          ]
        },
        {
          "output_type": "stream",
          "name": "stdout",
          "text": [
            "ffmpeg -i /content/drive/MyDrive/project/Датасэт/Validation/3_1_1.mp4 -r 0.5 '/content/drive/MyDrive/project/Датасэт/Validation/3_1_1/%05d.png'\n"
          ]
        },
        {
          "output_type": "stream",
          "name": "stderr",
          "text": [
            "\r 20%|██        | 4/20 [01:11<04:29, 16.86s/it]"
          ]
        },
        {
          "output_type": "stream",
          "name": "stdout",
          "text": [
            "ffmpeg -i /content/drive/MyDrive/project/Датасэт/Validation/0_1_4.mp4 -r 0.5 '/content/drive/MyDrive/project/Датасэт/Validation/0_1_4/%05d.png'\n"
          ]
        },
        {
          "output_type": "stream",
          "name": "stderr",
          "text": [
            "\r 25%|██▌       | 5/20 [01:47<05:55, 23.71s/it]"
          ]
        },
        {
          "output_type": "stream",
          "name": "stdout",
          "text": [
            "ffmpeg -i /content/drive/MyDrive/project/Датасэт/Validation/1_2_1.mp4 -r 0.5 '/content/drive/MyDrive/project/Датасэт/Validation/1_2_1/%05d.png'\n"
          ]
        },
        {
          "output_type": "stream",
          "name": "stderr",
          "text": [
            "\r 30%|███       | 6/20 [02:29<06:59, 29.94s/it]"
          ]
        },
        {
          "output_type": "stream",
          "name": "stdout",
          "text": [
            "ffmpeg -i /content/drive/MyDrive/project/Датасэт/Validation/2_2_1.mp4 -r 0.5 '/content/drive/MyDrive/project/Датасэт/Validation/2_2_1/%05d.png'\n"
          ]
        },
        {
          "output_type": "stream",
          "name": "stderr",
          "text": [
            "\r 35%|███▌      | 7/20 [03:42<09:32, 44.01s/it]"
          ]
        },
        {
          "output_type": "stream",
          "name": "stdout",
          "text": [
            "ffmpeg -i /content/drive/MyDrive/project/Датасэт/Validation/3_3_1.mp4 -r 0.5 '/content/drive/MyDrive/project/Датасэт/Validation/3_3_1/%05d.png'\n"
          ]
        },
        {
          "output_type": "stream",
          "name": "stderr",
          "text": [
            "\r 40%|████      | 8/20 [04:30<09:04, 45.39s/it]"
          ]
        },
        {
          "output_type": "stream",
          "name": "stdout",
          "text": [
            "ffmpeg -i /content/drive/MyDrive/project/Датасэт/Validation/2_3_2.mp4 -r 0.5 '/content/drive/MyDrive/project/Датасэт/Validation/2_3_2/%05d.png'\n"
          ]
        },
        {
          "output_type": "stream",
          "name": "stderr",
          "text": [
            "\r 45%|████▌     | 9/20 [04:50<06:49, 37.27s/it]"
          ]
        },
        {
          "output_type": "stream",
          "name": "stdout",
          "text": [
            "ffmpeg -i /content/drive/MyDrive/project/Датасэт/Validation/1_5.mp4 -r 0.5 '/content/drive/MyDrive/project/Датасэт/Validation/1_5/%05d.png'\n"
          ]
        },
        {
          "output_type": "stream",
          "name": "stderr",
          "text": [
            "\r 50%|█████     | 10/20 [05:21<05:53, 35.37s/it]"
          ]
        },
        {
          "output_type": "stream",
          "name": "stdout",
          "text": [
            "ffmpeg -i /content/drive/MyDrive/project/Датасэт/Validation/3_5.mp4 -r 0.5 '/content/drive/MyDrive/project/Датасэт/Validation/3_5/%05d.png'\n"
          ]
        },
        {
          "output_type": "stream",
          "name": "stderr",
          "text": [
            "\r 55%|█████▌    | 11/20 [06:22<06:29, 43.31s/it]"
          ]
        },
        {
          "output_type": "stream",
          "name": "stdout",
          "text": [
            "ffmpeg -i /content/drive/MyDrive/project/Датасэт/Validation/2_5_1.mp4 -r 0.5 '/content/drive/MyDrive/project/Датасэт/Validation/2_5_1/%05d.png'\n"
          ]
        },
        {
          "output_type": "stream",
          "name": "stderr",
          "text": [
            "\r 60%|██████    | 12/20 [06:40<04:45, 35.68s/it]"
          ]
        },
        {
          "output_type": "stream",
          "name": "stdout",
          "text": [
            "ffmpeg -i /content/drive/MyDrive/project/Датасэт/Validation/3_5_5.mp4 -r 0.5 '/content/drive/MyDrive/project/Датасэт/Validation/3_5_5/%05d.png'\n"
          ]
        },
        {
          "output_type": "stream",
          "name": "stderr",
          "text": [
            "\r 65%|██████▌   | 13/20 [06:59<03:34, 30.60s/it]"
          ]
        },
        {
          "output_type": "stream",
          "name": "stdout",
          "text": [
            "ffmpeg -i /content/drive/MyDrive/project/Датасэт/Validation/0_6.mp4 -r 0.5 '/content/drive/MyDrive/project/Датасэт/Validation/0_6/%05d.png'\n"
          ]
        },
        {
          "output_type": "stream",
          "name": "stderr",
          "text": [
            "\r 70%|███████   | 14/20 [07:09<02:26, 24.37s/it]"
          ]
        },
        {
          "output_type": "stream",
          "name": "stdout",
          "text": [
            "ffmpeg -i /content/drive/MyDrive/project/Датасэт/Validation/1_7_3.mp4 -r 0.5 '/content/drive/MyDrive/project/Датасэт/Validation/1_7_3/%05d.png'\n"
          ]
        },
        {
          "output_type": "stream",
          "name": "stderr",
          "text": [
            "\r 75%|███████▌  | 15/20 [07:47<02:22, 28.50s/it]"
          ]
        },
        {
          "output_type": "stream",
          "name": "stdout",
          "text": [
            "ffmpeg -i /content/drive/MyDrive/project/Датасэт/Validation/2_7_5.mp4 -r 0.5 '/content/drive/MyDrive/project/Датасэт/Validation/2_7_5/%05d.png'\n"
          ]
        },
        {
          "output_type": "stream",
          "name": "stderr",
          "text": [
            "\r 80%|████████  | 16/20 [08:51<02:36, 39.02s/it]"
          ]
        },
        {
          "output_type": "stream",
          "name": "stdout",
          "text": [
            "ffmpeg -i /content/drive/MyDrive/project/Датасэт/Validation/2_7_6.mp4 -r 0.5 '/content/drive/MyDrive/project/Датасэт/Validation/2_7_6/%05d.png'\n"
          ]
        },
        {
          "output_type": "stream",
          "name": "stderr",
          "text": [
            "\r 85%|████████▌ | 17/20 [09:46<02:11, 43.93s/it]"
          ]
        },
        {
          "output_type": "stream",
          "name": "stdout",
          "text": [
            "ffmpeg -i /content/drive/MyDrive/project/Датасэт/Validation/0_8.mp4 -r 0.5 '/content/drive/MyDrive/project/Датасэт/Validation/0_8/%05d.png'\n"
          ]
        },
        {
          "output_type": "stream",
          "name": "stderr",
          "text": [
            "\r 90%|█████████ | 18/20 [10:38<01:32, 46.42s/it]"
          ]
        },
        {
          "output_type": "stream",
          "name": "stdout",
          "text": [
            "ffmpeg -i /content/drive/MyDrive/project/Датасэт/Validation/1_8.mp4 -r 0.5 '/content/drive/MyDrive/project/Датасэт/Validation/1_8/%05d.png'\n"
          ]
        },
        {
          "output_type": "stream",
          "name": "stderr",
          "text": [
            "\r 95%|█████████▌| 19/20 [11:26<00:46, 46.82s/it]"
          ]
        },
        {
          "output_type": "stream",
          "name": "stdout",
          "text": [
            "ffmpeg -i /content/drive/MyDrive/project/Датасэт/Validation/2_8_1.mp4 -r 0.5 '/content/drive/MyDrive/project/Датасэт/Validation/2_8_1/%05d.png'\n"
          ]
        },
        {
          "output_type": "stream",
          "name": "stderr",
          "text": [
            "100%|██████████| 20/20 [11:54<00:00, 35.74s/it]\n"
          ]
        }
      ]
    },
    {
      "cell_type": "code",
      "source": [
        "# def extract_openface_features(dirname,outdir):\n",
        "#     print(dirname)\n",
        "#     if not os.path.exists(outdir):\n",
        "#         os.makedirs(outdir)\n",
        "#     os.chdir(dirname)\n",
        "#     command='/home/avsavchenko/src/distr/OpenFace/build/bin/FeatureExtraction -pose -aus -gaze -out_dir '+outdir\n",
        "#     for filename in os.listdir('.'):\n",
        "#         if filename.lower().endswith('ini'):\n",
        "#             continue\n",
        "        \n",
        "#         if os.path.isdir(filename):\n",
        "#             command+=' -fdir '+filename\n",
        "        \n",
        "#     print(command)\n",
        "#     os.system(command=command)\n",
        "\n",
        "# cur_dir=os.getcwd()\n",
        "# extract_openface_features(os.path.join(DATA_DIR,'frames/validation/'),os.path.join(DATA_DIR,'frames/faces/openface/validation/'))\n",
        "# extract_openface_features(os.path.join(DATA_DIR,'frames/Train/'),os.path.join(DATA_DIR,'frames/faces/openface/Train/'))\n",
        "# os.chdir(cur_dir)\n",
        "# print(os.getcwd())"
      ],
      "metadata": {
        "id": "6evdtd4RT8TU"
      },
      "execution_count": null,
      "outputs": []
    },
    {
      "cell_type": "code",
      "source": [
        "from __future__ import absolute_import\n",
        "from __future__ import division\n",
        "from __future__ import print_function\n",
        "\n",
        "import sys\n",
        "import os\n",
        "#os.environ['CUDA_VISIBLE_DEVICES'] = ''\n",
        "import argparse\n",
        "import tensorflow as tf\n",
        "import numpy as np\n",
        "import cv2\n",
        "import time\n",
        "\n",
        "import subprocess, re \n",
        "\n",
        "\n",
        "def is_specialfile(path,exts):\n",
        "    _, file_extension = os.path.splitext(path)\n",
        "    return file_extension.lower() in exts\n",
        "\n",
        "img_extensions=['.jpg','.jpeg','.png']\n",
        "def is_image(path):\n",
        "    return is_specialfile(path,img_extensions)\n",
        "\n",
        "video_extensions=['.mov','.avi']\n",
        "def is_video(path):\n",
        "    return is_specialfile(path,video_extensions)\n",
        "    \n",
        "class FacialImageProcessing:\n",
        "    # minsize: minimum of faces' size\n",
        "    def __init__(self, print_stat=False, minsize = 32):\n",
        "        self.print_stat=print_stat\n",
        "        self.minsize=minsize\n",
        "        \n",
        "        models_path = '/content/drive/MyDrive/project/Датасэт/Models'\n",
        "        # models_path=os.path.join(models_path,'..','models','pretrained_faces')\n",
        "        model_files={os.path.join(models_path,'mtcnn.pb'):''}\n",
        "\n",
        "        with tf.Graph().as_default() as full_graph:\n",
        "            for model_file in model_files:\n",
        "                tf.import_graph_def(FacialImageProcessing.load_graph_def(model_file), name=model_files[model_file])\n",
        "        self.sess=tf.compat.v1.Session(graph=full_graph)#,config=tf.ConfigProto(device_count={'CPU':1,'GPU':0}))\n",
        "        self.pnet, self.rnet, self.onet = FacialImageProcessing.load_mtcnn(self.sess,full_graph)     \n",
        "\n",
        "    def close(self):\n",
        "        self.sess.close()\n",
        "    \n",
        "    @staticmethod\n",
        "    def load_graph_def(frozen_graph_filename):\n",
        "        graph_def=None\n",
        "        with tf.io.gfile.GFile(frozen_graph_filename, 'rb') as f:\n",
        "            graph_def = tf.compat.v1.GraphDef()\n",
        "            graph_def.ParseFromString(f.read())\n",
        "        return graph_def\n",
        "    \n",
        "    @staticmethod\n",
        "    def load_graph(frozen_graph_filename, prefix=''):\n",
        "        graph_def = FacialImageProcessing.load_graph_def(frozen_graph_filename)\n",
        "        with tf.Graph().as_default() as graph:\n",
        "            tf.import_graph_def(graph_def, name=prefix)\n",
        "        return graph\n",
        "\n",
        "    @staticmethod\n",
        "    def load_mtcnn(sess,graph):\n",
        "        pnet_out_1=graph.get_tensor_by_name('pnet/conv4-2/BiasAdd:0')\n",
        "        pnet_out_2=graph.get_tensor_by_name('pnet/prob1:0')\n",
        "        pnet_in=graph.get_tensor_by_name('pnet/input:0')\n",
        "        \n",
        "        rnet_out_1=graph.get_tensor_by_name('rnet/conv5-2/conv5-2:0')\n",
        "        rnet_out_2=graph.get_tensor_by_name('rnet/prob1:0')\n",
        "        rnet_in=graph.get_tensor_by_name('rnet/input:0')\n",
        "        \n",
        "        onet_out_1=graph.get_tensor_by_name('onet/conv6-2/conv6-2:0')\n",
        "        onet_out_2=graph.get_tensor_by_name('onet/conv6-3/conv6-3:0')\n",
        "        onet_out_3=graph.get_tensor_by_name('onet/prob1:0')\n",
        "        onet_in=graph.get_tensor_by_name('onet/input:0')\n",
        "        \n",
        "        pnet_fun = lambda img : sess.run((pnet_out_1, pnet_out_2), feed_dict={pnet_in:img})\n",
        "        rnet_fun = lambda img : sess.run((rnet_out_1, rnet_out_2), feed_dict={rnet_in:img})\n",
        "        onet_fun = lambda img : sess.run((onet_out_1, onet_out_2, onet_out_3), feed_dict={onet_in:img})\n",
        "        return pnet_fun, rnet_fun, onet_fun\n",
        "        \n",
        "    @staticmethod\n",
        "    def bbreg(boundingbox,reg):\n",
        "        # calibrate bounding boxes\n",
        "        if reg.shape[1]==1:\n",
        "            reg = np.reshape(reg, (reg.shape[2], reg.shape[3]))\n",
        "\n",
        "        w = boundingbox[:,2]-boundingbox[:,0]+1\n",
        "        h = boundingbox[:,3]-boundingbox[:,1]+1\n",
        "        b1 = boundingbox[:,0]+reg[:,0]*w\n",
        "        b2 = boundingbox[:,1]+reg[:,1]*h\n",
        "        b3 = boundingbox[:,2]+reg[:,2]*w\n",
        "        b4 = boundingbox[:,3]+reg[:,3]*h\n",
        "        boundingbox[:,0:4] = np.transpose(np.vstack([b1, b2, b3, b4 ]))\n",
        "        return boundingbox\n",
        "     \n",
        "    @staticmethod\n",
        "    def generateBoundingBox(imap, reg, scale, t):\n",
        "        # use heatmap to generate bounding boxes\n",
        "        stride=2\n",
        "        cellsize=12\n",
        "\n",
        "        imap = np.transpose(imap)\n",
        "        dx1 = np.transpose(reg[:,:,0])\n",
        "        dy1 = np.transpose(reg[:,:,1])\n",
        "        dx2 = np.transpose(reg[:,:,2])\n",
        "        dy2 = np.transpose(reg[:,:,3])\n",
        "        y, x = np.where(imap >= t)\n",
        "        if y.shape[0]==1:\n",
        "            dx1 = np.flipud(dx1)\n",
        "            dy1 = np.flipud(dy1)\n",
        "            dx2 = np.flipud(dx2)\n",
        "            dy2 = np.flipud(dy2)\n",
        "        score = imap[(y,x)]\n",
        "        reg = np.transpose(np.vstack([ dx1[(y,x)], dy1[(y,x)], dx2[(y,x)], dy2[(y,x)] ]))\n",
        "        if reg.size==0:\n",
        "            reg = np.empty((0,3))\n",
        "        bb = np.transpose(np.vstack([y,x]))\n",
        "        q1 = np.fix((stride*bb+1)/scale)\n",
        "        q2 = np.fix((stride*bb+cellsize-1+1)/scale)\n",
        "        boundingbox = np.hstack([q1, q2, np.expand_dims(score,1), reg])\n",
        "        return boundingbox, reg\n",
        "     \n",
        "    # function pick = nms(boxes,threshold,type)\n",
        "    @staticmethod\n",
        "    def nms(boxes, threshold, method):\n",
        "        if boxes.size==0:\n",
        "            return np.empty((0,3))\n",
        "        x1 = boxes[:,0]\n",
        "        y1 = boxes[:,1]\n",
        "        x2 = boxes[:,2]\n",
        "        y2 = boxes[:,3]\n",
        "        s = boxes[:,4]\n",
        "        area = (x2-x1+1) * (y2-y1+1)\n",
        "        I = np.argsort(s)\n",
        "        pick = np.zeros_like(s, dtype=np.int16)\n",
        "        counter = 0\n",
        "        while I.size>0:\n",
        "            i = I[-1]\n",
        "            pick[counter] = i\n",
        "            counter += 1\n",
        "            idx = I[0:-1]\n",
        "            xx1 = np.maximum(x1[i], x1[idx])\n",
        "            yy1 = np.maximum(y1[i], y1[idx])\n",
        "            xx2 = np.minimum(x2[i], x2[idx])\n",
        "            yy2 = np.minimum(y2[i], y2[idx])\n",
        "            w = np.maximum(0.0, xx2-xx1+1)\n",
        "            h = np.maximum(0.0, yy2-yy1+1)\n",
        "            inter = w * h\n",
        "            if method == 'Min':\n",
        "                o = inter / np.minimum(area[i], area[idx])\n",
        "            else:\n",
        "                o = inter / (area[i] + area[idx] - inter)\n",
        "            I = I[np.where(o<=threshold)]\n",
        "        pick = pick[0:counter]\n",
        "        return pick\n",
        "\n",
        "    # function [dy edy dx edx y ey x ex tmpw tmph] = pad(total_boxes,w,h)\n",
        "    @staticmethod\n",
        "    def pad(total_boxes, w, h):\n",
        "        # compute the padding coordinates (pad the bounding boxes to square)\n",
        "        tmpw = (total_boxes[:,2]-total_boxes[:,0]+1).astype(np.int32)\n",
        "        tmph = (total_boxes[:,3]-total_boxes[:,1]+1).astype(np.int32)\n",
        "        numbox = total_boxes.shape[0]\n",
        "\n",
        "        dx = np.ones((numbox), dtype=np.int32)\n",
        "        dy = np.ones((numbox), dtype=np.int32)\n",
        "        edx = tmpw.copy().astype(np.int32)\n",
        "        edy = tmph.copy().astype(np.int32)\n",
        "\n",
        "        x = total_boxes[:,0].copy().astype(np.int32)\n",
        "        y = total_boxes[:,1].copy().astype(np.int32)\n",
        "        ex = total_boxes[:,2].copy().astype(np.int32)\n",
        "        ey = total_boxes[:,3].copy().astype(np.int32)\n",
        "\n",
        "        tmp = np.where(ex>w)\n",
        "        edx.flat[tmp] = np.expand_dims(-ex[tmp]+w+tmpw[tmp],1)\n",
        "        ex[tmp] = w\n",
        "        \n",
        "        tmp = np.where(ey>h)\n",
        "        edy.flat[tmp] = np.expand_dims(-ey[tmp]+h+tmph[tmp],1)\n",
        "        ey[tmp] = h\n",
        "\n",
        "        tmp = np.where(x<1)\n",
        "        dx.flat[tmp] = np.expand_dims(2-x[tmp],1)\n",
        "        x[tmp] = 1\n",
        "\n",
        "        tmp = np.where(y<1)\n",
        "        dy.flat[tmp] = np.expand_dims(2-y[tmp],1)\n",
        "        y[tmp] = 1\n",
        "        \n",
        "        return dy, edy, dx, edx, y, ey, x, ex, tmpw, tmph\n",
        "\n",
        "    # function [bboxA] = rerec(bboxA)\n",
        "    @staticmethod\n",
        "    def rerec(bboxA):\n",
        "        # convert bboxA to square\n",
        "        h = bboxA[:,3]-bboxA[:,1]\n",
        "        w = bboxA[:,2]-bboxA[:,0]\n",
        "        l = np.maximum(w, h)\n",
        "        bboxA[:,0] = bboxA[:,0]+w*0.5-l*0.5\n",
        "        bboxA[:,1] = bboxA[:,1]+h*0.5-l*0.5\n",
        "        bboxA[:,2:4] = bboxA[:,0:2] + np.transpose(np.tile(l,(2,1)))\n",
        "        return bboxA\n",
        "\n",
        "    def detect_faces(self,img):\n",
        "        # im: input image\n",
        "        # threshold: threshold=[th1 th2 th3], th1-3 are three steps's threshold\n",
        "        threshold = [ 0.6, 0.7, 0.9 ]  # three steps's threshold\n",
        "        # fastresize: resize img from last scale (using in high-resolution images) if fastresize==true\n",
        "        factor = 0.709 # scale factor\n",
        "        factor_count=0\n",
        "        total_boxes=np.empty((0,9))\n",
        "        points=np.array([])\n",
        "        h=img.shape[0]\n",
        "        w=img.shape[1]\n",
        "        minl=np.amin([h, w])\n",
        "        m=12.0/self.minsize\n",
        "        minl=minl*m\n",
        "        # creat scale pyramid\n",
        "        scales=[]\n",
        "        while minl>=12:\n",
        "            scales += [m*np.power(factor, factor_count)]\n",
        "            minl = minl*factor\n",
        "            factor_count += 1\n",
        "\n",
        "        # first stage\n",
        "        #t=time.time()\n",
        "        for j in range(len(scales)):\n",
        "            scale=scales[j]\n",
        "            hs=int(np.ceil(h*scale))\n",
        "            ws=int(np.ceil(w*scale))\n",
        "            im_data = cv2.resize(img, (ws,hs), interpolation=cv2.INTER_AREA)\n",
        "            im_data = (im_data-127.5)*0.0078125\n",
        "            img_x = np.expand_dims(im_data, 0)\n",
        "            img_y = np.transpose(img_x, (0,2,1,3))\n",
        "            out = self.pnet(img_y)\n",
        "            out0 = np.transpose(out[0], (0,2,1,3))\n",
        "            out1 = np.transpose(out[1], (0,2,1,3))\n",
        "            \n",
        "            boxes, _ = FacialImageProcessing.generateBoundingBox(out1[0,:,:,1].copy(), out0[0,:,:,:].copy(), scale, threshold[0])\n",
        "            \n",
        "            # inter-scale nms\n",
        "            pick = FacialImageProcessing.nms(boxes.copy(), 0.5, 'Union')\n",
        "            if boxes.size>0 and pick.size>0:\n",
        "                boxes = boxes[pick,:]\n",
        "                total_boxes = np.append(total_boxes, boxes, axis=0)\n",
        "        numbox = total_boxes.shape[0]\n",
        "        #elapsed = time.time() - t\n",
        "        #print('1 phase nb=%d elapsed=%f'%(numbox,elapsed))\n",
        "        if numbox>0:\n",
        "            pick = FacialImageProcessing.nms(total_boxes.copy(), 0.7, 'Union')\n",
        "            total_boxes = total_boxes[pick,:]\n",
        "            regw = total_boxes[:,2]-total_boxes[:,0]\n",
        "            regh = total_boxes[:,3]-total_boxes[:,1]\n",
        "            qq1 = total_boxes[:,0]+total_boxes[:,5]*regw\n",
        "            qq2 = total_boxes[:,1]+total_boxes[:,6]*regh\n",
        "            qq3 = total_boxes[:,2]+total_boxes[:,7]*regw\n",
        "            qq4 = total_boxes[:,3]+total_boxes[:,8]*regh\n",
        "            total_boxes = np.transpose(np.vstack([qq1, qq2, qq3, qq4, total_boxes[:,4]]))\n",
        "            total_boxes = FacialImageProcessing.rerec(total_boxes.copy())\n",
        "            total_boxes[:,0:4] = np.fix(total_boxes[:,0:4]).astype(np.int32)\n",
        "            dy, edy, dx, edx, y, ey, x, ex, tmpw, tmph = FacialImageProcessing.pad(total_boxes.copy(), w, h)\n",
        "\n",
        "        numbox = total_boxes.shape[0]\n",
        "        #elapsed = time.time() - t\n",
        "        #print('2 phase nb=%d elapsed=%f'%(numbox,elapsed))\n",
        "        if numbox>0:\n",
        "            # second stage\n",
        "            tempimg = np.zeros((24,24,3,numbox))\n",
        "            for k in range(0,numbox):\n",
        "                tmp = np.zeros((int(tmph[k]),int(tmpw[k]),3))\n",
        "                tmp[dy[k]-1:edy[k],dx[k]-1:edx[k],:] = img[y[k]-1:ey[k],x[k]-1:ex[k],:]\n",
        "                if tmp.shape[0]>0 and tmp.shape[1]>0 or tmp.shape[0]==0 and tmp.shape[1]==0:\n",
        "                    tempimg[:,:,:,k] = cv2.resize(tmp, (24,24), interpolation=cv2.INTER_AREA)\n",
        "                else:\n",
        "                    return np.empty()\n",
        "            tempimg = (tempimg-127.5)*0.0078125\n",
        "            tempimg1 = np.transpose(tempimg, (3,1,0,2))\n",
        "            out = self.rnet(tempimg1)\n",
        "            out0 = np.transpose(out[0])\n",
        "            out1 = np.transpose(out[1])\n",
        "            score = out1[1,:]\n",
        "            ipass = np.where(score>threshold[1])\n",
        "            total_boxes = np.hstack([total_boxes[ipass[0],0:4].copy(), np.expand_dims(score[ipass].copy(),1)])\n",
        "            mv = out0[:,ipass[0]]\n",
        "            if total_boxes.shape[0]>0:\n",
        "                pick = FacialImageProcessing.nms(total_boxes, 0.7, 'Union')\n",
        "                total_boxes = total_boxes[pick,:]\n",
        "                total_boxes = FacialImageProcessing.bbreg(total_boxes.copy(), np.transpose(mv[:,pick]))\n",
        "                total_boxes = FacialImageProcessing.rerec(total_boxes.copy())\n",
        "\n",
        "        numbox = total_boxes.shape[0]\n",
        "        #elapsed = time.time() - t\n",
        "        #print('3 phase nb=%d elapsed=%f'%(numbox,elapsed))\n",
        "        if numbox>0:\n",
        "            # third stage\n",
        "            total_boxes = np.fix(total_boxes).astype(np.int32)\n",
        "            dy, edy, dx, edx, y, ey, x, ex, tmpw, tmph = FacialImageProcessing.pad(total_boxes.copy(), w, h)\n",
        "            tempimg = np.zeros((48,48,3,numbox))\n",
        "            for k in range(0,numbox):\n",
        "                tmp = np.zeros((int(tmph[k]),int(tmpw[k]),3))\n",
        "                tmp[dy[k]-1:edy[k],dx[k]-1:edx[k],:] = img[y[k]-1:ey[k],x[k]-1:ex[k],:]\n",
        "                if tmp.shape[0]>0 and tmp.shape[1]>0 or tmp.shape[0]==0 and tmp.shape[1]==0:\n",
        "                    tempimg[:,:,:,k] = cv2.resize(tmp, (48,48), interpolation=cv2.INTER_AREA)\n",
        "                else:\n",
        "                    return np.empty()\n",
        "            tempimg = (tempimg-127.5)*0.0078125\n",
        "            tempimg1 = np.transpose(tempimg, (3,1,0,2))\n",
        "            out = self.onet(tempimg1)\n",
        "            out0 = np.transpose(out[0])\n",
        "            out1 = np.transpose(out[1])\n",
        "            out2 = np.transpose(out[2])\n",
        "            score = out2[1,:]\n",
        "            points = out1\n",
        "            ipass = np.where(score>threshold[2])\n",
        "            points = points[:,ipass[0]]\n",
        "            total_boxes = np.hstack([total_boxes[ipass[0],0:4].copy(), np.expand_dims(score[ipass].copy(),1)])\n",
        "            mv = out0[:,ipass[0]]\n",
        "\n",
        "            w = total_boxes[:,2]-total_boxes[:,0]+1\n",
        "            h = total_boxes[:,3]-total_boxes[:,1]+1\n",
        "            points[0:5,:] = np.tile(w,(5, 1))*points[0:5,:] + np.tile(total_boxes[:,0],(5, 1))-1\n",
        "            points[5:10,:] = np.tile(h,(5, 1))*points[5:10,:] + np.tile(total_boxes[:,1],(5, 1))-1\n",
        "            if total_boxes.shape[0]>0:\n",
        "                total_boxes = FacialImageProcessing.bbreg(total_boxes.copy(), np.transpose(mv))\n",
        "                pick = FacialImageProcessing.nms(total_boxes.copy(), 0.7, 'Min')\n",
        "                total_boxes = total_boxes[pick,:]\n",
        "                points = points[:,pick]\n",
        "        #elapsed = time.time() - t\n",
        "        #print('4 phase elapsed=%f'%(elapsed))            \n",
        "        return total_boxes, points"
      ],
      "metadata": {
        "id": "M_RyRkvCOdCX"
      },
      "execution_count": 4,
      "outputs": []
    },
    {
      "cell_type": "code",
      "source": [
        "imgProcessing=FacialImageProcessing(False)"
      ],
      "metadata": {
        "id": "BQFt63WlMOeM"
      },
      "execution_count": 5,
      "outputs": []
    },
    {
      "cell_type": "code",
      "source": [
        "INPUT_SIZE = (224,224)\n",
        "def save_faces(source_path,save_path):\n",
        "    if not os.path.exists(save_path):\n",
        "        os.makedirs(save_path)\n",
        "    for folder in tqdm(os.listdir(source_path)):\n",
        "        if not os.path.exists(os.path.join(save_path, folder)):\n",
        "            os.mkdir(os.path.join(save_path, folder))\n",
        "\n",
        "            for image in os.listdir(os.path.join(source_path, folder)):\n",
        "                filename = os.path.join(source_path, folder, image)\n",
        "                frame_bgr = cv2.imread(filename)\n",
        "                frame = cv2.cvtColor(frame_bgr, cv2.COLOR_BGR2RGB)\n",
        "                bounding_boxes, _ = imgProcessing.detect_faces(frame)\n",
        "\n",
        "                if len(bounding_boxes)==0:\n",
        "                    print('No faces found for ',filename)\n",
        "                    face_img = frame_bgr\n",
        "                    faceFound='noface'\n",
        "                else:\n",
        "                    if len(bounding_boxes)>1:\n",
        "                        print('Too many faces (',len(bounding_boxes),') found for ',filename)\n",
        "                        bounding_boxes=bounding_boxes[:1]\n",
        "\n",
        "                    b=[int(bi) for bi in bounding_boxes[0]]\n",
        "                    x1,y1,x2,y2=b[0:4]\n",
        "                    face_img=frame_bgr[y1:y2,x1:x2,:]\n",
        "\n",
        "                    if np.prod(face_img.shape)==0:\n",
        "                        print('Empty face ',b,' found for ',filename)\n",
        "                        continue\n",
        "                    \n",
        "                    faceFound=''\n",
        "\n",
        "                #face_img=cv2.resize(face_img,INPUT_SIZE)\n",
        "                root,ext=os.path.splitext(image)\n",
        "                cv2.imwrite(os.path.join(save_path, folder, root+faceFound+ext), face_img) \n",
        "        else:\n",
        "            print(folder)\n",
        "        \n",
        "save_faces(os.path.join(DATA_DIR,'Validation/frames'),os.path.join(DATA_DIR,'cropped/Validation'))"
      ],
      "metadata": {
        "colab": {
          "base_uri": "https://localhost:8080/"
        },
        "id": "zkP2kjaOMU7l",
        "outputId": "4381fb57-c0a0-426d-e3c6-ae3075cef737"
      },
      "execution_count": null,
      "outputs": [
        {
          "output_type": "stream",
          "name": "stderr",
          "text": [
            "\r  0%|          | 0/20 [00:00<?, ?it/s]"
          ]
        },
        {
          "output_type": "stream",
          "name": "stdout",
          "text": [
            "3_4\n"
          ]
        },
        {
          "output_type": "stream",
          "name": "stderr",
          "text": [
            " 15%|█▌        | 3/20 [02:03<11:12, 39.59s/it]"
          ]
        },
        {
          "output_type": "stream",
          "name": "stdout",
          "text": [
            "Too many faces ( 2 ) found for  /content/drive/MyDrive/project/Датасэт/Validation/frames/3_1_1/00024.png\n",
            "Too many faces ( 2 ) found for  /content/drive/MyDrive/project/Датасэт/Validation/frames/3_1_1/00025.png\n"
          ]
        },
        {
          "output_type": "stream",
          "name": "stderr",
          "text": [
            "\r 20%|██        | 4/20 [02:42<10:30, 39.42s/it]"
          ]
        },
        {
          "output_type": "stream",
          "name": "stdout",
          "text": [
            "No faces found for  /content/drive/MyDrive/project/Датасэт/Validation/frames/0_1_4/00102.png\n"
          ]
        },
        {
          "output_type": "stream",
          "name": "stderr",
          "text": [
            " 75%|███████▌  | 15/20 [12:16<04:57, 59.41s/it]"
          ]
        },
        {
          "output_type": "stream",
          "name": "stdout",
          "text": [
            "No faces found for  /content/drive/MyDrive/project/Датасэт/Validation/frames/2_7_5/00029.png\n",
            "No faces found for  /content/drive/MyDrive/project/Датасэт/Validation/frames/2_7_5/00030.png\n",
            "No faces found for  /content/drive/MyDrive/project/Датасэт/Validation/frames/2_7_5/00031.png\n",
            "No faces found for  /content/drive/MyDrive/project/Датасэт/Validation/frames/2_7_5/00032.png\n",
            "No faces found for  /content/drive/MyDrive/project/Датасэт/Validation/frames/2_7_5/00033.png\n",
            "No faces found for  /content/drive/MyDrive/project/Датасэт/Validation/frames/2_7_5/00034.png\n",
            "No faces found for  /content/drive/MyDrive/project/Датасэт/Validation/frames/2_7_5/00035.png\n",
            "No faces found for  /content/drive/MyDrive/project/Датасэт/Validation/frames/2_7_5/00036.png\n",
            "No faces found for  /content/drive/MyDrive/project/Датасэт/Validation/frames/2_7_5/00037.png\n",
            "No faces found for  /content/drive/MyDrive/project/Датасэт/Validation/frames/2_7_5/00038.png\n",
            "No faces found for  /content/drive/MyDrive/project/Датасэт/Validation/frames/2_7_5/00039.png\n",
            "No faces found for  /content/drive/MyDrive/project/Датасэт/Validation/frames/2_7_5/00040.png\n",
            "No faces found for  /content/drive/MyDrive/project/Датасэт/Validation/frames/2_7_5/00041.png\n",
            "No faces found for  /content/drive/MyDrive/project/Датасэт/Validation/frames/2_7_5/00042.png\n",
            "No faces found for  /content/drive/MyDrive/project/Датасэт/Validation/frames/2_7_5/00043.png\n",
            "No faces found for  /content/drive/MyDrive/project/Датасэт/Validation/frames/2_7_5/00050.png\n",
            "No faces found for  /content/drive/MyDrive/project/Датасэт/Validation/frames/2_7_5/00083.png\n",
            "No faces found for  /content/drive/MyDrive/project/Датасэт/Validation/frames/2_7_5/00115.png\n"
          ]
        },
        {
          "output_type": "stream",
          "name": "stderr",
          "text": [
            "\r 80%|████████  | 16/20 [12:42<03:17, 49.44s/it]"
          ]
        },
        {
          "output_type": "stream",
          "name": "stdout",
          "text": [
            "No faces found for  /content/drive/MyDrive/project/Датасэт/Validation/frames/2_7_6/00016.png\n",
            "No faces found for  /content/drive/MyDrive/project/Датасэт/Validation/frames/2_7_6/00017.png\n",
            "No faces found for  /content/drive/MyDrive/project/Датасэт/Validation/frames/2_7_6/00018.png\n",
            "No faces found for  /content/drive/MyDrive/project/Датасэт/Validation/frames/2_7_6/00019.png\n",
            "No faces found for  /content/drive/MyDrive/project/Датасэт/Validation/frames/2_7_6/00020.png\n",
            "No faces found for  /content/drive/MyDrive/project/Датасэт/Validation/frames/2_7_6/00021.png\n",
            "No faces found for  /content/drive/MyDrive/project/Датасэт/Validation/frames/2_7_6/00022.png\n",
            "No faces found for  /content/drive/MyDrive/project/Датасэт/Validation/frames/2_7_6/00023.png\n",
            "No faces found for  /content/drive/MyDrive/project/Датасэт/Validation/frames/2_7_6/00046.png\n",
            "No faces found for  /content/drive/MyDrive/project/Датасэт/Validation/frames/2_7_6/00047.png\n",
            "No faces found for  /content/drive/MyDrive/project/Датасэт/Validation/frames/2_7_6/00048.png\n",
            "No faces found for  /content/drive/MyDrive/project/Датасэт/Validation/frames/2_7_6/00049.png\n",
            "No faces found for  /content/drive/MyDrive/project/Датасэт/Validation/frames/2_7_6/00050.png\n",
            "No faces found for  /content/drive/MyDrive/project/Датасэт/Validation/frames/2_7_6/00051.png\n",
            "No faces found for  /content/drive/MyDrive/project/Датасэт/Validation/frames/2_7_6/00052.png\n",
            "No faces found for  /content/drive/MyDrive/project/Датасэт/Validation/frames/2_7_6/00053.png\n",
            "No faces found for  /content/drive/MyDrive/project/Датасэт/Validation/frames/2_7_6/00054.png\n",
            "No faces found for  /content/drive/MyDrive/project/Датасэт/Validation/frames/2_7_6/00063.png\n",
            "No faces found for  /content/drive/MyDrive/project/Датасэт/Validation/frames/2_7_6/00064.png\n",
            "No faces found for  /content/drive/MyDrive/project/Датасэт/Validation/frames/2_7_6/00065.png\n",
            "No faces found for  /content/drive/MyDrive/project/Датасэт/Validation/frames/2_7_6/00066.png\n",
            "No faces found for  /content/drive/MyDrive/project/Датасэт/Validation/frames/2_7_6/00067.png\n",
            "No faces found for  /content/drive/MyDrive/project/Датасэт/Validation/frames/2_7_6/00068.png\n",
            "No faces found for  /content/drive/MyDrive/project/Датасэт/Validation/frames/2_7_6/00069.png\n",
            "No faces found for  /content/drive/MyDrive/project/Датасэт/Validation/frames/2_7_6/00070.png\n",
            "No faces found for  /content/drive/MyDrive/project/Датасэт/Validation/frames/2_7_6/00071.png\n",
            "No faces found for  /content/drive/MyDrive/project/Датасэт/Validation/frames/2_7_6/00102.png\n"
          ]
        },
        {
          "output_type": "stream",
          "name": "stderr",
          "text": [
            "100%|██████████| 20/20 [18:13<00:00, 54.69s/it]\n"
          ]
        }
      ]
    },
    {
      "cell_type": "code",
      "source": [
        "save_faces(os.path.join(DATA_DIR,'Train/frames'),os.path.join(DATA_DIR,'cropped/Train'))"
      ],
      "metadata": {
        "colab": {
          "base_uri": "https://localhost:8080/"
        },
        "id": "HPQb-z-2PnWp",
        "outputId": "94e06d1b-4265-470a-84c7-7aa0be3792fa"
      },
      "execution_count": null,
      "outputs": [
        {
          "output_type": "stream",
          "name": "stderr",
          "text": [
            "\r  0%|          | 0/20 [00:00<?, ?it/s]"
          ]
        },
        {
          "output_type": "stream",
          "name": "stdout",
          "text": [
            "No faces found for  /content/drive/MyDrive/project/Датасэт/Train/frames/1_3/00009.png\n"
          ]
        },
        {
          "output_type": "stream",
          "name": "stderr",
          "text": [
            "\r  5%|▌         | 1/20 [00:35<11:08, 35.19s/it]"
          ]
        },
        {
          "output_type": "stream",
          "name": "stdout",
          "text": [
            "No faces found for  /content/drive/MyDrive/project/Датасэт/Train/frames/0_5_1/00040.png\n",
            "No faces found for  /content/drive/MyDrive/project/Датасэт/Train/frames/0_5_1/00041.png\n"
          ]
        },
        {
          "output_type": "stream",
          "name": "stderr",
          "text": [
            " 20%|██        | 4/20 [02:35<09:56, 37.27s/it]"
          ]
        },
        {
          "output_type": "stream",
          "name": "stdout",
          "text": [
            "Too many faces ( 2 ) found for  /content/drive/MyDrive/project/Датасэт/Train/frames/3_4_3/00045.png\n",
            "Too many faces ( 2 ) found for  /content/drive/MyDrive/project/Датасэт/Train/frames/3_4_3/00050.png\n"
          ]
        },
        {
          "output_type": "stream",
          "name": "stderr",
          "text": [
            " 35%|███▌      | 7/20 [05:58<11:14, 51.91s/it]"
          ]
        },
        {
          "output_type": "stream",
          "name": "stdout",
          "text": [
            "Too many faces ( 2 ) found for  /content/drive/MyDrive/project/Датасэт/Train/frames/3_4_4/00013.png\n",
            "Too many faces ( 2 ) found for  /content/drive/MyDrive/project/Датасэт/Train/frames/3_4_4/00261.png\n"
          ]
        },
        {
          "output_type": "stream",
          "name": "stderr",
          "text": [
            "\r 40%|████      | 8/20 [06:52<10:31, 52.61s/it]"
          ]
        },
        {
          "output_type": "stream",
          "name": "stdout",
          "text": [
            "No faces found for  /content/drive/MyDrive/project/Датасэт/Train/frames/1_4_2/00260.png\n",
            "No faces found for  /content/drive/MyDrive/project/Датасэт/Train/frames/1_4_2/00261.png\n"
          ]
        },
        {
          "output_type": "stream",
          "name": "stderr",
          "text": [
            "\r 45%|████▌     | 9/20 [07:44<09:35, 52.36s/it]"
          ]
        },
        {
          "output_type": "stream",
          "name": "stdout",
          "text": [
            "Empty face  [-17, 37, 328, 503, 0]  found for  /content/drive/MyDrive/project/Датасэт/Train/frames/0_5/00008.png\n"
          ]
        },
        {
          "output_type": "stream",
          "name": "stderr",
          "text": [
            " 55%|█████▌    | 11/20 [10:03<09:16, 61.81s/it]"
          ]
        },
        {
          "output_type": "stream",
          "name": "stdout",
          "text": [
            "No faces found for  /content/drive/MyDrive/project/Датасэт/Train/frames/2_4_3/00079.png\n"
          ]
        },
        {
          "output_type": "stream",
          "name": "stderr",
          "text": [
            " 75%|███████▌  | 15/20 [14:18<05:39, 67.92s/it]"
          ]
        },
        {
          "output_type": "stream",
          "name": "stdout",
          "text": [
            "No faces found for  /content/drive/MyDrive/project/Датасэт/Train/frames/2_8/00062.png\n",
            "No faces found for  /content/drive/MyDrive/project/Датасэт/Train/frames/2_8/00063.png\n"
          ]
        },
        {
          "output_type": "stream",
          "name": "stderr",
          "text": [
            "\r 80%|████████  | 16/20 [15:52<05:02, 75.69s/it]"
          ]
        },
        {
          "output_type": "stream",
          "name": "stdout",
          "text": [
            "Too many faces ( 2 ) found for  /content/drive/MyDrive/project/Датасэт/Train/frames/2_4_2/00079.png\n",
            "Too many faces ( 2 ) found for  /content/drive/MyDrive/project/Датасэт/Train/frames/2_4_2/00082.png\n",
            "No faces found for  /content/drive/MyDrive/project/Датасэт/Train/frames/2_4_2/00120.png\n",
            "Too many faces ( 2 ) found for  /content/drive/MyDrive/project/Датасэт/Train/frames/2_4_2/00141.png\n"
          ]
        },
        {
          "output_type": "stream",
          "name": "stderr",
          "text": [
            " 95%|█████████▌| 19/20 [18:23<00:59, 59.54s/it]"
          ]
        },
        {
          "output_type": "stream",
          "name": "stdout",
          "text": [
            "No faces found for  /content/drive/MyDrive/project/Датасэт/Train/frames/0_1/00014.png\n",
            "No faces found for  /content/drive/MyDrive/project/Датасэт/Train/frames/0_1/00015.png\n",
            "No faces found for  /content/drive/MyDrive/project/Датасэт/Train/frames/0_1/00016.png\n",
            "No faces found for  /content/drive/MyDrive/project/Датасэт/Train/frames/0_1/00047.png\n",
            "No faces found for  /content/drive/MyDrive/project/Датасэт/Train/frames/0_1/00048.png\n",
            "No faces found for  /content/drive/MyDrive/project/Датасэт/Train/frames/0_1/00049.png\n"
          ]
        },
        {
          "output_type": "stream",
          "name": "stderr",
          "text": [
            "100%|██████████| 20/20 [19:28<00:00, 58.42s/it]\n"
          ]
        }
      ]
    },
    {
      "cell_type": "code",
      "source": [
        "save_faces(os.path.join(DATA_DIR,'Test/frames'),os.path.join(DATA_DIR,'cropped/Test'))"
      ],
      "metadata": {
        "colab": {
          "base_uri": "https://localhost:8080/"
        },
        "id": "Wnjd9IE9W3OM",
        "outputId": "996503ef-295e-406e-f145-cbd89cdf9513"
      },
      "execution_count": null,
      "outputs": [
        {
          "output_type": "stream",
          "name": "stderr",
          "text": [
            " 56%|█████▌    | 10/18 [07:39<04:21, 32.65s/it]"
          ]
        },
        {
          "output_type": "stream",
          "name": "stdout",
          "text": [
            "No faces found for  /content/drive/MyDrive/project/Датасэт/Test/frames/1_6_1/00008.png\n"
          ]
        },
        {
          "output_type": "stream",
          "name": "stderr",
          "text": [
            " 67%|██████▋   | 12/18 [09:53<05:06, 51.02s/it]"
          ]
        },
        {
          "output_type": "stream",
          "name": "stdout",
          "text": [
            "No faces found for  /content/drive/MyDrive/project/Датасэт/Test/frames/1_7/00046.png\n",
            "No faces found for  /content/drive/MyDrive/project/Датасэт/Test/frames/1_7/00047.png\n",
            "No faces found for  /content/drive/MyDrive/project/Датасэт/Test/frames/1_7/00048.png\n",
            "No faces found for  /content/drive/MyDrive/project/Датасэт/Test/frames/1_7/00049.png\n",
            "No faces found for  /content/drive/MyDrive/project/Датасэт/Test/frames/1_7/00050.png\n",
            "No faces found for  /content/drive/MyDrive/project/Датасэт/Test/frames/1_7/00051.png\n",
            "No faces found for  /content/drive/MyDrive/project/Датасэт/Test/frames/1_7/00052.png\n"
          ]
        },
        {
          "output_type": "stream",
          "name": "stderr",
          "text": [
            "\r 72%|███████▏  | 13/18 [10:48<04:21, 52.37s/it]"
          ]
        },
        {
          "output_type": "stream",
          "name": "stdout",
          "text": [
            "No faces found for  /content/drive/MyDrive/project/Датасэт/Test/frames/1_7/00053.png\n"
          ]
        },
        {
          "output_type": "stream",
          "name": "stderr",
          "text": [
            "\r 78%|███████▊  | 14/18 [11:13<02:55, 43.92s/it]"
          ]
        },
        {
          "output_type": "stream",
          "name": "stdout",
          "text": [
            "No faces found for  /content/drive/MyDrive/project/Датасэт/Test/frames/1_7_2/00004.png\n",
            "No faces found for  /content/drive/MyDrive/project/Датасэт/Test/frames/1_7_2/00005.png\n",
            "No faces found for  /content/drive/MyDrive/project/Датасэт/Test/frames/1_7_2/00007.png\n",
            "No faces found for  /content/drive/MyDrive/project/Датасэт/Test/frames/1_7_2/00008.png\n",
            "No faces found for  /content/drive/MyDrive/project/Датасэт/Test/frames/1_7_2/00009.png\n",
            "No faces found for  /content/drive/MyDrive/project/Датасэт/Test/frames/1_7_2/00010.png\n",
            "No faces found for  /content/drive/MyDrive/project/Датасэт/Test/frames/1_7_2/00038.png\n",
            "No faces found for  /content/drive/MyDrive/project/Датасэт/Test/frames/1_7_2/00078.png\n",
            "No faces found for  /content/drive/MyDrive/project/Датасэт/Test/frames/1_7_2/00080.png\n",
            "No faces found for  /content/drive/MyDrive/project/Датасэт/Test/frames/1_7_2/00083.png\n",
            "No faces found for  /content/drive/MyDrive/project/Датасэт/Test/frames/1_7_2/00098.png\n"
          ]
        },
        {
          "output_type": "stream",
          "name": "stderr",
          "text": [
            "\r 83%|████████▎ | 15/18 [11:44<02:00, 40.07s/it]"
          ]
        },
        {
          "output_type": "stream",
          "name": "stdout",
          "text": [
            "No faces found for  /content/drive/MyDrive/project/Датасэт/Test/frames/3_7/00005.png\n",
            "No faces found for  /content/drive/MyDrive/project/Датасэт/Test/frames/3_7/00046.png\n",
            "No faces found for  /content/drive/MyDrive/project/Датасэт/Test/frames/3_7/00047.png\n",
            "No faces found for  /content/drive/MyDrive/project/Датасэт/Test/frames/3_7/00048.png\n",
            "No faces found for  /content/drive/MyDrive/project/Датасэт/Test/frames/3_7/00049.png\n",
            "No faces found for  /content/drive/MyDrive/project/Датасэт/Test/frames/3_7/00060.png\n"
          ]
        },
        {
          "output_type": "stream",
          "name": "stderr",
          "text": [
            "\r 89%|████████▉ | 16/18 [12:46<01:33, 46.75s/it]"
          ]
        },
        {
          "output_type": "stream",
          "name": "stdout",
          "text": [
            "No faces found for  /content/drive/MyDrive/project/Датасэт/Test/frames/2_7_3/00059.png\n"
          ]
        },
        {
          "output_type": "stream",
          "name": "stderr",
          "text": [
            "100%|██████████| 18/18 [13:43<00:00, 45.78s/it]\n"
          ]
        }
      ]
    },
    {
      "cell_type": "code",
      "source": [
        "def get_iou(bb1, bb2):\n",
        "    \"\"\"\n",
        "    Calculate the Intersection over Union (IoU) of two bounding boxes.\n",
        "\n",
        "    Parameters\n",
        "    ----------\n",
        "    bb1 : array\n",
        "        order: {'x1', 'y1', 'x2', 'y2'}\n",
        "        The (x1, y1) position is at the top left corner,\n",
        "        the (x2, y2) position is at the bottom right corner\n",
        "    bb2 : array\n",
        "        order: {'x1', 'y1', 'x2', 'y2'}\n",
        "        The (x1, y1) position is at the top left corner,\n",
        "        the (x2, y2) position is at the bottom right corner\n",
        "\n",
        "    Returns\n",
        "    -------\n",
        "    float\n",
        "        in [0, 1]\n",
        "    \"\"\"\n",
        "\n",
        "    # determine the coordinates of the intersection rectangle\n",
        "    x_left = max(bb1[0], bb2[0])\n",
        "    y_top = max(bb1[1], bb2[1])\n",
        "    x_right = min(bb1[2], bb2[2])\n",
        "    y_bottom = min(bb1[3], bb2[3])\n",
        "\n",
        "    if x_right < x_left or y_bottom < y_top:\n",
        "        return 0.0\n",
        "\n",
        "    # The intersection of two axis-aligned bounding boxes is always an\n",
        "    # axis-aligned bounding box\n",
        "    intersection_area = (x_right - x_left) * (y_bottom - y_top)\n",
        "\n",
        "    # compute the area of both AABBs\n",
        "    bb1_area = (bb1[2] - bb1[0]) * (bb1[3] - bb1[1])\n",
        "    bb2_area = (bb2[2] - bb2[0]) * (bb2[3] - bb2[1])\n",
        "\n",
        "    # compute the intersection over union by taking the intersection\n",
        "    # area and dividing it by the sum of prediction + ground-truth\n",
        "    # areas - the interesection area\n",
        "    iou = intersection_area / float(bb1_area + bb2_area - intersection_area)\n",
        "    return iou\n",
        "def preprocess(img, bbox=None, landmark=None, **kwargs):\n",
        "    M = None\n",
        "    image_size = [224,224]\n",
        "    src = np.array([\n",
        "      [30.2946, 51.6963],\n",
        "      [65.5318, 51.5014],\n",
        "      [48.0252, 71.7366],\n",
        "      [33.5493, 92.3655],\n",
        "      [62.7299, 92.2041] ], dtype=np.float32 )\n",
        "    if image_size[1]==224:\n",
        "        src[:,0] += 8.0\n",
        "    src*=2\n",
        "    if landmark is not None:\n",
        "        dst = landmark.astype(np.float32)\n",
        "\n",
        "        tform = trans.SimilarityTransform()\n",
        "        #dst=dst[:3]\n",
        "        #src=src[:3]\n",
        "        #print(dst.shape,src.shape,dst,src)\n",
        "        tform.estimate(dst, src)\n",
        "        M = tform.params[0:2,:]\n",
        "        #M = cv2.estimateRigidTransform( dst.reshape(1,5,2), src.reshape(1,5,2), False)\n",
        "        #print(M)\n",
        "\n",
        "    if M is None:\n",
        "        if bbox is None: #use center crop\n",
        "            det = np.zeros(4, dtype=np.int32)\n",
        "            det[0] = int(img.shape[1]*0.0625)\n",
        "            det[1] = int(img.shape[0]*0.0625)\n",
        "            det[2] = img.shape[1] - det[0]\n",
        "            det[3] = img.shape[0] - det[1]\n",
        "        else:\n",
        "              det = bbox\n",
        "        margin = kwargs.get('margin', 44)\n",
        "        bb = np.zeros(4, dtype=np.int32)\n",
        "        bb[0] = np.maximum(det[0]-margin//2, 0)\n",
        "        bb[1] = np.maximum(det[1]-margin//2, 0)\n",
        "        bb[2] = np.minimum(det[2]+margin//2, img.shape[1])\n",
        "        bb[3] = np.minimum(det[3]+margin//2, img.shape[0])\n",
        "        ret = img[bb[1]:bb[3],bb[0]:bb[2],:]\n",
        "        if len(image_size)>0:\n",
        "              ret = cv2.resize(ret, (image_size[1], image_size[0]))\n",
        "        return ret \n",
        "    else: #do align using landmark\n",
        "        assert len(image_size)==2\n",
        "        warped = cv2.warpAffine(img,M,(image_size[1],image_size[0]), borderValue = 0.0)\n",
        "        return warped"
      ],
      "metadata": {
        "id": "gVjUqZIkhXb4"
      },
      "execution_count": 6,
      "outputs": []
    },
    {
      "cell_type": "code",
      "source": [
        "def save_aligned_faces(source_path,save_path):\n",
        "    if not os.path.exists(save_path):\n",
        "        os.makedirs(save_path)\n",
        "\n",
        "    for folder in tqdm(os.listdir(source_path)):\n",
        "        if not os.path.exists(os.path.join(save_path, folder)):\n",
        "            os.mkdir(os.path.join(save_path, folder))\n",
        "\n",
        "            prev_b = None\n",
        "            counter = 0\n",
        "\n",
        "            for image in sorted(os.listdir(os.path.join(source_path, folder))):\n",
        "                filename = os.path.join(source_path, folder, image)\n",
        "                frame = cv2.imread(filename)\n",
        "                frame = cv2.cvtColor(frame, cv2.COLOR_BGR2RGB)\n",
        "                bounding_boxes, points = imgProcessing.detect_faces(frame)\n",
        "                points = points.T\n",
        "\n",
        "                best_ind=None\n",
        "                if len(bounding_boxes)==0:\n",
        "                    print('No faces found for ',filename)\n",
        "                    counter+=1\n",
        "                    if prev_b is None or counter>3:\n",
        "                        continue\n",
        "                    else:\n",
        "                        b=prev_b\n",
        "                elif len(bounding_boxes)>1:\n",
        "                    print('Too many faces (',len(bounding_boxes),') found for ',filename)\n",
        "                    if prev_b is None:\n",
        "                        #continue\n",
        "                        best_ind=0\n",
        "                        b=[int(bi) for bi in bounding_boxes[best_ind]]\n",
        "                        counter=0\n",
        "                    else:\n",
        "                        best_iou=0\n",
        "                        for i in range(len(bounding_boxes)):\n",
        "                            iou=get_iou(bounding_boxes[i],prev_b)\n",
        "                            if iou>best_iou:\n",
        "                                best_iou=iou\n",
        "                                best_ind=i\n",
        "                        if best_iou>0:\n",
        "                            b=[int(bi) for bi in bounding_boxes[best_ind]]\n",
        "                            print('best_iou (',best_iou,') best_bb ',bounding_boxes[best_ind])\n",
        "                        else:\n",
        "                            #continue\n",
        "                            best_ind=0\n",
        "                            b=[int(bi) for bi in bounding_boxes[best_ind]]\n",
        "                            counter=0\n",
        "                else:\n",
        "                    best_ind=0\n",
        "                    b=[int(bi) for bi in bounding_boxes[best_ind]]\n",
        "                    counter=0\n",
        "                prev_b=b\n",
        "\n",
        "                if True:\n",
        "                    p=None\n",
        "                    if best_ind is not None:\n",
        "                        p=points[best_ind]\n",
        "                        if True: #not USE_RETINA_FACE:\n",
        "                            p = p.reshape((2,5)).T\n",
        "                    face_img=preprocess(frame,b,None) #p)\n",
        "                else:\n",
        "                    x1,y1,x2,y2=b[0:4]\n",
        "                    face_img=frame[y1:y2,x1:x2,:]\n",
        "                if np.prod(face_img.shape)==0:\n",
        "                    print('Empty face ',b,' found for ',filename)\n",
        "                    continue\n",
        "\n",
        "                cv2.imwrite(os.path.join(save_path, folder, image), cv2.cvtColor(face_img, cv2.COLOR_RGB2BGR)) \n"
      ],
      "metadata": {
        "id": "uX0sHHG6aTXX"
      },
      "execution_count": null,
      "outputs": []
    },
    {
      "cell_type": "code",
      "source": [
        "save_aligned_faces(os.path.join(DATA_DIR,'Test/frames'),os.path.join(DATA_DIR,'cropped/aligned/Test'))\n",
        "save_aligned_faces(os.path.join(DATA_DIR,'Train/frames'),os.path.join(DATA_DIR,'cropped/aligned/Train'))\n",
        "save_aligned_faces(os.path.join(DATA_DIR,'Validation/frames'),os.path.join(DATA_DIR,'cropped/aligned/Validation'))"
      ],
      "metadata": {
        "colab": {
          "base_uri": "https://localhost:8080/"
        },
        "id": "U03a9njChkPn",
        "outputId": "ac3518c7-c538-4e35-ad50-259208fcada2"
      },
      "execution_count": null,
      "outputs": [
        {
          "output_type": "stream",
          "name": "stderr",
          "text": [
            " 56%|█████▌    | 10/18 [03:21<02:38, 19.79s/it]"
          ]
        },
        {
          "output_type": "stream",
          "name": "stdout",
          "text": [
            "No faces found for  /content/drive/MyDrive/project/Датасэт/Test/frames/1_6_1/00008.png\n"
          ]
        },
        {
          "output_type": "stream",
          "name": "stderr",
          "text": [
            " 67%|██████▋   | 12/18 [03:39<01:25, 14.27s/it]"
          ]
        },
        {
          "output_type": "stream",
          "name": "stdout",
          "text": [
            "No faces found for  /content/drive/MyDrive/project/Датасэт/Test/frames/1_7/00046.png\n",
            "No faces found for  /content/drive/MyDrive/project/Датасэт/Test/frames/1_7/00047.png\n",
            "No faces found for  /content/drive/MyDrive/project/Датасэт/Test/frames/1_7/00048.png\n",
            "No faces found for  /content/drive/MyDrive/project/Датасэт/Test/frames/1_7/00049.png\n",
            "No faces found for  /content/drive/MyDrive/project/Датасэт/Test/frames/1_7/00050.png\n",
            "No faces found for  /content/drive/MyDrive/project/Датасэт/Test/frames/1_7/00051.png\n"
          ]
        },
        {
          "output_type": "stream",
          "name": "stderr",
          "text": [
            "\r 72%|███████▏  | 13/18 [03:46<01:01, 12.24s/it]"
          ]
        },
        {
          "output_type": "stream",
          "name": "stdout",
          "text": [
            "No faces found for  /content/drive/MyDrive/project/Датасэт/Test/frames/1_7/00052.png\n",
            "No faces found for  /content/drive/MyDrive/project/Датасэт/Test/frames/1_7/00053.png\n"
          ]
        },
        {
          "output_type": "stream",
          "name": "stderr",
          "text": [
            "\r 78%|███████▊  | 14/18 [04:03<00:54, 13.63s/it]"
          ]
        },
        {
          "output_type": "stream",
          "name": "stdout",
          "text": [
            "No faces found for  /content/drive/MyDrive/project/Датасэт/Test/frames/1_7_2/00004.png\n",
            "No faces found for  /content/drive/MyDrive/project/Датасэт/Test/frames/1_7_2/00005.png\n",
            "No faces found for  /content/drive/MyDrive/project/Датасэт/Test/frames/1_7_2/00007.png\n",
            "No faces found for  /content/drive/MyDrive/project/Датасэт/Test/frames/1_7_2/00008.png\n",
            "No faces found for  /content/drive/MyDrive/project/Датасэт/Test/frames/1_7_2/00009.png\n",
            "No faces found for  /content/drive/MyDrive/project/Датасэт/Test/frames/1_7_2/00010.png\n",
            "No faces found for  /content/drive/MyDrive/project/Датасэт/Test/frames/1_7_2/00038.png\n",
            "No faces found for  /content/drive/MyDrive/project/Датасэт/Test/frames/1_7_2/00078.png\n",
            "No faces found for  /content/drive/MyDrive/project/Датасэт/Test/frames/1_7_2/00080.png\n",
            "No faces found for  /content/drive/MyDrive/project/Датасэт/Test/frames/1_7_2/00083.png\n",
            "No faces found for  /content/drive/MyDrive/project/Датасэт/Test/frames/1_7_2/00098.png\n"
          ]
        },
        {
          "output_type": "stream",
          "name": "stderr",
          "text": [
            "\r 83%|████████▎ | 15/18 [04:27<00:50, 16.71s/it]"
          ]
        },
        {
          "output_type": "stream",
          "name": "stdout",
          "text": [
            "No faces found for  /content/drive/MyDrive/project/Датасэт/Test/frames/3_7/00005.png\n",
            "No faces found for  /content/drive/MyDrive/project/Датасэт/Test/frames/3_7/00046.png\n",
            "No faces found for  /content/drive/MyDrive/project/Датасэт/Test/frames/3_7/00047.png\n",
            "No faces found for  /content/drive/MyDrive/project/Датасэт/Test/frames/3_7/00048.png\n",
            "No faces found for  /content/drive/MyDrive/project/Датасэт/Test/frames/3_7/00049.png\n",
            "No faces found for  /content/drive/MyDrive/project/Датасэт/Test/frames/3_7/00060.png\n"
          ]
        },
        {
          "output_type": "stream",
          "name": "stderr",
          "text": [
            "\r 89%|████████▉ | 16/18 [04:36<00:29, 14.58s/it]"
          ]
        },
        {
          "output_type": "stream",
          "name": "stdout",
          "text": [
            "No faces found for  /content/drive/MyDrive/project/Датасэт/Test/frames/2_7_3/00059.png\n"
          ]
        },
        {
          "output_type": "stream",
          "name": "stderr",
          "text": [
            "100%|██████████| 18/18 [05:24<00:00, 18.02s/it]\n",
            "  0%|          | 0/20 [00:00<?, ?it/s]"
          ]
        },
        {
          "output_type": "stream",
          "name": "stdout",
          "text": [
            "No faces found for  /content/drive/MyDrive/project/Датасэт/Train/frames/1_3/00009.png\n"
          ]
        },
        {
          "output_type": "stream",
          "name": "stderr",
          "text": [
            "\r  5%|▌         | 1/20 [00:04<01:19,  4.18s/it]"
          ]
        },
        {
          "output_type": "stream",
          "name": "stdout",
          "text": [
            "No faces found for  /content/drive/MyDrive/project/Датасэт/Train/frames/0_5_1/00040.png\n",
            "No faces found for  /content/drive/MyDrive/project/Датасэт/Train/frames/0_5_1/00041.png\n"
          ]
        },
        {
          "output_type": "stream",
          "name": "stderr",
          "text": [
            " 20%|██        | 4/20 [00:22<01:28,  5.52s/it]"
          ]
        },
        {
          "output_type": "stream",
          "name": "stdout",
          "text": [
            "Too many faces ( 2 ) found for  /content/drive/MyDrive/project/Датасэт/Train/frames/3_4_3/00045.png\n",
            "best_iou ( 0.916372512227472 ) best_bb  [516.49691224 267.97326466 829.64618979 658.17209919   0.99981612]\n",
            "Too many faces ( 2 ) found for  /content/drive/MyDrive/project/Датасэт/Train/frames/3_4_3/00050.png\n",
            "best_iou ( 0.9473058242826751 ) best_bb  [519.12025835 284.79786108 817.42057169 652.12221571   0.99972814]\n"
          ]
        },
        {
          "output_type": "stream",
          "name": "stderr",
          "text": [
            " 35%|███▌      | 7/20 [01:08<02:50, 13.15s/it]"
          ]
        },
        {
          "output_type": "stream",
          "name": "stdout",
          "text": [
            "Too many faces ( 2 ) found for  /content/drive/MyDrive/project/Датасэт/Train/frames/3_4_4/00013.png\n",
            "best_iou ( 0.9234273690789145 ) best_bb  [475.37224981 186.67947021 816.3252193  603.70967044   0.9999826 ]\n",
            "Too many faces ( 2 ) found for  /content/drive/MyDrive/project/Датасэт/Train/frames/3_4_4/00261.png\n",
            "best_iou ( 0.9778373073006733 ) best_bb  [545.5022539  255.66013668 863.21906434 632.36798665   0.99998927]\n"
          ]
        },
        {
          "output_type": "stream",
          "name": "stderr",
          "text": [
            "\r 40%|████      | 8/20 [01:55<04:47, 23.99s/it]"
          ]
        },
        {
          "output_type": "stream",
          "name": "stdout",
          "text": [
            "No faces found for  /content/drive/MyDrive/project/Датасэт/Train/frames/1_4_2/00260.png\n",
            "No faces found for  /content/drive/MyDrive/project/Датасэт/Train/frames/1_4_2/00261.png\n"
          ]
        },
        {
          "output_type": "stream",
          "name": "stderr",
          "text": [
            " 55%|█████▌    | 11/20 [03:01<03:02, 20.32s/it]"
          ]
        },
        {
          "output_type": "stream",
          "name": "stdout",
          "text": [
            "No faces found for  /content/drive/MyDrive/project/Датасэт/Train/frames/2_4_3/00079.png\n"
          ]
        },
        {
          "output_type": "stream",
          "name": "stderr",
          "text": [
            " 75%|███████▌  | 15/20 [04:14<01:20, 16.16s/it]"
          ]
        },
        {
          "output_type": "stream",
          "name": "stdout",
          "text": [
            "No faces found for  /content/drive/MyDrive/project/Датасэт/Train/frames/2_8/00062.png\n",
            "No faces found for  /content/drive/MyDrive/project/Датасэт/Train/frames/2_8/00063.png\n"
          ]
        },
        {
          "output_type": "stream",
          "name": "stderr",
          "text": [
            "\r 80%|████████  | 16/20 [04:28<01:01, 15.46s/it]"
          ]
        },
        {
          "output_type": "stream",
          "name": "stdout",
          "text": [
            "Too many faces ( 2 ) found for  /content/drive/MyDrive/project/Датасэт/Train/frames/2_4_2/00079.png\n",
            "best_iou ( 0.9075012311702716 ) best_bb  [481.54323623 210.60274518 795.28766022 601.39398643   0.99975258]\n",
            "Too many faces ( 2 ) found for  /content/drive/MyDrive/project/Датасэт/Train/frames/2_4_2/00082.png\n",
            "best_iou ( 0.8534814484071754 ) best_bb  [498.85488441 221.17923245 809.19997276 612.9591307    0.9999845 ]\n",
            "No faces found for  /content/drive/MyDrive/project/Датасэт/Train/frames/2_4_2/00120.png\n",
            "Too many faces ( 2 ) found for  /content/drive/MyDrive/project/Датасэт/Train/frames/2_4_2/00141.png\n",
            "best_iou ( 0.9751544909560749 ) best_bb  [581.34304529 230.50527787 908.05537689 635.29753804   0.99985504]\n"
          ]
        },
        {
          "output_type": "stream",
          "name": "stderr",
          "text": [
            " 95%|█████████▌| 19/20 [05:46<00:23, 23.68s/it]"
          ]
        },
        {
          "output_type": "stream",
          "name": "stdout",
          "text": [
            "No faces found for  /content/drive/MyDrive/project/Датасэт/Train/frames/0_1/00014.png\n",
            "No faces found for  /content/drive/MyDrive/project/Датасэт/Train/frames/0_1/00015.png\n",
            "No faces found for  /content/drive/MyDrive/project/Датасэт/Train/frames/0_1/00016.png\n",
            "No faces found for  /content/drive/MyDrive/project/Датасэт/Train/frames/0_1/00047.png\n",
            "No faces found for  /content/drive/MyDrive/project/Датасэт/Train/frames/0_1/00048.png\n",
            "No faces found for  /content/drive/MyDrive/project/Датасэт/Train/frames/0_1/00049.png\n"
          ]
        },
        {
          "output_type": "stream",
          "name": "stderr",
          "text": [
            "100%|██████████| 20/20 [05:56<00:00, 17.81s/it]\n",
            " 15%|█▌        | 3/20 [00:58<05:29, 19.40s/it]"
          ]
        },
        {
          "output_type": "stream",
          "name": "stdout",
          "text": [
            "Too many faces ( 2 ) found for  /content/drive/MyDrive/project/Датасэт/Validation/frames/3_1_1/00024.png\n",
            "best_iou ( 0.8934027995232813 ) best_bb  [578.56169632 413.46994331 722.39009653 598.14491691   0.99999917]\n",
            "Too many faces ( 2 ) found for  /content/drive/MyDrive/project/Датасэт/Validation/frames/3_1_1/00025.png\n",
            "best_iou ( 0.8662883953183266 ) best_bb  [586.53905678 405.71091448 727.80274872 596.7704048    0.99999654]\n"
          ]
        },
        {
          "output_type": "stream",
          "name": "stderr",
          "text": [
            "\r 20%|██        | 4/20 [01:03<03:39, 13.72s/it]"
          ]
        },
        {
          "output_type": "stream",
          "name": "stdout",
          "text": [
            "No faces found for  /content/drive/MyDrive/project/Датасэт/Validation/frames/0_1_4/00102.png\n"
          ]
        },
        {
          "output_type": "stream",
          "name": "stderr",
          "text": [
            " 75%|███████▌  | 15/20 [03:32<00:55, 11.17s/it]"
          ]
        },
        {
          "output_type": "stream",
          "name": "stdout",
          "text": [
            "No faces found for  /content/drive/MyDrive/project/Датасэт/Validation/frames/2_7_5/00029.png\n",
            "No faces found for  /content/drive/MyDrive/project/Датасэт/Validation/frames/2_7_5/00030.png\n",
            "No faces found for  /content/drive/MyDrive/project/Датасэт/Validation/frames/2_7_5/00031.png\n",
            "No faces found for  /content/drive/MyDrive/project/Датасэт/Validation/frames/2_7_5/00032.png\n",
            "No faces found for  /content/drive/MyDrive/project/Датасэт/Validation/frames/2_7_5/00033.png\n",
            "No faces found for  /content/drive/MyDrive/project/Датасэт/Validation/frames/2_7_5/00034.png\n",
            "No faces found for  /content/drive/MyDrive/project/Датасэт/Validation/frames/2_7_5/00035.png\n",
            "No faces found for  /content/drive/MyDrive/project/Датасэт/Validation/frames/2_7_5/00036.png\n",
            "No faces found for  /content/drive/MyDrive/project/Датасэт/Validation/frames/2_7_5/00037.png\n",
            "No faces found for  /content/drive/MyDrive/project/Датасэт/Validation/frames/2_7_5/00038.png\n",
            "No faces found for  /content/drive/MyDrive/project/Датасэт/Validation/frames/2_7_5/00039.png\n",
            "No faces found for  /content/drive/MyDrive/project/Датасэт/Validation/frames/2_7_5/00040.png\n",
            "No faces found for  /content/drive/MyDrive/project/Датасэт/Validation/frames/2_7_5/00041.png\n",
            "No faces found for  /content/drive/MyDrive/project/Датасэт/Validation/frames/2_7_5/00042.png\n",
            "No faces found for  /content/drive/MyDrive/project/Датасэт/Validation/frames/2_7_5/00043.png\n",
            "No faces found for  /content/drive/MyDrive/project/Датасэт/Validation/frames/2_7_5/00050.png\n",
            "No faces found for  /content/drive/MyDrive/project/Датасэт/Validation/frames/2_7_5/00083.png\n",
            "No faces found for  /content/drive/MyDrive/project/Датасэт/Validation/frames/2_7_5/00115.png\n"
          ]
        },
        {
          "output_type": "stream",
          "name": "stderr",
          "text": [
            "\r 80%|████████  | 16/20 [03:54<00:57, 14.46s/it]"
          ]
        },
        {
          "output_type": "stream",
          "name": "stdout",
          "text": [
            "No faces found for  /content/drive/MyDrive/project/Датасэт/Validation/frames/2_7_6/00016.png\n",
            "No faces found for  /content/drive/MyDrive/project/Датасэт/Validation/frames/2_7_6/00017.png\n",
            "No faces found for  /content/drive/MyDrive/project/Датасэт/Validation/frames/2_7_6/00018.png\n",
            "No faces found for  /content/drive/MyDrive/project/Датасэт/Validation/frames/2_7_6/00019.png\n",
            "No faces found for  /content/drive/MyDrive/project/Датасэт/Validation/frames/2_7_6/00020.png\n",
            "No faces found for  /content/drive/MyDrive/project/Датасэт/Validation/frames/2_7_6/00021.png\n",
            "No faces found for  /content/drive/MyDrive/project/Датасэт/Validation/frames/2_7_6/00022.png\n",
            "No faces found for  /content/drive/MyDrive/project/Датасэт/Validation/frames/2_7_6/00023.png\n",
            "No faces found for  /content/drive/MyDrive/project/Датасэт/Validation/frames/2_7_6/00046.png\n",
            "No faces found for  /content/drive/MyDrive/project/Датасэт/Validation/frames/2_7_6/00047.png\n",
            "No faces found for  /content/drive/MyDrive/project/Датасэт/Validation/frames/2_7_6/00048.png\n",
            "No faces found for  /content/drive/MyDrive/project/Датасэт/Validation/frames/2_7_6/00049.png\n",
            "No faces found for  /content/drive/MyDrive/project/Датасэт/Validation/frames/2_7_6/00050.png\n",
            "No faces found for  /content/drive/MyDrive/project/Датасэт/Validation/frames/2_7_6/00051.png\n",
            "No faces found for  /content/drive/MyDrive/project/Датасэт/Validation/frames/2_7_6/00052.png\n",
            "No faces found for  /content/drive/MyDrive/project/Датасэт/Validation/frames/2_7_6/00053.png\n",
            "No faces found for  /content/drive/MyDrive/project/Датасэт/Validation/frames/2_7_6/00054.png\n",
            "No faces found for  /content/drive/MyDrive/project/Датасэт/Validation/frames/2_7_6/00063.png\n",
            "No faces found for  /content/drive/MyDrive/project/Датасэт/Validation/frames/2_7_6/00064.png\n",
            "No faces found for  /content/drive/MyDrive/project/Датасэт/Validation/frames/2_7_6/00065.png\n",
            "No faces found for  /content/drive/MyDrive/project/Датасэт/Validation/frames/2_7_6/00066.png\n",
            "No faces found for  /content/drive/MyDrive/project/Датасэт/Validation/frames/2_7_6/00067.png\n",
            "No faces found for  /content/drive/MyDrive/project/Датасэт/Validation/frames/2_7_6/00068.png\n",
            "No faces found for  /content/drive/MyDrive/project/Датасэт/Validation/frames/2_7_6/00069.png\n",
            "No faces found for  /content/drive/MyDrive/project/Датасэт/Validation/frames/2_7_6/00070.png\n",
            "No faces found for  /content/drive/MyDrive/project/Датасэт/Validation/frames/2_7_6/00071.png\n",
            "No faces found for  /content/drive/MyDrive/project/Датасэт/Validation/frames/2_7_6/00102.png\n"
          ]
        },
        {
          "output_type": "stream",
          "name": "stderr",
          "text": [
            "100%|██████████| 20/20 [04:58<00:00, 14.94s/it]\n"
          ]
        }
      ]
    },
    {
      "cell_type": "code",
      "source": [
        "from tensorflow.keras.applications import mobilenet\n",
        "from tensorflow.keras.models import load_model,Model"
      ],
      "metadata": {
        "id": "FCvdUZSEiFE9"
      },
      "execution_count": 7,
      "outputs": []
    },
    {
      "cell_type": "code",
      "source": [
        "def mobilenet_preprocess_input(x,**kwargs):\n",
        "    x[..., 0] -= 103.939\n",
        "    x[..., 1] -= 116.779\n",
        "    x[..., 2] -= 123.68\n",
        "    return x\n",
        "\n",
        "preprocessing_function=mobilenet_preprocess_input"
      ],
      "metadata": {
        "id": "yY-e0cMImtec"
      },
      "execution_count": 8,
      "outputs": []
    },
    {
      "cell_type": "code",
      "source": [
        "model_name='mobilenet_7'\n",
        "base_model=load_model('/content/drive/MyDrive/project/Датасэт/Models/'+model_name+'.h5')\n",
        "feature_extractor_model=Model(base_model.input,[base_model.get_layer('global_pooling').output,base_model.get_layer('feats').output,base_model.output])\n",
        "feature_extractor_model.summary()\n",
        "_,w,h,_=feature_extractor_model.input.shape\n",
        "print(w,h)"
      ],
      "metadata": {
        "colab": {
          "base_uri": "https://localhost:8080/"
        },
        "id": "6mUau_M-mwRW",
        "outputId": "e9548a32-00b9-4add-ae2f-6e39fa3028f0"
      },
      "execution_count": null,
      "outputs": [
        {
          "output_type": "stream",
          "name": "stdout",
          "text": [
            "WARNING:tensorflow:No training configuration found in the save file, so the model was *not* compiled. Compile it manually.\n",
            "Model: \"model\"\n",
            "_________________________________________________________________\n",
            " Layer (type)                Output Shape              Param #   \n",
            "=================================================================\n",
            " input_1 (InputLayer)        [(None, 224, 224, 3)]     0         \n",
            "                                                                 \n",
            " conv1_pad (ZeroPadding2D)   (None, 225, 225, 3)       0         \n",
            "                                                                 \n",
            " conv1 (Conv2D)              (None, 112, 112, 32)      864       \n",
            "                                                                 \n",
            " conv1_bn (BatchNormalizatio  (None, 112, 112, 32)     128       \n",
            " n)                                                              \n",
            "                                                                 \n",
            " conv1_relu (ReLU)           (None, 112, 112, 32)      0         \n",
            "                                                                 \n",
            " conv_dw_1 (DepthwiseConv2D)  (None, 112, 112, 32)     288       \n",
            "                                                                 \n",
            " conv_dw_1_bn (BatchNormaliz  (None, 112, 112, 32)     128       \n",
            " ation)                                                          \n",
            "                                                                 \n",
            " conv_dw_1_relu (ReLU)       (None, 112, 112, 32)      0         \n",
            "                                                                 \n",
            " conv_pw_1 (Conv2D)          (None, 112, 112, 64)      2048      \n",
            "                                                                 \n",
            " conv_pw_1_bn (BatchNormaliz  (None, 112, 112, 64)     256       \n",
            " ation)                                                          \n",
            "                                                                 \n",
            " conv_pw_1_relu (ReLU)       (None, 112, 112, 64)      0         \n",
            "                                                                 \n",
            " conv_pad_2 (ZeroPadding2D)  (None, 113, 113, 64)      0         \n",
            "                                                                 \n",
            " conv_dw_2 (DepthwiseConv2D)  (None, 56, 56, 64)       576       \n",
            "                                                                 \n",
            " conv_dw_2_bn (BatchNormaliz  (None, 56, 56, 64)       256       \n",
            " ation)                                                          \n",
            "                                                                 \n",
            " conv_dw_2_relu (ReLU)       (None, 56, 56, 64)        0         \n",
            "                                                                 \n",
            " conv_pw_2 (Conv2D)          (None, 56, 56, 128)       8192      \n",
            "                                                                 \n",
            " conv_pw_2_bn (BatchNormaliz  (None, 56, 56, 128)      512       \n",
            " ation)                                                          \n",
            "                                                                 \n",
            " conv_pw_2_relu (ReLU)       (None, 56, 56, 128)       0         \n",
            "                                                                 \n",
            " conv_dw_3 (DepthwiseConv2D)  (None, 56, 56, 128)      1152      \n",
            "                                                                 \n",
            " conv_dw_3_bn (BatchNormaliz  (None, 56, 56, 128)      512       \n",
            " ation)                                                          \n",
            "                                                                 \n",
            " conv_dw_3_relu (ReLU)       (None, 56, 56, 128)       0         \n",
            "                                                                 \n",
            " conv_pw_3 (Conv2D)          (None, 56, 56, 128)       16384     \n",
            "                                                                 \n",
            " conv_pw_3_bn (BatchNormaliz  (None, 56, 56, 128)      512       \n",
            " ation)                                                          \n",
            "                                                                 \n",
            " conv_pw_3_relu (ReLU)       (None, 56, 56, 128)       0         \n",
            "                                                                 \n",
            " conv_pad_4 (ZeroPadding2D)  (None, 57, 57, 128)       0         \n",
            "                                                                 \n",
            " conv_dw_4 (DepthwiseConv2D)  (None, 28, 28, 128)      1152      \n",
            "                                                                 \n",
            " conv_dw_4_bn (BatchNormaliz  (None, 28, 28, 128)      512       \n",
            " ation)                                                          \n",
            "                                                                 \n",
            " conv_dw_4_relu (ReLU)       (None, 28, 28, 128)       0         \n",
            "                                                                 \n",
            " conv_pw_4 (Conv2D)          (None, 28, 28, 256)       32768     \n",
            "                                                                 \n",
            " conv_pw_4_bn (BatchNormaliz  (None, 28, 28, 256)      1024      \n",
            " ation)                                                          \n",
            "                                                                 \n",
            " conv_pw_4_relu (ReLU)       (None, 28, 28, 256)       0         \n",
            "                                                                 \n",
            " conv_dw_5 (DepthwiseConv2D)  (None, 28, 28, 256)      2304      \n",
            "                                                                 \n",
            " conv_dw_5_bn (BatchNormaliz  (None, 28, 28, 256)      1024      \n",
            " ation)                                                          \n",
            "                                                                 \n",
            " conv_dw_5_relu (ReLU)       (None, 28, 28, 256)       0         \n",
            "                                                                 \n",
            " conv_pw_5 (Conv2D)          (None, 28, 28, 256)       65536     \n",
            "                                                                 \n",
            " conv_pw_5_bn (BatchNormaliz  (None, 28, 28, 256)      1024      \n",
            " ation)                                                          \n",
            "                                                                 \n",
            " conv_pw_5_relu (ReLU)       (None, 28, 28, 256)       0         \n",
            "                                                                 \n",
            " conv_pad_6 (ZeroPadding2D)  (None, 29, 29, 256)       0         \n",
            "                                                                 \n",
            " conv_dw_6 (DepthwiseConv2D)  (None, 14, 14, 256)      2304      \n",
            "                                                                 \n",
            " conv_dw_6_bn (BatchNormaliz  (None, 14, 14, 256)      1024      \n",
            " ation)                                                          \n",
            "                                                                 \n",
            " conv_dw_6_relu (ReLU)       (None, 14, 14, 256)       0         \n",
            "                                                                 \n",
            " conv_pw_6 (Conv2D)          (None, 14, 14, 512)       131072    \n",
            "                                                                 \n",
            " conv_pw_6_bn (BatchNormaliz  (None, 14, 14, 512)      2048      \n",
            " ation)                                                          \n",
            "                                                                 \n",
            " conv_pw_6_relu (ReLU)       (None, 14, 14, 512)       0         \n",
            "                                                                 \n",
            " conv_dw_7 (DepthwiseConv2D)  (None, 14, 14, 512)      4608      \n",
            "                                                                 \n",
            " conv_dw_7_bn (BatchNormaliz  (None, 14, 14, 512)      2048      \n",
            " ation)                                                          \n",
            "                                                                 \n",
            " conv_dw_7_relu (ReLU)       (None, 14, 14, 512)       0         \n",
            "                                                                 \n",
            " conv_pw_7 (Conv2D)          (None, 14, 14, 512)       262144    \n",
            "                                                                 \n",
            " conv_pw_7_bn (BatchNormaliz  (None, 14, 14, 512)      2048      \n",
            " ation)                                                          \n",
            "                                                                 \n",
            " conv_pw_7_relu (ReLU)       (None, 14, 14, 512)       0         \n",
            "                                                                 \n",
            " conv_dw_8 (DepthwiseConv2D)  (None, 14, 14, 512)      4608      \n",
            "                                                                 \n",
            " conv_dw_8_bn (BatchNormaliz  (None, 14, 14, 512)      2048      \n",
            " ation)                                                          \n",
            "                                                                 \n",
            " conv_dw_8_relu (ReLU)       (None, 14, 14, 512)       0         \n",
            "                                                                 \n",
            " conv_pw_8 (Conv2D)          (None, 14, 14, 512)       262144    \n",
            "                                                                 \n",
            " conv_pw_8_bn (BatchNormaliz  (None, 14, 14, 512)      2048      \n",
            " ation)                                                          \n",
            "                                                                 \n",
            " conv_pw_8_relu (ReLU)       (None, 14, 14, 512)       0         \n",
            "                                                                 \n",
            " conv_dw_9 (DepthwiseConv2D)  (None, 14, 14, 512)      4608      \n",
            "                                                                 \n",
            " conv_dw_9_bn (BatchNormaliz  (None, 14, 14, 512)      2048      \n",
            " ation)                                                          \n",
            "                                                                 \n",
            " conv_dw_9_relu (ReLU)       (None, 14, 14, 512)       0         \n",
            "                                                                 \n",
            " conv_pw_9 (Conv2D)          (None, 14, 14, 512)       262144    \n",
            "                                                                 \n",
            " conv_pw_9_bn (BatchNormaliz  (None, 14, 14, 512)      2048      \n",
            " ation)                                                          \n",
            "                                                                 \n",
            " conv_pw_9_relu (ReLU)       (None, 14, 14, 512)       0         \n",
            "                                                                 \n",
            " conv_dw_10 (DepthwiseConv2D  (None, 14, 14, 512)      4608      \n",
            " )                                                               \n",
            "                                                                 \n",
            " conv_dw_10_bn (BatchNormali  (None, 14, 14, 512)      2048      \n",
            " zation)                                                         \n",
            "                                                                 \n",
            " conv_dw_10_relu (ReLU)      (None, 14, 14, 512)       0         \n",
            "                                                                 \n",
            " conv_pw_10 (Conv2D)         (None, 14, 14, 512)       262144    \n",
            "                                                                 \n",
            " conv_pw_10_bn (BatchNormali  (None, 14, 14, 512)      2048      \n",
            " zation)                                                         \n",
            "                                                                 \n",
            " conv_pw_10_relu (ReLU)      (None, 14, 14, 512)       0         \n",
            "                                                                 \n",
            " conv_dw_11 (DepthwiseConv2D  (None, 14, 14, 512)      4608      \n",
            " )                                                               \n",
            "                                                                 \n",
            " conv_dw_11_bn (BatchNormali  (None, 14, 14, 512)      2048      \n",
            " zation)                                                         \n",
            "                                                                 \n",
            " conv_dw_11_relu (ReLU)      (None, 14, 14, 512)       0         \n",
            "                                                                 \n",
            " conv_pw_11 (Conv2D)         (None, 14, 14, 512)       262144    \n",
            "                                                                 \n",
            " conv_pw_11_bn (BatchNormali  (None, 14, 14, 512)      2048      \n",
            " zation)                                                         \n",
            "                                                                 \n",
            " conv_pw_11_relu (ReLU)      (None, 14, 14, 512)       0         \n",
            "                                                                 \n",
            " conv_pad_12 (ZeroPadding2D)  (None, 15, 15, 512)      0         \n",
            "                                                                 \n",
            " conv_dw_12 (DepthwiseConv2D  (None, 7, 7, 512)        4608      \n",
            " )                                                               \n",
            "                                                                 \n",
            " conv_dw_12_bn (BatchNormali  (None, 7, 7, 512)        2048      \n",
            " zation)                                                         \n",
            "                                                                 \n",
            " conv_dw_12_relu (ReLU)      (None, 7, 7, 512)         0         \n",
            "                                                                 \n",
            " conv_pw_12 (Conv2D)         (None, 7, 7, 1024)        524288    \n",
            "                                                                 \n",
            " conv_pw_12_bn (BatchNormali  (None, 7, 7, 1024)       4096      \n",
            " zation)                                                         \n",
            "                                                                 \n",
            " conv_pw_12_relu (ReLU)      (None, 7, 7, 1024)        0         \n",
            "                                                                 \n",
            " conv_dw_13 (DepthwiseConv2D  (None, 7, 7, 1024)       9216      \n",
            " )                                                               \n",
            "                                                                 \n",
            " conv_dw_13_bn (BatchNormali  (None, 7, 7, 1024)       4096      \n",
            " zation)                                                         \n",
            "                                                                 \n",
            " conv_dw_13_relu (ReLU)      (None, 7, 7, 1024)        0         \n",
            "                                                                 \n",
            " conv_pw_13 (Conv2D)         (None, 7, 7, 1024)        1048576   \n",
            "                                                                 \n",
            " conv_pw_13_bn (BatchNormali  (None, 7, 7, 1024)       4096      \n",
            " zation)                                                         \n",
            "                                                                 \n",
            " conv_pw_13_relu (ReLU)      (None, 7, 7, 1024)        0         \n",
            "                                                                 \n",
            " global_pooling (GlobalAvera  (None, 1024)             0         \n",
            " gePooling2D)                                                    \n",
            "                                                                 \n",
            " dropout_1 (Dropout)         (None, 1024)              0         \n",
            "                                                                 \n",
            " feats (Dense)               (None, 256)               262400    \n",
            "                                                                 \n",
            " emotion_preds (Dense)       (None, 7)                 1799      \n",
            "                                                                 \n",
            "=================================================================\n",
            "Total params: 3,493,063\n",
            "Trainable params: 3,471,175\n",
            "Non-trainable params: 21,888\n",
            "_________________________________________________________________\n",
            "224 224\n"
          ]
        }
      ]
    },
    {
      "cell_type": "code",
      "source": [
        "feature_extractor_model.output"
      ],
      "metadata": {
        "colab": {
          "base_uri": "https://localhost:8080/"
        },
        "id": "PHJjXKronRQ0",
        "outputId": "ce82f88a-bf62-4ec8-d4cb-b2321304130b"
      },
      "execution_count": null,
      "outputs": [
        {
          "output_type": "execute_result",
          "data": {
            "text/plain": [
              "[<KerasTensor: shape=(None, 1024) dtype=float32 (created by layer 'global_pooling')>,\n",
              " <KerasTensor: shape=(None, 256) dtype=float32 (created by layer 'feats')>,\n",
              " <KerasTensor: shape=(None, 7) dtype=float32 (created by layer 'emotion_preds')>]"
            ]
          },
          "metadata": {},
          "execution_count": 11
        }
      ]
    },
    {
      "cell_type": "code",
      "source": [
        "def get_features_scores(data_dir):\n",
        "    filename2features={}\n",
        "    for filename in tqdm(os.listdir(data_dir)):\n",
        "        frames_dir=os.path.join(data_dir,filename)\n",
        "        X_global_features,X_feats,X_scores,X_isface=[],[],[],[]\n",
        "        imgs=[]\n",
        "        faces_only=[fn for fn in os.listdir(frames_dir) if 'noface' not in fn]\n",
        "        for img_name in sorted(faces_only):\n",
        "            img=cv2.imread(os.path.join(frames_dir,img_name))\n",
        "            X_isface.append('noface' not in img_name)\n",
        "                \n",
        "            if img.size:\n",
        "                img=cv2.resize(img,(w,h))\n",
        "                img = cv2.cvtColor(img,cv2.COLOR_BGR2RGB)\n",
        "                imgs.append(img)\n",
        "                if len(imgs)>=512:        \n",
        "                    #inp = preprocessing_function(np.expand_dims(img, axis=0).astype(np.float32))\n",
        "                    inp = preprocessing_function(np.array(imgs, dtype=np.float32))\n",
        "                    global_features,feats,scores=feature_extractor_model.predict(inp)\n",
        "                    #print(global_features.shape,feats.shape,scores.shape)\n",
        "                    if len(X_feats)==0:\n",
        "                        X_feats=feats\n",
        "                        X_global_features=global_features\n",
        "                        X_scores=scores\n",
        "                    else:\n",
        "                        X_feats=np.concatenate((X_feats,feats),axis=0)\n",
        "                        X_global_features=np.concatenate((X_global_features,global_features),axis=0)\n",
        "                        X_scores=np.concatenate((X_scores,scores),axis=0)\n",
        "                    \n",
        "                    imgs=[]\n",
        "\n",
        "        if len(imgs)>0:        \n",
        "            inp = preprocessing_function(np.array(imgs, dtype=np.float32))\n",
        "            global_features,feats,scores=feature_extractor_model.predict(inp)\n",
        "            #print(global_features.shape,feats.shape,scores.shape)\n",
        "            if len(X_feats)==0:\n",
        "                X_feats=feats\n",
        "                X_global_features=global_features\n",
        "                X_scores=scores\n",
        "            else:\n",
        "                X_feats=np.concatenate((X_feats,feats),axis=0)\n",
        "                X_global_features=np.concatenate((X_global_features,global_features),axis=0)\n",
        "                X_scores=np.concatenate((X_scores,scores),axis=0)\n",
        "\n",
        "        X_isface=np.array(X_isface)\n",
        "        #print(X_global_features.shape,X_feats.shape,X_scores.shape)\n",
        "        filename2features[filename]=(X_global_features,X_feats,X_scores,X_isface)\n",
        "    return filename2features\n",
        "\n",
        "filename2features_train=get_features_scores(os.path.join(DATA_DIR,'cropped/aligned/Train')) #mtcnn_aligned\n",
        "filename2features_val=get_features_scores(os.path.join(DATA_DIR,'cropped/aligned/Validation')) #_cropped\n",
        "filename2features_test=get_features_scores(os.path.join(DATA_DIR,'cropped/aligned/Test')) #_cropped"
      ],
      "metadata": {
        "id": "NMg9_LOWnv8o",
        "colab": {
          "base_uri": "https://localhost:8080/"
        },
        "outputId": "908315c8-8e03-4723-cd56-40043611c2cc"
      },
      "execution_count": null,
      "outputs": [
        {
          "output_type": "stream",
          "name": "stderr",
          "text": [
            "100%|██████████| 20/20 [06:50<00:00, 20.53s/it]\n",
            "100%|██████████| 20/20 [06:18<00:00, 18.91s/it]\n",
            "100%|██████████| 18/18 [04:01<00:00, 13.41s/it]\n"
          ]
        }
      ]
    },
    {
      "cell_type": "code",
      "source": [
        "pip install timm==0.4.5"
      ],
      "metadata": {
        "colab": {
          "base_uri": "https://localhost:8080/"
        },
        "id": "DCo-VI6Wq-Lo",
        "outputId": "1e329ec9-d9be-4d10-d8d8-618ecdc398fe"
      },
      "execution_count": 14,
      "outputs": [
        {
          "output_type": "stream",
          "name": "stdout",
          "text": [
            "Collecting timm==0.4.5\n",
            "  Downloading timm-0.4.5-py3-none-any.whl (287 kB)\n",
            "\u001b[?25l\r\u001b[K     |█▏                              | 10 kB 15.1 MB/s eta 0:00:01\r\u001b[K     |██▎                             | 20 kB 16.6 MB/s eta 0:00:01\r\u001b[K     |███▍                            | 30 kB 19.1 MB/s eta 0:00:01\r\u001b[K     |████▋                           | 40 kB 21.2 MB/s eta 0:00:01\r\u001b[K     |█████▊                          | 51 kB 6.1 MB/s eta 0:00:01\r\u001b[K     |██████▉                         | 61 kB 7.1 MB/s eta 0:00:01\r\u001b[K     |████████                        | 71 kB 7.4 MB/s eta 0:00:01\r\u001b[K     |█████████▏                      | 81 kB 6.0 MB/s eta 0:00:01\r\u001b[K     |██████████▎                     | 92 kB 6.6 MB/s eta 0:00:01\r\u001b[K     |███████████▍                    | 102 kB 5.6 MB/s eta 0:00:01\r\u001b[K     |████████████▌                   | 112 kB 5.6 MB/s eta 0:00:01\r\u001b[K     |█████████████▊                  | 122 kB 5.6 MB/s eta 0:00:01\r\u001b[K     |██████████████▉                 | 133 kB 5.6 MB/s eta 0:00:01\r\u001b[K     |████████████████                | 143 kB 5.6 MB/s eta 0:00:01\r\u001b[K     |█████████████████               | 153 kB 5.6 MB/s eta 0:00:01\r\u001b[K     |██████████████████▎             | 163 kB 5.6 MB/s eta 0:00:01\r\u001b[K     |███████████████████▍            | 174 kB 5.6 MB/s eta 0:00:01\r\u001b[K     |████████████████████▌           | 184 kB 5.6 MB/s eta 0:00:01\r\u001b[K     |█████████████████████▋          | 194 kB 5.6 MB/s eta 0:00:01\r\u001b[K     |██████████████████████▉         | 204 kB 5.6 MB/s eta 0:00:01\r\u001b[K     |████████████████████████        | 215 kB 5.6 MB/s eta 0:00:01\r\u001b[K     |█████████████████████████       | 225 kB 5.6 MB/s eta 0:00:01\r\u001b[K     |██████████████████████████▏     | 235 kB 5.6 MB/s eta 0:00:01\r\u001b[K     |███████████████████████████▍    | 245 kB 5.6 MB/s eta 0:00:01\r\u001b[K     |████████████████████████████▌   | 256 kB 5.6 MB/s eta 0:00:01\r\u001b[K     |█████████████████████████████▋  | 266 kB 5.6 MB/s eta 0:00:01\r\u001b[K     |██████████████████████████████▉ | 276 kB 5.6 MB/s eta 0:00:01\r\u001b[K     |████████████████████████████████| 286 kB 5.6 MB/s eta 0:00:01\r\u001b[K     |████████████████████████████████| 287 kB 5.6 MB/s \n",
            "\u001b[?25hRequirement already satisfied: torch>=1.4 in /usr/local/lib/python3.7/dist-packages (from timm==0.4.5) (1.11.0+cu113)\n",
            "Requirement already satisfied: torchvision in /usr/local/lib/python3.7/dist-packages (from timm==0.4.5) (0.12.0+cu113)\n",
            "Requirement already satisfied: typing-extensions in /usr/local/lib/python3.7/dist-packages (from torch>=1.4->timm==0.4.5) (4.2.0)\n",
            "Requirement already satisfied: requests in /usr/local/lib/python3.7/dist-packages (from torchvision->timm==0.4.5) (2.23.0)\n",
            "Requirement already satisfied: pillow!=8.3.*,>=5.3.0 in /usr/local/lib/python3.7/dist-packages (from torchvision->timm==0.4.5) (7.1.2)\n",
            "Requirement already satisfied: numpy in /usr/local/lib/python3.7/dist-packages (from torchvision->timm==0.4.5) (1.21.6)\n",
            "Requirement already satisfied: idna<3,>=2.5 in /usr/local/lib/python3.7/dist-packages (from requests->torchvision->timm==0.4.5) (2.10)\n",
            "Requirement already satisfied: urllib3!=1.25.0,!=1.25.1,<1.26,>=1.21.1 in /usr/local/lib/python3.7/dist-packages (from requests->torchvision->timm==0.4.5) (1.24.3)\n",
            "Requirement already satisfied: chardet<4,>=3.0.2 in /usr/local/lib/python3.7/dist-packages (from requests->torchvision->timm==0.4.5) (3.0.4)\n",
            "Requirement already satisfied: certifi>=2017.4.17 in /usr/local/lib/python3.7/dist-packages (from requests->torchvision->timm==0.4.5) (2021.10.8)\n",
            "Installing collected packages: timm\n",
            "Successfully installed timm-0.4.5\n"
          ]
        }
      ]
    },
    {
      "cell_type": "code",
      "source": [
        "import timm"
      ],
      "metadata": {
        "id": "AMbor-e3H2ER"
      },
      "execution_count": 15,
      "outputs": []
    },
    {
      "cell_type": "code",
      "source": [
        "if False:\n",
        "    model_name='enet_b2_8'\n",
        "    IMG_SIZE=260 #224 #\n",
        "else:\n",
        "    model_name='enet_b0_8_best_afew'\n",
        "    IMG_SIZE=224\n",
        "PATH=DATA_DIR+'/Models/'+model_name+'.pt'\n",
        "test_transforms = transforms.Compose(\n",
        "    [\n",
        "        transforms.Resize((IMG_SIZE,IMG_SIZE)),\n",
        "        #transforms.RandomHorizontalFlip(),\n",
        "        transforms.ToTensor(),\n",
        "        transforms.Normalize(mean=[0.485, 0.456, 0.406],\n",
        "                                     std=[0.229, 0.224, 0.225])\n",
        "    ]\n",
        ")\n",
        "np_transforms = transforms.Compose(\n",
        "    [\n",
        "        transforms.ToPILImage(None),\n",
        "        transforms.Resize((IMG_SIZE,IMG_SIZE)),\n",
        "        #transforms.RandomHorizontalFlip(),\n",
        "        transforms.ToTensor(),\n",
        "        transforms.Normalize(mean=[0.485, 0.456, 0.406],\n",
        "                                     std=[0.229, 0.224, 0.225])\n",
        "    ]\n",
        ")\n",
        "\n",
        "feature_extractor_model = torch.load(PATH)"
      ],
      "metadata": {
        "id": "CHv6C_xpiuUy"
      },
      "execution_count": 16,
      "outputs": []
    },
    {
      "cell_type": "code",
      "source": [
        "feature_extractor_model.classifier=torch.nn.Identity()\n",
        "feature_extractor_model.eval()"
      ],
      "metadata": {
        "colab": {
          "base_uri": "https://localhost:8080/"
        },
        "id": "tvU93aNqouyR",
        "outputId": "0344b0a0-a39e-4128-d957-72357189017f"
      },
      "execution_count": 17,
      "outputs": [
        {
          "output_type": "execute_result",
          "data": {
            "text/plain": [
              "EfficientNet(\n",
              "  (conv_stem): Conv2dSame(3, 32, kernel_size=(3, 3), stride=(2, 2), bias=False)\n",
              "  (bn1): BatchNorm2d(32, eps=0.001, momentum=0.1, affine=True, track_running_stats=True)\n",
              "  (act1): SiLU(inplace=True)\n",
              "  (blocks): Sequential(\n",
              "    (0): Sequential(\n",
              "      (0): DepthwiseSeparableConv(\n",
              "        (conv_dw): Conv2d(32, 32, kernel_size=(3, 3), stride=(1, 1), padding=(1, 1), groups=32, bias=False)\n",
              "        (bn1): BatchNorm2d(32, eps=0.001, momentum=0.1, affine=True, track_running_stats=True)\n",
              "        (act1): SiLU(inplace=True)\n",
              "        (se): SqueezeExcite(\n",
              "          (conv_reduce): Conv2d(32, 8, kernel_size=(1, 1), stride=(1, 1))\n",
              "          (act1): SiLU(inplace=True)\n",
              "          (conv_expand): Conv2d(8, 32, kernel_size=(1, 1), stride=(1, 1))\n",
              "        )\n",
              "        (conv_pw): Conv2d(32, 16, kernel_size=(1, 1), stride=(1, 1), bias=False)\n",
              "        (bn2): BatchNorm2d(16, eps=0.001, momentum=0.1, affine=True, track_running_stats=True)\n",
              "        (act2): Identity()\n",
              "      )\n",
              "    )\n",
              "    (1): Sequential(\n",
              "      (0): InvertedResidual(\n",
              "        (conv_pw): Conv2d(16, 96, kernel_size=(1, 1), stride=(1, 1), bias=False)\n",
              "        (bn1): BatchNorm2d(96, eps=0.001, momentum=0.1, affine=True, track_running_stats=True)\n",
              "        (act1): SiLU(inplace=True)\n",
              "        (conv_dw): Conv2dSame(96, 96, kernel_size=(3, 3), stride=(2, 2), groups=96, bias=False)\n",
              "        (bn2): BatchNorm2d(96, eps=0.001, momentum=0.1, affine=True, track_running_stats=True)\n",
              "        (act2): SiLU(inplace=True)\n",
              "        (se): SqueezeExcite(\n",
              "          (conv_reduce): Conv2d(96, 4, kernel_size=(1, 1), stride=(1, 1))\n",
              "          (act1): SiLU(inplace=True)\n",
              "          (conv_expand): Conv2d(4, 96, kernel_size=(1, 1), stride=(1, 1))\n",
              "        )\n",
              "        (conv_pwl): Conv2d(96, 24, kernel_size=(1, 1), stride=(1, 1), bias=False)\n",
              "        (bn3): BatchNorm2d(24, eps=0.001, momentum=0.1, affine=True, track_running_stats=True)\n",
              "      )\n",
              "      (1): InvertedResidual(\n",
              "        (conv_pw): Conv2d(24, 144, kernel_size=(1, 1), stride=(1, 1), bias=False)\n",
              "        (bn1): BatchNorm2d(144, eps=0.001, momentum=0.1, affine=True, track_running_stats=True)\n",
              "        (act1): SiLU(inplace=True)\n",
              "        (conv_dw): Conv2d(144, 144, kernel_size=(3, 3), stride=(1, 1), padding=(1, 1), groups=144, bias=False)\n",
              "        (bn2): BatchNorm2d(144, eps=0.001, momentum=0.1, affine=True, track_running_stats=True)\n",
              "        (act2): SiLU(inplace=True)\n",
              "        (se): SqueezeExcite(\n",
              "          (conv_reduce): Conv2d(144, 6, kernel_size=(1, 1), stride=(1, 1))\n",
              "          (act1): SiLU(inplace=True)\n",
              "          (conv_expand): Conv2d(6, 144, kernel_size=(1, 1), stride=(1, 1))\n",
              "        )\n",
              "        (conv_pwl): Conv2d(144, 24, kernel_size=(1, 1), stride=(1, 1), bias=False)\n",
              "        (bn3): BatchNorm2d(24, eps=0.001, momentum=0.1, affine=True, track_running_stats=True)\n",
              "      )\n",
              "    )\n",
              "    (2): Sequential(\n",
              "      (0): InvertedResidual(\n",
              "        (conv_pw): Conv2d(24, 144, kernel_size=(1, 1), stride=(1, 1), bias=False)\n",
              "        (bn1): BatchNorm2d(144, eps=0.001, momentum=0.1, affine=True, track_running_stats=True)\n",
              "        (act1): SiLU(inplace=True)\n",
              "        (conv_dw): Conv2dSame(144, 144, kernel_size=(5, 5), stride=(2, 2), groups=144, bias=False)\n",
              "        (bn2): BatchNorm2d(144, eps=0.001, momentum=0.1, affine=True, track_running_stats=True)\n",
              "        (act2): SiLU(inplace=True)\n",
              "        (se): SqueezeExcite(\n",
              "          (conv_reduce): Conv2d(144, 6, kernel_size=(1, 1), stride=(1, 1))\n",
              "          (act1): SiLU(inplace=True)\n",
              "          (conv_expand): Conv2d(6, 144, kernel_size=(1, 1), stride=(1, 1))\n",
              "        )\n",
              "        (conv_pwl): Conv2d(144, 40, kernel_size=(1, 1), stride=(1, 1), bias=False)\n",
              "        (bn3): BatchNorm2d(40, eps=0.001, momentum=0.1, affine=True, track_running_stats=True)\n",
              "      )\n",
              "      (1): InvertedResidual(\n",
              "        (conv_pw): Conv2d(40, 240, kernel_size=(1, 1), stride=(1, 1), bias=False)\n",
              "        (bn1): BatchNorm2d(240, eps=0.001, momentum=0.1, affine=True, track_running_stats=True)\n",
              "        (act1): SiLU(inplace=True)\n",
              "        (conv_dw): Conv2d(240, 240, kernel_size=(5, 5), stride=(1, 1), padding=(2, 2), groups=240, bias=False)\n",
              "        (bn2): BatchNorm2d(240, eps=0.001, momentum=0.1, affine=True, track_running_stats=True)\n",
              "        (act2): SiLU(inplace=True)\n",
              "        (se): SqueezeExcite(\n",
              "          (conv_reduce): Conv2d(240, 10, kernel_size=(1, 1), stride=(1, 1))\n",
              "          (act1): SiLU(inplace=True)\n",
              "          (conv_expand): Conv2d(10, 240, kernel_size=(1, 1), stride=(1, 1))\n",
              "        )\n",
              "        (conv_pwl): Conv2d(240, 40, kernel_size=(1, 1), stride=(1, 1), bias=False)\n",
              "        (bn3): BatchNorm2d(40, eps=0.001, momentum=0.1, affine=True, track_running_stats=True)\n",
              "      )\n",
              "    )\n",
              "    (3): Sequential(\n",
              "      (0): InvertedResidual(\n",
              "        (conv_pw): Conv2d(40, 240, kernel_size=(1, 1), stride=(1, 1), bias=False)\n",
              "        (bn1): BatchNorm2d(240, eps=0.001, momentum=0.1, affine=True, track_running_stats=True)\n",
              "        (act1): SiLU(inplace=True)\n",
              "        (conv_dw): Conv2dSame(240, 240, kernel_size=(3, 3), stride=(2, 2), groups=240, bias=False)\n",
              "        (bn2): BatchNorm2d(240, eps=0.001, momentum=0.1, affine=True, track_running_stats=True)\n",
              "        (act2): SiLU(inplace=True)\n",
              "        (se): SqueezeExcite(\n",
              "          (conv_reduce): Conv2d(240, 10, kernel_size=(1, 1), stride=(1, 1))\n",
              "          (act1): SiLU(inplace=True)\n",
              "          (conv_expand): Conv2d(10, 240, kernel_size=(1, 1), stride=(1, 1))\n",
              "        )\n",
              "        (conv_pwl): Conv2d(240, 80, kernel_size=(1, 1), stride=(1, 1), bias=False)\n",
              "        (bn3): BatchNorm2d(80, eps=0.001, momentum=0.1, affine=True, track_running_stats=True)\n",
              "      )\n",
              "      (1): InvertedResidual(\n",
              "        (conv_pw): Conv2d(80, 480, kernel_size=(1, 1), stride=(1, 1), bias=False)\n",
              "        (bn1): BatchNorm2d(480, eps=0.001, momentum=0.1, affine=True, track_running_stats=True)\n",
              "        (act1): SiLU(inplace=True)\n",
              "        (conv_dw): Conv2d(480, 480, kernel_size=(3, 3), stride=(1, 1), padding=(1, 1), groups=480, bias=False)\n",
              "        (bn2): BatchNorm2d(480, eps=0.001, momentum=0.1, affine=True, track_running_stats=True)\n",
              "        (act2): SiLU(inplace=True)\n",
              "        (se): SqueezeExcite(\n",
              "          (conv_reduce): Conv2d(480, 20, kernel_size=(1, 1), stride=(1, 1))\n",
              "          (act1): SiLU(inplace=True)\n",
              "          (conv_expand): Conv2d(20, 480, kernel_size=(1, 1), stride=(1, 1))\n",
              "        )\n",
              "        (conv_pwl): Conv2d(480, 80, kernel_size=(1, 1), stride=(1, 1), bias=False)\n",
              "        (bn3): BatchNorm2d(80, eps=0.001, momentum=0.1, affine=True, track_running_stats=True)\n",
              "      )\n",
              "      (2): InvertedResidual(\n",
              "        (conv_pw): Conv2d(80, 480, kernel_size=(1, 1), stride=(1, 1), bias=False)\n",
              "        (bn1): BatchNorm2d(480, eps=0.001, momentum=0.1, affine=True, track_running_stats=True)\n",
              "        (act1): SiLU(inplace=True)\n",
              "        (conv_dw): Conv2d(480, 480, kernel_size=(3, 3), stride=(1, 1), padding=(1, 1), groups=480, bias=False)\n",
              "        (bn2): BatchNorm2d(480, eps=0.001, momentum=0.1, affine=True, track_running_stats=True)\n",
              "        (act2): SiLU(inplace=True)\n",
              "        (se): SqueezeExcite(\n",
              "          (conv_reduce): Conv2d(480, 20, kernel_size=(1, 1), stride=(1, 1))\n",
              "          (act1): SiLU(inplace=True)\n",
              "          (conv_expand): Conv2d(20, 480, kernel_size=(1, 1), stride=(1, 1))\n",
              "        )\n",
              "        (conv_pwl): Conv2d(480, 80, kernel_size=(1, 1), stride=(1, 1), bias=False)\n",
              "        (bn3): BatchNorm2d(80, eps=0.001, momentum=0.1, affine=True, track_running_stats=True)\n",
              "      )\n",
              "    )\n",
              "    (4): Sequential(\n",
              "      (0): InvertedResidual(\n",
              "        (conv_pw): Conv2d(80, 480, kernel_size=(1, 1), stride=(1, 1), bias=False)\n",
              "        (bn1): BatchNorm2d(480, eps=0.001, momentum=0.1, affine=True, track_running_stats=True)\n",
              "        (act1): SiLU(inplace=True)\n",
              "        (conv_dw): Conv2d(480, 480, kernel_size=(5, 5), stride=(1, 1), padding=(2, 2), groups=480, bias=False)\n",
              "        (bn2): BatchNorm2d(480, eps=0.001, momentum=0.1, affine=True, track_running_stats=True)\n",
              "        (act2): SiLU(inplace=True)\n",
              "        (se): SqueezeExcite(\n",
              "          (conv_reduce): Conv2d(480, 20, kernel_size=(1, 1), stride=(1, 1))\n",
              "          (act1): SiLU(inplace=True)\n",
              "          (conv_expand): Conv2d(20, 480, kernel_size=(1, 1), stride=(1, 1))\n",
              "        )\n",
              "        (conv_pwl): Conv2d(480, 112, kernel_size=(1, 1), stride=(1, 1), bias=False)\n",
              "        (bn3): BatchNorm2d(112, eps=0.001, momentum=0.1, affine=True, track_running_stats=True)\n",
              "      )\n",
              "      (1): InvertedResidual(\n",
              "        (conv_pw): Conv2d(112, 672, kernel_size=(1, 1), stride=(1, 1), bias=False)\n",
              "        (bn1): BatchNorm2d(672, eps=0.001, momentum=0.1, affine=True, track_running_stats=True)\n",
              "        (act1): SiLU(inplace=True)\n",
              "        (conv_dw): Conv2d(672, 672, kernel_size=(5, 5), stride=(1, 1), padding=(2, 2), groups=672, bias=False)\n",
              "        (bn2): BatchNorm2d(672, eps=0.001, momentum=0.1, affine=True, track_running_stats=True)\n",
              "        (act2): SiLU(inplace=True)\n",
              "        (se): SqueezeExcite(\n",
              "          (conv_reduce): Conv2d(672, 28, kernel_size=(1, 1), stride=(1, 1))\n",
              "          (act1): SiLU(inplace=True)\n",
              "          (conv_expand): Conv2d(28, 672, kernel_size=(1, 1), stride=(1, 1))\n",
              "        )\n",
              "        (conv_pwl): Conv2d(672, 112, kernel_size=(1, 1), stride=(1, 1), bias=False)\n",
              "        (bn3): BatchNorm2d(112, eps=0.001, momentum=0.1, affine=True, track_running_stats=True)\n",
              "      )\n",
              "      (2): InvertedResidual(\n",
              "        (conv_pw): Conv2d(112, 672, kernel_size=(1, 1), stride=(1, 1), bias=False)\n",
              "        (bn1): BatchNorm2d(672, eps=0.001, momentum=0.1, affine=True, track_running_stats=True)\n",
              "        (act1): SiLU(inplace=True)\n",
              "        (conv_dw): Conv2d(672, 672, kernel_size=(5, 5), stride=(1, 1), padding=(2, 2), groups=672, bias=False)\n",
              "        (bn2): BatchNorm2d(672, eps=0.001, momentum=0.1, affine=True, track_running_stats=True)\n",
              "        (act2): SiLU(inplace=True)\n",
              "        (se): SqueezeExcite(\n",
              "          (conv_reduce): Conv2d(672, 28, kernel_size=(1, 1), stride=(1, 1))\n",
              "          (act1): SiLU(inplace=True)\n",
              "          (conv_expand): Conv2d(28, 672, kernel_size=(1, 1), stride=(1, 1))\n",
              "        )\n",
              "        (conv_pwl): Conv2d(672, 112, kernel_size=(1, 1), stride=(1, 1), bias=False)\n",
              "        (bn3): BatchNorm2d(112, eps=0.001, momentum=0.1, affine=True, track_running_stats=True)\n",
              "      )\n",
              "    )\n",
              "    (5): Sequential(\n",
              "      (0): InvertedResidual(\n",
              "        (conv_pw): Conv2d(112, 672, kernel_size=(1, 1), stride=(1, 1), bias=False)\n",
              "        (bn1): BatchNorm2d(672, eps=0.001, momentum=0.1, affine=True, track_running_stats=True)\n",
              "        (act1): SiLU(inplace=True)\n",
              "        (conv_dw): Conv2dSame(672, 672, kernel_size=(5, 5), stride=(2, 2), groups=672, bias=False)\n",
              "        (bn2): BatchNorm2d(672, eps=0.001, momentum=0.1, affine=True, track_running_stats=True)\n",
              "        (act2): SiLU(inplace=True)\n",
              "        (se): SqueezeExcite(\n",
              "          (conv_reduce): Conv2d(672, 28, kernel_size=(1, 1), stride=(1, 1))\n",
              "          (act1): SiLU(inplace=True)\n",
              "          (conv_expand): Conv2d(28, 672, kernel_size=(1, 1), stride=(1, 1))\n",
              "        )\n",
              "        (conv_pwl): Conv2d(672, 192, kernel_size=(1, 1), stride=(1, 1), bias=False)\n",
              "        (bn3): BatchNorm2d(192, eps=0.001, momentum=0.1, affine=True, track_running_stats=True)\n",
              "      )\n",
              "      (1): InvertedResidual(\n",
              "        (conv_pw): Conv2d(192, 1152, kernel_size=(1, 1), stride=(1, 1), bias=False)\n",
              "        (bn1): BatchNorm2d(1152, eps=0.001, momentum=0.1, affine=True, track_running_stats=True)\n",
              "        (act1): SiLU(inplace=True)\n",
              "        (conv_dw): Conv2d(1152, 1152, kernel_size=(5, 5), stride=(1, 1), padding=(2, 2), groups=1152, bias=False)\n",
              "        (bn2): BatchNorm2d(1152, eps=0.001, momentum=0.1, affine=True, track_running_stats=True)\n",
              "        (act2): SiLU(inplace=True)\n",
              "        (se): SqueezeExcite(\n",
              "          (conv_reduce): Conv2d(1152, 48, kernel_size=(1, 1), stride=(1, 1))\n",
              "          (act1): SiLU(inplace=True)\n",
              "          (conv_expand): Conv2d(48, 1152, kernel_size=(1, 1), stride=(1, 1))\n",
              "        )\n",
              "        (conv_pwl): Conv2d(1152, 192, kernel_size=(1, 1), stride=(1, 1), bias=False)\n",
              "        (bn3): BatchNorm2d(192, eps=0.001, momentum=0.1, affine=True, track_running_stats=True)\n",
              "      )\n",
              "      (2): InvertedResidual(\n",
              "        (conv_pw): Conv2d(192, 1152, kernel_size=(1, 1), stride=(1, 1), bias=False)\n",
              "        (bn1): BatchNorm2d(1152, eps=0.001, momentum=0.1, affine=True, track_running_stats=True)\n",
              "        (act1): SiLU(inplace=True)\n",
              "        (conv_dw): Conv2d(1152, 1152, kernel_size=(5, 5), stride=(1, 1), padding=(2, 2), groups=1152, bias=False)\n",
              "        (bn2): BatchNorm2d(1152, eps=0.001, momentum=0.1, affine=True, track_running_stats=True)\n",
              "        (act2): SiLU(inplace=True)\n",
              "        (se): SqueezeExcite(\n",
              "          (conv_reduce): Conv2d(1152, 48, kernel_size=(1, 1), stride=(1, 1))\n",
              "          (act1): SiLU(inplace=True)\n",
              "          (conv_expand): Conv2d(48, 1152, kernel_size=(1, 1), stride=(1, 1))\n",
              "        )\n",
              "        (conv_pwl): Conv2d(1152, 192, kernel_size=(1, 1), stride=(1, 1), bias=False)\n",
              "        (bn3): BatchNorm2d(192, eps=0.001, momentum=0.1, affine=True, track_running_stats=True)\n",
              "      )\n",
              "      (3): InvertedResidual(\n",
              "        (conv_pw): Conv2d(192, 1152, kernel_size=(1, 1), stride=(1, 1), bias=False)\n",
              "        (bn1): BatchNorm2d(1152, eps=0.001, momentum=0.1, affine=True, track_running_stats=True)\n",
              "        (act1): SiLU(inplace=True)\n",
              "        (conv_dw): Conv2d(1152, 1152, kernel_size=(5, 5), stride=(1, 1), padding=(2, 2), groups=1152, bias=False)\n",
              "        (bn2): BatchNorm2d(1152, eps=0.001, momentum=0.1, affine=True, track_running_stats=True)\n",
              "        (act2): SiLU(inplace=True)\n",
              "        (se): SqueezeExcite(\n",
              "          (conv_reduce): Conv2d(1152, 48, kernel_size=(1, 1), stride=(1, 1))\n",
              "          (act1): SiLU(inplace=True)\n",
              "          (conv_expand): Conv2d(48, 1152, kernel_size=(1, 1), stride=(1, 1))\n",
              "        )\n",
              "        (conv_pwl): Conv2d(1152, 192, kernel_size=(1, 1), stride=(1, 1), bias=False)\n",
              "        (bn3): BatchNorm2d(192, eps=0.001, momentum=0.1, affine=True, track_running_stats=True)\n",
              "      )\n",
              "    )\n",
              "    (6): Sequential(\n",
              "      (0): InvertedResidual(\n",
              "        (conv_pw): Conv2d(192, 1152, kernel_size=(1, 1), stride=(1, 1), bias=False)\n",
              "        (bn1): BatchNorm2d(1152, eps=0.001, momentum=0.1, affine=True, track_running_stats=True)\n",
              "        (act1): SiLU(inplace=True)\n",
              "        (conv_dw): Conv2d(1152, 1152, kernel_size=(3, 3), stride=(1, 1), padding=(1, 1), groups=1152, bias=False)\n",
              "        (bn2): BatchNorm2d(1152, eps=0.001, momentum=0.1, affine=True, track_running_stats=True)\n",
              "        (act2): SiLU(inplace=True)\n",
              "        (se): SqueezeExcite(\n",
              "          (conv_reduce): Conv2d(1152, 48, kernel_size=(1, 1), stride=(1, 1))\n",
              "          (act1): SiLU(inplace=True)\n",
              "          (conv_expand): Conv2d(48, 1152, kernel_size=(1, 1), stride=(1, 1))\n",
              "        )\n",
              "        (conv_pwl): Conv2d(1152, 320, kernel_size=(1, 1), stride=(1, 1), bias=False)\n",
              "        (bn3): BatchNorm2d(320, eps=0.001, momentum=0.1, affine=True, track_running_stats=True)\n",
              "      )\n",
              "    )\n",
              "  )\n",
              "  (conv_head): Conv2d(320, 1280, kernel_size=(1, 1), stride=(1, 1), bias=False)\n",
              "  (bn2): BatchNorm2d(1280, eps=0.001, momentum=0.1, affine=True, track_running_stats=True)\n",
              "  (act2): SiLU(inplace=True)\n",
              "  (global_pool): SelectAdaptivePool2d (pool_type=avg, flatten=True)\n",
              "  (classifier): Identity()\n",
              ")"
            ]
          },
          "metadata": {},
          "execution_count": 17
        }
      ]
    },
    {
      "cell_type": "code",
      "source": [
        "# emotion_ind2label={0: 'Not-Engaget', 1: 'Barely-Engaged', 2: 'Engaged', 3: 'Highly-Engaged'}"
      ],
      "metadata": {
        "id": "KY7pM23Lo8hp"
      },
      "execution_count": 18,
      "outputs": []
    },
    {
      "cell_type": "code",
      "source": [
        "def get_features(data_dir):\n",
        "    filename2features={}\n",
        "    for filename in tqdm(os.listdir(data_dir)):\n",
        "        frames_dir=os.path.join(data_dir,filename)\n",
        "        X_global_features=[]\n",
        "        imgs=[]\n",
        "        faces_only=[fn for fn in os.listdir(frames_dir) if 'noface' not in fn]\n",
        "        for img_name in sorted(faces_only):\n",
        "            img = Image.open(os.path.join(frames_dir,img_name))\n",
        "            img_tensor = test_transforms(img)\n",
        "            if img.size:\n",
        "                imgs.append(img_tensor)\n",
        "                if len(imgs)>=64:        \n",
        "                    features = feature_extractor_model(torch.stack(imgs, dim=0).to(device))\n",
        "                    features=features.data.cpu().numpy()\n",
        "                    #print(features.shape)\n",
        "\n",
        "                    if len(X_global_features)==0:\n",
        "                        X_global_features=features\n",
        "                    else:\n",
        "                        X_global_features=np.concatenate((X_global_features,features),axis=0)\n",
        "\n",
        "                    imgs=[]\n",
        "            \n",
        "\n",
        "        if len(imgs)>0:        \n",
        "            features = feature_extractor_model(torch.stack(imgs, dim=0).to(device))\n",
        "            features=features.data.cpu().numpy()\n",
        "            #print(features.shape)\n",
        "\n",
        "            if len(X_global_features)==0:\n",
        "                X_global_features=features\n",
        "            else:\n",
        "                X_global_features=np.concatenate((X_global_features,features),axis=0)\n",
        "\n",
        "            imgs=[]\n",
        "\n",
        "        #print(X_global_features.shape,X_feats.shape,X_scores.shape)\n",
        "        filename2features[filename]=X_global_features\n",
        "    return filename2features\n",
        "\n",
        "print(test_transforms)\n",
        "filename2features_val=get_features(os.path.join(DATA_DIR,'cropped/aligned/Validation/'))"
      ],
      "metadata": {
        "colab": {
          "base_uri": "https://localhost:8080/",
          "height": 140,
          "referenced_widgets": [
            "5be72b6053ac43b3841f16b68400a96f",
            "516d24ca1cfb4ff0a2f3a8ea79e6b96f",
            "b900ba94ff324ebbb0e1084ccd6f3da0",
            "e0abeb5b658744de9fe68570a901283b",
            "523abacfd59f402b9226080374ee3644",
            "91719fdffdce4b409a33a2e5d7e4c75e",
            "71e1fbb96d3748ee81c59540c83d8bfe",
            "a3063b3e55aa4f74bc6846018678a7de",
            "4370fa1172fd432da1c264b0aab3deac",
            "776b4f0571a24fbab0b508c667cd8d28",
            "b0e196e7fcc54fec8cfc388db208c25d"
          ]
        },
        "id": "iJ5PLNZipMS7",
        "outputId": "a8de80ee-55e5-4dbd-b728-240bd86eb9b0"
      },
      "execution_count": 19,
      "outputs": [
        {
          "output_type": "stream",
          "name": "stdout",
          "text": [
            "Compose(\n",
            "    Resize(size=(224, 224), interpolation=bilinear, max_size=None, antialias=None)\n",
            "    ToTensor()\n",
            "    Normalize(mean=[0.485, 0.456, 0.406], std=[0.229, 0.224, 0.225])\n",
            ")\n"
          ]
        },
        {
          "output_type": "display_data",
          "data": {
            "text/plain": [
              "  0%|          | 0/20 [00:00<?, ?it/s]"
            ],
            "application/vnd.jupyter.widget-view+json": {
              "version_major": 2,
              "version_minor": 0,
              "model_id": "5be72b6053ac43b3841f16b68400a96f"
            }
          },
          "metadata": {}
        }
      ]
    },
    {
      "cell_type": "code",
      "source": [
        "filename2features_train=get_features(os.path.join(DATA_DIR,'cropped/aligned/Train/'))\n",
        "filename2features_test=get_features(os.path.join(DATA_DIR,'cropped/aligned/Test/'))"
      ],
      "metadata": {
        "colab": {
          "base_uri": "https://localhost:8080/",
          "height": 81,
          "referenced_widgets": [
            "fc8e7afb9f9c4ab7be8c88d6800a91e3",
            "e86bc71fc4eb4aac9fe0d474faa5a185",
            "dc40b0d0b4684091b6fbfcaf86726bb6",
            "56fa177bfc2f41bcbe715e00e5012353",
            "5295df00f3f645128b56af103beaa3f8",
            "04e02294b4fc4c668cff3ce292a3fee6",
            "1362b9624239454f9a79242b1486cfd2",
            "f339d462e7504b09b35128a2fe88929f",
            "d703a83acdf942a18f94a69fb59321d1",
            "9ae81d6490684667812d5e8eba507493",
            "1d17f4fbe1ed409595ea80671b16cb95",
            "36c7362f61e1483bb8b2f39ea35ff5af",
            "e951d5998cc046e4a241d8864e1daa18",
            "12dc276d496740cebe69a38327c8750b",
            "cb0145509c894dffabe705599de5a09c",
            "13ed7f5b51884d14b9c7d327a43acf68",
            "34dc19a36bab4dbf904575e5fa51ac9f",
            "f689cba89d3249d4a624ba633654bcfb",
            "46216884148942abb9f256e056497174",
            "e5b90f27ee314d339787703ae63d24fc",
            "c37a7e61542a477295ec27f5d959c7bc",
            "766d29b1f80e408da6e04b7d6a4c5921"
          ]
        },
        "id": "kVcnO-cT_yak",
        "outputId": "d1b94bdd-1940-41a1-807a-87ee1b72d277"
      },
      "execution_count": 21,
      "outputs": [
        {
          "output_type": "display_data",
          "data": {
            "text/plain": [
              "  0%|          | 0/20 [00:00<?, ?it/s]"
            ],
            "application/vnd.jupyter.widget-view+json": {
              "version_major": 2,
              "version_minor": 0,
              "model_id": "fc8e7afb9f9c4ab7be8c88d6800a91e3"
            }
          },
          "metadata": {}
        },
        {
          "output_type": "display_data",
          "data": {
            "text/plain": [
              "  0%|          | 0/18 [00:00<?, ?it/s]"
            ],
            "application/vnd.jupyter.widget-view+json": {
              "version_major": 2,
              "version_minor": 0,
              "model_id": "36c7362f61e1483bb8b2f39ea35ff5af"
            }
          },
          "metadata": {}
        }
      ]
    },
    {
      "cell_type": "code",
      "source": [
        "# torch.cuda.empty_cache()"
      ],
      "metadata": {
        "id": "nZWYw5QvygcF"
      },
      "execution_count": null,
      "outputs": []
    },
    {
      "cell_type": "code",
      "source": [
        "import csv\n",
        "\n",
        "def create_dataset(filename2features):\n",
        "    x = []\n",
        "    y = []\n",
        "    ind=0\n",
        "    for fn in filename2features:\n",
        "        cur_features=filename2features[fn]\n",
        "        total_features=None\n",
        "        total_features=np.std(cur_features, axis=0)\n",
        "        x.append(total_features)\n",
        "        y.append(video2label[fn])\n",
        "    x=np.array(x)\n",
        "    y=np.array(y)\n",
        "    print(x.shape,y.shape)\n",
        "    return x,y\n",
        "\n",
        "video2label={}\n",
        "with open(os.path.join('/content/drive/MyDrive/project/Датасэт/Labels/','ValidationLabels.csv'), mode='r') as csvfile:\n",
        "    labels_reader = csv.reader(csvfile, delimiter=';')\n",
        "    for i,row in enumerate(labels_reader):\n",
        "        if i==0:\n",
        "            #print('first:',row)\n",
        "            continue\n",
        "        videoname,label=row[0].split('.')[0],float(row[1])\n",
        "        video2label[videoname]=label\n",
        "\n",
        "x_val, y_val = create_dataset(filename2features_val)"
      ],
      "metadata": {
        "colab": {
          "base_uri": "https://localhost:8080/"
        },
        "id": "iwmTjfNxLAY9",
        "outputId": "029fbce0-928e-4c8d-c867-494860316bfc"
      },
      "execution_count": 38,
      "outputs": [
        {
          "output_type": "stream",
          "name": "stdout",
          "text": [
            "(20, 1280) (20,)\n"
          ]
        }
      ]
    },
    {
      "cell_type": "code",
      "source": [
        "video2label={}\n",
        "with open(os.path.join('/content/drive/MyDrive/project/Датасэт/Labels/','TrainLabels.csv'), mode='r') as csvfile:\n",
        "    labels_reader = csv.reader(csvfile, delimiter=';')\n",
        "    for i,row in enumerate(labels_reader):\n",
        "        if i==0:\n",
        "            #print('first:',row)\n",
        "            continue\n",
        "        videoname,label=row[0].split('.')[0],float(row[1])\n",
        "        video2label[videoname]=label\n",
        "\n",
        "x_train, y_train = create_dataset(filename2features_train)"
      ],
      "metadata": {
        "colab": {
          "base_uri": "https://localhost:8080/"
        },
        "id": "aEYEDskRMNDh",
        "outputId": "dc8d89bc-fd0e-4fa5-bcae-2eaf0a35522b"
      },
      "execution_count": 41,
      "outputs": [
        {
          "output_type": "stream",
          "name": "stdout",
          "text": [
            "(20, 1280) (20,)\n"
          ]
        }
      ]
    },
    {
      "cell_type": "code",
      "source": [
        "video2label={}\n",
        "with open(os.path.join('/content/drive/MyDrive/project/Датасэт/Labels/','TestLabels.csv'), mode='r') as csvfile:\n",
        "    labels_reader = csv.reader(csvfile, delimiter=';')\n",
        "    for i,row in enumerate(labels_reader):\n",
        "        if i==0:\n",
        "            #print('first:',row)\n",
        "            continue\n",
        "        videoname,label=row[0].split('.')[0],float(row[1])\n",
        "        video2label[videoname]=label\n",
        "\n",
        "x_test, y_test = create_dataset(filename2features_test)"
      ],
      "metadata": {
        "colab": {
          "base_uri": "https://localhost:8080/"
        },
        "id": "jVSnku8lIDqr",
        "outputId": "8a6b7217-dceb-4d4c-d58b-e4c76f25d11f"
      },
      "execution_count": 49,
      "outputs": [
        {
          "output_type": "stream",
          "name": "stdout",
          "text": [
            "(18, 1280) (18,)\n"
          ]
        }
      ]
    },
    {
      "cell_type": "code",
      "source": [
        "reg_coef,reg_intercept = np.load('/content/drive/MyDrive/project/Датасэт/Models/mord_reg_enet_b0_8_best_afew.npy',allow_pickle=True)"
      ],
      "metadata": {
        "id": "_nAF2ZFCPfxN"
      },
      "execution_count": 50,
      "outputs": []
    },
    {
      "cell_type": "code",
      "source": [
        "y_test"
      ],
      "metadata": {
        "colab": {
          "base_uri": "https://localhost:8080/"
        },
        "id": "_ZzlC1V7R2sc",
        "outputId": "92c1d587-af0c-48d4-e191-9f96d28afe3e"
      },
      "execution_count": 52,
      "outputs": [
        {
          "output_type": "execute_result",
          "data": {
            "text/plain": [
              "array([3., 1., 3., 3., 3., 0., 3., 1., 2., 2., 1., 2., 1., 2., 1., 3., 2.,\n",
              "       2.])"
            ]
          },
          "metadata": {},
          "execution_count": 52
        }
      ]
    },
    {
      "cell_type": "code",
      "source": [
        "y_pred=np.dot(x_test,reg_coef)+reg_intercept\n",
        "y_pred = np.round(y_pred)\n",
        "y_pred = np.clip(y_pred, 0, 3)\n",
        "print(y_pred)\n",
        "int2float={0:0,1:0.33,2:0.66,3:1} #EngageWild: disengaged, barely engaged, engaged, highly engaged.\n",
        "y_pred_float=np.array([int2float[y] for y in y_pred])\n",
        "print(y_pred_float)\n",
        "print(\"MSE:\",((y_test-y_pred_float)**2).mean())"
      ],
      "metadata": {
        "colab": {
          "base_uri": "https://localhost:8080/"
        },
        "id": "ueBBa1BdRrgo",
        "outputId": "1e3abc8e-da57-4d0f-a2c2-4a6c8cda347d"
      },
      "execution_count": 53,
      "outputs": [
        {
          "output_type": "stream",
          "name": "stdout",
          "text": [
            "[3. 1. 2. 2. 2. 2. 2. 2. 2. 2. 0. 2. 1. 1. 0. 1. 1. 1.]\n",
            "[1.   0.33 0.66 0.66 0.66 0.66 0.66 0.66 0.66 0.66 0.   0.66 0.33 0.33\n",
            " 0.   0.33 0.33 0.33]\n",
            "MSE: 2.790766666666666\n"
          ]
        }
      ]
    },
    {
      "cell_type": "code",
      "source": [
        "y_train"
      ],
      "metadata": {
        "colab": {
          "base_uri": "https://localhost:8080/"
        },
        "id": "THUNT2upSVAH",
        "outputId": "4ae206b9-f697-49db-b3e4-2f1a2b893572"
      },
      "execution_count": 55,
      "outputs": [
        {
          "output_type": "execute_result",
          "data": {
            "text/plain": [
              "array([1., 0., 2., 2., 3., 3., 2., 3., 1., 0., 1., 2., 1., 0., 1., 2., 2.,\n",
              "       1., 3., 0.])"
            ]
          },
          "metadata": {},
          "execution_count": 55
        }
      ]
    },
    {
      "cell_type": "code",
      "source": [
        "y_pred=np.dot(x_train,reg_coef)+reg_intercept\n",
        "y_pred = np.round(y_pred)\n",
        "y_pred = np.clip(y_pred, 0, 3)\n",
        "print(y_pred)\n",
        "int2float={0:0,1:0.33,2:0.66,3:1} #EngageWild: disengaged, barely engaged, engaged, highly engaged.\n",
        "y_pred_float=np.array([int2float[y] for y in y_pred])\n",
        "print(y_pred_float)\n",
        "print(\"MSE:\",((y_train-y_pred_float)**2).mean())"
      ],
      "metadata": {
        "colab": {
          "base_uri": "https://localhost:8080/"
        },
        "id": "zNN8sWdfRyfm",
        "outputId": "fb729519-d8df-40ac-8f3a-9127b95eb401"
      },
      "execution_count": 57,
      "outputs": [
        {
          "output_type": "stream",
          "name": "stdout",
          "text": [
            "[0. 0. 3. 2. 3. 3. 2. 2. 2. 2. 2. 2. 2. 2. 1. 2. 2. 2. 2. 1.]\n",
            "[0.   0.   1.   0.66 1.   1.   0.66 0.66 0.66 0.66 0.66 0.66 0.66 0.66\n",
            " 0.33 0.66 0.66 0.66 0.66 0.33]\n",
            "MSE: 1.5910299999999997\n"
          ]
        }
      ]
    },
    {
      "cell_type": "code",
      "source": [
        "y_val"
      ],
      "metadata": {
        "colab": {
          "base_uri": "https://localhost:8080/"
        },
        "id": "8VxPrGdASTtD",
        "outputId": "1036c312-caca-4181-cadb-485dae240d56"
      },
      "execution_count": 58,
      "outputs": [
        {
          "output_type": "execute_result",
          "data": {
            "text/plain": [
              "array([3., 2., 3., 3., 0., 1., 2., 3., 2., 1., 3., 2., 3., 0., 1., 2., 2.,\n",
              "       0., 1., 2.])"
            ]
          },
          "metadata": {},
          "execution_count": 58
        }
      ]
    },
    {
      "cell_type": "code",
      "source": [
        "y_pred=np.dot(x_val,reg_coef)+reg_intercept\n",
        "y_pred = np.round(y_pred)\n",
        "y_pred = np.clip(y_pred, 0, 3)\n",
        "print(y_pred)\n",
        "int2float={0:0,1:0.33,2:0.66,3:1} #EngageWild: disengaged, barely engaged, engaged, highly engaged.\n",
        "y_pred_float=np.array([int2float[y] for y in y_pred])\n",
        "print(y_pred_float)\n",
        "print(\"MSE:\",((y_val-y_pred_float)**2).mean())"
      ],
      "metadata": {
        "colab": {
          "base_uri": "https://localhost:8080/"
        },
        "id": "TEq-_VsoSmGc",
        "outputId": "be762038-6aff-4f9d-f0e3-78e475e066aa"
      },
      "execution_count": 59,
      "outputs": [
        {
          "output_type": "stream",
          "name": "stdout",
          "text": [
            "[2. 2. 3. 3. 1. 1. 2. 2. 3. 2. 3. 2. 2. 1. 1. 1. 1. 2. 2. 3.]\n",
            "[0.66 0.66 1.   1.   0.33 0.33 0.66 0.66 1.   0.66 1.   0.66 0.66 0.33\n",
            " 0.33 0.33 0.33 0.66 0.66 1.  ]\n",
            "MSE: 2.1586899999999996\n"
          ]
        }
      ]
    },
    {
      "cell_type": "code",
      "source": [
        "y_test"
      ],
      "metadata": {
        "colab": {
          "base_uri": "https://localhost:8080/"
        },
        "id": "l-o72t8DSvTO",
        "outputId": "81296e33-054d-47df-d974-f8fb71d3bd0a"
      },
      "execution_count": 61,
      "outputs": [
        {
          "output_type": "execute_result",
          "data": {
            "text/plain": [
              "array([3., 1., 3., 3., 3., 0., 3., 1., 2., 2., 1., 2., 1., 2., 1., 3., 2.,\n",
              "       2.])"
            ]
          },
          "metadata": {},
          "execution_count": 61
        }
      ]
    },
    {
      "cell_type": "code",
      "source": [
        "!pip install pickle5\n",
        "import pickle5 as pickle"
      ],
      "metadata": {
        "colab": {
          "base_uri": "https://localhost:8080/"
        },
        "id": "my4GEyf7TdlD",
        "outputId": "1ac70e57-0215-4deb-a288-a05466793b42"
      },
      "execution_count": 65,
      "outputs": [
        {
          "output_type": "stream",
          "name": "stdout",
          "text": [
            "Collecting pickle5\n",
            "  Downloading pickle5-0.0.12-cp37-cp37m-manylinux_2_5_x86_64.manylinux1_x86_64.whl (256 kB)\n",
            "\u001b[?25l\r\u001b[K     |█▎                              | 10 kB 27.9 MB/s eta 0:00:01\r\u001b[K     |██▋                             | 20 kB 8.0 MB/s eta 0:00:01\r\u001b[K     |███▉                            | 30 kB 7.2 MB/s eta 0:00:01\r\u001b[K     |█████▏                          | 40 kB 6.8 MB/s eta 0:00:01\r\u001b[K     |██████▍                         | 51 kB 4.5 MB/s eta 0:00:01\r\u001b[K     |███████▊                        | 61 kB 5.3 MB/s eta 0:00:01\r\u001b[K     |█████████                       | 71 kB 5.2 MB/s eta 0:00:01\r\u001b[K     |██████████▎                     | 81 kB 5.1 MB/s eta 0:00:01\r\u001b[K     |███████████▌                    | 92 kB 5.7 MB/s eta 0:00:01\r\u001b[K     |████████████▉                   | 102 kB 5.2 MB/s eta 0:00:01\r\u001b[K     |██████████████                  | 112 kB 5.2 MB/s eta 0:00:01\r\u001b[K     |███████████████▍                | 122 kB 5.2 MB/s eta 0:00:01\r\u001b[K     |████████████████▋               | 133 kB 5.2 MB/s eta 0:00:01\r\u001b[K     |██████████████████              | 143 kB 5.2 MB/s eta 0:00:01\r\u001b[K     |███████████████████▏            | 153 kB 5.2 MB/s eta 0:00:01\r\u001b[K     |████████████████████▌           | 163 kB 5.2 MB/s eta 0:00:01\r\u001b[K     |█████████████████████▊          | 174 kB 5.2 MB/s eta 0:00:01\r\u001b[K     |███████████████████████         | 184 kB 5.2 MB/s eta 0:00:01\r\u001b[K     |████████████████████████▎       | 194 kB 5.2 MB/s eta 0:00:01\r\u001b[K     |█████████████████████████▋      | 204 kB 5.2 MB/s eta 0:00:01\r\u001b[K     |██████████████████████████▉     | 215 kB 5.2 MB/s eta 0:00:01\r\u001b[K     |████████████████████████████▏   | 225 kB 5.2 MB/s eta 0:00:01\r\u001b[K     |█████████████████████████████▍  | 235 kB 5.2 MB/s eta 0:00:01\r\u001b[K     |██████████████████████████████▊ | 245 kB 5.2 MB/s eta 0:00:01\r\u001b[K     |████████████████████████████████| 256 kB 5.2 MB/s eta 0:00:01\r\u001b[K     |████████████████████████████████| 256 kB 5.2 MB/s \n",
            "\u001b[?25hInstalling collected packages: pickle5\n",
            "Successfully installed pickle5-0.0.12\n"
          ]
        }
      ]
    },
    {
      "cell_type": "code",
      "source": [
        "with open('/content/drive/MyDrive/project/Датасэт/Models/daisee_svm_norm_enet_b0_8_best_afew.pkl', 'rb') as handle:\n",
        "    cls=pickle.load(handle)"
      ],
      "metadata": {
        "colab": {
          "base_uri": "https://localhost:8080/"
        },
        "id": "oAcX-QJuS3k2",
        "outputId": "49366aac-9ea5-4b02-fd56-3cd1b48f44df"
      },
      "execution_count": 66,
      "outputs": [
        {
          "output_type": "stream",
          "name": "stderr",
          "text": [
            "/usr/local/lib/python3.7/dist-packages/sklearn/base.py:338: UserWarning: Trying to unpickle estimator SVC from version 0.24.2 when using version 1.0.2. This might lead to breaking code or invalid results. Use at your own risk. For more info please refer to:\n",
            "https://scikit-learn.org/stable/modules/model_persistence.html#security-maintainability-limitations\n",
            "  UserWarning,\n"
          ]
        }
      ]
    },
    {
      "cell_type": "code",
      "source": [
        "x_test_norm=preprocessing.normalize(x_test,norm='l2')\n",
        "y_pred = cls.predict(x_test_norm)\n",
        "print(y_pred)\n",
        "int2float={0:0,1:0.33,2:0.66,3:1} # very low, low, high, very high\n",
        "y_pred_float=np.array([int2float[y] for y in y_pred])\n",
        "print(\"MSE:\",((y_test-y_pred_float)**2).mean())"
      ],
      "metadata": {
        "colab": {
          "base_uri": "https://localhost:8080/"
        },
        "id": "8XlXXNNYSpcg",
        "outputId": "f1777af6-3c14-48d7-b0e5-b37e4831c46f"
      },
      "execution_count": 67,
      "outputs": [
        {
          "output_type": "stream",
          "name": "stdout",
          "text": [
            "[3 2 2 2 2 3 2 2 2 2 2 2 2 2 2 2 2 2]\n",
            "MSE: 2.4294222222222217\n"
          ]
        }
      ]
    },
    {
      "cell_type": "code",
      "source": [
        ""
      ],
      "metadata": {
        "id": "DIujHJ6-Tjdj"
      },
      "execution_count": null,
      "outputs": []
    }
  ]
}
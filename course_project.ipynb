{
  "cells": [
    {
      "cell_type": "markdown",
      "metadata": {
        "id": "view-in-github",
        "colab_type": "text"
      },
      "source": [
        "<a href=\"https://colab.research.google.com/github/Pembo2008/engagement-recognition/blob/main/course_project.ipynb\" target=\"_parent\"><img src=\"https://colab.research.google.com/assets/colab-badge.svg\" alt=\"Open In Colab\"/></a>"
      ]
    },
    {
      "cell_type": "code",
      "execution_count": 1,
      "metadata": {
        "id": "D4jjksO7K5Dp"
      },
      "outputs": [],
      "source": [
        "import os\n",
        "from PIL import Image\n",
        "import cv2\n",
        "from sklearn.model_selection import train_test_split\n",
        "from sklearn import preprocessing\n",
        "from sklearn import svm\n",
        "from sklearn.ensemble import RandomForestClassifier,RandomForestRegressor\n",
        "from sklearn import svm,metrics,preprocessing\n",
        "from sklearn.neighbors import KNeighborsClassifier\n",
        "from sklearn.decomposition import PCA\n",
        "from sklearn.pipeline import Pipeline\n",
        "from collections import defaultdict\n",
        "import os\n",
        "import random\n",
        "import numpy as np\n",
        "from tqdm import tqdm\n",
        "import time\n",
        "import pickle\n",
        "import pandas as pd\n",
        "import matplotlib.pyplot as plt\n",
        "import pathlib\n",
        "import tensorflow as tf\n",
        "import torch\n",
        "from tensorflow.keras.applications.resnet import preprocess_input\n",
        "from tensorflow.keras.layers import TimeDistributed, GRU, Dense, Dropout, Flatten, LSTM, Activation, MaxPooling2D\n",
        "from tensorflow.keras.regularizers import l2 as L2_reg\n",
        "from tensorflow.keras.layers import Conv2D, BatchNormalization,MaxPool2D, GlobalMaxPool2D, Input, Masking, Conv3D, MaxPooling3D, GlobalMaxPool3D\n",
        "from tensorflow.keras.optimizers import SGD, Adam\n",
        "from tensorflow.compat.v1.keras.backend import set_session\n",
        "import glob\n",
        "from itertools import chain\n",
        "import os\n",
        "import random\n",
        "import zipfile\n",
        "\n",
        "import matplotlib.pyplot as plt\n",
        "import numpy as np\n",
        "import pandas as pd\n",
        "import torch\n",
        "import torch.nn as nn\n",
        "import torch.nn.functional as F\n",
        "import torch.optim as optim\n",
        "from PIL import Image\n",
        "from sklearn.model_selection import train_test_split\n",
        "from torch.optim.lr_scheduler import StepLR\n",
        "from torch.utils.data import DataLoader, Dataset\n",
        "from torchvision import datasets, transforms\n",
        "from tqdm.notebook import tqdm \n",
        "config = tf.compat.v1.ConfigProto()\n",
        "config.gpu_options.allow_growth = True\n",
        "sess=tf.compat.v1.Session(config=config)\n",
        "set_session(sess)"
      ]
    },
    {
      "cell_type": "code",
      "execution_count": 2,
      "metadata": {
        "colab": {
          "base_uri": "https://localhost:8080/"
        },
        "id": "XEiiNoX2KYEI",
        "outputId": "bcfaa13c-289e-43f7-b21f-509ec055e6b6"
      },
      "outputs": [
        {
          "output_type": "execute_result",
          "data": {
            "text/plain": [
              "device(type='cuda')"
            ]
          },
          "metadata": {},
          "execution_count": 2
        }
      ],
      "source": [
        "device = torch.device('cuda')\n",
        "device"
      ]
    },
    {
      "cell_type": "code",
      "execution_count": 3,
      "metadata": {
        "id": "tXeRjESPRcsm"
      },
      "outputs": [],
      "source": [
        "DATA_DIR = '/content/drive/MyDrive/project/Датасэт'"
      ]
    },
    {
      "cell_type": "markdown",
      "metadata": {
        "id": "ibCjyiqAoQsT"
      },
      "source": [
        "## **Preparing** **data**"
      ]
    },
    {
      "cell_type": "code",
      "execution_count": null,
      "metadata": {
        "id": "Y8165deSXb8i"
      },
      "outputs": [],
      "source": [
        "# def process_dir(dirname):\n",
        "#     print(dirname)\n",
        "#     d=os.path.join(DATA_DIR,dirname)\n",
        "#     for filename in tqdm(os.listdir(d)):\n",
        "#         if filename.lower().endswith('ini'):\n",
        "#             continue\n",
        "#         if os.path.isdir(os.path.join(d,filename)):\n",
        "#             videofile=None\n",
        "#             for fn in os.listdir(os.path.join(d,filename)):\n",
        "#                 if fn.lower().endswith('ini'):\n",
        "#                     continue\n",
        "#                 videofile=fn\n",
        "#             if videofile is None:\n",
        "#                 print(filename)\n",
        "#                 continue\n",
        "#             filename=os.path.join(filename,videofile)\n",
        "#         fn, ext = os.path.splitext(os.path.basename(filename))\n",
        "#         outdir=os.path.join(d,fn)\n",
        "#         if not os.path.exists(outdir):\n",
        "#             os.makedirs(outdir)\n",
        "#         command = \"ffmpeg -i \"+os.path.join(d,filename) + \" -r 0.5 '\"+outdir+\"/%05d.png'\"\n",
        "#         print(command)\n",
        "#         os.system(command=command)\n",
        "\n",
        "# process_dir('Test')"
      ]
    },
    {
      "cell_type": "code",
      "execution_count": null,
      "metadata": {
        "id": "J8n7bbsyxy9A"
      },
      "outputs": [],
      "source": [
        "# process_dir('Train')"
      ]
    },
    {
      "cell_type": "code",
      "execution_count": null,
      "metadata": {
        "id": "wYIk_x-FxzM1"
      },
      "outputs": [],
      "source": [
        "# process_dir('Validation')"
      ]
    },
    {
      "cell_type": "code",
      "execution_count": null,
      "metadata": {
        "id": "6evdtd4RT8TU"
      },
      "outputs": [],
      "source": [
        "# def extract_openface_features(dirname,outdir):\n",
        "#     print(dirname)\n",
        "#     if not os.path.exists(outdir):\n",
        "#         os.makedirs(outdir)\n",
        "#     os.chdir(dirname)\n",
        "#     command='/home/avsavchenko/src/distr/OpenFace/build/bin/FeatureExtraction -pose -aus -gaze -out_dir '+outdir\n",
        "#     for filename in os.listdir('.'):\n",
        "#         if filename.lower().endswith('ini'):\n",
        "#             continue\n",
        "        \n",
        "#         if os.path.isdir(filename):\n",
        "#             command+=' -fdir '+filename\n",
        "        \n",
        "#     print(command)\n",
        "#     os.system(command=command)\n",
        "\n",
        "# cur_dir=os.getcwd()\n",
        "# extract_openface_features(os.path.join(DATA_DIR,'frames/validation/'),os.path.join(DATA_DIR,'frames/faces/openface/validation/'))\n",
        "# extract_openface_features(os.path.join(DATA_DIR,'frames/Train/'),os.path.join(DATA_DIR,'frames/faces/openface/Train/'))\n",
        "# os.chdir(cur_dir)\n",
        "# print(os.getcwd())"
      ]
    },
    {
      "cell_type": "code",
      "execution_count": null,
      "metadata": {
        "id": "M_RyRkvCOdCX"
      },
      "outputs": [],
      "source": [
        "from __future__ import absolute_import\n",
        "from __future__ import division\n",
        "from __future__ import print_function\n",
        "\n",
        "import sys\n",
        "import os\n",
        "#os.environ['CUDA_VISIBLE_DEVICES'] = ''\n",
        "import argparse\n",
        "import tensorflow as tf\n",
        "import numpy as np\n",
        "import cv2\n",
        "import time\n",
        "\n",
        "import subprocess, re \n",
        "\n",
        "\n",
        "def is_specialfile(path,exts):\n",
        "    _, file_extension = os.path.splitext(path)\n",
        "    return file_extension.lower() in exts\n",
        "\n",
        "img_extensions=['.jpg','.jpeg','.png']\n",
        "def is_image(path):\n",
        "    return is_specialfile(path,img_extensions)\n",
        "\n",
        "video_extensions=['.mov','.avi']\n",
        "def is_video(path):\n",
        "    return is_specialfile(path,video_extensions)\n",
        "    \n",
        "class FacialImageProcessing:\n",
        "    # minsize: minimum of faces' size\n",
        "    def __init__(self, print_stat=False, minsize = 16):\n",
        "        self.print_stat=print_stat\n",
        "        self.minsize=minsize\n",
        "        \n",
        "        models_path = '/content/drive/MyDrive/project/Датасэт/Models'\n",
        "        # models_path=os.path.join(models_path,'..','models','pretrained_faces')\n",
        "        model_files={os.path.join(models_path,'mtcnn.pb'):''}\n",
        "\n",
        "        with tf.Graph().as_default() as full_graph:\n",
        "            for model_file in model_files:\n",
        "                tf.import_graph_def(FacialImageProcessing.load_graph_def(model_file), name=model_files[model_file])\n",
        "        self.sess=tf.compat.v1.Session(graph=full_graph)#,config=tf.ConfigProto(device_count={'CPU':1,'GPU':0}))\n",
        "        self.pnet, self.rnet, self.onet = FacialImageProcessing.load_mtcnn(self.sess,full_graph)     \n",
        "\n",
        "    def close(self):\n",
        "        self.sess.close()\n",
        "    \n",
        "    @staticmethod\n",
        "    def load_graph_def(frozen_graph_filename):\n",
        "        graph_def=None\n",
        "        with tf.io.gfile.GFile(frozen_graph_filename, 'rb') as f:\n",
        "            graph_def = tf.compat.v1.GraphDef()\n",
        "            graph_def.ParseFromString(f.read())\n",
        "        return graph_def\n",
        "    \n",
        "    @staticmethod\n",
        "    def load_graph(frozen_graph_filename, prefix=''):\n",
        "        graph_def = FacialImageProcessing.load_graph_def(frozen_graph_filename)\n",
        "        with tf.Graph().as_default() as graph:\n",
        "            tf.import_graph_def(graph_def, name=prefix)\n",
        "        return graph\n",
        "\n",
        "    @staticmethod\n",
        "    def load_mtcnn(sess,graph):\n",
        "        pnet_out_1=graph.get_tensor_by_name('pnet/conv4-2/BiasAdd:0')\n",
        "        pnet_out_2=graph.get_tensor_by_name('pnet/prob1:0')\n",
        "        pnet_in=graph.get_tensor_by_name('pnet/input:0')\n",
        "        \n",
        "        rnet_out_1=graph.get_tensor_by_name('rnet/conv5-2/conv5-2:0')\n",
        "        rnet_out_2=graph.get_tensor_by_name('rnet/prob1:0')\n",
        "        rnet_in=graph.get_tensor_by_name('rnet/input:0')\n",
        "        \n",
        "        onet_out_1=graph.get_tensor_by_name('onet/conv6-2/conv6-2:0')\n",
        "        onet_out_2=graph.get_tensor_by_name('onet/conv6-3/conv6-3:0')\n",
        "        onet_out_3=graph.get_tensor_by_name('onet/prob1:0')\n",
        "        onet_in=graph.get_tensor_by_name('onet/input:0')\n",
        "        \n",
        "        pnet_fun = lambda img : sess.run((pnet_out_1, pnet_out_2), feed_dict={pnet_in:img})\n",
        "        rnet_fun = lambda img : sess.run((rnet_out_1, rnet_out_2), feed_dict={rnet_in:img})\n",
        "        onet_fun = lambda img : sess.run((onet_out_1, onet_out_2, onet_out_3), feed_dict={onet_in:img})\n",
        "        return pnet_fun, rnet_fun, onet_fun\n",
        "        \n",
        "    @staticmethod\n",
        "    def bbreg(boundingbox,reg):\n",
        "        # calibrate bounding boxes\n",
        "        if reg.shape[1]==1:\n",
        "            reg = np.reshape(reg, (reg.shape[2], reg.shape[3]))\n",
        "\n",
        "        w = boundingbox[:,2]-boundingbox[:,0]+1\n",
        "        h = boundingbox[:,3]-boundingbox[:,1]+1\n",
        "        b1 = boundingbox[:,0]+reg[:,0]*w\n",
        "        b2 = boundingbox[:,1]+reg[:,1]*h\n",
        "        b3 = boundingbox[:,2]+reg[:,2]*w\n",
        "        b4 = boundingbox[:,3]+reg[:,3]*h\n",
        "        boundingbox[:,0:4] = np.transpose(np.vstack([b1, b2, b3, b4 ]))\n",
        "        return boundingbox\n",
        "     \n",
        "    @staticmethod\n",
        "    def generateBoundingBox(imap, reg, scale, t):\n",
        "        # use heatmap to generate bounding boxes\n",
        "        stride=2\n",
        "        cellsize=12\n",
        "\n",
        "        imap = np.transpose(imap)\n",
        "        dx1 = np.transpose(reg[:,:,0])\n",
        "        dy1 = np.transpose(reg[:,:,1])\n",
        "        dx2 = np.transpose(reg[:,:,2])\n",
        "        dy2 = np.transpose(reg[:,:,3])\n",
        "        y, x = np.where(imap >= t)\n",
        "        if y.shape[0]==1:\n",
        "            dx1 = np.flipud(dx1)\n",
        "            dy1 = np.flipud(dy1)\n",
        "            dx2 = np.flipud(dx2)\n",
        "            dy2 = np.flipud(dy2)\n",
        "        score = imap[(y,x)]\n",
        "        reg = np.transpose(np.vstack([ dx1[(y,x)], dy1[(y,x)], dx2[(y,x)], dy2[(y,x)] ]))\n",
        "        if reg.size==0:\n",
        "            reg = np.empty((0,3))\n",
        "        bb = np.transpose(np.vstack([y,x]))\n",
        "        q1 = np.fix((stride*bb+1)/scale)\n",
        "        q2 = np.fix((stride*bb+cellsize-1+1)/scale)\n",
        "        boundingbox = np.hstack([q1, q2, np.expand_dims(score,1), reg])\n",
        "        return boundingbox, reg\n",
        "     \n",
        "    # function pick = nms(boxes,threshold,type)\n",
        "    @staticmethod\n",
        "    def nms(boxes, threshold, method):\n",
        "        if boxes.size==0:\n",
        "            return np.empty((0,3))\n",
        "        x1 = boxes[:,0]\n",
        "        y1 = boxes[:,1]\n",
        "        x2 = boxes[:,2]\n",
        "        y2 = boxes[:,3]\n",
        "        s = boxes[:,4]\n",
        "        area = (x2-x1+1) * (y2-y1+1)\n",
        "        I = np.argsort(s)\n",
        "        pick = np.zeros_like(s, dtype=np.int16)\n",
        "        counter = 0\n",
        "        while I.size>0:\n",
        "            i = I[-1]\n",
        "            pick[counter] = i\n",
        "            counter += 1\n",
        "            idx = I[0:-1]\n",
        "            xx1 = np.maximum(x1[i], x1[idx])\n",
        "            yy1 = np.maximum(y1[i], y1[idx])\n",
        "            xx2 = np.minimum(x2[i], x2[idx])\n",
        "            yy2 = np.minimum(y2[i], y2[idx])\n",
        "            w = np.maximum(0.0, xx2-xx1+1)\n",
        "            h = np.maximum(0.0, yy2-yy1+1)\n",
        "            inter = w * h\n",
        "            if method == 'Min':\n",
        "                o = inter / np.minimum(area[i], area[idx])\n",
        "            else:\n",
        "                o = inter / (area[i] + area[idx] - inter)\n",
        "            I = I[np.where(o<=threshold)]\n",
        "        pick = pick[0:counter]\n",
        "        return pick\n",
        "\n",
        "    # function [dy edy dx edx y ey x ex tmpw tmph] = pad(total_boxes,w,h)\n",
        "    @staticmethod\n",
        "    def pad(total_boxes, w, h):\n",
        "        # compute the padding coordinates (pad the bounding boxes to square)\n",
        "        tmpw = (total_boxes[:,2]-total_boxes[:,0]+1).astype(np.int32)\n",
        "        tmph = (total_boxes[:,3]-total_boxes[:,1]+1).astype(np.int32)\n",
        "        numbox = total_boxes.shape[0]\n",
        "\n",
        "        dx = np.ones((numbox), dtype=np.int32)\n",
        "        dy = np.ones((numbox), dtype=np.int32)\n",
        "        edx = tmpw.copy().astype(np.int32)\n",
        "        edy = tmph.copy().astype(np.int32)\n",
        "\n",
        "        x = total_boxes[:,0].copy().astype(np.int32)\n",
        "        y = total_boxes[:,1].copy().astype(np.int32)\n",
        "        ex = total_boxes[:,2].copy().astype(np.int32)\n",
        "        ey = total_boxes[:,3].copy().astype(np.int32)\n",
        "\n",
        "        tmp = np.where(ex>w)\n",
        "        edx.flat[tmp] = np.expand_dims(-ex[tmp]+w+tmpw[tmp],1)\n",
        "        ex[tmp] = w\n",
        "        \n",
        "        tmp = np.where(ey>h)\n",
        "        edy.flat[tmp] = np.expand_dims(-ey[tmp]+h+tmph[tmp],1)\n",
        "        ey[tmp] = h\n",
        "\n",
        "        tmp = np.where(x<1)\n",
        "        dx.flat[tmp] = np.expand_dims(2-x[tmp],1)\n",
        "        x[tmp] = 1\n",
        "\n",
        "        tmp = np.where(y<1)\n",
        "        dy.flat[tmp] = np.expand_dims(2-y[tmp],1)\n",
        "        y[tmp] = 1\n",
        "        \n",
        "        return dy, edy, dx, edx, y, ey, x, ex, tmpw, tmph\n",
        "\n",
        "    # function [bboxA] = rerec(bboxA)\n",
        "    @staticmethod\n",
        "    def rerec(bboxA):\n",
        "        # convert bboxA to square\n",
        "        h = bboxA[:,3]-bboxA[:,1]\n",
        "        w = bboxA[:,2]-bboxA[:,0]\n",
        "        l = np.maximum(w, h)\n",
        "        bboxA[:,0] = bboxA[:,0]+w*0.5-l*0.5\n",
        "        bboxA[:,1] = bboxA[:,1]+h*0.5-l*0.5\n",
        "        bboxA[:,2:4] = bboxA[:,0:2] + np.transpose(np.tile(l,(2,1)))\n",
        "        return bboxA\n",
        "\n",
        "    def detect_faces(self,img):\n",
        "        # im: input image\n",
        "        # threshold: threshold=[th1 th2 th3], th1-3 are three steps's threshold\n",
        "        threshold = [ 0.6, 0.7, 0.9 ]  # three steps's threshold\n",
        "        # fastresize: resize img from last scale (using in high-resolution images) if fastresize==true\n",
        "        factor = 0.709 # scale factor\n",
        "        factor_count=0\n",
        "        total_boxes=np.empty((0,9))\n",
        "        points=np.array([])\n",
        "        h=img.shape[0]\n",
        "        w=img.shape[1]\n",
        "        minl=np.amin([h, w])\n",
        "        m=12.0/self.minsize\n",
        "        minl=minl*m\n",
        "        # creat scale pyramid\n",
        "        scales=[]\n",
        "        while minl>=12:\n",
        "            scales += [m*np.power(factor, factor_count)]\n",
        "            minl = minl*factor\n",
        "            factor_count += 1\n",
        "\n",
        "        # first stage\n",
        "        #t=time.time()\n",
        "        for j in range(len(scales)):\n",
        "            scale=scales[j]\n",
        "            hs=int(np.ceil(h*scale))\n",
        "            ws=int(np.ceil(w*scale))\n",
        "            im_data = cv2.resize(img, (ws,hs), interpolation=cv2.INTER_AREA)\n",
        "            im_data = (im_data-127.5)*0.0078125\n",
        "            img_x = np.expand_dims(im_data, 0)\n",
        "            img_y = np.transpose(img_x, (0,2,1,3))\n",
        "            out = self.pnet(img_y)\n",
        "            out0 = np.transpose(out[0], (0,2,1,3))\n",
        "            out1 = np.transpose(out[1], (0,2,1,3))\n",
        "            \n",
        "            boxes, _ = FacialImageProcessing.generateBoundingBox(out1[0,:,:,1].copy(), out0[0,:,:,:].copy(), scale, threshold[0])\n",
        "            \n",
        "            # inter-scale nms\n",
        "            pick = FacialImageProcessing.nms(boxes.copy(), 0.5, 'Union')\n",
        "            if boxes.size>0 and pick.size>0:\n",
        "                boxes = boxes[pick,:]\n",
        "                total_boxes = np.append(total_boxes, boxes, axis=0)\n",
        "        numbox = total_boxes.shape[0]\n",
        "        #elapsed = time.time() - t\n",
        "        #print('1 phase nb=%d elapsed=%f'%(numbox,elapsed))\n",
        "        if numbox>0:\n",
        "            pick = FacialImageProcessing.nms(total_boxes.copy(), 0.7, 'Union')\n",
        "            total_boxes = total_boxes[pick,:]\n",
        "            regw = total_boxes[:,2]-total_boxes[:,0]\n",
        "            regh = total_boxes[:,3]-total_boxes[:,1]\n",
        "            qq1 = total_boxes[:,0]+total_boxes[:,5]*regw\n",
        "            qq2 = total_boxes[:,1]+total_boxes[:,6]*regh\n",
        "            qq3 = total_boxes[:,2]+total_boxes[:,7]*regw\n",
        "            qq4 = total_boxes[:,3]+total_boxes[:,8]*regh\n",
        "            total_boxes = np.transpose(np.vstack([qq1, qq2, qq3, qq4, total_boxes[:,4]]))\n",
        "            total_boxes = FacialImageProcessing.rerec(total_boxes.copy())\n",
        "            total_boxes[:,0:4] = np.fix(total_boxes[:,0:4]).astype(np.int32)\n",
        "            dy, edy, dx, edx, y, ey, x, ex, tmpw, tmph = FacialImageProcessing.pad(total_boxes.copy(), w, h)\n",
        "\n",
        "        numbox = total_boxes.shape[0]\n",
        "        #elapsed = time.time() - t\n",
        "        #print('2 phase nb=%d elapsed=%f'%(numbox,elapsed))\n",
        "        if numbox>0:\n",
        "            # second stage\n",
        "            tempimg = np.zeros((24,24,3,numbox))\n",
        "            for k in range(0,numbox):\n",
        "                tmp = np.zeros((int(tmph[k]),int(tmpw[k]),3))\n",
        "                tmp[dy[k]-1:edy[k],dx[k]-1:edx[k],:] = img[y[k]-1:ey[k],x[k]-1:ex[k],:]\n",
        "                if tmp.shape[0]>0 and tmp.shape[1]>0 or tmp.shape[0]==0 and tmp.shape[1]==0:\n",
        "                    tempimg[:,:,:,k] = cv2.resize(tmp, (24,24), interpolation=cv2.INTER_AREA)\n",
        "                else:\n",
        "                    return np.empty()\n",
        "            tempimg = (tempimg-127.5)*0.0078125\n",
        "            tempimg1 = np.transpose(tempimg, (3,1,0,2))\n",
        "            out = self.rnet(tempimg1)\n",
        "            out0 = np.transpose(out[0])\n",
        "            out1 = np.transpose(out[1])\n",
        "            score = out1[1,:]\n",
        "            ipass = np.where(score>threshold[1])\n",
        "            total_boxes = np.hstack([total_boxes[ipass[0],0:4].copy(), np.expand_dims(score[ipass].copy(),1)])\n",
        "            mv = out0[:,ipass[0]]\n",
        "            if total_boxes.shape[0]>0:\n",
        "                pick = FacialImageProcessing.nms(total_boxes, 0.7, 'Union')\n",
        "                total_boxes = total_boxes[pick,:]\n",
        "                total_boxes = FacialImageProcessing.bbreg(total_boxes.copy(), np.transpose(mv[:,pick]))\n",
        "                total_boxes = FacialImageProcessing.rerec(total_boxes.copy())\n",
        "\n",
        "        numbox = total_boxes.shape[0]\n",
        "        #elapsed = time.time() - t\n",
        "        #print('3 phase nb=%d elapsed=%f'%(numbox,elapsed))\n",
        "        if numbox>0:\n",
        "            # third stage\n",
        "            total_boxes = np.fix(total_boxes).astype(np.int32)\n",
        "            dy, edy, dx, edx, y, ey, x, ex, tmpw, tmph = FacialImageProcessing.pad(total_boxes.copy(), w, h)\n",
        "            tempimg = np.zeros((48,48,3,numbox))\n",
        "            for k in range(0,numbox):\n",
        "                tmp = np.zeros((int(tmph[k]),int(tmpw[k]),3))\n",
        "                tmp[dy[k]-1:edy[k],dx[k]-1:edx[k],:] = img[y[k]-1:ey[k],x[k]-1:ex[k],:]\n",
        "                if tmp.shape[0]>0 and tmp.shape[1]>0 or tmp.shape[0]==0 and tmp.shape[1]==0:\n",
        "                    tempimg[:,:,:,k] = cv2.resize(tmp, (48,48), interpolation=cv2.INTER_AREA)\n",
        "                else:\n",
        "                    return np.empty()\n",
        "            tempimg = (tempimg-127.5)*0.0078125\n",
        "            tempimg1 = np.transpose(tempimg, (3,1,0,2))\n",
        "            out = self.onet(tempimg1)\n",
        "            out0 = np.transpose(out[0])\n",
        "            out1 = np.transpose(out[1])\n",
        "            out2 = np.transpose(out[2])\n",
        "            score = out2[1,:]\n",
        "            points = out1\n",
        "            ipass = np.where(score>threshold[2])\n",
        "            points = points[:,ipass[0]]\n",
        "            total_boxes = np.hstack([total_boxes[ipass[0],0:4].copy(), np.expand_dims(score[ipass].copy(),1)])\n",
        "            mv = out0[:,ipass[0]]\n",
        "\n",
        "            w = total_boxes[:,2]-total_boxes[:,0]+1\n",
        "            h = total_boxes[:,3]-total_boxes[:,1]+1\n",
        "            points[0:5,:] = np.tile(w,(5, 1))*points[0:5,:] + np.tile(total_boxes[:,0],(5, 1))-1\n",
        "            points[5:10,:] = np.tile(h,(5, 1))*points[5:10,:] + np.tile(total_boxes[:,1],(5, 1))-1\n",
        "            if total_boxes.shape[0]>0:\n",
        "                total_boxes = FacialImageProcessing.bbreg(total_boxes.copy(), np.transpose(mv))\n",
        "                pick = FacialImageProcessing.nms(total_boxes.copy(), 0.7, 'Min')\n",
        "                total_boxes = total_boxes[pick,:]\n",
        "                points = points[:,pick]\n",
        "        #elapsed = time.time() - t\n",
        "        #print('4 phase elapsed=%f'%(elapsed))            \n",
        "        return total_boxes, points"
      ]
    },
    {
      "cell_type": "code",
      "execution_count": null,
      "metadata": {
        "id": "BQFt63WlMOeM"
      },
      "outputs": [],
      "source": [
        "imgProcessing=FacialImageProcessing(False)"
      ]
    },
    {
      "cell_type": "code",
      "execution_count": null,
      "metadata": {
        "colab": {
          "base_uri": "https://localhost:8080/"
        },
        "id": "zkP2kjaOMU7l",
        "outputId": "4381fb57-c0a0-426d-e3c6-ae3075cef737"
      },
      "outputs": [
        {
          "name": "stderr",
          "output_type": "stream",
          "text": [
            "\r  0%|          | 0/20 [00:00<?, ?it/s]"
          ]
        },
        {
          "name": "stdout",
          "output_type": "stream",
          "text": [
            "3_4\n"
          ]
        },
        {
          "name": "stderr",
          "output_type": "stream",
          "text": [
            " 15%|█▌        | 3/20 [02:03<11:12, 39.59s/it]"
          ]
        },
        {
          "name": "stdout",
          "output_type": "stream",
          "text": [
            "Too many faces ( 2 ) found for  /content/drive/MyDrive/project/Датасэт/Validation/frames/3_1_1/00024.png\n",
            "Too many faces ( 2 ) found for  /content/drive/MyDrive/project/Датасэт/Validation/frames/3_1_1/00025.png\n"
          ]
        },
        {
          "name": "stderr",
          "output_type": "stream",
          "text": [
            "\r 20%|██        | 4/20 [02:42<10:30, 39.42s/it]"
          ]
        },
        {
          "name": "stdout",
          "output_type": "stream",
          "text": [
            "No faces found for  /content/drive/MyDrive/project/Датасэт/Validation/frames/0_1_4/00102.png\n"
          ]
        },
        {
          "name": "stderr",
          "output_type": "stream",
          "text": [
            " 75%|███████▌  | 15/20 [12:16<04:57, 59.41s/it]"
          ]
        },
        {
          "name": "stdout",
          "output_type": "stream",
          "text": [
            "No faces found for  /content/drive/MyDrive/project/Датасэт/Validation/frames/2_7_5/00029.png\n",
            "No faces found for  /content/drive/MyDrive/project/Датасэт/Validation/frames/2_7_5/00030.png\n",
            "No faces found for  /content/drive/MyDrive/project/Датасэт/Validation/frames/2_7_5/00031.png\n",
            "No faces found for  /content/drive/MyDrive/project/Датасэт/Validation/frames/2_7_5/00032.png\n",
            "No faces found for  /content/drive/MyDrive/project/Датасэт/Validation/frames/2_7_5/00033.png\n",
            "No faces found for  /content/drive/MyDrive/project/Датасэт/Validation/frames/2_7_5/00034.png\n",
            "No faces found for  /content/drive/MyDrive/project/Датасэт/Validation/frames/2_7_5/00035.png\n",
            "No faces found for  /content/drive/MyDrive/project/Датасэт/Validation/frames/2_7_5/00036.png\n",
            "No faces found for  /content/drive/MyDrive/project/Датасэт/Validation/frames/2_7_5/00037.png\n",
            "No faces found for  /content/drive/MyDrive/project/Датасэт/Validation/frames/2_7_5/00038.png\n",
            "No faces found for  /content/drive/MyDrive/project/Датасэт/Validation/frames/2_7_5/00039.png\n",
            "No faces found for  /content/drive/MyDrive/project/Датасэт/Validation/frames/2_7_5/00040.png\n",
            "No faces found for  /content/drive/MyDrive/project/Датасэт/Validation/frames/2_7_5/00041.png\n",
            "No faces found for  /content/drive/MyDrive/project/Датасэт/Validation/frames/2_7_5/00042.png\n",
            "No faces found for  /content/drive/MyDrive/project/Датасэт/Validation/frames/2_7_5/00043.png\n",
            "No faces found for  /content/drive/MyDrive/project/Датасэт/Validation/frames/2_7_5/00050.png\n",
            "No faces found for  /content/drive/MyDrive/project/Датасэт/Validation/frames/2_7_5/00083.png\n",
            "No faces found for  /content/drive/MyDrive/project/Датасэт/Validation/frames/2_7_5/00115.png\n"
          ]
        },
        {
          "name": "stderr",
          "output_type": "stream",
          "text": [
            "\r 80%|████████  | 16/20 [12:42<03:17, 49.44s/it]"
          ]
        },
        {
          "name": "stdout",
          "output_type": "stream",
          "text": [
            "No faces found for  /content/drive/MyDrive/project/Датасэт/Validation/frames/2_7_6/00016.png\n",
            "No faces found for  /content/drive/MyDrive/project/Датасэт/Validation/frames/2_7_6/00017.png\n",
            "No faces found for  /content/drive/MyDrive/project/Датасэт/Validation/frames/2_7_6/00018.png\n",
            "No faces found for  /content/drive/MyDrive/project/Датасэт/Validation/frames/2_7_6/00019.png\n",
            "No faces found for  /content/drive/MyDrive/project/Датасэт/Validation/frames/2_7_6/00020.png\n",
            "No faces found for  /content/drive/MyDrive/project/Датасэт/Validation/frames/2_7_6/00021.png\n",
            "No faces found for  /content/drive/MyDrive/project/Датасэт/Validation/frames/2_7_6/00022.png\n",
            "No faces found for  /content/drive/MyDrive/project/Датасэт/Validation/frames/2_7_6/00023.png\n",
            "No faces found for  /content/drive/MyDrive/project/Датасэт/Validation/frames/2_7_6/00046.png\n",
            "No faces found for  /content/drive/MyDrive/project/Датасэт/Validation/frames/2_7_6/00047.png\n",
            "No faces found for  /content/drive/MyDrive/project/Датасэт/Validation/frames/2_7_6/00048.png\n",
            "No faces found for  /content/drive/MyDrive/project/Датасэт/Validation/frames/2_7_6/00049.png\n",
            "No faces found for  /content/drive/MyDrive/project/Датасэт/Validation/frames/2_7_6/00050.png\n",
            "No faces found for  /content/drive/MyDrive/project/Датасэт/Validation/frames/2_7_6/00051.png\n",
            "No faces found for  /content/drive/MyDrive/project/Датасэт/Validation/frames/2_7_6/00052.png\n",
            "No faces found for  /content/drive/MyDrive/project/Датасэт/Validation/frames/2_7_6/00053.png\n",
            "No faces found for  /content/drive/MyDrive/project/Датасэт/Validation/frames/2_7_6/00054.png\n",
            "No faces found for  /content/drive/MyDrive/project/Датасэт/Validation/frames/2_7_6/00063.png\n",
            "No faces found for  /content/drive/MyDrive/project/Датасэт/Validation/frames/2_7_6/00064.png\n",
            "No faces found for  /content/drive/MyDrive/project/Датасэт/Validation/frames/2_7_6/00065.png\n",
            "No faces found for  /content/drive/MyDrive/project/Датасэт/Validation/frames/2_7_6/00066.png\n",
            "No faces found for  /content/drive/MyDrive/project/Датасэт/Validation/frames/2_7_6/00067.png\n",
            "No faces found for  /content/drive/MyDrive/project/Датасэт/Validation/frames/2_7_6/00068.png\n",
            "No faces found for  /content/drive/MyDrive/project/Датасэт/Validation/frames/2_7_6/00069.png\n",
            "No faces found for  /content/drive/MyDrive/project/Датасэт/Validation/frames/2_7_6/00070.png\n",
            "No faces found for  /content/drive/MyDrive/project/Датасэт/Validation/frames/2_7_6/00071.png\n",
            "No faces found for  /content/drive/MyDrive/project/Датасэт/Validation/frames/2_7_6/00102.png\n"
          ]
        },
        {
          "name": "stderr",
          "output_type": "stream",
          "text": [
            "100%|██████████| 20/20 [18:13<00:00, 54.69s/it]\n"
          ]
        }
      ],
      "source": [
        "INPUT_SIZE = (224,224)\n",
        "def save_faces(source_path,save_path):\n",
        "    if not os.path.exists(save_path):\n",
        "        os.makedirs(save_path)\n",
        "    for folder in tqdm(os.listdir(source_path)):\n",
        "        if not os.path.exists(os.path.join(save_path, folder)):\n",
        "            os.mkdir(os.path.join(save_path, folder))\n",
        "\n",
        "            for image in os.listdir(os.path.join(source_path, folder)):\n",
        "                filename = os.path.join(source_path, folder, image)\n",
        "                frame_bgr = cv2.imread(filename)\n",
        "                frame = cv2.cvtColor(frame_bgr, cv2.COLOR_BGR2RGB)\n",
        "                bounding_boxes, _ = imgProcessing.detect_faces(frame)\n",
        "\n",
        "                if len(bounding_boxes)==0:\n",
        "                    print('No faces found for ',filename)\n",
        "                    face_img = frame_bgr\n",
        "                    faceFound='noface'\n",
        "                else:\n",
        "                    if len(bounding_boxes)>1:\n",
        "                        print('Too many faces (',len(bounding_boxes),') found for ',filename)\n",
        "                        bounding_boxes=bounding_boxes[:1]\n",
        "\n",
        "                    b=[int(bi) for bi in bounding_boxes[0]]\n",
        "                    x1,y1,x2,y2=b[0:4]\n",
        "                    face_img=frame_bgr[y1:y2,x1:x2,:]\n",
        "\n",
        "                    if np.prod(face_img.shape)==0:\n",
        "                        print('Empty face ',b,' found for ',filename)\n",
        "                        continue\n",
        "                    \n",
        "                    faceFound=''\n",
        "\n",
        "                #face_img=cv2.resize(face_img,INPUT_SIZE)\n",
        "                root,ext=os.path.splitext(image)\n",
        "                cv2.imwrite(os.path.join(save_path, folder, root+faceFound+ext), face_img) \n",
        "        else:\n",
        "            print(folder)\n",
        "        \n",
        "save_faces(os.path.join(DATA_DIR,'Validation/frames'),os.path.join(DATA_DIR,'cropped/Validation'))"
      ]
    },
    {
      "cell_type": "code",
      "execution_count": null,
      "metadata": {
        "colab": {
          "base_uri": "https://localhost:8080/"
        },
        "id": "HPQb-z-2PnWp",
        "outputId": "94e06d1b-4265-470a-84c7-7aa0be3792fa"
      },
      "outputs": [
        {
          "name": "stderr",
          "output_type": "stream",
          "text": [
            "\r  0%|          | 0/20 [00:00<?, ?it/s]"
          ]
        },
        {
          "name": "stdout",
          "output_type": "stream",
          "text": [
            "No faces found for  /content/drive/MyDrive/project/Датасэт/Train/frames/1_3/00009.png\n"
          ]
        },
        {
          "name": "stderr",
          "output_type": "stream",
          "text": [
            "\r  5%|▌         | 1/20 [00:35<11:08, 35.19s/it]"
          ]
        },
        {
          "name": "stdout",
          "output_type": "stream",
          "text": [
            "No faces found for  /content/drive/MyDrive/project/Датасэт/Train/frames/0_5_1/00040.png\n",
            "No faces found for  /content/drive/MyDrive/project/Датасэт/Train/frames/0_5_1/00041.png\n"
          ]
        },
        {
          "name": "stderr",
          "output_type": "stream",
          "text": [
            " 20%|██        | 4/20 [02:35<09:56, 37.27s/it]"
          ]
        },
        {
          "name": "stdout",
          "output_type": "stream",
          "text": [
            "Too many faces ( 2 ) found for  /content/drive/MyDrive/project/Датасэт/Train/frames/3_4_3/00045.png\n",
            "Too many faces ( 2 ) found for  /content/drive/MyDrive/project/Датасэт/Train/frames/3_4_3/00050.png\n"
          ]
        },
        {
          "name": "stderr",
          "output_type": "stream",
          "text": [
            " 35%|███▌      | 7/20 [05:58<11:14, 51.91s/it]"
          ]
        },
        {
          "name": "stdout",
          "output_type": "stream",
          "text": [
            "Too many faces ( 2 ) found for  /content/drive/MyDrive/project/Датасэт/Train/frames/3_4_4/00013.png\n",
            "Too many faces ( 2 ) found for  /content/drive/MyDrive/project/Датасэт/Train/frames/3_4_4/00261.png\n"
          ]
        },
        {
          "name": "stderr",
          "output_type": "stream",
          "text": [
            "\r 40%|████      | 8/20 [06:52<10:31, 52.61s/it]"
          ]
        },
        {
          "name": "stdout",
          "output_type": "stream",
          "text": [
            "No faces found for  /content/drive/MyDrive/project/Датасэт/Train/frames/1_4_2/00260.png\n",
            "No faces found for  /content/drive/MyDrive/project/Датасэт/Train/frames/1_4_2/00261.png\n"
          ]
        },
        {
          "name": "stderr",
          "output_type": "stream",
          "text": [
            "\r 45%|████▌     | 9/20 [07:44<09:35, 52.36s/it]"
          ]
        },
        {
          "name": "stdout",
          "output_type": "stream",
          "text": [
            "Empty face  [-17, 37, 328, 503, 0]  found for  /content/drive/MyDrive/project/Датасэт/Train/frames/0_5/00008.png\n"
          ]
        },
        {
          "name": "stderr",
          "output_type": "stream",
          "text": [
            " 55%|█████▌    | 11/20 [10:03<09:16, 61.81s/it]"
          ]
        },
        {
          "name": "stdout",
          "output_type": "stream",
          "text": [
            "No faces found for  /content/drive/MyDrive/project/Датасэт/Train/frames/2_4_3/00079.png\n"
          ]
        },
        {
          "name": "stderr",
          "output_type": "stream",
          "text": [
            " 75%|███████▌  | 15/20 [14:18<05:39, 67.92s/it]"
          ]
        },
        {
          "name": "stdout",
          "output_type": "stream",
          "text": [
            "No faces found for  /content/drive/MyDrive/project/Датасэт/Train/frames/2_8/00062.png\n",
            "No faces found for  /content/drive/MyDrive/project/Датасэт/Train/frames/2_8/00063.png\n"
          ]
        },
        {
          "name": "stderr",
          "output_type": "stream",
          "text": [
            "\r 80%|████████  | 16/20 [15:52<05:02, 75.69s/it]"
          ]
        },
        {
          "name": "stdout",
          "output_type": "stream",
          "text": [
            "Too many faces ( 2 ) found for  /content/drive/MyDrive/project/Датасэт/Train/frames/2_4_2/00079.png\n",
            "Too many faces ( 2 ) found for  /content/drive/MyDrive/project/Датасэт/Train/frames/2_4_2/00082.png\n",
            "No faces found for  /content/drive/MyDrive/project/Датасэт/Train/frames/2_4_2/00120.png\n",
            "Too many faces ( 2 ) found for  /content/drive/MyDrive/project/Датасэт/Train/frames/2_4_2/00141.png\n"
          ]
        },
        {
          "name": "stderr",
          "output_type": "stream",
          "text": [
            " 95%|█████████▌| 19/20 [18:23<00:59, 59.54s/it]"
          ]
        },
        {
          "name": "stdout",
          "output_type": "stream",
          "text": [
            "No faces found for  /content/drive/MyDrive/project/Датасэт/Train/frames/0_1/00014.png\n",
            "No faces found for  /content/drive/MyDrive/project/Датасэт/Train/frames/0_1/00015.png\n",
            "No faces found for  /content/drive/MyDrive/project/Датасэт/Train/frames/0_1/00016.png\n",
            "No faces found for  /content/drive/MyDrive/project/Датасэт/Train/frames/0_1/00047.png\n",
            "No faces found for  /content/drive/MyDrive/project/Датасэт/Train/frames/0_1/00048.png\n",
            "No faces found for  /content/drive/MyDrive/project/Датасэт/Train/frames/0_1/00049.png\n"
          ]
        },
        {
          "name": "stderr",
          "output_type": "stream",
          "text": [
            "100%|██████████| 20/20 [19:28<00:00, 58.42s/it]\n"
          ]
        }
      ],
      "source": [
        "save_faces(os.path.join(DATA_DIR,'Train/frames'),os.path.join(DATA_DIR,'cropped/Train'))"
      ]
    },
    {
      "cell_type": "code",
      "execution_count": null,
      "metadata": {
        "colab": {
          "base_uri": "https://localhost:8080/"
        },
        "id": "Wnjd9IE9W3OM",
        "outputId": "996503ef-295e-406e-f145-cbd89cdf9513"
      },
      "outputs": [
        {
          "name": "stderr",
          "output_type": "stream",
          "text": [
            " 56%|█████▌    | 10/18 [07:39<04:21, 32.65s/it]"
          ]
        },
        {
          "name": "stdout",
          "output_type": "stream",
          "text": [
            "No faces found for  /content/drive/MyDrive/project/Датасэт/Test/frames/1_6_1/00008.png\n"
          ]
        },
        {
          "name": "stderr",
          "output_type": "stream",
          "text": [
            " 67%|██████▋   | 12/18 [09:53<05:06, 51.02s/it]"
          ]
        },
        {
          "name": "stdout",
          "output_type": "stream",
          "text": [
            "No faces found for  /content/drive/MyDrive/project/Датасэт/Test/frames/1_7/00046.png\n",
            "No faces found for  /content/drive/MyDrive/project/Датасэт/Test/frames/1_7/00047.png\n",
            "No faces found for  /content/drive/MyDrive/project/Датасэт/Test/frames/1_7/00048.png\n",
            "No faces found for  /content/drive/MyDrive/project/Датасэт/Test/frames/1_7/00049.png\n",
            "No faces found for  /content/drive/MyDrive/project/Датасэт/Test/frames/1_7/00050.png\n",
            "No faces found for  /content/drive/MyDrive/project/Датасэт/Test/frames/1_7/00051.png\n",
            "No faces found for  /content/drive/MyDrive/project/Датасэт/Test/frames/1_7/00052.png\n"
          ]
        },
        {
          "name": "stderr",
          "output_type": "stream",
          "text": [
            "\r 72%|███████▏  | 13/18 [10:48<04:21, 52.37s/it]"
          ]
        },
        {
          "name": "stdout",
          "output_type": "stream",
          "text": [
            "No faces found for  /content/drive/MyDrive/project/Датасэт/Test/frames/1_7/00053.png\n"
          ]
        },
        {
          "name": "stderr",
          "output_type": "stream",
          "text": [
            "\r 78%|███████▊  | 14/18 [11:13<02:55, 43.92s/it]"
          ]
        },
        {
          "name": "stdout",
          "output_type": "stream",
          "text": [
            "No faces found for  /content/drive/MyDrive/project/Датасэт/Test/frames/1_7_2/00004.png\n",
            "No faces found for  /content/drive/MyDrive/project/Датасэт/Test/frames/1_7_2/00005.png\n",
            "No faces found for  /content/drive/MyDrive/project/Датасэт/Test/frames/1_7_2/00007.png\n",
            "No faces found for  /content/drive/MyDrive/project/Датасэт/Test/frames/1_7_2/00008.png\n",
            "No faces found for  /content/drive/MyDrive/project/Датасэт/Test/frames/1_7_2/00009.png\n",
            "No faces found for  /content/drive/MyDrive/project/Датасэт/Test/frames/1_7_2/00010.png\n",
            "No faces found for  /content/drive/MyDrive/project/Датасэт/Test/frames/1_7_2/00038.png\n",
            "No faces found for  /content/drive/MyDrive/project/Датасэт/Test/frames/1_7_2/00078.png\n",
            "No faces found for  /content/drive/MyDrive/project/Датасэт/Test/frames/1_7_2/00080.png\n",
            "No faces found for  /content/drive/MyDrive/project/Датасэт/Test/frames/1_7_2/00083.png\n",
            "No faces found for  /content/drive/MyDrive/project/Датасэт/Test/frames/1_7_2/00098.png\n"
          ]
        },
        {
          "name": "stderr",
          "output_type": "stream",
          "text": [
            "\r 83%|████████▎ | 15/18 [11:44<02:00, 40.07s/it]"
          ]
        },
        {
          "name": "stdout",
          "output_type": "stream",
          "text": [
            "No faces found for  /content/drive/MyDrive/project/Датасэт/Test/frames/3_7/00005.png\n",
            "No faces found for  /content/drive/MyDrive/project/Датасэт/Test/frames/3_7/00046.png\n",
            "No faces found for  /content/drive/MyDrive/project/Датасэт/Test/frames/3_7/00047.png\n",
            "No faces found for  /content/drive/MyDrive/project/Датасэт/Test/frames/3_7/00048.png\n",
            "No faces found for  /content/drive/MyDrive/project/Датасэт/Test/frames/3_7/00049.png\n",
            "No faces found for  /content/drive/MyDrive/project/Датасэт/Test/frames/3_7/00060.png\n"
          ]
        },
        {
          "name": "stderr",
          "output_type": "stream",
          "text": [
            "\r 89%|████████▉ | 16/18 [12:46<01:33, 46.75s/it]"
          ]
        },
        {
          "name": "stdout",
          "output_type": "stream",
          "text": [
            "No faces found for  /content/drive/MyDrive/project/Датасэт/Test/frames/2_7_3/00059.png\n"
          ]
        },
        {
          "name": "stderr",
          "output_type": "stream",
          "text": [
            "100%|██████████| 18/18 [13:43<00:00, 45.78s/it]\n"
          ]
        }
      ],
      "source": [
        "save_faces(os.path.join(DATA_DIR,'Test/frames'),os.path.join(DATA_DIR,'cropped/Test'))"
      ]
    },
    {
      "cell_type": "code",
      "execution_count": null,
      "metadata": {
        "id": "gVjUqZIkhXb4"
      },
      "outputs": [],
      "source": [
        "def get_iou(bb1, bb2):\n",
        "    \"\"\"\n",
        "    Calculate the Intersection over Union (IoU) of two bounding boxes.\n",
        "\n",
        "    Parameters\n",
        "    ----------\n",
        "    bb1 : array\n",
        "        order: {'x1', 'y1', 'x2', 'y2'}\n",
        "        The (x1, y1) position is at the top left corner,\n",
        "        the (x2, y2) position is at the bottom right corner\n",
        "    bb2 : array\n",
        "        order: {'x1', 'y1', 'x2', 'y2'}\n",
        "        The (x1, y1) position is at the top left corner,\n",
        "        the (x2, y2) position is at the bottom right corner\n",
        "\n",
        "    Returns\n",
        "    -------\n",
        "    float\n",
        "        in [0, 1]\n",
        "    \"\"\"\n",
        "\n",
        "    # determine the coordinates of the intersection rectangle\n",
        "    x_left = max(bb1[0], bb2[0])\n",
        "    y_top = max(bb1[1], bb2[1])\n",
        "    x_right = min(bb1[2], bb2[2])\n",
        "    y_bottom = min(bb1[3], bb2[3])\n",
        "\n",
        "    if x_right < x_left or y_bottom < y_top:\n",
        "        return 0.0\n",
        "\n",
        "    # The intersection of two axis-aligned bounding boxes is always an\n",
        "    # axis-aligned bounding box\n",
        "    intersection_area = (x_right - x_left) * (y_bottom - y_top)\n",
        "\n",
        "    # compute the area of both AABBs\n",
        "    bb1_area = (bb1[2] - bb1[0]) * (bb1[3] - bb1[1])\n",
        "    bb2_area = (bb2[2] - bb2[0]) * (bb2[3] - bb2[1])\n",
        "\n",
        "    # compute the intersection over union by taking the intersection\n",
        "    # area and dividing it by the sum of prediction + ground-truth\n",
        "    # areas - the interesection area\n",
        "    iou = intersection_area / float(bb1_area + bb2_area - intersection_area)\n",
        "    return iou\n",
        "def preprocess(img, bbox=None, landmark=None, **kwargs):\n",
        "    M = None\n",
        "    image_size = [224,224]\n",
        "    src = np.array([\n",
        "      [30.2946, 51.6963],\n",
        "      [65.5318, 51.5014],\n",
        "      [48.0252, 71.7366],\n",
        "      [33.5493, 92.3655],\n",
        "      [62.7299, 92.2041] ], dtype=np.float32 )\n",
        "    if image_size[1]==224:\n",
        "        src[:,0] += 8.0\n",
        "    src*=2\n",
        "    if landmark is not None:\n",
        "        dst = landmark.astype(np.float32)\n",
        "\n",
        "        tform = trans.SimilarityTransform()\n",
        "        #dst=dst[:3]\n",
        "        #src=src[:3]\n",
        "        #print(dst.shape,src.shape,dst,src)\n",
        "        tform.estimate(dst, src)\n",
        "        M = tform.params[0:2,:]\n",
        "        #M = cv2.estimateRigidTransform( dst.reshape(1,5,2), src.reshape(1,5,2), False)\n",
        "        #print(M)\n",
        "\n",
        "    if M is None:\n",
        "        if bbox is None: #use center crop\n",
        "            det = np.zeros(4, dtype=np.int32)\n",
        "            det[0] = int(img.shape[1]*0.0625)\n",
        "            det[1] = int(img.shape[0]*0.0625)\n",
        "            det[2] = img.shape[1] - det[0]\n",
        "            det[3] = img.shape[0] - det[1]\n",
        "        else:\n",
        "              det = bbox\n",
        "        margin = kwargs.get('margin', 44)\n",
        "        bb = np.zeros(4, dtype=np.int32)\n",
        "        bb[0] = np.maximum(det[0]-margin//2, 0)\n",
        "        bb[1] = np.maximum(det[1]-margin//2, 0)\n",
        "        bb[2] = np.minimum(det[2]+margin//2, img.shape[1])\n",
        "        bb[3] = np.minimum(det[3]+margin//2, img.shape[0])\n",
        "        ret = img[bb[1]:bb[3],bb[0]:bb[2],:]\n",
        "        if len(image_size)>0:\n",
        "              ret = cv2.resize(ret, (image_size[1], image_size[0]))\n",
        "        return ret \n",
        "    else: #do align using landmark\n",
        "        assert len(image_size)==2\n",
        "        warped = cv2.warpAffine(img,M,(image_size[1],image_size[0]), borderValue = 0.0)\n",
        "        return warped"
      ]
    },
    {
      "cell_type": "code",
      "execution_count": null,
      "metadata": {
        "id": "uX0sHHG6aTXX"
      },
      "outputs": [],
      "source": [
        "def save_aligned_faces(source_path,save_path):\n",
        "    if not os.path.exists(save_path):\n",
        "        os.makedirs(save_path)\n",
        "\n",
        "    for folder in tqdm(os.listdir(source_path)):\n",
        "        if not os.path.exists(os.path.join(save_path, folder)):\n",
        "            os.mkdir(os.path.join(save_path, folder))\n",
        "\n",
        "            prev_b = None\n",
        "            counter = 0\n",
        "\n",
        "            for image in sorted(os.listdir(os.path.join(source_path, folder))):\n",
        "                filename = os.path.join(source_path, folder, image)\n",
        "                frame = cv2.imread(filename)\n",
        "                frame = cv2.cvtColor(frame, cv2.COLOR_BGR2RGB)\n",
        "                bounding_boxes, points = imgProcessing.detect_faces(frame)\n",
        "                points = points.T\n",
        "\n",
        "                best_ind=None\n",
        "                if len(bounding_boxes)==0:\n",
        "                    print('No faces found for ',filename)\n",
        "                    counter+=1\n",
        "                    if prev_b is None or counter>3:\n",
        "                        continue\n",
        "                    else:\n",
        "                        b=prev_b\n",
        "                elif len(bounding_boxes)>1:\n",
        "                    print('Too many faces (',len(bounding_boxes),') found for ',filename)\n",
        "                    if prev_b is None:\n",
        "                        #continue\n",
        "                        best_ind=0\n",
        "                        b=[int(bi) for bi in bounding_boxes[best_ind]]\n",
        "                        counter=0\n",
        "                    else:\n",
        "                        best_iou=0\n",
        "                        for i in range(len(bounding_boxes)):\n",
        "                            iou=get_iou(bounding_boxes[i],prev_b)\n",
        "                            if iou>best_iou:\n",
        "                                best_iou=iou\n",
        "                                best_ind=i\n",
        "                        if best_iou>0:\n",
        "                            b=[int(bi) for bi in bounding_boxes[best_ind]]\n",
        "                            print('best_iou (',best_iou,') best_bb ',bounding_boxes[best_ind])\n",
        "                        else:\n",
        "                            #continue\n",
        "                            best_ind=0\n",
        "                            b=[int(bi) for bi in bounding_boxes[best_ind]]\n",
        "                            counter=0\n",
        "                else:\n",
        "                    best_ind=0\n",
        "                    b=[int(bi) for bi in bounding_boxes[best_ind]]\n",
        "                    counter=0\n",
        "                prev_b=b\n",
        "\n",
        "                if True:\n",
        "                    p=None\n",
        "                    if best_ind is not None:\n",
        "                        p=points[best_ind]\n",
        "                        if True: #not USE_RETINA_FACE:\n",
        "                            p = p.reshape((2,5)).T\n",
        "                    face_img=preprocess(frame,b,None) #p)\n",
        "                else:\n",
        "                    x1,y1,x2,y2=b[0:4]\n",
        "                    face_img=frame[y1:y2,x1:x2,:]\n",
        "                if np.prod(face_img.shape)==0:\n",
        "                    print('Empty face ',b,' found for ',filename)\n",
        "                    continue\n",
        "\n",
        "                cv2.imwrite(os.path.join(save_path, folder, image), cv2.cvtColor(face_img, cv2.COLOR_RGB2BGR)) \n"
      ]
    },
    {
      "cell_type": "code",
      "execution_count": null,
      "metadata": {
        "colab": {
          "base_uri": "https://localhost:8080/"
        },
        "id": "U03a9njChkPn",
        "outputId": "ac3518c7-c538-4e35-ad50-259208fcada2"
      },
      "outputs": [
        {
          "name": "stderr",
          "output_type": "stream",
          "text": [
            " 56%|█████▌    | 10/18 [03:21<02:38, 19.79s/it]"
          ]
        },
        {
          "name": "stdout",
          "output_type": "stream",
          "text": [
            "No faces found for  /content/drive/MyDrive/project/Датасэт/Test/frames/1_6_1/00008.png\n"
          ]
        },
        {
          "name": "stderr",
          "output_type": "stream",
          "text": [
            " 67%|██████▋   | 12/18 [03:39<01:25, 14.27s/it]"
          ]
        },
        {
          "name": "stdout",
          "output_type": "stream",
          "text": [
            "No faces found for  /content/drive/MyDrive/project/Датасэт/Test/frames/1_7/00046.png\n",
            "No faces found for  /content/drive/MyDrive/project/Датасэт/Test/frames/1_7/00047.png\n",
            "No faces found for  /content/drive/MyDrive/project/Датасэт/Test/frames/1_7/00048.png\n",
            "No faces found for  /content/drive/MyDrive/project/Датасэт/Test/frames/1_7/00049.png\n",
            "No faces found for  /content/drive/MyDrive/project/Датасэт/Test/frames/1_7/00050.png\n",
            "No faces found for  /content/drive/MyDrive/project/Датасэт/Test/frames/1_7/00051.png\n"
          ]
        },
        {
          "name": "stderr",
          "output_type": "stream",
          "text": [
            "\r 72%|███████▏  | 13/18 [03:46<01:01, 12.24s/it]"
          ]
        },
        {
          "name": "stdout",
          "output_type": "stream",
          "text": [
            "No faces found for  /content/drive/MyDrive/project/Датасэт/Test/frames/1_7/00052.png\n",
            "No faces found for  /content/drive/MyDrive/project/Датасэт/Test/frames/1_7/00053.png\n"
          ]
        },
        {
          "name": "stderr",
          "output_type": "stream",
          "text": [
            "\r 78%|███████▊  | 14/18 [04:03<00:54, 13.63s/it]"
          ]
        },
        {
          "name": "stdout",
          "output_type": "stream",
          "text": [
            "No faces found for  /content/drive/MyDrive/project/Датасэт/Test/frames/1_7_2/00004.png\n",
            "No faces found for  /content/drive/MyDrive/project/Датасэт/Test/frames/1_7_2/00005.png\n",
            "No faces found for  /content/drive/MyDrive/project/Датасэт/Test/frames/1_7_2/00007.png\n",
            "No faces found for  /content/drive/MyDrive/project/Датасэт/Test/frames/1_7_2/00008.png\n",
            "No faces found for  /content/drive/MyDrive/project/Датасэт/Test/frames/1_7_2/00009.png\n",
            "No faces found for  /content/drive/MyDrive/project/Датасэт/Test/frames/1_7_2/00010.png\n",
            "No faces found for  /content/drive/MyDrive/project/Датасэт/Test/frames/1_7_2/00038.png\n",
            "No faces found for  /content/drive/MyDrive/project/Датасэт/Test/frames/1_7_2/00078.png\n",
            "No faces found for  /content/drive/MyDrive/project/Датасэт/Test/frames/1_7_2/00080.png\n",
            "No faces found for  /content/drive/MyDrive/project/Датасэт/Test/frames/1_7_2/00083.png\n",
            "No faces found for  /content/drive/MyDrive/project/Датасэт/Test/frames/1_7_2/00098.png\n"
          ]
        },
        {
          "name": "stderr",
          "output_type": "stream",
          "text": [
            "\r 83%|████████▎ | 15/18 [04:27<00:50, 16.71s/it]"
          ]
        },
        {
          "name": "stdout",
          "output_type": "stream",
          "text": [
            "No faces found for  /content/drive/MyDrive/project/Датасэт/Test/frames/3_7/00005.png\n",
            "No faces found for  /content/drive/MyDrive/project/Датасэт/Test/frames/3_7/00046.png\n",
            "No faces found for  /content/drive/MyDrive/project/Датасэт/Test/frames/3_7/00047.png\n",
            "No faces found for  /content/drive/MyDrive/project/Датасэт/Test/frames/3_7/00048.png\n",
            "No faces found for  /content/drive/MyDrive/project/Датасэт/Test/frames/3_7/00049.png\n",
            "No faces found for  /content/drive/MyDrive/project/Датасэт/Test/frames/3_7/00060.png\n"
          ]
        },
        {
          "name": "stderr",
          "output_type": "stream",
          "text": [
            "\r 89%|████████▉ | 16/18 [04:36<00:29, 14.58s/it]"
          ]
        },
        {
          "name": "stdout",
          "output_type": "stream",
          "text": [
            "No faces found for  /content/drive/MyDrive/project/Датасэт/Test/frames/2_7_3/00059.png\n"
          ]
        },
        {
          "name": "stderr",
          "output_type": "stream",
          "text": [
            "100%|██████████| 18/18 [05:24<00:00, 18.02s/it]\n",
            "  0%|          | 0/20 [00:00<?, ?it/s]"
          ]
        },
        {
          "name": "stdout",
          "output_type": "stream",
          "text": [
            "No faces found for  /content/drive/MyDrive/project/Датасэт/Train/frames/1_3/00009.png\n"
          ]
        },
        {
          "name": "stderr",
          "output_type": "stream",
          "text": [
            "\r  5%|▌         | 1/20 [00:04<01:19,  4.18s/it]"
          ]
        },
        {
          "name": "stdout",
          "output_type": "stream",
          "text": [
            "No faces found for  /content/drive/MyDrive/project/Датасэт/Train/frames/0_5_1/00040.png\n",
            "No faces found for  /content/drive/MyDrive/project/Датасэт/Train/frames/0_5_1/00041.png\n"
          ]
        },
        {
          "name": "stderr",
          "output_type": "stream",
          "text": [
            " 20%|██        | 4/20 [00:22<01:28,  5.52s/it]"
          ]
        },
        {
          "name": "stdout",
          "output_type": "stream",
          "text": [
            "Too many faces ( 2 ) found for  /content/drive/MyDrive/project/Датасэт/Train/frames/3_4_3/00045.png\n",
            "best_iou ( 0.916372512227472 ) best_bb  [516.49691224 267.97326466 829.64618979 658.17209919   0.99981612]\n",
            "Too many faces ( 2 ) found for  /content/drive/MyDrive/project/Датасэт/Train/frames/3_4_3/00050.png\n",
            "best_iou ( 0.9473058242826751 ) best_bb  [519.12025835 284.79786108 817.42057169 652.12221571   0.99972814]\n"
          ]
        },
        {
          "name": "stderr",
          "output_type": "stream",
          "text": [
            " 35%|███▌      | 7/20 [01:08<02:50, 13.15s/it]"
          ]
        },
        {
          "name": "stdout",
          "output_type": "stream",
          "text": [
            "Too many faces ( 2 ) found for  /content/drive/MyDrive/project/Датасэт/Train/frames/3_4_4/00013.png\n",
            "best_iou ( 0.9234273690789145 ) best_bb  [475.37224981 186.67947021 816.3252193  603.70967044   0.9999826 ]\n",
            "Too many faces ( 2 ) found for  /content/drive/MyDrive/project/Датасэт/Train/frames/3_4_4/00261.png\n",
            "best_iou ( 0.9778373073006733 ) best_bb  [545.5022539  255.66013668 863.21906434 632.36798665   0.99998927]\n"
          ]
        },
        {
          "name": "stderr",
          "output_type": "stream",
          "text": [
            "\r 40%|████      | 8/20 [01:55<04:47, 23.99s/it]"
          ]
        },
        {
          "name": "stdout",
          "output_type": "stream",
          "text": [
            "No faces found for  /content/drive/MyDrive/project/Датасэт/Train/frames/1_4_2/00260.png\n",
            "No faces found for  /content/drive/MyDrive/project/Датасэт/Train/frames/1_4_2/00261.png\n"
          ]
        },
        {
          "name": "stderr",
          "output_type": "stream",
          "text": [
            " 55%|█████▌    | 11/20 [03:01<03:02, 20.32s/it]"
          ]
        },
        {
          "name": "stdout",
          "output_type": "stream",
          "text": [
            "No faces found for  /content/drive/MyDrive/project/Датасэт/Train/frames/2_4_3/00079.png\n"
          ]
        },
        {
          "name": "stderr",
          "output_type": "stream",
          "text": [
            " 75%|███████▌  | 15/20 [04:14<01:20, 16.16s/it]"
          ]
        },
        {
          "name": "stdout",
          "output_type": "stream",
          "text": [
            "No faces found for  /content/drive/MyDrive/project/Датасэт/Train/frames/2_8/00062.png\n",
            "No faces found for  /content/drive/MyDrive/project/Датасэт/Train/frames/2_8/00063.png\n"
          ]
        },
        {
          "name": "stderr",
          "output_type": "stream",
          "text": [
            "\r 80%|████████  | 16/20 [04:28<01:01, 15.46s/it]"
          ]
        },
        {
          "name": "stdout",
          "output_type": "stream",
          "text": [
            "Too many faces ( 2 ) found for  /content/drive/MyDrive/project/Датасэт/Train/frames/2_4_2/00079.png\n",
            "best_iou ( 0.9075012311702716 ) best_bb  [481.54323623 210.60274518 795.28766022 601.39398643   0.99975258]\n",
            "Too many faces ( 2 ) found for  /content/drive/MyDrive/project/Датасэт/Train/frames/2_4_2/00082.png\n",
            "best_iou ( 0.8534814484071754 ) best_bb  [498.85488441 221.17923245 809.19997276 612.9591307    0.9999845 ]\n",
            "No faces found for  /content/drive/MyDrive/project/Датасэт/Train/frames/2_4_2/00120.png\n",
            "Too many faces ( 2 ) found for  /content/drive/MyDrive/project/Датасэт/Train/frames/2_4_2/00141.png\n",
            "best_iou ( 0.9751544909560749 ) best_bb  [581.34304529 230.50527787 908.05537689 635.29753804   0.99985504]\n"
          ]
        },
        {
          "name": "stderr",
          "output_type": "stream",
          "text": [
            " 95%|█████████▌| 19/20 [05:46<00:23, 23.68s/it]"
          ]
        },
        {
          "name": "stdout",
          "output_type": "stream",
          "text": [
            "No faces found for  /content/drive/MyDrive/project/Датасэт/Train/frames/0_1/00014.png\n",
            "No faces found for  /content/drive/MyDrive/project/Датасэт/Train/frames/0_1/00015.png\n",
            "No faces found for  /content/drive/MyDrive/project/Датасэт/Train/frames/0_1/00016.png\n",
            "No faces found for  /content/drive/MyDrive/project/Датасэт/Train/frames/0_1/00047.png\n",
            "No faces found for  /content/drive/MyDrive/project/Датасэт/Train/frames/0_1/00048.png\n",
            "No faces found for  /content/drive/MyDrive/project/Датасэт/Train/frames/0_1/00049.png\n"
          ]
        },
        {
          "name": "stderr",
          "output_type": "stream",
          "text": [
            "100%|██████████| 20/20 [05:56<00:00, 17.81s/it]\n",
            " 15%|█▌        | 3/20 [00:58<05:29, 19.40s/it]"
          ]
        },
        {
          "name": "stdout",
          "output_type": "stream",
          "text": [
            "Too many faces ( 2 ) found for  /content/drive/MyDrive/project/Датасэт/Validation/frames/3_1_1/00024.png\n",
            "best_iou ( 0.8934027995232813 ) best_bb  [578.56169632 413.46994331 722.39009653 598.14491691   0.99999917]\n",
            "Too many faces ( 2 ) found for  /content/drive/MyDrive/project/Датасэт/Validation/frames/3_1_1/00025.png\n",
            "best_iou ( 0.8662883953183266 ) best_bb  [586.53905678 405.71091448 727.80274872 596.7704048    0.99999654]\n"
          ]
        },
        {
          "name": "stderr",
          "output_type": "stream",
          "text": [
            "\r 20%|██        | 4/20 [01:03<03:39, 13.72s/it]"
          ]
        },
        {
          "name": "stdout",
          "output_type": "stream",
          "text": [
            "No faces found for  /content/drive/MyDrive/project/Датасэт/Validation/frames/0_1_4/00102.png\n"
          ]
        },
        {
          "name": "stderr",
          "output_type": "stream",
          "text": [
            " 75%|███████▌  | 15/20 [03:32<00:55, 11.17s/it]"
          ]
        },
        {
          "name": "stdout",
          "output_type": "stream",
          "text": [
            "No faces found for  /content/drive/MyDrive/project/Датасэт/Validation/frames/2_7_5/00029.png\n",
            "No faces found for  /content/drive/MyDrive/project/Датасэт/Validation/frames/2_7_5/00030.png\n",
            "No faces found for  /content/drive/MyDrive/project/Датасэт/Validation/frames/2_7_5/00031.png\n",
            "No faces found for  /content/drive/MyDrive/project/Датасэт/Validation/frames/2_7_5/00032.png\n",
            "No faces found for  /content/drive/MyDrive/project/Датасэт/Validation/frames/2_7_5/00033.png\n",
            "No faces found for  /content/drive/MyDrive/project/Датасэт/Validation/frames/2_7_5/00034.png\n",
            "No faces found for  /content/drive/MyDrive/project/Датасэт/Validation/frames/2_7_5/00035.png\n",
            "No faces found for  /content/drive/MyDrive/project/Датасэт/Validation/frames/2_7_5/00036.png\n",
            "No faces found for  /content/drive/MyDrive/project/Датасэт/Validation/frames/2_7_5/00037.png\n",
            "No faces found for  /content/drive/MyDrive/project/Датасэт/Validation/frames/2_7_5/00038.png\n",
            "No faces found for  /content/drive/MyDrive/project/Датасэт/Validation/frames/2_7_5/00039.png\n",
            "No faces found for  /content/drive/MyDrive/project/Датасэт/Validation/frames/2_7_5/00040.png\n",
            "No faces found for  /content/drive/MyDrive/project/Датасэт/Validation/frames/2_7_5/00041.png\n",
            "No faces found for  /content/drive/MyDrive/project/Датасэт/Validation/frames/2_7_5/00042.png\n",
            "No faces found for  /content/drive/MyDrive/project/Датасэт/Validation/frames/2_7_5/00043.png\n",
            "No faces found for  /content/drive/MyDrive/project/Датасэт/Validation/frames/2_7_5/00050.png\n",
            "No faces found for  /content/drive/MyDrive/project/Датасэт/Validation/frames/2_7_5/00083.png\n",
            "No faces found for  /content/drive/MyDrive/project/Датасэт/Validation/frames/2_7_5/00115.png\n"
          ]
        },
        {
          "name": "stderr",
          "output_type": "stream",
          "text": [
            "\r 80%|████████  | 16/20 [03:54<00:57, 14.46s/it]"
          ]
        },
        {
          "name": "stdout",
          "output_type": "stream",
          "text": [
            "No faces found for  /content/drive/MyDrive/project/Датасэт/Validation/frames/2_7_6/00016.png\n",
            "No faces found for  /content/drive/MyDrive/project/Датасэт/Validation/frames/2_7_6/00017.png\n",
            "No faces found for  /content/drive/MyDrive/project/Датасэт/Validation/frames/2_7_6/00018.png\n",
            "No faces found for  /content/drive/MyDrive/project/Датасэт/Validation/frames/2_7_6/00019.png\n",
            "No faces found for  /content/drive/MyDrive/project/Датасэт/Validation/frames/2_7_6/00020.png\n",
            "No faces found for  /content/drive/MyDrive/project/Датасэт/Validation/frames/2_7_6/00021.png\n",
            "No faces found for  /content/drive/MyDrive/project/Датасэт/Validation/frames/2_7_6/00022.png\n",
            "No faces found for  /content/drive/MyDrive/project/Датасэт/Validation/frames/2_7_6/00023.png\n",
            "No faces found for  /content/drive/MyDrive/project/Датасэт/Validation/frames/2_7_6/00046.png\n",
            "No faces found for  /content/drive/MyDrive/project/Датасэт/Validation/frames/2_7_6/00047.png\n",
            "No faces found for  /content/drive/MyDrive/project/Датасэт/Validation/frames/2_7_6/00048.png\n",
            "No faces found for  /content/drive/MyDrive/project/Датасэт/Validation/frames/2_7_6/00049.png\n",
            "No faces found for  /content/drive/MyDrive/project/Датасэт/Validation/frames/2_7_6/00050.png\n",
            "No faces found for  /content/drive/MyDrive/project/Датасэт/Validation/frames/2_7_6/00051.png\n",
            "No faces found for  /content/drive/MyDrive/project/Датасэт/Validation/frames/2_7_6/00052.png\n",
            "No faces found for  /content/drive/MyDrive/project/Датасэт/Validation/frames/2_7_6/00053.png\n",
            "No faces found for  /content/drive/MyDrive/project/Датасэт/Validation/frames/2_7_6/00054.png\n",
            "No faces found for  /content/drive/MyDrive/project/Датасэт/Validation/frames/2_7_6/00063.png\n",
            "No faces found for  /content/drive/MyDrive/project/Датасэт/Validation/frames/2_7_6/00064.png\n",
            "No faces found for  /content/drive/MyDrive/project/Датасэт/Validation/frames/2_7_6/00065.png\n",
            "No faces found for  /content/drive/MyDrive/project/Датасэт/Validation/frames/2_7_6/00066.png\n",
            "No faces found for  /content/drive/MyDrive/project/Датасэт/Validation/frames/2_7_6/00067.png\n",
            "No faces found for  /content/drive/MyDrive/project/Датасэт/Validation/frames/2_7_6/00068.png\n",
            "No faces found for  /content/drive/MyDrive/project/Датасэт/Validation/frames/2_7_6/00069.png\n",
            "No faces found for  /content/drive/MyDrive/project/Датасэт/Validation/frames/2_7_6/00070.png\n",
            "No faces found for  /content/drive/MyDrive/project/Датасэт/Validation/frames/2_7_6/00071.png\n",
            "No faces found for  /content/drive/MyDrive/project/Датасэт/Validation/frames/2_7_6/00102.png\n"
          ]
        },
        {
          "name": "stderr",
          "output_type": "stream",
          "text": [
            "100%|██████████| 20/20 [04:58<00:00, 14.94s/it]\n"
          ]
        }
      ],
      "source": [
        "save_aligned_faces(os.path.join(DATA_DIR,'Test/frames'),os.path.join(DATA_DIR,'cropped/aligned/Test'))\n",
        "save_aligned_faces(os.path.join(DATA_DIR,'Train/frames'),os.path.join(DATA_DIR,'cropped/aligned/Train'))\n",
        "save_aligned_faces(os.path.join(DATA_DIR,'Validation/frames'),os.path.join(DATA_DIR,'cropped/aligned/Validation'))"
      ]
    },
    {
      "cell_type": "code",
      "execution_count": null,
      "metadata": {
        "colab": {
          "base_uri": "https://localhost:8080/",
          "height": 1000
        },
        "id": "-seUiE_bzYRg",
        "outputId": "9f4c97b9-b7c6-4244-b548-fab4d5d776de"
      },
      "outputs": [
        {
          "data": {
            "application/vnd.jupyter.widget-view+json": {
              "model_id": "8acf3f048abc42eaa9e3490e7b4a23d4",
              "version_major": 2,
              "version_minor": 0
            },
            "text/plain": [
              "  0%|          | 0/18 [00:00<?, ?it/s]"
            ]
          },
          "metadata": {},
          "output_type": "display_data"
        },
        {
          "name": "stdout",
          "output_type": "stream",
          "text": [
            "No faces found for  /content/drive/MyDrive/project/Датасэт/Test/frames/1_6_1/00008.png\n",
            "No faces found for  /content/drive/MyDrive/project/Датасэт/Test/frames/1_7/00046.png\n",
            "No faces found for  /content/drive/MyDrive/project/Датасэт/Test/frames/1_7/00047.png\n",
            "No faces found for  /content/drive/MyDrive/project/Датасэт/Test/frames/1_7/00048.png\n",
            "No faces found for  /content/drive/MyDrive/project/Датасэт/Test/frames/1_7/00049.png\n",
            "No faces found for  /content/drive/MyDrive/project/Датасэт/Test/frames/1_7/00050.png\n",
            "No faces found for  /content/drive/MyDrive/project/Датасэт/Test/frames/1_7/00051.png\n",
            "No faces found for  /content/drive/MyDrive/project/Датасэт/Test/frames/1_7/00052.png\n",
            "No faces found for  /content/drive/MyDrive/project/Датасэт/Test/frames/1_7/00053.png\n",
            "No faces found for  /content/drive/MyDrive/project/Датасэт/Test/frames/1_7_2/00004.png\n",
            "No faces found for  /content/drive/MyDrive/project/Датасэт/Test/frames/1_7_2/00005.png\n",
            "No faces found for  /content/drive/MyDrive/project/Датасэт/Test/frames/1_7_2/00007.png\n",
            "No faces found for  /content/drive/MyDrive/project/Датасэт/Test/frames/1_7_2/00008.png\n",
            "No faces found for  /content/drive/MyDrive/project/Датасэт/Test/frames/1_7_2/00009.png\n",
            "No faces found for  /content/drive/MyDrive/project/Датасэт/Test/frames/1_7_2/00010.png\n",
            "No faces found for  /content/drive/MyDrive/project/Датасэт/Test/frames/1_7_2/00038.png\n",
            "No faces found for  /content/drive/MyDrive/project/Датасэт/Test/frames/1_7_2/00055.png\n",
            "No faces found for  /content/drive/MyDrive/project/Датасэт/Test/frames/1_7_2/00078.png\n",
            "No faces found for  /content/drive/MyDrive/project/Датасэт/Test/frames/1_7_2/00079.png\n",
            "No faces found for  /content/drive/MyDrive/project/Датасэт/Test/frames/1_7_2/00080.png\n",
            "No faces found for  /content/drive/MyDrive/project/Датасэт/Test/frames/1_7_2/00083.png\n",
            "No faces found for  /content/drive/MyDrive/project/Датасэт/Test/frames/1_7_2/00098.png\n",
            "No faces found for  /content/drive/MyDrive/project/Датасэт/Test/frames/3_7/00005.png\n",
            "No faces found for  /content/drive/MyDrive/project/Датасэт/Test/frames/3_7/00046.png\n",
            "No faces found for  /content/drive/MyDrive/project/Датасэт/Test/frames/3_7/00047.png\n",
            "No faces found for  /content/drive/MyDrive/project/Датасэт/Test/frames/3_7/00048.png\n",
            "No faces found for  /content/drive/MyDrive/project/Датасэт/Test/frames/3_7/00049.png\n",
            "No faces found for  /content/drive/MyDrive/project/Датасэт/Test/frames/3_7/00060.png\n",
            "No faces found for  /content/drive/MyDrive/project/Датасэт/Test/frames/2_7_3/00059.png\n"
          ]
        },
        {
          "data": {
            "application/vnd.jupyter.widget-view+json": {
              "model_id": "02c480c7d76d413b8138e7c0e1669590",
              "version_major": 2,
              "version_minor": 0
            },
            "text/plain": [
              "  0%|          | 0/20 [00:00<?, ?it/s]"
            ]
          },
          "metadata": {},
          "output_type": "display_data"
        },
        {
          "name": "stdout",
          "output_type": "stream",
          "text": [
            "No faces found for  /content/drive/MyDrive/project/Датасэт/Train/frames/1_3/00009.png\n",
            "No faces found for  /content/drive/MyDrive/project/Датасэт/Train/frames/0_5_1/00040.png\n",
            "No faces found for  /content/drive/MyDrive/project/Датасэт/Train/frames/0_5_1/00041.png\n",
            "Too many faces ( 2 ) found for  /content/drive/MyDrive/project/Датасэт/Train/frames/3_4_4/00089.png\n",
            "best_iou ( 0.9596440329438631 ) best_bb  [509.56414306 215.2859764  833.36680609 612.19771779   0.99994576]\n",
            "Too many faces ( 2 ) found for  /content/drive/MyDrive/project/Датасэт/Train/frames/3_4_4/00090.png\n",
            "best_iou ( 0.9554795359910803 ) best_bb  [517.84188291 215.84387389 837.75404403 612.49367268   0.99998331]\n",
            "Too many faces ( 2 ) found for  /content/drive/MyDrive/project/Датасэт/Train/frames/3_4_4/00093.png\n",
            "best_iou ( 0.9452478055665529 ) best_bb  [515.08553337 208.66246748 841.74161211 609.59455252   0.99990535]\n",
            "Too many faces ( 2 ) found for  /content/drive/MyDrive/project/Датасэт/Train/frames/1_4_2/00083.png\n",
            "best_iou ( 0.9743002411724132 ) best_bb  [491.08335463 278.55187845 803.50596201 659.00688088   0.99996102]\n",
            "Too many faces ( 2 ) found for  /content/drive/MyDrive/project/Датасэт/Train/frames/1_4_2/00111.png\n",
            "best_iou ( 0.948843335762056 ) best_bb  [544.97242602 296.91688085 847.73392749 690.31636514   0.99997342]\n",
            "Too many faces ( 2 ) found for  /content/drive/MyDrive/project/Датасэт/Train/frames/1_4_2/00122.png\n",
            "best_iou ( 0.973572886243127 ) best_bb  [553.05515131 309.07248041 850.8869176  696.90211559   0.99995816]\n",
            "No faces found for  /content/drive/MyDrive/project/Датасэт/Train/frames/1_4_2/00260.png\n",
            "No faces found for  /content/drive/MyDrive/project/Датасэт/Train/frames/1_4_2/00261.png\n",
            "No faces found for  /content/drive/MyDrive/project/Датасэт/Train/frames/2_4_3/00079.png\n",
            "No faces found for  /content/drive/MyDrive/project/Датасэт/Train/frames/2_8/00062.png\n",
            "No faces found for  /content/drive/MyDrive/project/Датасэт/Train/frames/2_8/00063.png\n",
            "No faces found for  /content/drive/MyDrive/project/Датасэт/Train/frames/2_8/00064.png\n",
            "Too many faces ( 2 ) found for  /content/drive/MyDrive/project/Датасэт/Train/frames/2_4_2/00082.png\n",
            "best_iou ( 0.9093670228458725 ) best_bb  [470.39186871 195.93796524 811.89446674 618.64120913   0.99990582]\n",
            "No faces found for  /content/drive/MyDrive/project/Датасэт/Train/frames/2_4_2/00120.png\n",
            "No faces found for  /content/drive/MyDrive/project/Датасэт/Train/frames/0_1/00014.png\n",
            "No faces found for  /content/drive/MyDrive/project/Датасэт/Train/frames/0_1/00015.png\n",
            "No faces found for  /content/drive/MyDrive/project/Датасэт/Train/frames/0_1/00016.png\n",
            "No faces found for  /content/drive/MyDrive/project/Датасэт/Train/frames/0_1/00048.png\n"
          ]
        },
        {
          "data": {
            "application/vnd.jupyter.widget-view+json": {
              "model_id": "957451fab95d49749fec00632a5b3f57",
              "version_major": 2,
              "version_minor": 0
            },
            "text/plain": [
              "  0%|          | 0/20 [00:00<?, ?it/s]"
            ]
          },
          "metadata": {},
          "output_type": "display_data"
        },
        {
          "name": "stdout",
          "output_type": "stream",
          "text": [
            "Too many faces ( 2 ) found for  /content/drive/MyDrive/project/Датасэт/Validation/frames/3_1_1/00024.png\n",
            "best_iou ( 0.9849174188163964 ) best_bb  [584.75502819 406.25657268 726.22939119 595.35224442   0.99999487]\n",
            "Too many faces ( 2 ) found for  /content/drive/MyDrive/project/Датасэт/Validation/frames/3_1_1/00025.png\n",
            "best_iou ( 0.9508705824101706 ) best_bb  [587.68196878 408.3282536  727.68905687 595.00597186   0.99999821]\n",
            "No faces found for  /content/drive/MyDrive/project/Датасэт/Validation/frames/0_1_4/00102.png\n",
            "No faces found for  /content/drive/MyDrive/project/Датасэт/Validation/frames/2_7_5/00029.png\n",
            "No faces found for  /content/drive/MyDrive/project/Датасэт/Validation/frames/2_7_5/00030.png\n",
            "No faces found for  /content/drive/MyDrive/project/Датасэт/Validation/frames/2_7_5/00031.png\n",
            "No faces found for  /content/drive/MyDrive/project/Датасэт/Validation/frames/2_7_5/00032.png\n",
            "No faces found for  /content/drive/MyDrive/project/Датасэт/Validation/frames/2_7_5/00033.png\n",
            "No faces found for  /content/drive/MyDrive/project/Датасэт/Validation/frames/2_7_5/00034.png\n",
            "No faces found for  /content/drive/MyDrive/project/Датасэт/Validation/frames/2_7_5/00035.png\n",
            "No faces found for  /content/drive/MyDrive/project/Датасэт/Validation/frames/2_7_5/00036.png\n",
            "No faces found for  /content/drive/MyDrive/project/Датасэт/Validation/frames/2_7_5/00037.png\n",
            "No faces found for  /content/drive/MyDrive/project/Датасэт/Validation/frames/2_7_5/00038.png\n",
            "No faces found for  /content/drive/MyDrive/project/Датасэт/Validation/frames/2_7_5/00039.png\n",
            "No faces found for  /content/drive/MyDrive/project/Датасэт/Validation/frames/2_7_5/00040.png\n",
            "No faces found for  /content/drive/MyDrive/project/Датасэт/Validation/frames/2_7_5/00041.png\n",
            "No faces found for  /content/drive/MyDrive/project/Датасэт/Validation/frames/2_7_5/00042.png\n",
            "No faces found for  /content/drive/MyDrive/project/Датасэт/Validation/frames/2_7_5/00043.png\n",
            "No faces found for  /content/drive/MyDrive/project/Датасэт/Validation/frames/2_7_5/00050.png\n",
            "No faces found for  /content/drive/MyDrive/project/Датасэт/Validation/frames/2_7_5/00083.png\n",
            "No faces found for  /content/drive/MyDrive/project/Датасэт/Validation/frames/2_7_5/00115.png\n",
            "No faces found for  /content/drive/MyDrive/project/Датасэт/Validation/frames/2_7_6/00016.png\n",
            "No faces found for  /content/drive/MyDrive/project/Датасэт/Validation/frames/2_7_6/00017.png\n",
            "No faces found for  /content/drive/MyDrive/project/Датасэт/Validation/frames/2_7_6/00018.png\n",
            "No faces found for  /content/drive/MyDrive/project/Датасэт/Validation/frames/2_7_6/00019.png\n",
            "No faces found for  /content/drive/MyDrive/project/Датасэт/Validation/frames/2_7_6/00020.png\n",
            "No faces found for  /content/drive/MyDrive/project/Датасэт/Validation/frames/2_7_6/00021.png\n",
            "No faces found for  /content/drive/MyDrive/project/Датасэт/Validation/frames/2_7_6/00022.png\n",
            "No faces found for  /content/drive/MyDrive/project/Датасэт/Validation/frames/2_7_6/00023.png\n",
            "No faces found for  /content/drive/MyDrive/project/Датасэт/Validation/frames/2_7_6/00046.png\n",
            "No faces found for  /content/drive/MyDrive/project/Датасэт/Validation/frames/2_7_6/00047.png\n",
            "No faces found for  /content/drive/MyDrive/project/Датасэт/Validation/frames/2_7_6/00048.png\n",
            "No faces found for  /content/drive/MyDrive/project/Датасэт/Validation/frames/2_7_6/00049.png\n",
            "No faces found for  /content/drive/MyDrive/project/Датасэт/Validation/frames/2_7_6/00050.png\n",
            "No faces found for  /content/drive/MyDrive/project/Датасэт/Validation/frames/2_7_6/00051.png\n",
            "No faces found for  /content/drive/MyDrive/project/Датасэт/Validation/frames/2_7_6/00052.png\n",
            "No faces found for  /content/drive/MyDrive/project/Датасэт/Validation/frames/2_7_6/00053.png\n",
            "No faces found for  /content/drive/MyDrive/project/Датасэт/Validation/frames/2_7_6/00054.png\n",
            "No faces found for  /content/drive/MyDrive/project/Датасэт/Validation/frames/2_7_6/00063.png\n",
            "No faces found for  /content/drive/MyDrive/project/Датасэт/Validation/frames/2_7_6/00064.png\n",
            "No faces found for  /content/drive/MyDrive/project/Датасэт/Validation/frames/2_7_6/00065.png\n",
            "No faces found for  /content/drive/MyDrive/project/Датасэт/Validation/frames/2_7_6/00066.png\n",
            "No faces found for  /content/drive/MyDrive/project/Датасэт/Validation/frames/2_7_6/00067.png\n",
            "No faces found for  /content/drive/MyDrive/project/Датасэт/Validation/frames/2_7_6/00068.png\n",
            "No faces found for  /content/drive/MyDrive/project/Датасэт/Validation/frames/2_7_6/00069.png\n",
            "No faces found for  /content/drive/MyDrive/project/Датасэт/Validation/frames/2_7_6/00070.png\n",
            "No faces found for  /content/drive/MyDrive/project/Датасэт/Validation/frames/2_7_6/00071.png\n",
            "No faces found for  /content/drive/MyDrive/project/Датасэт/Validation/frames/2_7_6/00102.png\n"
          ]
        }
      ],
      "source": [
        "save_aligned_faces(os.path.join(DATA_DIR,'Test/frames'),os.path.join(DATA_DIR,'cropped/aligned_2/Test'))\n",
        "save_aligned_faces(os.path.join(DATA_DIR,'Train/frames'),os.path.join(DATA_DIR,'cropped/aligned_2/Train'))\n",
        "save_aligned_faces(os.path.join(DATA_DIR,'Validation/frames'),os.path.join(DATA_DIR,'cropped/aligned_2/Validation'))"
      ]
    },
    {
      "cell_type": "code",
      "execution_count": null,
      "metadata": {
        "id": "FCvdUZSEiFE9"
      },
      "outputs": [],
      "source": [
        "from tensorflow.keras.applications import mobilenet\n",
        "from tensorflow.keras.models import load_model,Model"
      ]
    },
    {
      "cell_type": "markdown",
      "metadata": {
        "id": "baX6CqaLn7js"
      },
      "source": [
        "## TF"
      ]
    },
    {
      "cell_type": "code",
      "execution_count": null,
      "metadata": {
        "id": "yY-e0cMImtec"
      },
      "outputs": [],
      "source": [
        "def mobilenet_preprocess_input(x,**kwargs):\n",
        "    x[..., 0] -= 103.939\n",
        "    x[..., 1] -= 116.779\n",
        "    x[..., 2] -= 123.68\n",
        "    return x\n",
        "\n",
        "preprocessing_function=mobilenet_preprocess_input"
      ]
    },
    {
      "cell_type": "code",
      "execution_count": null,
      "metadata": {
        "colab": {
          "base_uri": "https://localhost:8080/"
        },
        "id": "smwDL3V7egsA",
        "outputId": "be8dd7fa-cd65-4d57-ece4-53fd9a44496e"
      },
      "outputs": [
        {
          "name": "stdout",
          "output_type": "stream",
          "text": [
            "WARNING:tensorflow:No training configuration found in the save file, so the model was *not* compiled. Compile it manually.\n",
            "Model: \"model\"\n",
            "_________________________________________________________________\n",
            " Layer (type)                Output Shape              Param #   \n",
            "=================================================================\n",
            " input_1 (InputLayer)        [(None, 224, 224, 3)]     0         \n",
            "                                                                 \n",
            " conv1_pad (ZeroPadding2D)   (None, 225, 225, 3)       0         \n",
            "                                                                 \n",
            " conv1 (Conv2D)              (None, 112, 112, 32)      864       \n",
            "                                                                 \n",
            " conv1_bn (BatchNormalizatio  (None, 112, 112, 32)     128       \n",
            " n)                                                              \n",
            "                                                                 \n",
            " conv1_relu (ReLU)           (None, 112, 112, 32)      0         \n",
            "                                                                 \n",
            " conv_dw_1 (DepthwiseConv2D)  (None, 112, 112, 32)     288       \n",
            "                                                                 \n",
            " conv_dw_1_bn (BatchNormaliz  (None, 112, 112, 32)     128       \n",
            " ation)                                                          \n",
            "                                                                 \n",
            " conv_dw_1_relu (ReLU)       (None, 112, 112, 32)      0         \n",
            "                                                                 \n",
            " conv_pw_1 (Conv2D)          (None, 112, 112, 64)      2048      \n",
            "                                                                 \n",
            " conv_pw_1_bn (BatchNormaliz  (None, 112, 112, 64)     256       \n",
            " ation)                                                          \n",
            "                                                                 \n",
            " conv_pw_1_relu (ReLU)       (None, 112, 112, 64)      0         \n",
            "                                                                 \n",
            " conv_pad_2 (ZeroPadding2D)  (None, 113, 113, 64)      0         \n",
            "                                                                 \n",
            " conv_dw_2 (DepthwiseConv2D)  (None, 56, 56, 64)       576       \n",
            "                                                                 \n",
            " conv_dw_2_bn (BatchNormaliz  (None, 56, 56, 64)       256       \n",
            " ation)                                                          \n",
            "                                                                 \n",
            " conv_dw_2_relu (ReLU)       (None, 56, 56, 64)        0         \n",
            "                                                                 \n",
            " conv_pw_2 (Conv2D)          (None, 56, 56, 128)       8192      \n",
            "                                                                 \n",
            " conv_pw_2_bn (BatchNormaliz  (None, 56, 56, 128)      512       \n",
            " ation)                                                          \n",
            "                                                                 \n",
            " conv_pw_2_relu (ReLU)       (None, 56, 56, 128)       0         \n",
            "                                                                 \n",
            " conv_dw_3 (DepthwiseConv2D)  (None, 56, 56, 128)      1152      \n",
            "                                                                 \n",
            " conv_dw_3_bn (BatchNormaliz  (None, 56, 56, 128)      512       \n",
            " ation)                                                          \n",
            "                                                                 \n",
            " conv_dw_3_relu (ReLU)       (None, 56, 56, 128)       0         \n",
            "                                                                 \n",
            " conv_pw_3 (Conv2D)          (None, 56, 56, 128)       16384     \n",
            "                                                                 \n",
            " conv_pw_3_bn (BatchNormaliz  (None, 56, 56, 128)      512       \n",
            " ation)                                                          \n",
            "                                                                 \n",
            " conv_pw_3_relu (ReLU)       (None, 56, 56, 128)       0         \n",
            "                                                                 \n",
            " conv_pad_4 (ZeroPadding2D)  (None, 57, 57, 128)       0         \n",
            "                                                                 \n",
            " conv_dw_4 (DepthwiseConv2D)  (None, 28, 28, 128)      1152      \n",
            "                                                                 \n",
            " conv_dw_4_bn (BatchNormaliz  (None, 28, 28, 128)      512       \n",
            " ation)                                                          \n",
            "                                                                 \n",
            " conv_dw_4_relu (ReLU)       (None, 28, 28, 128)       0         \n",
            "                                                                 \n",
            " conv_pw_4 (Conv2D)          (None, 28, 28, 256)       32768     \n",
            "                                                                 \n",
            " conv_pw_4_bn (BatchNormaliz  (None, 28, 28, 256)      1024      \n",
            " ation)                                                          \n",
            "                                                                 \n",
            " conv_pw_4_relu (ReLU)       (None, 28, 28, 256)       0         \n",
            "                                                                 \n",
            " conv_dw_5 (DepthwiseConv2D)  (None, 28, 28, 256)      2304      \n",
            "                                                                 \n",
            " conv_dw_5_bn (BatchNormaliz  (None, 28, 28, 256)      1024      \n",
            " ation)                                                          \n",
            "                                                                 \n",
            " conv_dw_5_relu (ReLU)       (None, 28, 28, 256)       0         \n",
            "                                                                 \n",
            " conv_pw_5 (Conv2D)          (None, 28, 28, 256)       65536     \n",
            "                                                                 \n",
            " conv_pw_5_bn (BatchNormaliz  (None, 28, 28, 256)      1024      \n",
            " ation)                                                          \n",
            "                                                                 \n",
            " conv_pw_5_relu (ReLU)       (None, 28, 28, 256)       0         \n",
            "                                                                 \n",
            " conv_pad_6 (ZeroPadding2D)  (None, 29, 29, 256)       0         \n",
            "                                                                 \n",
            " conv_dw_6 (DepthwiseConv2D)  (None, 14, 14, 256)      2304      \n",
            "                                                                 \n",
            " conv_dw_6_bn (BatchNormaliz  (None, 14, 14, 256)      1024      \n",
            " ation)                                                          \n",
            "                                                                 \n",
            " conv_dw_6_relu (ReLU)       (None, 14, 14, 256)       0         \n",
            "                                                                 \n",
            " conv_pw_6 (Conv2D)          (None, 14, 14, 512)       131072    \n",
            "                                                                 \n",
            " conv_pw_6_bn (BatchNormaliz  (None, 14, 14, 512)      2048      \n",
            " ation)                                                          \n",
            "                                                                 \n",
            " conv_pw_6_relu (ReLU)       (None, 14, 14, 512)       0         \n",
            "                                                                 \n",
            " conv_dw_7 (DepthwiseConv2D)  (None, 14, 14, 512)      4608      \n",
            "                                                                 \n",
            " conv_dw_7_bn (BatchNormaliz  (None, 14, 14, 512)      2048      \n",
            " ation)                                                          \n",
            "                                                                 \n",
            " conv_dw_7_relu (ReLU)       (None, 14, 14, 512)       0         \n",
            "                                                                 \n",
            " conv_pw_7 (Conv2D)          (None, 14, 14, 512)       262144    \n",
            "                                                                 \n",
            " conv_pw_7_bn (BatchNormaliz  (None, 14, 14, 512)      2048      \n",
            " ation)                                                          \n",
            "                                                                 \n",
            " conv_pw_7_relu (ReLU)       (None, 14, 14, 512)       0         \n",
            "                                                                 \n",
            " conv_dw_8 (DepthwiseConv2D)  (None, 14, 14, 512)      4608      \n",
            "                                                                 \n",
            " conv_dw_8_bn (BatchNormaliz  (None, 14, 14, 512)      2048      \n",
            " ation)                                                          \n",
            "                                                                 \n",
            " conv_dw_8_relu (ReLU)       (None, 14, 14, 512)       0         \n",
            "                                                                 \n",
            " conv_pw_8 (Conv2D)          (None, 14, 14, 512)       262144    \n",
            "                                                                 \n",
            " conv_pw_8_bn (BatchNormaliz  (None, 14, 14, 512)      2048      \n",
            " ation)                                                          \n",
            "                                                                 \n",
            " conv_pw_8_relu (ReLU)       (None, 14, 14, 512)       0         \n",
            "                                                                 \n",
            " conv_dw_9 (DepthwiseConv2D)  (None, 14, 14, 512)      4608      \n",
            "                                                                 \n",
            " conv_dw_9_bn (BatchNormaliz  (None, 14, 14, 512)      2048      \n",
            " ation)                                                          \n",
            "                                                                 \n",
            " conv_dw_9_relu (ReLU)       (None, 14, 14, 512)       0         \n",
            "                                                                 \n",
            " conv_pw_9 (Conv2D)          (None, 14, 14, 512)       262144    \n",
            "                                                                 \n",
            " conv_pw_9_bn (BatchNormaliz  (None, 14, 14, 512)      2048      \n",
            " ation)                                                          \n",
            "                                                                 \n",
            " conv_pw_9_relu (ReLU)       (None, 14, 14, 512)       0         \n",
            "                                                                 \n",
            " conv_dw_10 (DepthwiseConv2D  (None, 14, 14, 512)      4608      \n",
            " )                                                               \n",
            "                                                                 \n",
            " conv_dw_10_bn (BatchNormali  (None, 14, 14, 512)      2048      \n",
            " zation)                                                         \n",
            "                                                                 \n",
            " conv_dw_10_relu (ReLU)      (None, 14, 14, 512)       0         \n",
            "                                                                 \n",
            " conv_pw_10 (Conv2D)         (None, 14, 14, 512)       262144    \n",
            "                                                                 \n",
            " conv_pw_10_bn (BatchNormali  (None, 14, 14, 512)      2048      \n",
            " zation)                                                         \n",
            "                                                                 \n",
            " conv_pw_10_relu (ReLU)      (None, 14, 14, 512)       0         \n",
            "                                                                 \n",
            " conv_dw_11 (DepthwiseConv2D  (None, 14, 14, 512)      4608      \n",
            " )                                                               \n",
            "                                                                 \n",
            " conv_dw_11_bn (BatchNormali  (None, 14, 14, 512)      2048      \n",
            " zation)                                                         \n",
            "                                                                 \n",
            " conv_dw_11_relu (ReLU)      (None, 14, 14, 512)       0         \n",
            "                                                                 \n",
            " conv_pw_11 (Conv2D)         (None, 14, 14, 512)       262144    \n",
            "                                                                 \n",
            " conv_pw_11_bn (BatchNormali  (None, 14, 14, 512)      2048      \n",
            " zation)                                                         \n",
            "                                                                 \n",
            " conv_pw_11_relu (ReLU)      (None, 14, 14, 512)       0         \n",
            "                                                                 \n",
            " conv_pad_12 (ZeroPadding2D)  (None, 15, 15, 512)      0         \n",
            "                                                                 \n",
            " conv_dw_12 (DepthwiseConv2D  (None, 7, 7, 512)        4608      \n",
            " )                                                               \n",
            "                                                                 \n",
            " conv_dw_12_bn (BatchNormali  (None, 7, 7, 512)        2048      \n",
            " zation)                                                         \n",
            "                                                                 \n",
            " conv_dw_12_relu (ReLU)      (None, 7, 7, 512)         0         \n",
            "                                                                 \n",
            " conv_pw_12 (Conv2D)         (None, 7, 7, 1024)        524288    \n",
            "                                                                 \n",
            " conv_pw_12_bn (BatchNormali  (None, 7, 7, 1024)       4096      \n",
            " zation)                                                         \n",
            "                                                                 \n",
            " conv_pw_12_relu (ReLU)      (None, 7, 7, 1024)        0         \n",
            "                                                                 \n",
            " conv_dw_13 (DepthwiseConv2D  (None, 7, 7, 1024)       9216      \n",
            " )                                                               \n",
            "                                                                 \n",
            " conv_dw_13_bn (BatchNormali  (None, 7, 7, 1024)       4096      \n",
            " zation)                                                         \n",
            "                                                                 \n",
            " conv_dw_13_relu (ReLU)      (None, 7, 7, 1024)        0         \n",
            "                                                                 \n",
            " conv_pw_13 (Conv2D)         (None, 7, 7, 1024)        1048576   \n",
            "                                                                 \n",
            " conv_pw_13_bn (BatchNormali  (None, 7, 7, 1024)       4096      \n",
            " zation)                                                         \n",
            "                                                                 \n",
            " conv_pw_13_relu (ReLU)      (None, 7, 7, 1024)        0         \n",
            "                                                                 \n",
            " global_pooling (GlobalAvera  (None, 1024)             0         \n",
            " gePooling2D)                                                    \n",
            "                                                                 \n",
            " dropout_1 (Dropout)         (None, 1024)              0         \n",
            "                                                                 \n",
            " feats (Dense)               (None, 256)               262400    \n",
            "                                                                 \n",
            " emotion_preds (Dense)       (None, 7)                 1799      \n",
            "                                                                 \n",
            "=================================================================\n",
            "Total params: 3,493,063\n",
            "Trainable params: 3,471,175\n",
            "Non-trainable params: 21,888\n",
            "_________________________________________________________________\n",
            "224 224\n"
          ]
        }
      ],
      "source": [
        "model_name='mobilenet_7'\n",
        "base_model=load_model('/content/drive/MyDrive/project/Датасэт/Models/'+model_name+'.h5')\n",
        "feature_extractor_model=Model(base_model.input,[base_model.get_layer('global_pooling').output,base_model.get_layer('feats').output,base_model.output])\n",
        "feature_extractor_model.summary()\n",
        "_,w,h,_=feature_extractor_model.input.shape\n",
        "print(w,h)"
      ]
    },
    {
      "cell_type": "code",
      "execution_count": null,
      "metadata": {
        "colab": {
          "base_uri": "https://localhost:8080/"
        },
        "id": "zCaY4HJSil8j",
        "outputId": "82df702a-0cda-4575-9383-707ac5175bff"
      },
      "outputs": [
        {
          "data": {
            "text/plain": [
              "TensorShape([None, 7])"
            ]
          },
          "execution_count": 38,
          "metadata": {},
          "output_type": "execute_result"
        }
      ],
      "source": [
        "feature_extractor_model.layers[-1].output.shape"
      ]
    },
    {
      "cell_type": "code",
      "execution_count": null,
      "metadata": {
        "colab": {
          "base_uri": "https://localhost:8080/"
        },
        "id": "Uc8nrQ2Uifnk",
        "outputId": "fcb2dda1-174d-4929-c1f5-e944fee8f403"
      },
      "outputs": [
        {
          "data": {
            "application/vnd.jupyter.widget-view+json": {
              "model_id": "bffbc183666149f79acbe09f62719e8f",
              "version_major": 2,
              "version_minor": 0
            },
            "text/plain": [
              "  0%|          | 0/20 [00:00<?, ?it/s]"
            ]
          },
          "metadata": {},
          "output_type": "display_data"
        },
        {
          "data": {
            "application/vnd.jupyter.widget-view+json": {
              "model_id": "7a522957615b48e4b28ecd5be7e53a6e",
              "version_major": 2,
              "version_minor": 0
            },
            "text/plain": [
              "  0%|          | 0/20 [00:00<?, ?it/s]"
            ]
          },
          "metadata": {},
          "output_type": "display_data"
        },
        {
          "data": {
            "application/vnd.jupyter.widget-view+json": {
              "model_id": "4bab36425f2f4b889c1bf0994362f46f",
              "version_major": 2,
              "version_minor": 0
            },
            "text/plain": [
              "  0%|          | 0/18 [00:00<?, ?it/s]"
            ]
          },
          "metadata": {},
          "output_type": "display_data"
        }
      ],
      "source": [
        "\n",
        "def get_features_scores(data_dir):\n",
        "    filename2features={}\n",
        "    for filename in tqdm(os.listdir(data_dir)):\n",
        "        frames_dir=os.path.join(data_dir,filename)\n",
        "        X_global_features,X_feats,X_scores,X_isface=[],[],[],[]\n",
        "        imgs=[]\n",
        "        faces_only=[fn for fn in os.listdir(frames_dir) if 'noface' not in fn]\n",
        "        for img_name in sorted(faces_only):\n",
        "            img=cv2.imread(os.path.join(frames_dir,img_name))\n",
        "            X_isface.append('noface' not in img_name)\n",
        "                \n",
        "            if img.size:\n",
        "                img=cv2.resize(img,(w,h))\n",
        "                img = cv2.cvtColor(img,cv2.COLOR_BGR2RGB)\n",
        "                imgs.append(img)\n",
        "                if len(imgs)>=512:        \n",
        "                    #inp = preprocessing_function(np.expand_dims(img, axis=0).astype(np.float32))\n",
        "                    inp = preprocessing_function(np.array(imgs, dtype=np.float32))\n",
        "                    global_features,feats,scores=feature_extractor_model.predict(inp)\n",
        "                    #print(global_features.shape,feats.shape,scores.shape)\n",
        "                    if len(X_feats)==0:\n",
        "                        X_feats=feats\n",
        "                        X_global_features=global_features\n",
        "                        X_scores=scores\n",
        "                    else:\n",
        "                        X_feats=np.concatenate((X_feats,feats),axis=0)\n",
        "                        X_global_features=np.concatenate((X_global_features,global_features),axis=0)\n",
        "                        X_scores=np.concatenate((X_scores,scores),axis=0)\n",
        "                    \n",
        "                    imgs=[]\n",
        "\n",
        "        if len(imgs)>0:        \n",
        "            inp = preprocessing_function(np.array(imgs, dtype=np.float32))\n",
        "            global_features,feats,scores=feature_extractor_model.predict(inp)\n",
        "            #print(global_features.shape,feats.shape,scores.shape)\n",
        "            if len(X_feats)==0:\n",
        "                X_feats=feats\n",
        "                X_global_features=global_features\n",
        "                X_scores=scores\n",
        "            else:\n",
        "                X_feats=np.concatenate((X_feats,feats),axis=0)\n",
        "                X_global_features=np.concatenate((X_global_features,global_features),axis=0)\n",
        "                X_scores=np.concatenate((X_scores,scores),axis=0)\n",
        "\n",
        "        X_isface=np.array(X_isface)\n",
        "        #print(X_global_features.shape,X_feats.shape,X_scores.shape)\n",
        "        filename2features[filename]=(X_global_features,X_feats,X_scores,X_isface)\n",
        "    return filename2features\n",
        "\n",
        "filename2features_val=get_features_scores(os.path.join(DATA_DIR,'cropped/aligned/Validation/')) #mtcnn_aligned\n",
        "filename2features_train=get_features_scores(os.path.join(DATA_DIR,'cropped/aligned/Train/'))\n",
        "filename2features_test=get_features_scores(os.path.join(DATA_DIR,'cropped/aligned/Test/'))"
      ]
    },
    {
      "cell_type": "markdown",
      "metadata": {
        "id": "EZhLyUPioHDK"
      },
      "source": [
        "## PyTorch **EfficientNet**"
      ]
    },
    {
      "cell_type": "code",
      "execution_count": null,
      "metadata": {
        "colab": {
          "base_uri": "https://localhost:8080/"
        },
        "id": "DCo-VI6Wq-Lo",
        "outputId": "c5602308-10a6-4e38-e0a7-ac7b0c23d69e"
      },
      "outputs": [
        {
          "name": "stdout",
          "output_type": "stream",
          "text": [
            "Requirement already satisfied: timm==0.4.5 in /usr/local/lib/python3.7/dist-packages (0.4.5)\n",
            "Requirement already satisfied: torch>=1.4 in /usr/local/lib/python3.7/dist-packages (from timm==0.4.5) (1.11.0+cu113)\n",
            "Requirement already satisfied: torchvision in /usr/local/lib/python3.7/dist-packages (from timm==0.4.5) (0.12.0+cu113)\n",
            "Requirement already satisfied: typing-extensions in /usr/local/lib/python3.7/dist-packages (from torch>=1.4->timm==0.4.5) (4.2.0)\n",
            "Requirement already satisfied: requests in /usr/local/lib/python3.7/dist-packages (from torchvision->timm==0.4.5) (2.23.0)\n",
            "Requirement already satisfied: pillow!=8.3.*,>=5.3.0 in /usr/local/lib/python3.7/dist-packages (from torchvision->timm==0.4.5) (7.1.2)\n",
            "Requirement already satisfied: numpy in /usr/local/lib/python3.7/dist-packages (from torchvision->timm==0.4.5) (1.21.6)\n",
            "Requirement already satisfied: certifi>=2017.4.17 in /usr/local/lib/python3.7/dist-packages (from requests->torchvision->timm==0.4.5) (2021.10.8)\n",
            "Requirement already satisfied: idna<3,>=2.5 in /usr/local/lib/python3.7/dist-packages (from requests->torchvision->timm==0.4.5) (2.10)\n",
            "Requirement already satisfied: chardet<4,>=3.0.2 in /usr/local/lib/python3.7/dist-packages (from requests->torchvision->timm==0.4.5) (3.0.4)\n",
            "Requirement already satisfied: urllib3!=1.25.0,!=1.25.1,<1.26,>=1.21.1 in /usr/local/lib/python3.7/dist-packages (from requests->torchvision->timm==0.4.5) (1.24.3)\n",
            "Traceback (most recent call last):\n",
            "  File \"/usr/local/lib/python3.7/dist-packages/pip/_vendor/pkg_resources/__init__.py\", line 3021, in _dep_map\n",
            "    return self.__dep_map\n",
            "  File \"/usr/local/lib/python3.7/dist-packages/pip/_vendor/pkg_resources/__init__.py\", line 2815, in __getattr__\n",
            "    raise AttributeError(attr)\n",
            "AttributeError: _DistInfoDistribution__dep_map\n",
            "\n",
            "During handling of the above exception, another exception occurred:\n",
            "\n",
            "Traceback (most recent call last):\n",
            "  File \"/usr/local/lib/python3.7/dist-packages/pip/_internal/cli/base_command.py\", line 180, in _main\n",
            "    status = self.run(options, args)\n",
            "  File \"/usr/local/lib/python3.7/dist-packages/pip/_internal/cli/req_command.py\", line 199, in wrapper\n",
            "    return func(self, options, args)\n",
            "  File \"/usr/local/lib/python3.7/dist-packages/pip/_internal/commands/install.py\", line 385, in run\n",
            "    conflicts = self._determine_conflicts(to_install)\n",
            "  File \"/usr/local/lib/python3.7/dist-packages/pip/_internal/commands/install.py\", line 515, in _determine_conflicts\n",
            "    return check_install_conflicts(to_install)\n",
            "  File \"/usr/local/lib/python3.7/dist-packages/pip/_internal/operations/check.py\", line 103, in check_install_conflicts\n",
            "    package_set, _ = create_package_set_from_installed()\n",
            "  File \"/usr/local/lib/python3.7/dist-packages/pip/_internal/operations/check.py\", line 45, in create_package_set_from_installed\n",
            "    package_set[name] = PackageDetails(dist.version, dist.requires())\n",
            "  File \"/usr/local/lib/python3.7/dist-packages/pip/_vendor/pkg_resources/__init__.py\", line 2736, in requires\n",
            "    dm = self._dep_map\n",
            "  File \"/usr/local/lib/python3.7/dist-packages/pip/_vendor/pkg_resources/__init__.py\", line 3023, in _dep_map\n",
            "    self.__dep_map = self._compute_dependencies()\n",
            "  File \"/usr/local/lib/python3.7/dist-packages/pip/_vendor/pkg_resources/__init__.py\", line 3033, in _compute_dependencies\n",
            "    reqs.extend(parse_requirements(req))\n",
            "  File \"/usr/local/lib/python3.7/dist-packages/pip/_vendor/pkg_resources/__init__.py\", line 3094, in parse_requirements\n",
            "    yield Requirement(line)\n",
            "  File \"/usr/local/lib/python3.7/dist-packages/pip/_vendor/pkg_resources/__init__.py\", line 3101, in __init__\n",
            "    super(Requirement, self).__init__(requirement_string)\n",
            "  File \"/usr/local/lib/python3.7/dist-packages/pip/_vendor/packaging/requirements.py\", line 113, in __init__\n",
            "    req = REQUIREMENT.parseString(requirement_string)\n",
            "  File \"/usr/local/lib/python3.7/dist-packages/pip/_vendor/pyparsing.py\", line 1943, in parseString\n",
            "    loc, tokens = self._parse(instring, 0)\n",
            "  File \"/usr/local/lib/python3.7/dist-packages/pip/_vendor/pyparsing.py\", line 1683, in _parseNoCache\n",
            "    loc, tokens = self.parseImpl(instring, preloc, doActions)\n",
            "  File \"/usr/local/lib/python3.7/dist-packages/pip/_vendor/pyparsing.py\", line 4069, in parseImpl\n",
            "    loc, exprtokens = e._parse(instring, loc, doActions)\n",
            "  File \"/usr/local/lib/python3.7/dist-packages/pip/_vendor/pyparsing.py\", line 1683, in _parseNoCache\n",
            "    loc, tokens = self.parseImpl(instring, preloc, doActions)\n",
            "  File \"/usr/local/lib/python3.7/dist-packages/pip/_vendor/pyparsing.py\", line 4254, in parseImpl\n",
            "    ret = e._parse(instring, loc, doActions)\n",
            "  File \"/usr/local/lib/python3.7/dist-packages/pip/_vendor/pyparsing.py\", line 1683, in _parseNoCache\n",
            "    loc, tokens = self.parseImpl(instring, preloc, doActions)\n",
            "  File \"/usr/local/lib/python3.7/dist-packages/pip/_vendor/pyparsing.py\", line 4069, in parseImpl\n",
            "    loc, exprtokens = e._parse(instring, loc, doActions)\n",
            "  File \"/usr/local/lib/python3.7/dist-packages/pip/_vendor/pyparsing.py\", line 1683, in _parseNoCache\n",
            "    loc, tokens = self.parseImpl(instring, preloc, doActions)\n",
            "  File \"/usr/local/lib/python3.7/dist-packages/pip/_vendor/pyparsing.py\", line 4849, in parseImpl\n",
            "    loc, tokens = self.expr._parse(instring, loc, doActions, callPreParse=False)\n",
            "  File \"/usr/local/lib/python3.7/dist-packages/pip/_vendor/pyparsing.py\", line 1683, in _parseNoCache\n",
            "    loc, tokens = self.parseImpl(instring, preloc, doActions)\n",
            "  File \"/usr/local/lib/python3.7/dist-packages/pip/_vendor/pyparsing.py\", line 4069, in parseImpl\n",
            "    loc, exprtokens = e._parse(instring, loc, doActions)\n",
            "  File \"/usr/local/lib/python3.7/dist-packages/pip/_vendor/pyparsing.py\", line 1683, in _parseNoCache\n",
            "    loc, tokens = self.parseImpl(instring, preloc, doActions)\n",
            "  File \"/usr/local/lib/python3.7/dist-packages/pip/_vendor/pyparsing.py\", line 4069, in parseImpl\n",
            "    loc, exprtokens = e._parse(instring, loc, doActions)\n",
            "  File \"/usr/local/lib/python3.7/dist-packages/pip/_vendor/pyparsing.py\", line 1683, in _parseNoCache\n",
            "    loc, tokens = self.parseImpl(instring, preloc, doActions)\n",
            "  File \"/usr/local/lib/python3.7/dist-packages/pip/_vendor/pyparsing.py\", line 4462, in parseImpl\n",
            "    return self.expr._parse(instring, loc, doActions, callPreParse=False)\n",
            "  File \"/usr/local/lib/python3.7/dist-packages/pip/_vendor/pyparsing.py\", line 1683, in _parseNoCache\n",
            "    loc, tokens = self.parseImpl(instring, preloc, doActions)\n",
            "  File \"/usr/local/lib/python3.7/dist-packages/pip/_vendor/pyparsing.py\", line 4069, in parseImpl\n",
            "    loc, exprtokens = e._parse(instring, loc, doActions)\n",
            "  File \"/usr/local/lib/python3.7/dist-packages/pip/_vendor/pyparsing.py\", line 1683, in _parseNoCache\n",
            "    loc, tokens = self.parseImpl(instring, preloc, doActions)\n",
            "  File \"/usr/local/lib/python3.7/dist-packages/pip/_vendor/pyparsing.py\", line 4781, in parseImpl\n",
            "    return super(ZeroOrMore, self).parseImpl(instring, loc, doActions)\n",
            "  File \"/usr/local/lib/python3.7/dist-packages/pip/_vendor/pyparsing.py\", line 4697, in parseImpl\n",
            "    loc, tokens = self_expr_parse(instring, loc, doActions, callPreParse=False)\n",
            "  File \"/usr/local/lib/python3.7/dist-packages/pip/_vendor/pyparsing.py\", line 1683, in _parseNoCache\n",
            "    loc, tokens = self.parseImpl(instring, preloc, doActions)\n",
            "  File \"/usr/local/lib/python3.7/dist-packages/pip/_vendor/pyparsing.py\", line 4052, in parseImpl\n",
            "    loc, resultlist = self.exprs[0]._parse(instring, loc, doActions, callPreParse=False)\n",
            "  File \"/usr/local/lib/python3.7/dist-packages/pip/_vendor/pyparsing.py\", line 1683, in _parseNoCache\n",
            "    loc, tokens = self.parseImpl(instring, preloc, doActions)\n",
            "  File \"/usr/local/lib/python3.7/dist-packages/pip/_vendor/pyparsing.py\", line 4254, in parseImpl\n",
            "    ret = e._parse(instring, loc, doActions)\n",
            "  File \"/usr/local/lib/python3.7/dist-packages/pip/_vendor/pyparsing.py\", line 1649, in _parseNoCache\n",
            "    debugging = (self.debug)  # and doActions)\n",
            "KeyboardInterrupt\n",
            "\n",
            "During handling of the above exception, another exception occurred:\n",
            "\n",
            "Traceback (most recent call last):\n",
            "  File \"/usr/local/bin/pip3\", line 8, in <module>\n",
            "    sys.exit(main())\n",
            "  File \"/usr/local/lib/python3.7/dist-packages/pip/_internal/cli/main.py\", line 71, in main\n",
            "    return command.main(cmd_args)\n",
            "  File \"/usr/local/lib/python3.7/dist-packages/pip/_internal/cli/base_command.py\", line 104, in main\n",
            "    return self._main(args)\n",
            "  File \"/usr/local/lib/python3.7/dist-packages/pip/_internal/cli/base_command.py\", line 212, in _main\n",
            "    logger.critical(\"Operation cancelled by user\")\n",
            "  File \"/usr/lib/python3.7/logging/__init__.py\", line 1425, in critical\n",
            "    self._log(CRITICAL, msg, args, **kwargs)\n",
            "KeyboardInterrupt\n"
          ]
        }
      ],
      "source": [
        "pip install timm==0.4.5"
      ]
    },
    {
      "cell_type": "code",
      "execution_count": null,
      "metadata": {
        "id": "AMbor-e3H2ER"
      },
      "outputs": [],
      "source": [
        "import timm"
      ]
    },
    {
      "cell_type": "code",
      "execution_count": null,
      "metadata": {
        "id": "CHv6C_xpiuUy"
      },
      "outputs": [],
      "source": [
        "if False:\n",
        "    model_name='enet_b2_8'\n",
        "    IMG_SIZE=260 #224 #\n",
        "else:\n",
        "    model_name='enet_b0_8_best_afew'\n",
        "    IMG_SIZE=224\n",
        "PATH=DATA_DIR+'/Models/'+model_name+'.pt'\n",
        "test_transforms = transforms.Compose(\n",
        "    [\n",
        "        transforms.Resize((IMG_SIZE,IMG_SIZE)),\n",
        "        #transforms.RandomHorizontalFlip(),\n",
        "        transforms.ToTensor(),\n",
        "        transforms.Normalize(mean=[0.485, 0.456, 0.406],\n",
        "                                     std=[0.229, 0.224, 0.225])\n",
        "    ]\n",
        ")\n",
        "np_transforms = transforms.Compose(\n",
        "    [\n",
        "        transforms.ToPILImage(None),\n",
        "        transforms.Resize((IMG_SIZE,IMG_SIZE)),\n",
        "        #transforms.RandomHorizontalFlip(),\n",
        "        transforms.ToTensor(),\n",
        "        transforms.Normalize(mean=[0.485, 0.456, 0.406],\n",
        "                                     std=[0.229, 0.224, 0.225])\n",
        "    ]\n",
        ")\n",
        "\n",
        "feature_extractor_model = torch.load(PATH)"
      ]
    },
    {
      "cell_type": "code",
      "execution_count": null,
      "metadata": {
        "colab": {
          "base_uri": "https://localhost:8080/"
        },
        "id": "tvU93aNqouyR",
        "outputId": "cb814e01-70c1-4877-c030-bb42c011167b"
      },
      "outputs": [
        {
          "data": {
            "text/plain": [
              "EfficientNet(\n",
              "  (conv_stem): Conv2dSame(3, 32, kernel_size=(3, 3), stride=(2, 2), bias=False)\n",
              "  (bn1): BatchNorm2d(32, eps=0.001, momentum=0.1, affine=True, track_running_stats=True)\n",
              "  (act1): SiLU(inplace=True)\n",
              "  (blocks): Sequential(\n",
              "    (0): Sequential(\n",
              "      (0): DepthwiseSeparableConv(\n",
              "        (conv_dw): Conv2d(32, 32, kernel_size=(3, 3), stride=(1, 1), padding=(1, 1), groups=32, bias=False)\n",
              "        (bn1): BatchNorm2d(32, eps=0.001, momentum=0.1, affine=True, track_running_stats=True)\n",
              "        (act1): SiLU(inplace=True)\n",
              "        (se): SqueezeExcite(\n",
              "          (conv_reduce): Conv2d(32, 8, kernel_size=(1, 1), stride=(1, 1))\n",
              "          (act1): SiLU(inplace=True)\n",
              "          (conv_expand): Conv2d(8, 32, kernel_size=(1, 1), stride=(1, 1))\n",
              "        )\n",
              "        (conv_pw): Conv2d(32, 16, kernel_size=(1, 1), stride=(1, 1), bias=False)\n",
              "        (bn2): BatchNorm2d(16, eps=0.001, momentum=0.1, affine=True, track_running_stats=True)\n",
              "        (act2): Identity()\n",
              "      )\n",
              "    )\n",
              "    (1): Sequential(\n",
              "      (0): InvertedResidual(\n",
              "        (conv_pw): Conv2d(16, 96, kernel_size=(1, 1), stride=(1, 1), bias=False)\n",
              "        (bn1): BatchNorm2d(96, eps=0.001, momentum=0.1, affine=True, track_running_stats=True)\n",
              "        (act1): SiLU(inplace=True)\n",
              "        (conv_dw): Conv2dSame(96, 96, kernel_size=(3, 3), stride=(2, 2), groups=96, bias=False)\n",
              "        (bn2): BatchNorm2d(96, eps=0.001, momentum=0.1, affine=True, track_running_stats=True)\n",
              "        (act2): SiLU(inplace=True)\n",
              "        (se): SqueezeExcite(\n",
              "          (conv_reduce): Conv2d(96, 4, kernel_size=(1, 1), stride=(1, 1))\n",
              "          (act1): SiLU(inplace=True)\n",
              "          (conv_expand): Conv2d(4, 96, kernel_size=(1, 1), stride=(1, 1))\n",
              "        )\n",
              "        (conv_pwl): Conv2d(96, 24, kernel_size=(1, 1), stride=(1, 1), bias=False)\n",
              "        (bn3): BatchNorm2d(24, eps=0.001, momentum=0.1, affine=True, track_running_stats=True)\n",
              "      )\n",
              "      (1): InvertedResidual(\n",
              "        (conv_pw): Conv2d(24, 144, kernel_size=(1, 1), stride=(1, 1), bias=False)\n",
              "        (bn1): BatchNorm2d(144, eps=0.001, momentum=0.1, affine=True, track_running_stats=True)\n",
              "        (act1): SiLU(inplace=True)\n",
              "        (conv_dw): Conv2d(144, 144, kernel_size=(3, 3), stride=(1, 1), padding=(1, 1), groups=144, bias=False)\n",
              "        (bn2): BatchNorm2d(144, eps=0.001, momentum=0.1, affine=True, track_running_stats=True)\n",
              "        (act2): SiLU(inplace=True)\n",
              "        (se): SqueezeExcite(\n",
              "          (conv_reduce): Conv2d(144, 6, kernel_size=(1, 1), stride=(1, 1))\n",
              "          (act1): SiLU(inplace=True)\n",
              "          (conv_expand): Conv2d(6, 144, kernel_size=(1, 1), stride=(1, 1))\n",
              "        )\n",
              "        (conv_pwl): Conv2d(144, 24, kernel_size=(1, 1), stride=(1, 1), bias=False)\n",
              "        (bn3): BatchNorm2d(24, eps=0.001, momentum=0.1, affine=True, track_running_stats=True)\n",
              "      )\n",
              "    )\n",
              "    (2): Sequential(\n",
              "      (0): InvertedResidual(\n",
              "        (conv_pw): Conv2d(24, 144, kernel_size=(1, 1), stride=(1, 1), bias=False)\n",
              "        (bn1): BatchNorm2d(144, eps=0.001, momentum=0.1, affine=True, track_running_stats=True)\n",
              "        (act1): SiLU(inplace=True)\n",
              "        (conv_dw): Conv2dSame(144, 144, kernel_size=(5, 5), stride=(2, 2), groups=144, bias=False)\n",
              "        (bn2): BatchNorm2d(144, eps=0.001, momentum=0.1, affine=True, track_running_stats=True)\n",
              "        (act2): SiLU(inplace=True)\n",
              "        (se): SqueezeExcite(\n",
              "          (conv_reduce): Conv2d(144, 6, kernel_size=(1, 1), stride=(1, 1))\n",
              "          (act1): SiLU(inplace=True)\n",
              "          (conv_expand): Conv2d(6, 144, kernel_size=(1, 1), stride=(1, 1))\n",
              "        )\n",
              "        (conv_pwl): Conv2d(144, 40, kernel_size=(1, 1), stride=(1, 1), bias=False)\n",
              "        (bn3): BatchNorm2d(40, eps=0.001, momentum=0.1, affine=True, track_running_stats=True)\n",
              "      )\n",
              "      (1): InvertedResidual(\n",
              "        (conv_pw): Conv2d(40, 240, kernel_size=(1, 1), stride=(1, 1), bias=False)\n",
              "        (bn1): BatchNorm2d(240, eps=0.001, momentum=0.1, affine=True, track_running_stats=True)\n",
              "        (act1): SiLU(inplace=True)\n",
              "        (conv_dw): Conv2d(240, 240, kernel_size=(5, 5), stride=(1, 1), padding=(2, 2), groups=240, bias=False)\n",
              "        (bn2): BatchNorm2d(240, eps=0.001, momentum=0.1, affine=True, track_running_stats=True)\n",
              "        (act2): SiLU(inplace=True)\n",
              "        (se): SqueezeExcite(\n",
              "          (conv_reduce): Conv2d(240, 10, kernel_size=(1, 1), stride=(1, 1))\n",
              "          (act1): SiLU(inplace=True)\n",
              "          (conv_expand): Conv2d(10, 240, kernel_size=(1, 1), stride=(1, 1))\n",
              "        )\n",
              "        (conv_pwl): Conv2d(240, 40, kernel_size=(1, 1), stride=(1, 1), bias=False)\n",
              "        (bn3): BatchNorm2d(40, eps=0.001, momentum=0.1, affine=True, track_running_stats=True)\n",
              "      )\n",
              "    )\n",
              "    (3): Sequential(\n",
              "      (0): InvertedResidual(\n",
              "        (conv_pw): Conv2d(40, 240, kernel_size=(1, 1), stride=(1, 1), bias=False)\n",
              "        (bn1): BatchNorm2d(240, eps=0.001, momentum=0.1, affine=True, track_running_stats=True)\n",
              "        (act1): SiLU(inplace=True)\n",
              "        (conv_dw): Conv2dSame(240, 240, kernel_size=(3, 3), stride=(2, 2), groups=240, bias=False)\n",
              "        (bn2): BatchNorm2d(240, eps=0.001, momentum=0.1, affine=True, track_running_stats=True)\n",
              "        (act2): SiLU(inplace=True)\n",
              "        (se): SqueezeExcite(\n",
              "          (conv_reduce): Conv2d(240, 10, kernel_size=(1, 1), stride=(1, 1))\n",
              "          (act1): SiLU(inplace=True)\n",
              "          (conv_expand): Conv2d(10, 240, kernel_size=(1, 1), stride=(1, 1))\n",
              "        )\n",
              "        (conv_pwl): Conv2d(240, 80, kernel_size=(1, 1), stride=(1, 1), bias=False)\n",
              "        (bn3): BatchNorm2d(80, eps=0.001, momentum=0.1, affine=True, track_running_stats=True)\n",
              "      )\n",
              "      (1): InvertedResidual(\n",
              "        (conv_pw): Conv2d(80, 480, kernel_size=(1, 1), stride=(1, 1), bias=False)\n",
              "        (bn1): BatchNorm2d(480, eps=0.001, momentum=0.1, affine=True, track_running_stats=True)\n",
              "        (act1): SiLU(inplace=True)\n",
              "        (conv_dw): Conv2d(480, 480, kernel_size=(3, 3), stride=(1, 1), padding=(1, 1), groups=480, bias=False)\n",
              "        (bn2): BatchNorm2d(480, eps=0.001, momentum=0.1, affine=True, track_running_stats=True)\n",
              "        (act2): SiLU(inplace=True)\n",
              "        (se): SqueezeExcite(\n",
              "          (conv_reduce): Conv2d(480, 20, kernel_size=(1, 1), stride=(1, 1))\n",
              "          (act1): SiLU(inplace=True)\n",
              "          (conv_expand): Conv2d(20, 480, kernel_size=(1, 1), stride=(1, 1))\n",
              "        )\n",
              "        (conv_pwl): Conv2d(480, 80, kernel_size=(1, 1), stride=(1, 1), bias=False)\n",
              "        (bn3): BatchNorm2d(80, eps=0.001, momentum=0.1, affine=True, track_running_stats=True)\n",
              "      )\n",
              "      (2): InvertedResidual(\n",
              "        (conv_pw): Conv2d(80, 480, kernel_size=(1, 1), stride=(1, 1), bias=False)\n",
              "        (bn1): BatchNorm2d(480, eps=0.001, momentum=0.1, affine=True, track_running_stats=True)\n",
              "        (act1): SiLU(inplace=True)\n",
              "        (conv_dw): Conv2d(480, 480, kernel_size=(3, 3), stride=(1, 1), padding=(1, 1), groups=480, bias=False)\n",
              "        (bn2): BatchNorm2d(480, eps=0.001, momentum=0.1, affine=True, track_running_stats=True)\n",
              "        (act2): SiLU(inplace=True)\n",
              "        (se): SqueezeExcite(\n",
              "          (conv_reduce): Conv2d(480, 20, kernel_size=(1, 1), stride=(1, 1))\n",
              "          (act1): SiLU(inplace=True)\n",
              "          (conv_expand): Conv2d(20, 480, kernel_size=(1, 1), stride=(1, 1))\n",
              "        )\n",
              "        (conv_pwl): Conv2d(480, 80, kernel_size=(1, 1), stride=(1, 1), bias=False)\n",
              "        (bn3): BatchNorm2d(80, eps=0.001, momentum=0.1, affine=True, track_running_stats=True)\n",
              "      )\n",
              "    )\n",
              "    (4): Sequential(\n",
              "      (0): InvertedResidual(\n",
              "        (conv_pw): Conv2d(80, 480, kernel_size=(1, 1), stride=(1, 1), bias=False)\n",
              "        (bn1): BatchNorm2d(480, eps=0.001, momentum=0.1, affine=True, track_running_stats=True)\n",
              "        (act1): SiLU(inplace=True)\n",
              "        (conv_dw): Conv2d(480, 480, kernel_size=(5, 5), stride=(1, 1), padding=(2, 2), groups=480, bias=False)\n",
              "        (bn2): BatchNorm2d(480, eps=0.001, momentum=0.1, affine=True, track_running_stats=True)\n",
              "        (act2): SiLU(inplace=True)\n",
              "        (se): SqueezeExcite(\n",
              "          (conv_reduce): Conv2d(480, 20, kernel_size=(1, 1), stride=(1, 1))\n",
              "          (act1): SiLU(inplace=True)\n",
              "          (conv_expand): Conv2d(20, 480, kernel_size=(1, 1), stride=(1, 1))\n",
              "        )\n",
              "        (conv_pwl): Conv2d(480, 112, kernel_size=(1, 1), stride=(1, 1), bias=False)\n",
              "        (bn3): BatchNorm2d(112, eps=0.001, momentum=0.1, affine=True, track_running_stats=True)\n",
              "      )\n",
              "      (1): InvertedResidual(\n",
              "        (conv_pw): Conv2d(112, 672, kernel_size=(1, 1), stride=(1, 1), bias=False)\n",
              "        (bn1): BatchNorm2d(672, eps=0.001, momentum=0.1, affine=True, track_running_stats=True)\n",
              "        (act1): SiLU(inplace=True)\n",
              "        (conv_dw): Conv2d(672, 672, kernel_size=(5, 5), stride=(1, 1), padding=(2, 2), groups=672, bias=False)\n",
              "        (bn2): BatchNorm2d(672, eps=0.001, momentum=0.1, affine=True, track_running_stats=True)\n",
              "        (act2): SiLU(inplace=True)\n",
              "        (se): SqueezeExcite(\n",
              "          (conv_reduce): Conv2d(672, 28, kernel_size=(1, 1), stride=(1, 1))\n",
              "          (act1): SiLU(inplace=True)\n",
              "          (conv_expand): Conv2d(28, 672, kernel_size=(1, 1), stride=(1, 1))\n",
              "        )\n",
              "        (conv_pwl): Conv2d(672, 112, kernel_size=(1, 1), stride=(1, 1), bias=False)\n",
              "        (bn3): BatchNorm2d(112, eps=0.001, momentum=0.1, affine=True, track_running_stats=True)\n",
              "      )\n",
              "      (2): InvertedResidual(\n",
              "        (conv_pw): Conv2d(112, 672, kernel_size=(1, 1), stride=(1, 1), bias=False)\n",
              "        (bn1): BatchNorm2d(672, eps=0.001, momentum=0.1, affine=True, track_running_stats=True)\n",
              "        (act1): SiLU(inplace=True)\n",
              "        (conv_dw): Conv2d(672, 672, kernel_size=(5, 5), stride=(1, 1), padding=(2, 2), groups=672, bias=False)\n",
              "        (bn2): BatchNorm2d(672, eps=0.001, momentum=0.1, affine=True, track_running_stats=True)\n",
              "        (act2): SiLU(inplace=True)\n",
              "        (se): SqueezeExcite(\n",
              "          (conv_reduce): Conv2d(672, 28, kernel_size=(1, 1), stride=(1, 1))\n",
              "          (act1): SiLU(inplace=True)\n",
              "          (conv_expand): Conv2d(28, 672, kernel_size=(1, 1), stride=(1, 1))\n",
              "        )\n",
              "        (conv_pwl): Conv2d(672, 112, kernel_size=(1, 1), stride=(1, 1), bias=False)\n",
              "        (bn3): BatchNorm2d(112, eps=0.001, momentum=0.1, affine=True, track_running_stats=True)\n",
              "      )\n",
              "    )\n",
              "    (5): Sequential(\n",
              "      (0): InvertedResidual(\n",
              "        (conv_pw): Conv2d(112, 672, kernel_size=(1, 1), stride=(1, 1), bias=False)\n",
              "        (bn1): BatchNorm2d(672, eps=0.001, momentum=0.1, affine=True, track_running_stats=True)\n",
              "        (act1): SiLU(inplace=True)\n",
              "        (conv_dw): Conv2dSame(672, 672, kernel_size=(5, 5), stride=(2, 2), groups=672, bias=False)\n",
              "        (bn2): BatchNorm2d(672, eps=0.001, momentum=0.1, affine=True, track_running_stats=True)\n",
              "        (act2): SiLU(inplace=True)\n",
              "        (se): SqueezeExcite(\n",
              "          (conv_reduce): Conv2d(672, 28, kernel_size=(1, 1), stride=(1, 1))\n",
              "          (act1): SiLU(inplace=True)\n",
              "          (conv_expand): Conv2d(28, 672, kernel_size=(1, 1), stride=(1, 1))\n",
              "        )\n",
              "        (conv_pwl): Conv2d(672, 192, kernel_size=(1, 1), stride=(1, 1), bias=False)\n",
              "        (bn3): BatchNorm2d(192, eps=0.001, momentum=0.1, affine=True, track_running_stats=True)\n",
              "      )\n",
              "      (1): InvertedResidual(\n",
              "        (conv_pw): Conv2d(192, 1152, kernel_size=(1, 1), stride=(1, 1), bias=False)\n",
              "        (bn1): BatchNorm2d(1152, eps=0.001, momentum=0.1, affine=True, track_running_stats=True)\n",
              "        (act1): SiLU(inplace=True)\n",
              "        (conv_dw): Conv2d(1152, 1152, kernel_size=(5, 5), stride=(1, 1), padding=(2, 2), groups=1152, bias=False)\n",
              "        (bn2): BatchNorm2d(1152, eps=0.001, momentum=0.1, affine=True, track_running_stats=True)\n",
              "        (act2): SiLU(inplace=True)\n",
              "        (se): SqueezeExcite(\n",
              "          (conv_reduce): Conv2d(1152, 48, kernel_size=(1, 1), stride=(1, 1))\n",
              "          (act1): SiLU(inplace=True)\n",
              "          (conv_expand): Conv2d(48, 1152, kernel_size=(1, 1), stride=(1, 1))\n",
              "        )\n",
              "        (conv_pwl): Conv2d(1152, 192, kernel_size=(1, 1), stride=(1, 1), bias=False)\n",
              "        (bn3): BatchNorm2d(192, eps=0.001, momentum=0.1, affine=True, track_running_stats=True)\n",
              "      )\n",
              "      (2): InvertedResidual(\n",
              "        (conv_pw): Conv2d(192, 1152, kernel_size=(1, 1), stride=(1, 1), bias=False)\n",
              "        (bn1): BatchNorm2d(1152, eps=0.001, momentum=0.1, affine=True, track_running_stats=True)\n",
              "        (act1): SiLU(inplace=True)\n",
              "        (conv_dw): Conv2d(1152, 1152, kernel_size=(5, 5), stride=(1, 1), padding=(2, 2), groups=1152, bias=False)\n",
              "        (bn2): BatchNorm2d(1152, eps=0.001, momentum=0.1, affine=True, track_running_stats=True)\n",
              "        (act2): SiLU(inplace=True)\n",
              "        (se): SqueezeExcite(\n",
              "          (conv_reduce): Conv2d(1152, 48, kernel_size=(1, 1), stride=(1, 1))\n",
              "          (act1): SiLU(inplace=True)\n",
              "          (conv_expand): Conv2d(48, 1152, kernel_size=(1, 1), stride=(1, 1))\n",
              "        )\n",
              "        (conv_pwl): Conv2d(1152, 192, kernel_size=(1, 1), stride=(1, 1), bias=False)\n",
              "        (bn3): BatchNorm2d(192, eps=0.001, momentum=0.1, affine=True, track_running_stats=True)\n",
              "      )\n",
              "      (3): InvertedResidual(\n",
              "        (conv_pw): Conv2d(192, 1152, kernel_size=(1, 1), stride=(1, 1), bias=False)\n",
              "        (bn1): BatchNorm2d(1152, eps=0.001, momentum=0.1, affine=True, track_running_stats=True)\n",
              "        (act1): SiLU(inplace=True)\n",
              "        (conv_dw): Conv2d(1152, 1152, kernel_size=(5, 5), stride=(1, 1), padding=(2, 2), groups=1152, bias=False)\n",
              "        (bn2): BatchNorm2d(1152, eps=0.001, momentum=0.1, affine=True, track_running_stats=True)\n",
              "        (act2): SiLU(inplace=True)\n",
              "        (se): SqueezeExcite(\n",
              "          (conv_reduce): Conv2d(1152, 48, kernel_size=(1, 1), stride=(1, 1))\n",
              "          (act1): SiLU(inplace=True)\n",
              "          (conv_expand): Conv2d(48, 1152, kernel_size=(1, 1), stride=(1, 1))\n",
              "        )\n",
              "        (conv_pwl): Conv2d(1152, 192, kernel_size=(1, 1), stride=(1, 1), bias=False)\n",
              "        (bn3): BatchNorm2d(192, eps=0.001, momentum=0.1, affine=True, track_running_stats=True)\n",
              "      )\n",
              "    )\n",
              "    (6): Sequential(\n",
              "      (0): InvertedResidual(\n",
              "        (conv_pw): Conv2d(192, 1152, kernel_size=(1, 1), stride=(1, 1), bias=False)\n",
              "        (bn1): BatchNorm2d(1152, eps=0.001, momentum=0.1, affine=True, track_running_stats=True)\n",
              "        (act1): SiLU(inplace=True)\n",
              "        (conv_dw): Conv2d(1152, 1152, kernel_size=(3, 3), stride=(1, 1), padding=(1, 1), groups=1152, bias=False)\n",
              "        (bn2): BatchNorm2d(1152, eps=0.001, momentum=0.1, affine=True, track_running_stats=True)\n",
              "        (act2): SiLU(inplace=True)\n",
              "        (se): SqueezeExcite(\n",
              "          (conv_reduce): Conv2d(1152, 48, kernel_size=(1, 1), stride=(1, 1))\n",
              "          (act1): SiLU(inplace=True)\n",
              "          (conv_expand): Conv2d(48, 1152, kernel_size=(1, 1), stride=(1, 1))\n",
              "        )\n",
              "        (conv_pwl): Conv2d(1152, 320, kernel_size=(1, 1), stride=(1, 1), bias=False)\n",
              "        (bn3): BatchNorm2d(320, eps=0.001, momentum=0.1, affine=True, track_running_stats=True)\n",
              "      )\n",
              "    )\n",
              "  )\n",
              "  (conv_head): Conv2d(320, 1280, kernel_size=(1, 1), stride=(1, 1), bias=False)\n",
              "  (bn2): BatchNorm2d(1280, eps=0.001, momentum=0.1, affine=True, track_running_stats=True)\n",
              "  (act2): SiLU(inplace=True)\n",
              "  (global_pool): SelectAdaptivePool2d (pool_type=avg, flatten=True)\n",
              "  (classifier): Identity()\n",
              ")"
            ]
          },
          "execution_count": 35,
          "metadata": {},
          "output_type": "execute_result"
        }
      ],
      "source": [
        "feature_extractor_model.classifier=torch.nn.Identity()\n",
        "feature_extractor_model.eval()"
      ]
    },
    {
      "cell_type": "code",
      "execution_count": null,
      "metadata": {
        "colab": {
          "base_uri": "https://localhost:8080/"
        },
        "id": "iJ5PLNZipMS7",
        "outputId": "e9e92ad1-4f35-4a52-b7d8-a6dc8c9eb768"
      },
      "outputs": [
        {
          "name": "stdout",
          "output_type": "stream",
          "text": [
            "Compose(\n",
            "    Resize(size=(224, 224), interpolation=bilinear, max_size=None, antialias=None)\n",
            "    ToTensor()\n",
            "    Normalize(mean=[0.485, 0.456, 0.406], std=[0.229, 0.224, 0.225])\n",
            ")\n"
          ]
        },
        {
          "data": {
            "application/vnd.jupyter.widget-view+json": {
              "model_id": "00a288cda4b74701a5f7d90d73b510b6",
              "version_major": 2,
              "version_minor": 0
            },
            "text/plain": [
              "  0%|          | 0/20 [00:00<?, ?it/s]"
            ]
          },
          "metadata": {},
          "output_type": "display_data"
        },
        {
          "ename": "KeyboardInterrupt",
          "evalue": "ignored",
          "output_type": "error",
          "traceback": [
            "\u001b[0;31m---------------------------------------------------------------------------\u001b[0m",
            "\u001b[0;31mKeyboardInterrupt\u001b[0m                         Traceback (most recent call last)",
            "\u001b[0;32m<ipython-input-36-cced48fc49b4>\u001b[0m in \u001b[0;36m<module>\u001b[0;34m()\u001b[0m\n\u001b[1;32m     41\u001b[0m \u001b[0;34m\u001b[0m\u001b[0m\n\u001b[1;32m     42\u001b[0m \u001b[0mprint\u001b[0m\u001b[0;34m(\u001b[0m\u001b[0mtest_transforms\u001b[0m\u001b[0;34m)\u001b[0m\u001b[0;34m\u001b[0m\u001b[0;34m\u001b[0m\u001b[0m\n\u001b[0;32m---> 43\u001b[0;31m \u001b[0mfilename2features_val\u001b[0m\u001b[0;34m=\u001b[0m\u001b[0mget_features\u001b[0m\u001b[0;34m(\u001b[0m\u001b[0mos\u001b[0m\u001b[0;34m.\u001b[0m\u001b[0mpath\u001b[0m\u001b[0;34m.\u001b[0m\u001b[0mjoin\u001b[0m\u001b[0;34m(\u001b[0m\u001b[0mDATA_DIR\u001b[0m\u001b[0;34m,\u001b[0m\u001b[0;34m'cropped/aligned/Validation/'\u001b[0m\u001b[0;34m)\u001b[0m\u001b[0;34m)\u001b[0m\u001b[0;34m\u001b[0m\u001b[0;34m\u001b[0m\u001b[0m\n\u001b[0m",
            "\u001b[0;32m<ipython-input-36-cced48fc49b4>\u001b[0m in \u001b[0;36mget_features\u001b[0;34m(data_dir)\u001b[0m\n\u001b[1;32m     26\u001b[0m         \u001b[0;32mif\u001b[0m \u001b[0mlen\u001b[0m\u001b[0;34m(\u001b[0m\u001b[0mimgs\u001b[0m\u001b[0;34m)\u001b[0m\u001b[0;34m>\u001b[0m\u001b[0;36m0\u001b[0m\u001b[0;34m:\u001b[0m\u001b[0;34m\u001b[0m\u001b[0;34m\u001b[0m\u001b[0m\n\u001b[1;32m     27\u001b[0m             \u001b[0mfeatures\u001b[0m \u001b[0;34m=\u001b[0m \u001b[0mfeature_extractor_model\u001b[0m\u001b[0;34m(\u001b[0m\u001b[0mtorch\u001b[0m\u001b[0;34m.\u001b[0m\u001b[0mstack\u001b[0m\u001b[0;34m(\u001b[0m\u001b[0mimgs\u001b[0m\u001b[0;34m,\u001b[0m \u001b[0mdim\u001b[0m\u001b[0;34m=\u001b[0m\u001b[0;36m0\u001b[0m\u001b[0;34m)\u001b[0m\u001b[0;34m.\u001b[0m\u001b[0mto\u001b[0m\u001b[0;34m(\u001b[0m\u001b[0mdevice\u001b[0m\u001b[0;34m)\u001b[0m\u001b[0;34m)\u001b[0m\u001b[0;34m\u001b[0m\u001b[0;34m\u001b[0m\u001b[0m\n\u001b[0;32m---> 28\u001b[0;31m             \u001b[0mfeatures\u001b[0m\u001b[0;34m=\u001b[0m\u001b[0mfeatures\u001b[0m\u001b[0;34m.\u001b[0m\u001b[0mdata\u001b[0m\u001b[0;34m.\u001b[0m\u001b[0mcpu\u001b[0m\u001b[0;34m(\u001b[0m\u001b[0;34m)\u001b[0m\u001b[0;34m.\u001b[0m\u001b[0mnumpy\u001b[0m\u001b[0;34m(\u001b[0m\u001b[0;34m)\u001b[0m\u001b[0;34m\u001b[0m\u001b[0;34m\u001b[0m\u001b[0m\n\u001b[0m\u001b[1;32m     29\u001b[0m             \u001b[0;31m#print(features.shape)\u001b[0m\u001b[0;34m\u001b[0m\u001b[0;34m\u001b[0m\u001b[0;34m\u001b[0m\u001b[0m\n\u001b[1;32m     30\u001b[0m \u001b[0;34m\u001b[0m\u001b[0m\n",
            "\u001b[0;31mKeyboardInterrupt\u001b[0m: "
          ]
        }
      ],
      "source": [
        "def get_features(data_dir):\n",
        "    filename2features={}\n",
        "    for filename in tqdm(os.listdir(data_dir)):\n",
        "        frames_dir=os.path.join(data_dir,filename)\n",
        "        X_global_features=[]\n",
        "        imgs=[]\n",
        "        faces_only=[fn for fn in os.listdir(frames_dir) if 'noface' not in fn]\n",
        "        for img_name in sorted(faces_only):\n",
        "            img = Image.open(os.path.join(frames_dir,img_name))\n",
        "            img_tensor = test_transforms(img)\n",
        "            if img.size:\n",
        "                imgs.append(img_tensor)\n",
        "                if len(imgs)>=64:        \n",
        "                    features = feature_extractor_model(torch.stack(imgs, dim=0).to(device))\n",
        "                    features=features.data.cpu().numpy()\n",
        "                    #print(features.shape)\n",
        "\n",
        "                    if len(X_global_features)==0:\n",
        "                        X_global_features=features\n",
        "                    else:\n",
        "                        X_global_features=np.concatenate((X_global_features,features),axis=0)\n",
        "\n",
        "                    imgs=[]\n",
        "            \n",
        "\n",
        "        if len(imgs)>0:        \n",
        "            features = feature_extractor_model(torch.stack(imgs, dim=0).to(device))\n",
        "            features=features.data.cpu().numpy()\n",
        "            #print(features.shape)\n",
        "\n",
        "            if len(X_global_features)==0:\n",
        "                X_global_features=features\n",
        "            else:\n",
        "                X_global_features=np.concatenate((X_global_features,features),axis=0)\n",
        "\n",
        "            imgs=[]\n",
        "\n",
        "        #print(X_global_features.shape,X_feats.shape,X_scores.shape)\n",
        "        filename2features[filename]=X_global_features\n",
        "    return filename2features\n",
        "\n",
        "print(test_transforms)\n",
        "filename2features_val=get_features(os.path.join(DATA_DIR,'cropped/aligned/Validation/'))"
      ]
    },
    {
      "cell_type": "code",
      "execution_count": null,
      "metadata": {
        "id": "kVcnO-cT_yak"
      },
      "outputs": [],
      "source": [
        "filename2features_train=get_features(os.path.join(DATA_DIR,'cropped/aligned/Train/'))\n",
        "filename2features_test=get_features(os.path.join(DATA_DIR,'cropped/aligned/Test/'))"
      ]
    },
    {
      "cell_type": "code",
      "execution_count": null,
      "metadata": {
        "colab": {
          "base_uri": "https://localhost:8080/"
        },
        "id": "x9CxNX0JFNCJ",
        "outputId": "fdf6719e-e5a3-44de-dffc-47940f468419"
      },
      "outputs": [
        {
          "data": {
            "text/plain": [
              "{'0_1': array([[-0.14938839, -0.08989987, -0.0461806 , ...,  0.15771839,\n",
              "         -0.13299213,  0.40460804],\n",
              "        [-0.1206413 , -0.09502651, -0.05451882, ...,  0.06122293,\n",
              "         -0.11841209,  0.34663314],\n",
              "        [-0.17788976, -0.03476517, -0.12776266, ...,  0.14089584,\n",
              "         -0.09099516,  0.09910285],\n",
              "        ...,\n",
              "        [-0.14778802, -0.08225209, -0.12991215, ...,  0.02496573,\n",
              "         -0.00669805,  0.23158361],\n",
              "        [ 0.0680823 , -0.01290202, -0.07205155, ...,  0.29719448,\n",
              "          0.2726321 ,  0.5179047 ],\n",
              "        [ 0.05233239, -0.0734884 ,  0.0042924 , ...,  0.01512191,\n",
              "          0.04230061,  0.3982543 ]], dtype=float32),\n",
              " '0_1_3': array([[-0.13036515, -0.07241641, -0.01896747, ...,  0.10951492,\n",
              "         -0.09863146,  0.4017133 ],\n",
              "        [-0.14837882, -0.07450686, -0.01088325, ...,  0.12189811,\n",
              "         -0.10530508,  0.38740602],\n",
              "        [-0.18220623, -0.09536441, -0.07007053, ...,  0.01047765,\n",
              "         -0.11461004,  0.2532686 ],\n",
              "        ...,\n",
              "        [-0.13948731, -0.08111072, -0.09715678, ..., -0.04183631,\n",
              "         -0.11689896,  0.18562545],\n",
              "        [-0.12039284, -0.10153829, -0.08418564, ..., -0.0247038 ,\n",
              "         -0.15709224,  0.17660694],\n",
              "        [-0.15562893, -0.06558856, -0.10095067, ..., -0.0124157 ,\n",
              "         -0.13822807,  0.2725931 ]], dtype=float32),\n",
              " '0_5': array([[-0.19888505, -0.11720149, -0.03861625, ..., -0.04257371,\n",
              "         -0.12637895,  0.2555055 ],\n",
              "        [-0.18527058, -0.11252154, -0.05008689, ..., -0.02931861,\n",
              "         -0.10275527,  0.33913517],\n",
              "        [-0.18910621, -0.11747479, -0.06656727, ..., -0.05057337,\n",
              "         -0.10484763,  0.33698785],\n",
              "        ...,\n",
              "        [-0.16266032, -0.09688871, -0.19671637, ...,  0.12245974,\n",
              "         -0.15531793, -0.19278374],\n",
              "        [-0.04645428, -0.09228539,  0.11879461, ..., -0.09120793,\n",
              "         -0.16981107, -0.14256465],\n",
              "        [-0.21959198, -0.05953799, -0.11798172, ..., -0.0673359 ,\n",
              "         -0.06706458,  0.41123003]], dtype=float32),\n",
              " '0_5_1': array([[-0.17550114, -0.09364266, -0.02767946, ..., -0.078917  ,\n",
              "         -0.0854456 ,  0.3100072 ],\n",
              "        [-0.17886749, -0.08097509,  0.03465317, ..., -0.06094939,\n",
              "         -0.0963183 ,  0.35654795],\n",
              "        [-0.1817453 , -0.06441548, -0.03992149, ..., -0.02385813,\n",
              "         -0.06697107,  0.4106267 ],\n",
              "        ...,\n",
              "        [ 0.04510862, -0.09071516, -0.08276978, ..., -0.19663632,\n",
              "         -0.20196795,  0.09130707],\n",
              "        [-0.14047943, -0.11306182, -0.15819341, ...,  0.02120036,\n",
              "         -0.19003245,  0.0648739 ],\n",
              "        [-0.15290909, -0.07634848, -0.11992291, ...,  0.00252967,\n",
              "         -0.12882608,  0.09922154]], dtype=float32),\n",
              " '1_1': array([[-0.16242748, -0.09012836, -0.11667222, ...,  0.05328897,\n",
              "         -0.0742562 ,  0.3609305 ],\n",
              "        [-0.15573809, -0.09209094, -0.11596829, ...,  0.04542378,\n",
              "         -0.0774583 ,  0.37015685],\n",
              "        [-0.15929775, -0.09954638, -0.09928723, ...,  0.0503839 ,\n",
              "         -0.11525132,  0.3483305 ],\n",
              "        ...,\n",
              "        [-0.16104323, -0.09418373, -0.07142731, ...,  0.01755358,\n",
              "         -0.08928297,  0.41685498],\n",
              "        [-0.15995562, -0.08584405, -0.06018507, ..., -0.01206427,\n",
              "         -0.05005452,  0.4202304 ],\n",
              "        [-0.12636188, -0.0943364 , -0.05655159, ..., -0.04349655,\n",
              "         -0.09925492,  0.39000276]], dtype=float32),\n",
              " '1_3': array([[-0.19880046, -0.11327424, -0.01624871, ..., -0.05741925,\n",
              "         -0.10904847,  0.43599194],\n",
              "        [-0.20022586, -0.11185335, -0.01691204, ..., -0.05951492,\n",
              "         -0.11829812,  0.41545486],\n",
              "        [-0.19878191, -0.11596791, -0.02275413, ..., -0.06555325,\n",
              "         -0.1299487 ,  0.34791526],\n",
              "        ...,\n",
              "        [-0.1867573 , -0.10183504, -0.12913315, ..., -0.01484832,\n",
              "         -0.04832973,  0.15149485],\n",
              "        [-0.20646064, -0.10985045, -0.09503935, ..., -0.07174241,\n",
              "         -0.09795987,  0.19983675],\n",
              "        [-0.1820165 , -0.1129346 , -0.0986428 , ..., -0.09331767,\n",
              "         -0.11388545,  0.30270973]], dtype=float32),\n",
              " '1_4_2': array([[-0.15250196, -0.10629547, -0.01381506, ...,  0.01079635,\n",
              "          0.02538683,  0.10849486],\n",
              "        [-0.15052643, -0.1145538 , -0.01395674, ...,  0.00653199,\n",
              "          0.02090248,  0.15069364],\n",
              "        [-0.15199053, -0.11575105, -0.0097943 , ..., -0.03638371,\n",
              "          0.00679026,  0.08729547],\n",
              "        ...,\n",
              "        [-0.17039855, -0.0739847 ,  0.05421065, ...,  0.05578895,\n",
              "          0.05581719,  0.190352  ],\n",
              "        [-0.18382078, -0.0695303 ,  0.1404021 , ..., -0.06430325,\n",
              "         -0.05228374,  0.11464103],\n",
              "        [-0.18212676, -0.06061529,  0.03441688, ..., -0.0680243 ,\n",
              "          0.00132412,  0.11516874]], dtype=float32),\n",
              " '1_5_1': array([[-0.21319322, -0.05281765, -0.08416002, ..., -0.04845686,\n",
              "         -0.06095483,  0.39134955],\n",
              "        [-0.21559553, -0.05831195, -0.09484858, ..., -0.06287662,\n",
              "         -0.05860548,  0.39840868],\n",
              "        [-0.22155191, -0.09468576, -0.05776438, ..., -0.01516709,\n",
              "         -0.06963038,  0.45526332],\n",
              "        ...,\n",
              "        [-0.17951961, -0.11576993,  0.05568774, ..., -0.07410422,\n",
              "         -0.06532392,  0.32687902],\n",
              "        [-0.17181133, -0.1171415 ,  0.11788802, ..., -0.03452682,\n",
              "         -0.00629024,  0.4763878 ],\n",
              "        [-0.17053   , -0.10972622,  0.12511638, ..., -0.05866932,\n",
              "         -0.04719751,  0.4007214 ]], dtype=float32),\n",
              " '1_5_2': array([[-0.19322574, -0.09856658, -0.09035722, ..., -0.07309105,\n",
              "         -0.09299453,  0.42453104],\n",
              "        [-0.17869419, -0.1099444 , -0.11036031, ..., -0.07307567,\n",
              "         -0.0832696 ,  0.44478288],\n",
              "        [-0.19396949, -0.11767592, -0.0617931 , ..., -0.10605306,\n",
              "         -0.103067  ,  0.40626392],\n",
              "        ...,\n",
              "        [-0.17968115, -0.10362057, -0.05338724, ..., -0.07767241,\n",
              "         -0.09330725,  0.27575877],\n",
              "        [-0.19450526, -0.1204884 , -0.07360229, ..., -0.1053994 ,\n",
              "         -0.11153845,  0.32380757],\n",
              "        [-0.19848123, -0.1171953 , -0.0599856 , ..., -0.08048958,\n",
              "         -0.09564202,  0.27523258]], dtype=float32),\n",
              " '1_6': array([[-0.16912755, -0.11389825, -0.11089099, ..., -0.01380448,\n",
              "         -0.06600731,  0.27795598],\n",
              "        [-0.167448  , -0.1115215 , -0.11445936, ...,  0.00395888,\n",
              "         -0.06229883,  0.26116323],\n",
              "        [-0.16113634, -0.11015382, -0.09678025, ...,  0.03822973,\n",
              "         -0.04152929,  0.35610986],\n",
              "        ...,\n",
              "        [-0.15415002, -0.10098588, -0.13609858, ...,  0.05658696,\n",
              "         -0.02274037,  0.3488501 ],\n",
              "        [-0.14850791, -0.10026138, -0.14509474, ...,  0.03099689,\n",
              "         -0.01506025,  0.32236913],\n",
              "        [-0.15753683, -0.10030156, -0.14962168, ...,  0.02879159,\n",
              "         -0.01853739,  0.26824677]], dtype=float32),\n",
              " '2_1': array([[-0.11962406, -0.09936288, -0.0723079 , ..., -0.02891104,\n",
              "          0.06857703,  0.08538824],\n",
              "        [-0.1235298 , -0.09991356, -0.07650337, ..., -0.02974882,\n",
              "          0.04045549,  0.06763139],\n",
              "        [-0.09390142, -0.09793241, -0.03382432, ...,  0.04722572,\n",
              "          0.13260418, -0.01597003],\n",
              "        ...,\n",
              "        [-0.15002358, -0.05427778, -0.10930336, ...,  0.15734853,\n",
              "         -0.05148029,  0.5642267 ],\n",
              "        [-0.12050524, -0.07048725, -0.07985356, ...,  0.07287483,\n",
              "         -0.13120484,  0.4721924 ],\n",
              "        [-0.1276844 , -0.08627971, -0.05430419, ...,  0.03690825,\n",
              "         -0.07194667,  0.3451391 ]], dtype=float32),\n",
              " '2_4_2': array([[-0.178486  , -0.03030811, -0.01720918, ...,  0.10185436,\n",
              "          0.13812262,  0.11832736],\n",
              "        [-0.18442045, -0.00510402, -0.02429794, ...,  0.16324829,\n",
              "          0.12297887,  0.13338518],\n",
              "        [-0.19504815, -0.05867374,  0.04477556, ...,  0.16827379,\n",
              "          0.14136194,  0.00668304],\n",
              "        ...,\n",
              "        [-0.20361564, -0.02875763, -0.10950368, ..., -0.03746575,\n",
              "          0.01237744, -0.04712414],\n",
              "        [-0.19655484, -0.04356987, -0.12203649, ...,  0.01412756,\n",
              "          0.03306359, -0.05614679],\n",
              "        [-0.20106319, -0.02158534, -0.12383047, ...,  0.00484645,\n",
              "          0.04792992, -0.06123944]], dtype=float32),\n",
              " '2_4_3': array([[-0.11373881, -0.08751342,  0.06600466, ..., -0.06271805,\n",
              "         -0.01403564,  0.14007322],\n",
              "        [-0.09897298, -0.08648036,  0.0794875 , ..., -0.05018262,\n",
              "         -0.01499713,  0.12710844],\n",
              "        [-0.09063531, -0.06354654,  0.05250035, ..., -0.08779896,\n",
              "         -0.0189711 ,  0.0838131 ],\n",
              "        ...,\n",
              "        [-0.01854406, -0.08541899, -0.06228394, ..., -0.13448836,\n",
              "         -0.05315005,  0.04861415],\n",
              "        [-0.03598152, -0.09935704, -0.06089478, ..., -0.10865363,\n",
              "         -0.02716302,  0.01905358],\n",
              "        [-0.06242225, -0.08687004, -0.00948736, ..., -0.1417005 ,\n",
              "         -0.07296358, -0.04375984]], dtype=float32),\n",
              " '2_4_4': array([[-0.18150021, -0.07158486,  0.00928055, ..., -0.075143  ,\n",
              "         -0.01531805,  0.06359071],\n",
              "        [-0.16853455, -0.0748084 , -0.01361946, ..., -0.06939642,\n",
              "          0.00889881,  0.07372181],\n",
              "        [-0.15110166, -0.05128258, -0.04985927, ..., -0.07976324,\n",
              "         -0.01310901,  0.04239093],\n",
              "        ...,\n",
              "        [-0.15947479, -0.06523825,  0.03861807, ..., -0.03387307,\n",
              "         -0.05983342,  0.03128453],\n",
              "        [-0.15012409, -0.06318957, -0.00385956, ..., -0.06706441,\n",
              "         -0.05250821, -0.02733036],\n",
              "        [-0.1568491 , -0.06420261, -0.01932469, ..., -0.07337076,\n",
              "         -0.07827973, -0.03074413]], dtype=float32),\n",
              " '2_5': array([[-0.19612686, -0.11537929, -0.00240875, ..., -0.09806496,\n",
              "         -0.08109119,  0.34626603],\n",
              "        [-0.19289725, -0.11320276, -0.01938624, ..., -0.09750281,\n",
              "         -0.08415409,  0.33810824],\n",
              "        [-0.1918794 , -0.11759834, -0.011039  , ..., -0.08851239,\n",
              "         -0.0844135 ,  0.33105892],\n",
              "        ...,\n",
              "        [-0.17523898, -0.12947127, -0.04470111, ..., -0.0960325 ,\n",
              "         -0.14861926,  0.27637738],\n",
              "        [-0.18024483, -0.12731124, -0.0257415 , ..., -0.08432289,\n",
              "         -0.1352874 ,  0.2856854 ],\n",
              "        [-0.2042262 , -0.06152835,  0.0404963 , ..., -0.02958396,\n",
              "         -0.07767836,  0.47853407]], dtype=float32),\n",
              " '2_8': array([[-0.09497774, -0.02718906, -0.04657291, ..., -0.0790021 ,\n",
              "          0.04386143,  0.00175093],\n",
              "        [-0.09987558, -0.028265  , -0.05157646, ..., -0.07411084,\n",
              "          0.04282198, -0.00081986],\n",
              "        [-0.16223408, -0.04028307, -0.02775599, ..., -0.03347058,\n",
              "          0.06097153,  0.02899554],\n",
              "        ...,\n",
              "        [-0.19078586, -0.04507847,  0.01176457, ...,  0.00170279,\n",
              "          0.0907883 ,  0.17143424],\n",
              "        [-0.19134836, -0.06383204,  0.00825699, ..., -0.07081344,\n",
              "          0.08663411,  0.00051987],\n",
              "        [-0.20033102, -0.05649821,  0.00999255, ..., -0.12368957,\n",
              "          0.0212264 ,  0.01506309]], dtype=float32),\n",
              " '3_2_1': array([[-0.19920218, -0.08223392, -0.01470558, ..., -0.00979494,\n",
              "         -0.01500837,  0.41542044],\n",
              "        [-0.20096782, -0.0749094 , -0.02389047, ..., -0.0184441 ,\n",
              "         -0.01524185,  0.42461058],\n",
              "        [-0.18763717, -0.07537169,  0.02803302, ..., -0.00605934,\n",
              "         -0.05008641,  0.39540675],\n",
              "        ...,\n",
              "        [-0.20214252, -0.10521307, -0.00396443, ..., -0.03015909,\n",
              "         -0.05048037,  0.3534169 ],\n",
              "        [-0.20065299, -0.10165512, -0.00235762, ..., -0.00331777,\n",
              "         -0.04808578,  0.32866573],\n",
              "        [-0.19729902, -0.08438241,  0.03408744, ...,  0.02732738,\n",
              "         -0.0420525 ,  0.36692795]], dtype=float32),\n",
              " '3_4_3': array([[-0.18404263, -0.016933  , -0.09471389, ...,  0.02811362,\n",
              "          0.18503825,  0.19038685],\n",
              "        [-0.18884909, -0.04631183, -0.05267013, ...,  0.00322672,\n",
              "          0.15358023,  0.12590146],\n",
              "        [-0.18026157, -0.04907961, -0.04936632, ...,  0.02702475,\n",
              "          0.12512968,  0.0564277 ],\n",
              "        ...,\n",
              "        [-0.19207464, -0.04226246, -0.01619082, ...,  0.09045558,\n",
              "          0.09462722, -0.0125844 ],\n",
              "        [-0.18593861, -0.0451449 , -0.03311958, ...,  0.05032512,\n",
              "          0.11497301,  0.05583302],\n",
              "        [-0.18850952, -0.03409273, -0.03594644, ...,  0.01107399,\n",
              "          0.08468295, -0.00593421]], dtype=float32),\n",
              " '3_4_4': array([[-0.19402196, -0.02705219, -0.05923321, ...,  0.042076  ,\n",
              "          0.15654735,  0.10660191],\n",
              "        [-0.17316005,  0.00493143, -0.0084977 , ...,  0.06037163,\n",
              "          0.18785629,  0.11081925],\n",
              "        [-0.1884607 ,  0.03040815, -0.06958655, ...,  0.04945692,\n",
              "          0.16526413,  0.16676925],\n",
              "        ...,\n",
              "        [-0.18071187, -0.05160766, -0.05487364, ...,  0.10798004,\n",
              "          0.09759712,  0.01793666],\n",
              "        [-0.17437993, -0.04156747,  0.05428636, ...,  0.08687449,\n",
              "          0.13737376,  0.12698354],\n",
              "        [-0.17245501, -0.0423089 ,  0.0851525 , ...,  0.06656428,\n",
              "          0.13923429,  0.10260899]], dtype=float32),\n",
              " '3_4_7': array([[-0.16924569, -0.11058669,  0.04012572, ..., -0.03290611,\n",
              "         -0.09052154,  0.05005088],\n",
              "        [-0.16975155, -0.1045806 ,  0.0535818 , ..., -0.03718328,\n",
              "         -0.08658489,  0.05568034],\n",
              "        [-0.1664723 , -0.09854388, -0.02012479, ..., -0.03992691,\n",
              "         -0.07538744,  0.07637974],\n",
              "        ...,\n",
              "        [-0.17833324, -0.13018179,  0.08735547, ..., -0.04870832,\n",
              "         -0.09965716, -0.0329306 ],\n",
              "        [-0.19648235, -0.12980162,  0.01775164, ..., -0.05483485,\n",
              "         -0.0358519 ,  0.02589557],\n",
              "        [-0.19487254, -0.11184683,  0.0157141 , ..., -0.07901171,\n",
              "         -0.03819282, -0.01904858]], dtype=float32)}"
            ]
          },
          "execution_count": 37,
          "metadata": {},
          "output_type": "execute_result"
        }
      ],
      "source": [
        "filename2features_train"
      ]
    },
    {
      "cell_type": "code",
      "execution_count": null,
      "metadata": {
        "id": "5YGVBiIudl3D"
      },
      "outputs": [],
      "source": [
        "# import pickle\n",
        "# USE_ALL_FEATURES=False\n",
        "\n",
        "# MODEL2EMOTIW_FEATURES=model_name+'_aligned.pickle' #'_feat_bgr_emotiw.pickle'\n",
        "# if False:\n",
        "#     with open(MODEL2EMOTIW_FEATURES, 'wb') as handle:\n",
        "#         pickle.dump([filename2features_train,filename2features_val,filename2features_test], handle, protocol=pickle.HIGHEST_PROTOCOL)"
      ]
    },
    {
      "cell_type": "code",
      "execution_count": null,
      "metadata": {
        "id": "33z0DFRwd09V"
      },
      "outputs": [],
      "source": [
        "# with open(MODEL2EMOTIW_FEATURES, 'rb') as handle:\n",
        "#     filename2features_train,filename2features_val,filename2features_test=pickle.load(handle)\n",
        "# print(len(filename2features_train),len(filename2features_val))"
      ]
    },
    {
      "cell_type": "code",
      "execution_count": null,
      "metadata": {
        "id": "nZWYw5QvygcF"
      },
      "outputs": [],
      "source": [
        "torch.cuda.empty_cache()"
      ]
    },
    {
      "cell_type": "code",
      "execution_count": null,
      "metadata": {
        "id": "iwmTjfNxLAY9"
      },
      "outputs": [],
      "source": [
        "import csv\n",
        "\n",
        "def create_dataset(filename2features):\n",
        "    x = []\n",
        "    y = []\n",
        "    ind=0\n",
        "    for fn in filename2features:\n",
        "        cur_features=filename2features[fn]\n",
        "        total_features=None\n",
        "        total_features=np.std(cur_features, axis=0)\n",
        "        x.append(total_features)\n",
        "        y.append(video2label[fn])\n",
        "    x=np.array(x)\n",
        "    y=np.array(y)\n",
        "    print(x.shape,y.shape)\n",
        "    return x,y\n",
        "\n",
        "video2label={}\n",
        "with open(os.path.join('/content/drive/MyDrive/project/Датасэт/Labels/','ValidationLabels.csv'), mode='r') as csvfile:\n",
        "    labels_reader = csv.reader(csvfile, delimiter=';')\n",
        "    for i,row in enumerate(labels_reader):\n",
        "        if i==0:\n",
        "            #print('first:',row)\n",
        "            continue\n",
        "        videoname,label=row[0].split('.')[0],float(row[1])\n",
        "        video2label[videoname]=label\n",
        "\n",
        "x_val, y_val = create_dataset(filename2features_val)"
      ]
    },
    {
      "cell_type": "code",
      "execution_count": null,
      "metadata": {
        "id": "aEYEDskRMNDh"
      },
      "outputs": [],
      "source": [
        "video2label={}\n",
        "with open(os.path.join('/content/drive/MyDrive/project/Датасэт/Labels/','TrainLabels.csv'), mode='r') as csvfile:\n",
        "    labels_reader = csv.reader(csvfile, delimiter=';')\n",
        "    for i,row in enumerate(labels_reader):\n",
        "        if i==0:\n",
        "            #print('first:',row)\n",
        "            continue\n",
        "        videoname,label=row[0].split('.')[0],float(row[1])\n",
        "        video2label[videoname]=label\n",
        "\n",
        "x_train, y_train = create_dataset(filename2features_train)"
      ]
    },
    {
      "cell_type": "code",
      "execution_count": null,
      "metadata": {
        "id": "jVSnku8lIDqr"
      },
      "outputs": [],
      "source": [
        "video2label={}\n",
        "with open(os.path.join('/content/drive/MyDrive/project/Датасэт/Labels/','TestLabels.csv'), mode='r') as csvfile:\n",
        "    labels_reader = csv.reader(csvfile, delimiter=';')\n",
        "    for i,row in enumerate(labels_reader):\n",
        "        if i==0:\n",
        "            #print('first:',row)\n",
        "            continue\n",
        "        videoname,label=row[0].split('.')[0],float(row[1])\n",
        "        video2label[videoname]=label\n",
        "\n",
        "x_test, y_test = create_dataset(filename2features_test)"
      ]
    },
    {
      "cell_type": "code",
      "execution_count": null,
      "metadata": {
        "id": "2OCSZRd9e3Cw"
      },
      "outputs": [],
      "source": [
        "x_train_norm=preprocessing.normalize(x_train,norm='l2')"
      ]
    },
    {
      "cell_type": "code",
      "execution_count": null,
      "metadata": {
        "id": "i83zJzAee6gC"
      },
      "outputs": [],
      "source": [
        "#reg = svm.LinearSVR(C=1) #0.5 1.1\n",
        "reg = svm.SVR(kernel='rbf')\n",
        "#np.random.seed(1)\n",
        "#reg=RandomForestRegressor(n_estimators=100,max_depth=7, n_jobs=-1)\n",
        "\n",
        "#import xgboost as xgb\n",
        "#reg = xgb.XGBRegressor(n_estimators=100,use_label_encoder=False)\n",
        "\n",
        "if False:    \n",
        "    reg.fit(x_train_norm, y_train)\n",
        "    y_pred = reg.predict(x_test_norm)\n",
        "else:\n",
        "    reg.fit(x_train, y_train)\n",
        "    y_pred = reg.predict(x_test)\n",
        "\n",
        "y_pred = np.clip(y_pred, 0,1)\n",
        "#y_pred[y_pred<0.1]=0\n",
        "#y_pred[y_pred>0.9]=1\n",
        "print(\"MSE:\",((y_test-y_pred)**2).mean())"
      ]
    },
    {
      "cell_type": "code",
      "execution_count": null,
      "metadata": {
        "id": "nW3EhtFpfGwQ"
      },
      "outputs": [],
      "source": [
        "!pip install mord"
      ]
    },
    {
      "cell_type": "code",
      "execution_count": null,
      "metadata": {
        "id": "WnzvuQxVfOWV"
      },
      "outputs": [],
      "source": [
        "# float2int={0:0,0.33:1,0.66:2,1:3}\n",
        "# int2float={i:f for (f,i) in float2int.items()}\n",
        "int2float={0:0,1:0.33,2:0.66,3:1} \n",
        "y_train_float=np.array([int2float[y] for y in y_train])\n",
        "y_test_float=np.array([int2float[y] for y in y_test])"
      ]
    },
    {
      "cell_type": "code",
      "execution_count": null,
      "metadata": {
        "id": "N2NwZ97ue6h6"
      },
      "outputs": [],
      "source": [
        "import mord\n",
        "\n",
        "reg = mord.OrdinalRidge(alpha=0.1) #1\n",
        "print(y_test)\n",
        "if False:    \n",
        "    reg.fit(x_train_norm, y_train_float)\n",
        "    y_pred = reg.predict(x_test_norm)\n",
        "else:\n",
        "    reg.fit(x_train, y_train_float)\n",
        "    y_pred = reg.predict(x_test)\n",
        "print(\"MSE:\",((y_test_float-y_pred)**2).mean()/9)\n",
        "print(y_pred)\n",
        "y_pred_float=np.array([int2float[y] for y in y_pred])\n",
        "print(\"orig MSE:\",((y_test-y_pred_float)**2).mean())"
      ]
    },
    {
      "cell_type": "code",
      "execution_count": null,
      "metadata": {
        "id": "XVZrYOMNhV8G"
      },
      "outputs": [],
      "source": [
        "float2int={0:0,0.33:1,0.66:2,1:3}\n",
        "int2float={i:f for (f,i) in float2int.items()}\n",
        "# y_train_int=np.array([int2float[y] for y in y_train])\n",
        "# y_test_int=np.array([int2float[y] for y in y_test])\n",
        "IC = type('IdentityClassifier', (), {\"predict\": lambda i : i, \"_estimator_type\": \"classifier\"})\n",
        "import matplotlib.pyplot as plt\n",
        "from sklearn.metrics import plot_confusion_matrix\n",
        "def plt_conf_matrix(y_true,y_pred,filename=None):\n",
        "    print(y_pred.shape,y_true.shape, (y_pred==y_true).mean())\n",
        "\n",
        "    fig, ax = plt.subplots(figsize=(7, 7))\n",
        "    plot_confusion_matrix(IC, y_pred,y_true,display_labels=['0','0.33','0.66','1'],cmap=plt.cm.Blues,ax=ax) #,normalize='true'\n",
        "    plt.tight_layout()\n",
        "    plt.show()"
      ]
    },
    {
      "cell_type": "code",
      "execution_count": null,
      "metadata": {
        "id": "4Skg1fZbhPev"
      },
      "outputs": [],
      "source": [
        "plt_conf_matrix(y_test,y_pred)"
      ]
    },
    {
      "cell_type": "code",
      "execution_count": null,
      "metadata": {
        "id": "_nAF2ZFCPfxN"
      },
      "outputs": [],
      "source": [
        "reg_coef,reg_intercept = np.load('/content/drive/MyDrive/project/Датасэт/Models/mord_reg_enet_b0_8_best_afew.npy',allow_pickle=True)"
      ]
    },
    {
      "cell_type": "code",
      "execution_count": null,
      "metadata": {
        "id": "ueBBa1BdRrgo"
      },
      "outputs": [],
      "source": [
        "y_pred=np.dot(x_test,reg_coef)+reg_intercept\n",
        "y_pred = np.round(y_pred)\n",
        "y_pred = np.clip(y_pred, 0, 3)\n",
        "print(y_pred)\n",
        "int2float={0:0,1:0.33,2:0.66,3:1} #EngageWild: disengaged, barely engaged, engaged, highly engaged.\n",
        "y_pred_float=np.array([int2float[y] for y in y_pred])\n",
        "print(y_pred_float)\n",
        "print(\"MSE:\",((y_test-y_pred_float)**2).mean())"
      ]
    },
    {
      "cell_type": "code",
      "execution_count": null,
      "metadata": {
        "id": "THUNT2upSVAH"
      },
      "outputs": [],
      "source": [
        "y_train"
      ]
    },
    {
      "cell_type": "code",
      "execution_count": null,
      "metadata": {
        "id": "zNN8sWdfRyfm"
      },
      "outputs": [],
      "source": [
        "y_pred=np.dot(x_train,reg_coef)+reg_intercept\n",
        "y_pred = np.round(y_pred)\n",
        "y_pred = np.clip(y_pred, 0, 3)\n",
        "print(y_pred)\n",
        "int2float={0:0,1:0.33,2:0.66,3:1} #EngageWild: disengaged, barely engaged, engaged, highly engaged.\n",
        "y_pred_float=np.array([int2float[y] for y in y_pred])\n",
        "print(y_pred_float)\n",
        "print(\"MSE:\",((y_train-y_pred_float)**2).mean())"
      ]
    },
    {
      "cell_type": "code",
      "execution_count": null,
      "metadata": {
        "id": "8VxPrGdASTtD"
      },
      "outputs": [],
      "source": [
        "y_val"
      ]
    },
    {
      "cell_type": "code",
      "execution_count": null,
      "metadata": {
        "id": "TEq-_VsoSmGc"
      },
      "outputs": [],
      "source": [
        "y_pred=np.dot(x_val,reg_coef)+reg_intercept\n",
        "y_pred = np.round(y_pred)\n",
        "y_pred = np.clip(y_pred, 0, 3)\n",
        "print(y_pred)\n",
        "int2float={0:0,1:0.33,2:0.66,3:1} #EngageWild: disengaged, barely engaged, engaged, highly engaged.\n",
        "y_pred_float=np.array([int2float[y] for y in y_pred])\n",
        "print(y_pred_float)\n",
        "print(\"MSE:\",((y_val-y_pred_float)**2).mean())"
      ]
    },
    {
      "cell_type": "code",
      "execution_count": null,
      "metadata": {
        "id": "l-o72t8DSvTO"
      },
      "outputs": [],
      "source": [
        "y_test"
      ]
    },
    {
      "cell_type": "code",
      "execution_count": null,
      "metadata": {
        "id": "lWB4AY7UhLPQ"
      },
      "outputs": [],
      "source": [
        ""
      ]
    },
    {
      "cell_type": "code",
      "execution_count": null,
      "metadata": {
        "id": "my4GEyf7TdlD"
      },
      "outputs": [],
      "source": [
        "!pip install pickle5\n",
        "import pickle5 as pickle"
      ]
    },
    {
      "cell_type": "code",
      "execution_count": null,
      "metadata": {
        "id": "oAcX-QJuS3k2"
      },
      "outputs": [],
      "source": [
        "with open('/content/drive/MyDrive/project/Датасэт/Models/daisee_svm_norm_enet_b0_8_best_afew.pkl', 'rb') as handle:\n",
        "    cls=pickle.load(handle)"
      ]
    },
    {
      "cell_type": "code",
      "execution_count": null,
      "metadata": {
        "id": "8XlXXNNYSpcg"
      },
      "outputs": [],
      "source": [
        "x_test_norm=preprocessing.normalize(x_test,norm='l2')\n",
        "y_pred = cls.predict(x_test_norm)\n",
        "print(y_pred)\n",
        "int2float={0:0,1:0.33,2:0.66,3:1} # very low, low, high, very high\n",
        "y_pred_float=np.array([int2float[y] for y in y_pred])\n",
        "print(\"MSE:\",((y_test-y_pred_float)**2).mean())"
      ]
    },
    {
      "cell_type": "markdown",
      "metadata": {
        "id": "tjoePn3aoX5R"
      },
      "source": [
        "# Data preprocessing 2"
      ]
    },
    {
      "cell_type": "code",
      "execution_count": 4,
      "metadata": {
        "id": "RR6hvXm2smja"
      },
      "outputs": [],
      "source": [
        "data_transforms = {\n",
        "    'Train': transforms.Compose([\n",
        "        transforms.RandomResizedCrop(224),\n",
        "        # transforms.RandomHorizontalFlip(),\n",
        "        transforms.ToTensor(),\n",
        "        transforms.Normalize([0.485, 0.456, 0.406], [0.229, 0.224, 0.225])\n",
        "    ]),\n",
        "    'Test': transforms.Compose([\n",
        "        transforms.Resize(256),\n",
        "        transforms.CenterCrop(224),\n",
        "        transforms.ToTensor(),\n",
        "        transforms.Normalize([0.485, 0.456, 0.406], [0.229, 0.224, 0.225])\n",
        "    ]),\n",
        "    'Validation': transforms.Compose([\n",
        "        transforms.Resize(256),\n",
        "        transforms.CenterCrop(224),\n",
        "        transforms.ToTensor(),\n",
        "        transforms.Normalize([0.485, 0.456, 0.406], [0.229, 0.224, 0.225])\n",
        "    ]),\n",
        "}\n",
        "\n",
        "data_dir = '/content/drive/MyDrive/project/Датасэт/cropped/aligned/'\n",
        "image_datasets = {x: datasets.ImageFolder(os.path.join(data_dir, x),\n",
        "                                          data_transforms[x])\n",
        "                  for x in ['Train','Test','Validation']}\n",
        "dataloaders = {x: torch.utils.data.DataLoader(image_datasets[x], batch_size=4,\n",
        "                                             shuffle=True, num_workers=2)\n",
        "              for x in ['Train','Test','Validation']}\n",
        "dataset_sizes = {x: len(image_datasets[x]) for x in ['Train','Test','Validation']}"
      ]
    },
    {
      "cell_type": "code",
      "execution_count": 5,
      "metadata": {
        "colab": {
          "base_uri": "https://localhost:8080/"
        },
        "id": "QLSoa5k5G5S3",
        "outputId": "aa919704-02a7-4768-b5eb-a956fb0a4b4d"
      },
      "outputs": [
        {
          "output_type": "execute_result",
          "data": {
            "text/plain": [
              "{'Test': <torch.utils.data.dataloader.DataLoader at 0x7fc924884a90>,\n",
              " 'Train': <torch.utils.data.dataloader.DataLoader at 0x7fc927e83310>,\n",
              " 'Validation': <torch.utils.data.dataloader.DataLoader at 0x7fc924884bd0>}"
            ]
          },
          "metadata": {},
          "execution_count": 5
        }
      ],
      "source": [
        "dataloaders"
      ]
    },
    {
      "cell_type": "code",
      "execution_count": 6,
      "metadata": {
        "colab": {
          "base_uri": "https://localhost:8080/"
        },
        "id": "zGfIjx3ZiARX",
        "outputId": "9104cbb4-bced-4765-f49e-0462d1b43d9a"
      },
      "outputs": [
        {
          "output_type": "execute_result",
          "data": {
            "text/plain": [
              "['0', '1', '2', '3']"
            ]
          },
          "metadata": {},
          "execution_count": 6
        }
      ],
      "source": [
        "image_datasets['Test'].classes"
      ]
    },
    {
      "cell_type": "code",
      "execution_count": 7,
      "metadata": {
        "id": "ypaH4KYDwB8e"
      },
      "outputs": [],
      "source": [
        "class_names = image_datasets['Train'].classes\n",
        "\n",
        "device = torch.device(\"cuda:0\" if torch.cuda.is_available() else \"cpu\")"
      ]
    },
    {
      "cell_type": "code",
      "execution_count": 8,
      "metadata": {
        "colab": {
          "base_uri": "https://localhost:8080/",
          "height": 148
        },
        "id": "DJlUVtd8FgmN",
        "outputId": "c980ba41-fd9c-40ef-eda4-936dc9d30b45"
      },
      "outputs": [
        {
          "output_type": "display_data",
          "data": {
            "text/plain": [
              "<Figure size 432x288 with 1 Axes>"
            ],
            "image/png": "[encoded data removed]"
          },
          "metadata": {
            "needs_background": "light"
          }
        }
      ],
      "source": [
        "import torchvision\n",
        "\n",
        "\n",
        "def imshow(inp, title=None):\n",
        "    \"\"\"Imshow for Tensor.\"\"\"\n",
        "    inp = inp.numpy().transpose((1, 2, 0))\n",
        "    mean = np.array([0.485, 0.456, 0.406])\n",
        "    std = np.array([0.229, 0.224, 0.225])\n",
        "    inp = std * inp + mean\n",
        "    inp = np.clip(inp, 0, 1)\n",
        "    plt.imshow(inp)\n",
        "    if title is not None:\n",
        "        plt.title(title)\n",
        "    plt.pause(0.001)  # pause a bit so that plots are updated\n",
        "\n",
        "\n",
        "# Get a batch of training data\n",
        "inputs, classes = next(iter(dataloaders['Train']))\n",
        "\n",
        "# Make a grid from batch\n",
        "out = torchvision.utils.make_grid(inputs)\n",
        "\n",
        "imshow(out, title=[class_names[x] for x in classes])"
      ]
    },
    {
      "cell_type": "code",
      "execution_count": 9,
      "metadata": {
        "id": "xMiahvqwJwPM"
      },
      "outputs": [],
      "source": [
        "def train_model(model, criterion, optimizer, scheduler, num_epochs=25):\n",
        "    CUDA_LAUNCH_BLOCKING = \"1\"\n",
        "    since = time.time()\n",
        "\n",
        "    # best_model_wts = copy.deepcopy(model.state_dict())\n",
        "    best_acc = 0.0\n",
        "\n",
        "    for epoch in range(num_epochs):\n",
        "        print(f'Epoch {epoch}/{num_epochs - 1}')\n",
        "        print('-' * 10)\n",
        "\n",
        "        # Each epoch has a training and validation phase\n",
        "        for phase in ['Train', 'Validation']:\n",
        "            if phase == 'Train':\n",
        "                model.train()  # Set model to training mode\n",
        "            else:\n",
        "                model.eval()   # Set model to evaluate mode\n",
        "\n",
        "            running_loss = 0.0\n",
        "            running_corrects = 0\n",
        "\n",
        "            # Iterate over data.\n",
        "            for inputs, labels in dataloaders[phase]:\n",
        "                inputs = inputs.to(device)\n",
        "                labels = labels.to(device)\n",
        "\n",
        "                # zero the parameter gradients\n",
        "                optimizer.zero_grad()\n",
        "\n",
        "                # forward\n",
        "                # track history if only in train\n",
        "                with torch.set_grad_enabled(phase == 'Train'):\n",
        "                    outputs = model(inputs)\n",
        "                    _, preds = torch.max(outputs, 1)\n",
        "                    loss = criterion(outputs, labels)\n",
        "\n",
        "                    # backward + optimize only if in training phase\n",
        "                    if phase == 'Train':\n",
        "                        loss.backward()\n",
        "                        optimizer.step()\n",
        "\n",
        "                # statistics\n",
        "                running_loss += loss.item() * inputs.size(0)\n",
        "                running_corrects += torch.sum(preds == labels.data)\n",
        "            if phase == 'Train':\n",
        "                scheduler.step()\n",
        "\n",
        "            epoch_loss = running_loss / dataset_sizes[phase]\n",
        "            epoch_acc = running_corrects.double() / dataset_sizes[phase]\n",
        "\n",
        "            print(f'{phase} Loss: {epoch_loss:.4f} Acc: {epoch_acc:.4f}')\n",
        "\n",
        "            # deep copy the model\n",
        "            if phase == 'Validation' and epoch_acc > best_acc:\n",
        "                best_acc = epoch_acc\n",
        "                # best_model_wts = copy.deepcopy(model.state_dict())\n",
        "\n",
        "        print()\n",
        "\n",
        "    time_elapsed = time.time() - since\n",
        "    print(f'Training complete in {time_elapsed // 60:.0f}m {time_elapsed % 60:.0f}s')\n",
        "    print(f'Best val Acc: {best_acc:4f}')\n",
        "\n",
        "    # load best model weights\n",
        "    # model.load_state_dict(best_model_wts)\n",
        "    return model"
      ]
    },
    {
      "cell_type": "code",
      "execution_count": 10,
      "metadata": {
        "id": "yc4D2gURikEy"
      },
      "outputs": [],
      "source": [
        "def visualize_model(model, num_images=6):\n",
        "    was_training = model.training\n",
        "    model.eval()\n",
        "    images_so_far = 0\n",
        "    fig = plt.figure()\n",
        "\n",
        "    with torch.no_grad():\n",
        "        for i, (inputs, labels) in enumerate(dataloaders['Test']):\n",
        "            inputs = inputs.to(device)\n",
        "            labels = labels.to(device)\n",
        "\n",
        "            outputs = model(inputs)\n",
        "            _, preds = torch.max(outputs, 1)\n",
        "\n",
        "            for j in range(inputs.size()[0]):\n",
        "                images_so_far += 1\n",
        "                ax = plt.subplot(num_images//2, 4, images_so_far)\n",
        "                ax.axis('off')\n",
        "                ax.set_title(f'predicted: {class_names[preds[j]]}')\n",
        "                imshow(inputs.cpu().data[j])\n",
        "\n",
        "                if images_so_far == num_images:\n",
        "                    model.train(mode=was_training)\n",
        "                    return\n",
        "        model.train(mode=was_training)"
      ]
    },
    {
      "cell_type": "code",
      "execution_count": 11,
      "metadata": {
        "id": "LU9OMBiwqxXk"
      },
      "outputs": [],
      "source": [
        "import torchvision.models as models"
      ]
    },
    {
      "cell_type": "markdown",
      "metadata": {
        "id": "DvcJR9jECm5p"
      },
      "source": [
        "## Resnet"
      ]
    },
    {
      "cell_type": "code",
      "execution_count": null,
      "metadata": {
        "id": "b_NE4BfSjXed"
      },
      "outputs": [],
      "source": [
        "model_ft = models.resnet18(pretrained=True)\n",
        "num_ftrs = model_ft.fc.in_features\n",
        "# Alternatively, it can be generalized to nn.Linear(num_ftrs, len(class_names)).\n",
        "model_ft.fc = nn.Linear(num_ftrs, 4)\n",
        "\n",
        "model_ft = model_ft.to(device)\n",
        "\n",
        "criterion = nn.CrossEntropyLoss()\n",
        "\n",
        "# Observe that all parameters are being optimized\n",
        "optimizer_ft = torch.optim.SGD(model_ft.parameters(), lr=0.001, momentum=0.9)\n",
        "\n",
        "# Decay LR by a factor of 0.1 every 7 epochs\n",
        "exp_lr_scheduler = torch.optim.lr_scheduler.StepLR(optimizer_ft, step_size=7, gamma=0.1)"
      ]
    },
    {
      "cell_type": "code",
      "execution_count": null,
      "metadata": {
        "colab": {
          "base_uri": "https://localhost:8080/"
        },
        "id": "1Br3y8r1juY1",
        "outputId": "026e7d97-1921-4332-f9fd-0d7289d26cc4"
      },
      "outputs": [
        {
          "name": "stdout",
          "output_type": "stream",
          "text": [
            "Epoch 0/24\n",
            "----------\n",
            "Train Loss: 1.1998 Acc: 0.5215\n",
            "Validation Loss: 2.0909 Acc: 0.4472\n",
            "\n",
            "Epoch 1/24\n",
            "----------\n",
            "Train Loss: 1.1533 Acc: 0.5727\n",
            "Validation Loss: 1.5890 Acc: 0.4512\n",
            "\n",
            "Epoch 2/24\n",
            "----------\n",
            "Train Loss: 1.1180 Acc: 0.5625\n",
            "Validation Loss: 1.4325 Acc: 0.4250\n",
            "\n",
            "Epoch 3/24\n",
            "----------\n",
            "Train Loss: 1.0005 Acc: 0.6034\n",
            "Validation Loss: 1.3623 Acc: 0.4849\n",
            "\n",
            "Epoch 4/24\n",
            "----------\n",
            "Train Loss: 0.9716 Acc: 0.5975\n",
            "Validation Loss: 1.4410 Acc: 0.5555\n",
            "\n",
            "Epoch 5/24\n",
            "----------\n",
            "Train Loss: 0.9401 Acc: 0.6340\n",
            "Validation Loss: 1.7682 Acc: 0.4210\n",
            "\n",
            "Epoch 6/24\n",
            "----------\n",
            "Train Loss: 0.9352 Acc: 0.6355\n",
            "Validation Loss: 1.5019 Acc: 0.5171\n",
            "\n",
            "Epoch 7/24\n",
            "----------\n",
            "Train Loss: 0.6962 Acc: 0.7253\n",
            "Validation Loss: 1.3000 Acc: 0.4849\n",
            "\n",
            "Epoch 8/24\n",
            "----------\n",
            "Train Loss: 0.6701 Acc: 0.7166\n",
            "Validation Loss: 1.2451 Acc: 0.5118\n",
            "\n",
            "Epoch 9/24\n",
            "----------\n",
            "Train Loss: 0.6552 Acc: 0.7253\n",
            "Validation Loss: 1.3490 Acc: 0.5212\n",
            "\n",
            "Epoch 10/24\n",
            "----------\n",
            "Train Loss: 0.6173 Acc: 0.7443\n",
            "Validation Loss: 1.3513 Acc: 0.4728\n",
            "\n",
            "Epoch 11/24\n",
            "----------\n",
            "Train Loss: 0.6440 Acc: 0.7436\n",
            "Validation Loss: 1.4433 Acc: 0.4734\n",
            "\n",
            "Epoch 12/24\n",
            "----------\n",
            "Train Loss: 0.6705 Acc: 0.7239\n",
            "Validation Loss: 1.4138 Acc: 0.4344\n",
            "\n",
            "Epoch 13/24\n",
            "----------\n",
            "Train Loss: 0.5961 Acc: 0.7443\n",
            "Validation Loss: 1.3045 Acc: 0.4687\n",
            "\n",
            "Epoch 14/24\n",
            "----------\n",
            "Train Loss: 0.6106 Acc: 0.7385\n",
            "Validation Loss: 1.3981 Acc: 0.4667\n",
            "\n",
            "Epoch 15/24\n",
            "----------\n",
            "Train Loss: 0.6074 Acc: 0.7538\n",
            "Validation Loss: 1.3583 Acc: 0.4627\n",
            "\n",
            "Epoch 16/24\n",
            "----------\n",
            "Train Loss: 0.6424 Acc: 0.7370\n",
            "Validation Loss: 1.2423 Acc: 0.5010\n",
            "\n",
            "Epoch 17/24\n",
            "----------\n",
            "Train Loss: 0.5994 Acc: 0.7633\n",
            "Validation Loss: 1.3043 Acc: 0.4923\n",
            "\n",
            "Epoch 18/24\n",
            "----------\n",
            "Train Loss: 0.6458 Acc: 0.7443\n",
            "Validation Loss: 1.4729 Acc: 0.4802\n",
            "\n",
            "Epoch 19/24\n",
            "----------\n",
            "Train Loss: 0.6428 Acc: 0.7487\n",
            "Validation Loss: 1.4508 Acc: 0.4445\n",
            "\n",
            "Epoch 20/24\n",
            "----------\n",
            "Train Loss: 0.6122 Acc: 0.7611\n",
            "Validation Loss: 1.2281 Acc: 0.4943\n",
            "\n",
            "Epoch 21/24\n",
            "----------\n",
            "Train Loss: 0.6163 Acc: 0.7516\n",
            "Validation Loss: 1.4559 Acc: 0.4512\n",
            "\n",
            "Epoch 22/24\n",
            "----------\n",
            "Train Loss: 0.6506 Acc: 0.7356\n",
            "Validation Loss: 1.3167 Acc: 0.4775\n",
            "\n",
            "Epoch 23/24\n",
            "----------\n",
            "Train Loss: 0.6197 Acc: 0.7546\n",
            "Validation Loss: 1.3816 Acc: 0.4654\n",
            "\n",
            "Epoch 24/24\n",
            "----------\n",
            "Train Loss: 0.6221 Acc: 0.7421\n",
            "Validation Loss: 1.3350 Acc: 0.4950\n",
            "\n",
            "Training complete in 13m 31s\n",
            "Best val Acc: 0.555481\n"
          ]
        }
      ],
      "source": [
        "import copy\n",
        "model_ft = train_model(model_ft, criterion, optimizer_ft, exp_lr_scheduler,\n",
        "                       num_epochs=25)"
      ]
    },
    {
      "cell_type": "code",
      "execution_count": null,
      "metadata": {
        "colab": {
          "base_uri": "https://localhost:8080/",
          "height": 581
        },
        "id": "6mRyXSJbk37n",
        "outputId": "60d8118b-2ce3-4698-bb4b-cdd5facb1b16"
      },
      "outputs": [
        {
          "data": {
            "image/png": "[encoded data removed]",
            "text/plain": [
              "<Figure size 432x288 with 1 Axes>"
            ]
          },
          "metadata": {},
          "output_type": "display_data"
        },
        {
          "data": {
            "image/png": "[encoded data removed]",
            "text/plain": [
              "<Figure size 432x288 with 1 Axes>"
            ]
          },
          "metadata": {},
          "output_type": "display_data"
        },
        {
          "data": {
            "image/png": "[encoded data removed]",
            "text/plain": [
              "<Figure size 432x288 with 1 Axes>"
            ]
          },
          "metadata": {},
          "output_type": "display_data"
        },
        {
          "data": {
            "image/png": "[encoded data removed]",
            "text/plain": [
              "<Figure size 432x288 with 1 Axes>"
            ]
          },
          "metadata": {},
          "output_type": "display_data"
        },
        {
          "data": {
            "image/png": "[encoded data removed]",
            "text/plain": [
              "<Figure size 432x288 with 1 Axes>"
            ]
          },
          "metadata": {},
          "output_type": "display_data"
        },
        {
          "data": {
            "image/png": "[encoded data removed]",
            "text/plain": [
              "<Figure size 432x288 with 1 Axes>"
            ]
          },
          "metadata": {},
          "output_type": "display_data"
        }
      ],
      "source": [
        "visualize_model(model_ft)"
      ]
    },
    {
      "cell_type": "code",
      "execution_count": null,
      "metadata": {
        "id": "N7KetA7tXydH"
      },
      "outputs": [],
      "source": [
        "model_ft = models.resnet18(pretrained=False)\n",
        "num_ftrs = model_ft.fc.in_features\n",
        "# Alternatively, it can be generalized to nn.Linear(num_ftrs, len(class_names)).\n",
        "model_ft.fc = nn.Linear(num_ftrs, 4)\n",
        "\n",
        "model_ft = model_ft.to(device)\n",
        "\n",
        "criterion = nn.CrossEntropyLoss()\n",
        "\n",
        "# Observe that all parameters are being optimized\n",
        "optimizer_ft = torch.optim.SGD(model_ft.parameters(), lr=0.001, momentum=0.9)\n",
        "\n",
        "# Decay LR by a factor of 0.1 every 7 epochs\n",
        "exp_lr_scheduler = torch.optim.lr_scheduler.StepLR(optimizer_ft, step_size=7, gamma=0.1)"
      ]
    },
    {
      "cell_type": "code",
      "execution_count": null,
      "metadata": {
        "colab": {
          "base_uri": "https://localhost:8080/"
        },
        "id": "SLmGy1xPX2j-",
        "outputId": "2421f0bc-5afb-49db-a3d5-0ff35cddb638"
      },
      "outputs": [
        {
          "name": "stdout",
          "output_type": "stream",
          "text": [
            "Epoch 0/24\n",
            "----------\n",
            "Train Loss: 1.3557 Acc: 0.4193\n",
            "Validation Loss: 2.6236 Acc: 0.2468\n",
            "\n",
            "Epoch 1/24\n",
            "----------\n",
            "Train Loss: 1.3072 Acc: 0.4434\n",
            "Validation Loss: 1.7715 Acc: 0.3362\n",
            "\n",
            "Epoch 2/24\n",
            "----------\n",
            "Train Loss: 1.2968 Acc: 0.4412\n",
            "Validation Loss: 2.1633 Acc: 0.2959\n",
            "\n",
            "Epoch 3/24\n",
            "----------\n",
            "Train Loss: 1.2841 Acc: 0.4558\n",
            "Validation Loss: 1.4822 Acc: 0.3470\n",
            "\n",
            "Epoch 4/24\n",
            "----------\n",
            "Train Loss: 1.2343 Acc: 0.4617\n",
            "Validation Loss: 2.0658 Acc: 0.3376\n",
            "\n",
            "Epoch 5/24\n",
            "----------\n",
            "Train Loss: 1.2339 Acc: 0.4850\n",
            "Validation Loss: 2.1767 Acc: 0.2260\n",
            "\n",
            "Epoch 6/24\n",
            "----------\n",
            "Train Loss: 1.1707 Acc: 0.5011\n",
            "Validation Loss: 1.8049 Acc: 0.3020\n",
            "\n",
            "Epoch 7/24\n",
            "----------\n",
            "Train Loss: 1.0823 Acc: 0.5493\n",
            "Validation Loss: 1.9222 Acc: 0.3658\n",
            "\n",
            "Epoch 8/24\n",
            "----------\n",
            "Train Loss: 1.0457 Acc: 0.5544\n",
            "Validation Loss: 1.7863 Acc: 0.3605\n",
            "\n",
            "Epoch 9/24\n",
            "----------\n",
            "Train Loss: 1.0514 Acc: 0.5551\n",
            "Validation Loss: 1.9132 Acc: 0.3611\n",
            "\n",
            "Epoch 10/24\n",
            "----------\n",
            "Train Loss: 1.0271 Acc: 0.5588\n",
            "Validation Loss: 1.8103 Acc: 0.3645\n",
            "\n",
            "Epoch 11/24\n",
            "----------\n",
            "Train Loss: 1.0255 Acc: 0.5676\n",
            "Validation Loss: 2.0386 Acc: 0.2925\n",
            "\n",
            "Epoch 12/24\n",
            "----------\n",
            "Train Loss: 1.0172 Acc: 0.5683\n",
            "Validation Loss: 2.1092 Acc: 0.3295\n",
            "\n",
            "Epoch 13/24\n",
            "----------\n",
            "Train Loss: 1.0393 Acc: 0.5573\n",
            "Validation Loss: 1.9870 Acc: 0.3457\n",
            "\n",
            "Epoch 14/24\n",
            "----------\n",
            "Train Loss: 1.0161 Acc: 0.5544\n",
            "Validation Loss: 2.0352 Acc: 0.3524\n",
            "\n",
            "Epoch 15/24\n",
            "----------\n",
            "Train Loss: 1.0056 Acc: 0.5800\n",
            "Validation Loss: 1.9648 Acc: 0.3497\n",
            "\n",
            "Epoch 16/24\n",
            "----------\n",
            "Train Loss: 0.9943 Acc: 0.5785\n",
            "Validation Loss: 1.9488 Acc: 0.3591\n",
            "\n",
            "Epoch 17/24\n",
            "----------\n",
            "Train Loss: 1.0051 Acc: 0.5829\n",
            "Validation Loss: 1.9409 Acc: 0.3544\n",
            "\n",
            "Epoch 18/24\n",
            "----------\n",
            "Train Loss: 1.0037 Acc: 0.5676\n",
            "Validation Loss: 2.0622 Acc: 0.3490\n",
            "\n",
            "Epoch 19/24\n",
            "----------\n",
            "Train Loss: 0.9947 Acc: 0.5873\n",
            "Validation Loss: 1.9492 Acc: 0.3652\n",
            "\n",
            "Epoch 20/24\n",
            "----------\n",
            "Train Loss: 0.9992 Acc: 0.5851\n",
            "Validation Loss: 1.9597 Acc: 0.3685\n",
            "\n",
            "Epoch 21/24\n",
            "----------\n",
            "Train Loss: 0.9954 Acc: 0.5741\n",
            "Validation Loss: 2.0230 Acc: 0.3490\n",
            "\n",
            "Epoch 22/24\n",
            "----------\n",
            "Train Loss: 0.9836 Acc: 0.5917\n",
            "Validation Loss: 1.8676 Acc: 0.3329\n",
            "\n",
            "Epoch 23/24\n",
            "----------\n",
            "Train Loss: 0.9920 Acc: 0.5851\n",
            "Validation Loss: 1.8815 Acc: 0.3544\n",
            "\n",
            "Epoch 24/24\n",
            "----------\n",
            "Train Loss: 0.9866 Acc: 0.5727\n",
            "Validation Loss: 2.0739 Acc: 0.3443\n",
            "\n",
            "Training complete in 20m 42s\n",
            "Best val Acc: 0.368527\n"
          ]
        }
      ],
      "source": [
        "model_ft = train_model(model_ft, criterion, optimizer_ft, exp_lr_scheduler,\n",
        "                       num_epochs=25)"
      ]
    },
    {
      "cell_type": "code",
      "execution_count": null,
      "metadata": {
        "colab": {
          "base_uri": "https://localhost:8080/",
          "height": 581
        },
        "id": "jhZJYpUQX7j_",
        "outputId": "c2e5fb09-cfbe-4fb1-c939-5829ed9f14d8"
      },
      "outputs": [
        {
          "data": {
            "image/png": "[encoded data removed]",
            "text/plain": [
              "<Figure size 432x288 with 1 Axes>"
            ]
          },
          "metadata": {},
          "output_type": "display_data"
        },
        {
          "data": {
            "image/png": "[encoded data removed]",
            "text/plain": [
              "<Figure size 432x288 with 1 Axes>"
            ]
          },
          "metadata": {},
          "output_type": "display_data"
        },
        {
          "data": {
            "image/png": "[encoded data removed]",
            "text/plain": [
              "<Figure size 432x288 with 1 Axes>"
            ]
          },
          "metadata": {},
          "output_type": "display_data"
        },
        {
          "data": {
            "image/png": "[encoded data removed]",
            "text/plain": [
              "<Figure size 432x288 with 1 Axes>"
            ]
          },
          "metadata": {},
          "output_type": "display_data"
        },
        {
          "data": {
            "image/png": "[encoded data removed]",
            "text/plain": [
              "<Figure size 432x288 with 1 Axes>"
            ]
          },
          "metadata": {},
          "output_type": "display_data"
        },
        {
          "data": {
            "image/png": "[encoded data removed]",
            "text/plain": [
              "<Figure size 432x288 with 1 Axes>"
            ]
          },
          "metadata": {},
          "output_type": "display_data"
        }
      ],
      "source": [
        "visualize_model(model_ft)"
      ]
    },
    {
      "cell_type": "markdown",
      "metadata": {
        "id": "mDWtaLmaCq1c"
      },
      "source": [
        "## AlexNet"
      ]
    },
    {
      "cell_type": "code",
      "execution_count": null,
      "metadata": {
        "id": "4zj5myBhmt-l"
      },
      "outputs": [],
      "source": [
        "model_an = models.alexnet(pretrained=True)\n",
        "model_an.classifier[6] = nn.Linear(4096,4)\n",
        "\n",
        "model_an = model_an.to(device)\n",
        "\n",
        "criterion = nn.CrossEntropyLoss()\n",
        "\n",
        "# Observe that all parameters are being optimized\n",
        "optimizer_ft = torch.optim.SGD(model_an.parameters(), lr=0.001, momentum=0.9)\n",
        "\n",
        "# Decay LR by a factor of 0.1 every 7 epochs\n",
        "exp_lr_scheduler = torch.optim.lr_scheduler.StepLR(optimizer_ft, step_size=7, gamma=0.1)"
      ]
    },
    {
      "cell_type": "code",
      "execution_count": null,
      "metadata": {
        "colab": {
          "base_uri": "https://localhost:8080/"
        },
        "id": "PhDqSdw1rev3",
        "outputId": "991e46ad-3c56-43a7-bb5f-dca74dd989b5"
      },
      "outputs": [
        {
          "name": "stdout",
          "output_type": "stream",
          "text": [
            "Epoch 0/24\n",
            "----------\n",
            "Train Loss: 1.2205 Acc: 0.4785\n",
            "Validation Loss: 1.3263 Acc: 0.3759\n",
            "\n",
            "Epoch 1/24\n",
            "----------\n",
            "Train Loss: 1.0861 Acc: 0.5398\n",
            "Validation Loss: 1.5958 Acc: 0.4015\n",
            "\n",
            "Epoch 2/24\n",
            "----------\n",
            "Train Loss: 0.9776 Acc: 0.5939\n",
            "Validation Loss: 1.5057 Acc: 0.3954\n",
            "\n",
            "Epoch 3/24\n",
            "----------\n",
            "Train Loss: 0.8979 Acc: 0.6056\n",
            "Validation Loss: 1.6249 Acc: 0.3631\n",
            "\n",
            "Epoch 4/24\n",
            "----------\n",
            "Train Loss: 0.8607 Acc: 0.6297\n",
            "Validation Loss: 1.6492 Acc: 0.4734\n",
            "\n",
            "Epoch 5/24\n",
            "----------\n",
            "Train Loss: 0.8439 Acc: 0.6450\n",
            "Validation Loss: 1.3610 Acc: 0.4681\n",
            "\n",
            "Epoch 6/24\n",
            "----------\n",
            "Train Loss: 0.8052 Acc: 0.6494\n",
            "Validation Loss: 1.4465 Acc: 0.5037\n",
            "\n",
            "Epoch 7/24\n",
            "----------\n",
            "Train Loss: 0.6641 Acc: 0.7151\n",
            "Validation Loss: 1.3481 Acc: 0.4701\n",
            "\n",
            "Epoch 8/24\n",
            "----------\n",
            "Train Loss: 0.6287 Acc: 0.7458\n",
            "Validation Loss: 1.4092 Acc: 0.4721\n",
            "\n",
            "Epoch 9/24\n",
            "----------\n",
            "Train Loss: 0.6318 Acc: 0.7502\n",
            "Validation Loss: 1.4875 Acc: 0.4506\n",
            "\n",
            "Epoch 10/24\n",
            "----------\n",
            "Train Loss: 0.6019 Acc: 0.7495\n",
            "Validation Loss: 1.3663 Acc: 0.4761\n",
            "\n",
            "Epoch 11/24\n",
            "----------\n",
            "Train Loss: 0.5994 Acc: 0.7531\n",
            "Validation Loss: 1.4796 Acc: 0.4297\n",
            "\n",
            "Epoch 12/24\n",
            "----------\n",
            "Train Loss: 0.5795 Acc: 0.7589\n",
            "Validation Loss: 1.4473 Acc: 0.4607\n",
            "\n",
            "Epoch 13/24\n",
            "----------\n",
            "Train Loss: 0.5820 Acc: 0.7370\n",
            "Validation Loss: 1.5282 Acc: 0.3719\n",
            "\n",
            "Epoch 14/24\n",
            "----------\n",
            "Train Loss: 0.5754 Acc: 0.7677\n",
            "Validation Loss: 1.5269 Acc: 0.3759\n",
            "\n",
            "Epoch 15/24\n",
            "----------\n",
            "Train Loss: 0.5847 Acc: 0.7619\n",
            "Validation Loss: 1.5088 Acc: 0.3847\n",
            "\n",
            "Epoch 16/24\n",
            "----------\n",
            "Train Loss: 0.5765 Acc: 0.7670\n",
            "Validation Loss: 1.4971 Acc: 0.3954\n",
            "\n",
            "Epoch 17/24\n",
            "----------\n",
            "Train Loss: 0.5539 Acc: 0.7801\n",
            "Validation Loss: 1.5028 Acc: 0.3954\n",
            "\n",
            "Epoch 18/24\n",
            "----------\n",
            "Train Loss: 0.5526 Acc: 0.7677\n",
            "Validation Loss: 1.5061 Acc: 0.4102\n",
            "\n",
            "Epoch 19/24\n",
            "----------\n",
            "Train Loss: 0.5772 Acc: 0.7604\n",
            "Validation Loss: 1.4973 Acc: 0.4001\n",
            "\n",
            "Epoch 20/24\n",
            "----------\n",
            "Train Loss: 0.5579 Acc: 0.7663\n",
            "Validation Loss: 1.5080 Acc: 0.3961\n",
            "\n",
            "Epoch 21/24\n",
            "----------\n",
            "Train Loss: 0.5441 Acc: 0.7831\n",
            "Validation Loss: 1.5078 Acc: 0.3961\n",
            "\n",
            "Epoch 22/24\n",
            "----------\n",
            "Train Loss: 0.5740 Acc: 0.7677\n",
            "Validation Loss: 1.5076 Acc: 0.3961\n",
            "\n",
            "Epoch 23/24\n",
            "----------\n",
            "Train Loss: 0.5484 Acc: 0.7809\n",
            "Validation Loss: 1.5073 Acc: 0.3974\n",
            "\n",
            "Epoch 24/24\n",
            "----------\n",
            "Train Loss: 0.5549 Acc: 0.7779\n",
            "Validation Loss: 1.5076 Acc: 0.3974\n",
            "\n",
            "Training complete in 11m 47s\n",
            "Best val Acc: 0.503699\n"
          ]
        }
      ],
      "source": [
        "import copy\n",
        "model_ft = train_model(model_an, criterion, optimizer_ft, exp_lr_scheduler,\n",
        "                       num_epochs=25)"
      ]
    },
    {
      "cell_type": "code",
      "execution_count": null,
      "metadata": {
        "colab": {
          "base_uri": "https://localhost:8080/",
          "height": 581
        },
        "id": "XgZ82VZRv-C8",
        "outputId": "c0b034ae-6065-4ebd-e68f-fecb821078a4"
      },
      "outputs": [
        {
          "data": {
            "image/png": "[encoded data removed]",
            "text/plain": [
              "<Figure size 432x288 with 1 Axes>"
            ]
          },
          "metadata": {},
          "output_type": "display_data"
        },
        {
          "data": {
            "image/png": "[encoded data removed]",
            "text/plain": [
              "<Figure size 432x288 with 1 Axes>"
            ]
          },
          "metadata": {},
          "output_type": "display_data"
        },
        {
          "data": {
            "image/png": "[encoded data removed]",
            "text/plain": [
              "<Figure size 432x288 with 1 Axes>"
            ]
          },
          "metadata": {},
          "output_type": "display_data"
        },
        {
          "data": {
            "image/png": "[encoded data removed]",
            "text/plain": [
              "<Figure size 432x288 with 1 Axes>"
            ]
          },
          "metadata": {},
          "output_type": "display_data"
        },
        {
          "data": {
            "image/png": "[encoded data removed]",
            "text/plain": [
              "<Figure size 432x288 with 1 Axes>"
            ]
          },
          "metadata": {},
          "output_type": "display_data"
        },
        {
          "data": {
            "image/png": "[encoded data removed]",
            "text/plain": [
              "<Figure size 432x288 with 1 Axes>"
            ]
          },
          "metadata": {},
          "output_type": "display_data"
        }
      ],
      "source": [
        "visualize_model(model_an)"
      ]
    },
    {
      "cell_type": "markdown",
      "metadata": {
        "id": "bZmt8WZnwJh3"
      },
      "source": [
        "## VGG"
      ]
    },
    {
      "cell_type": "code",
      "execution_count": null,
      "metadata": {
        "colab": {
          "base_uri": "https://localhost:8080/",
          "height": 67,
          "referenced_widgets": [
            "211d9d7305064ae4a517c11aef498e60"
          ]
        },
        "id": "Y9OoaNZ9tuV_",
        "outputId": "20109ba8-a01a-4f97-887d-1df680be914c"
      },
      "outputs": [
        {
          "name": "stderr",
          "output_type": "stream",
          "text": [
            "Downloading: \"https://download.pytorch.org/models/vgg11-8a719046.pth\" to /root/.cache/torch/hub/checkpoints/vgg11-8a719046.pth\n"
          ]
        },
        {
          "data": {
            "application/vnd.jupyter.widget-view+json": {
              "model_id": "211d9d7305064ae4a517c11aef498e60",
              "version_major": 2,
              "version_minor": 0
            },
            "text/plain": [
              "  0%|          | 0.00/507M [00:00<?, ?B/s]"
            ]
          },
          "metadata": {},
          "output_type": "display_data"
        }
      ],
      "source": [
        "model_vgg = models.vgg11(pretrained=True)\n",
        "model_vgg.classifier[6] = nn.Linear(4096,4)\n",
        "\n",
        "model_vgg = model_vgg.to(device)\n",
        "\n",
        "criterion = nn.CrossEntropyLoss()\n",
        "\n",
        "# Observe that all parameters are being optimized\n",
        "optimizer_ft = torch.optim.SGD(model_vgg.parameters(), lr=0.001, momentum=0.9)\n",
        "\n",
        "# Decay LR by a factor of 0.1 every 7 epochs\n",
        "exp_lr_scheduler = torch.optim.lr_scheduler.StepLR(optimizer_ft, step_size=7, gamma=0.1)"
      ]
    },
    {
      "cell_type": "code",
      "execution_count": null,
      "metadata": {
        "colab": {
          "base_uri": "https://localhost:8080/"
        },
        "id": "WALFCiPQwDNS",
        "outputId": "f750d963-536a-4ef8-e648-e200cec2ca07"
      },
      "outputs": [
        {
          "name": "stdout",
          "output_type": "stream",
          "text": [
            "Epoch 0/24\n",
            "----------\n",
            "Train Loss: 1.0893 Acc: 0.5354\n",
            "Validation Loss: 1.1560 Acc: 0.5064\n",
            "\n",
            "Epoch 1/24\n",
            "----------\n",
            "Train Loss: 0.8765 Acc: 0.6209\n",
            "Validation Loss: 1.3003 Acc: 0.4936\n",
            "\n",
            "Epoch 2/24\n",
            "----------\n",
            "Train Loss: 0.7941 Acc: 0.6589\n",
            "Validation Loss: 1.2229 Acc: 0.5360\n",
            "\n",
            "Epoch 3/24\n",
            "----------\n",
            "Train Loss: 0.7606 Acc: 0.6764\n",
            "Validation Loss: 1.1093 Acc: 0.4829\n",
            "\n",
            "Epoch 4/24\n",
            "----------\n",
            "Train Loss: 0.6807 Acc: 0.7034\n",
            "Validation Loss: 1.0119 Acc: 0.5266\n",
            "\n",
            "Epoch 5/24\n",
            "----------\n",
            "Train Loss: 0.6869 Acc: 0.7034\n",
            "Validation Loss: 1.4317 Acc: 0.4566\n",
            "\n",
            "Epoch 6/24\n",
            "----------\n",
            "Train Loss: 0.6753 Acc: 0.7195\n",
            "Validation Loss: 1.1418 Acc: 0.4997\n",
            "\n",
            "Epoch 7/24\n",
            "----------\n",
            "Train Loss: 0.5592 Acc: 0.7633\n",
            "Validation Loss: 1.2691 Acc: 0.5145\n",
            "\n",
            "Epoch 8/24\n",
            "----------\n",
            "Train Loss: 0.5343 Acc: 0.7765\n",
            "Validation Loss: 1.3485 Acc: 0.5151\n",
            "\n",
            "Epoch 9/24\n",
            "----------\n",
            "Train Loss: 0.4990 Acc: 0.7947\n",
            "Validation Loss: 1.3041 Acc: 0.5118\n",
            "\n",
            "Epoch 10/24\n",
            "----------\n",
            "Train Loss: 0.5260 Acc: 0.7816\n",
            "Validation Loss: 1.4047 Acc: 0.5091\n",
            "\n",
            "Epoch 11/24\n",
            "----------\n",
            "Train Loss: 0.5160 Acc: 0.7962\n",
            "Validation Loss: 1.4520 Acc: 0.4795\n",
            "\n",
            "Epoch 12/24\n",
            "----------\n",
            "Train Loss: 0.4866 Acc: 0.7896\n",
            "Validation Loss: 1.4272 Acc: 0.4923\n",
            "\n",
            "Epoch 13/24\n",
            "----------\n",
            "Train Loss: 0.4826 Acc: 0.8064\n",
            "Validation Loss: 1.4161 Acc: 0.5077\n",
            "\n",
            "Epoch 14/24\n",
            "----------\n",
            "Train Loss: 0.4988 Acc: 0.7933\n",
            "Validation Loss: 1.3878 Acc: 0.5198\n",
            "\n",
            "Epoch 15/24\n",
            "----------\n",
            "Train Loss: 0.4783 Acc: 0.7904\n",
            "Validation Loss: 1.3807 Acc: 0.5185\n",
            "\n",
            "Epoch 16/24\n",
            "----------\n",
            "Train Loss: 0.4868 Acc: 0.7955\n",
            "Validation Loss: 1.3679 Acc: 0.5192\n",
            "\n",
            "Epoch 17/24\n",
            "----------\n",
            "Train Loss: 0.4723 Acc: 0.7947\n",
            "Validation Loss: 1.3911 Acc: 0.5010\n",
            "\n",
            "Epoch 18/24\n",
            "----------\n",
            "Train Loss: 0.4854 Acc: 0.7940\n",
            "Validation Loss: 1.3892 Acc: 0.5030\n",
            "\n",
            "Epoch 19/24\n",
            "----------\n",
            "Train Loss: 0.5003 Acc: 0.7823\n",
            "Validation Loss: 1.3835 Acc: 0.5111\n",
            "\n",
            "Epoch 20/24\n",
            "----------\n",
            "Train Loss: 0.4793 Acc: 0.8188\n",
            "Validation Loss: 1.3892 Acc: 0.5091\n",
            "\n",
            "Epoch 21/24\n",
            "----------\n",
            "Train Loss: 0.4904 Acc: 0.7947\n",
            "Validation Loss: 1.3898 Acc: 0.5064\n",
            "\n",
            "Epoch 22/24\n",
            "----------\n",
            "Train Loss: 0.4880 Acc: 0.7933\n",
            "Validation Loss: 1.3876 Acc: 0.5084\n",
            "\n",
            "Epoch 23/24\n",
            "----------\n",
            "Train Loss: 0.4807 Acc: 0.8086\n",
            "Validation Loss: 1.3866 Acc: 0.5084\n",
            "\n",
            "Epoch 24/24\n",
            "----------\n",
            "Train Loss: 0.4646 Acc: 0.8020\n",
            "Validation Loss: 1.3851 Acc: 0.5084\n",
            "\n",
            "Training complete in 32m 14s\n",
            "Best val Acc: 0.535978\n"
          ]
        }
      ],
      "source": [
        "model_vgg = train_model(model_vgg, criterion, optimizer_ft, exp_lr_scheduler,\n",
        "                       num_epochs=25)"
      ]
    },
    {
      "cell_type": "code",
      "execution_count": null,
      "metadata": {
        "colab": {
          "base_uri": "https://localhost:8080/",
          "height": 581
        },
        "id": "CgXfehFewDVR",
        "outputId": "a92d2a73-5149-4327-8318-7fcaca2ba1ee"
      },
      "outputs": [
        {
          "data": {
            "image/png": "[encoded data removed]",
            "text/plain": [
              "<Figure size 432x288 with 1 Axes>"
            ]
          },
          "metadata": {},
          "output_type": "display_data"
        },
        {
          "data": {
            "image/png": "[encoded data removed]",
            "text/plain": [
              "<Figure size 432x288 with 1 Axes>"
            ]
          },
          "metadata": {},
          "output_type": "display_data"
        },
        {
          "data": {
            "image/png": "[encoded data removed]",
            "text/plain": [
              "<Figure size 432x288 with 1 Axes>"
            ]
          },
          "metadata": {},
          "output_type": "display_data"
        },
        {
          "data": {
            "image/png": "[encoded data removed]",
            "text/plain": [
              "<Figure size 432x288 with 1 Axes>"
            ]
          },
          "metadata": {},
          "output_type": "display_data"
        },
        {
          "data": {
            "image/png": "[encoded data removed]",
            "text/plain": [
              "<Figure size 432x288 with 1 Axes>"
            ]
          },
          "metadata": {},
          "output_type": "display_data"
        },
        {
          "data": {
            "image/png": "[encoded data removed]",
            "text/plain": [
              "<Figure size 432x288 with 1 Axes>"
            ]
          },
          "metadata": {},
          "output_type": "display_data"
        }
      ],
      "source": [
        "visualize_model(model_vgg)"
      ]
    },
    {
      "cell_type": "markdown",
      "metadata": {
        "id": "wbsWaC26wMc7"
      },
      "source": [
        "# DenseNet"
      ]
    },
    {
      "cell_type": "code",
      "execution_count": 12,
      "metadata": {
        "colab": {
          "base_uri": "https://localhost:8080/",
          "height": 66,
          "referenced_widgets": [
            "c88a47ace59a4afdbb4130dbfe02dbc8",
            "749ebd9557814a208d41e722f2c78492",
            "09d9a1dd29cc4bf2aec7e12a63233e09",
            "a806d667ceb446139aaafd22cfb23f43",
            "22b822e95bd144f4893f6d4b2d877231",
            "6e1e4a637e2e404e93d1d31ea4878e54",
            "349c24ea27e9491fa600e6e7205a5943",
            "6ec8922c62ec4bd6adb3623437d8cb86",
            "06c8e29365314e72950b636eb102e18b",
            "7353f8943dfc4362b3fd82d778debd70",
            "7679574ed15a4727a03ff5306085d775"
          ]
        },
        "id": "OtekgIv9wcc4",
        "outputId": "418c70cc-8a3c-4b94-a14e-75b197369226"
      },
      "outputs": [
        {
          "output_type": "stream",
          "name": "stderr",
          "text": [
            "Downloading: \"https://download.pytorch.org/models/densenet121-a639ec97.pth\" to /root/.cache/torch/hub/checkpoints/densenet121-a639ec97.pth\n"
          ]
        },
        {
          "output_type": "display_data",
          "data": {
            "text/plain": [
              "  0%|          | 0.00/30.8M [00:00<?, ?B/s]"
            ],
            "application/vnd.jupyter.widget-view+json": {
              "version_major": 2,
              "version_minor": 0,
              "model_id": "c88a47ace59a4afdbb4130dbfe02dbc8"
            }
          },
          "metadata": {}
        }
      ],
      "source": [
        "model_dn = models.densenet121(pretrained=True)\n",
        "model_dn.classifier = nn.Linear(1024,4)\n",
        "\n",
        "model_dn = model_dn.to(device)\n",
        "\n",
        "criterion = nn.CrossEntropyLoss()\n",
        "\n",
        "# Observe that all parameters are being optimized\n",
        "optimizer_ft = torch.optim.SGD(model_dn.parameters(), lr=0.001, momentum=0.9)\n",
        "\n",
        "# Decay LR by a factor of 0.1 every 7 epochs\n",
        "exp_lr_scheduler = torch.optim.lr_scheduler.StepLR(optimizer_ft, step_size=7, gamma=0.1)"
      ]
    },
    {
      "cell_type": "code",
      "execution_count": null,
      "metadata": {
        "colab": {
          "base_uri": "https://localhost:8080/"
        },
        "id": "Te_0tbv4w3fJ",
        "outputId": "efe0ec62-481b-4ed0-adce-fd35c60a9379"
      },
      "outputs": [
        {
          "output_type": "stream",
          "name": "stdout",
          "text": [
            "Epoch 0/24\n",
            "----------\n"
          ]
        }
      ],
      "source": [
        "model_dn = train_model(model_dn, criterion, optimizer_ft, exp_lr_scheduler,\n",
        "                       num_epochs=25)"
      ]
    },
    {
      "cell_type": "code",
      "execution_count": null,
      "metadata": {
        "id": "WPqBKfqkw3w6"
      },
      "outputs": [],
      "source": [
        "visualize_model(model_dn)"
      ]
    },
    {
      "cell_type": "markdown",
      "metadata": {
        "id": "RpfQ8EHdizRZ"
      },
      "source": [
        "# efficientnet_b6"
      ]
    },
    {
      "cell_type": "code",
      "execution_count": null,
      "metadata": {
        "colab": {
          "base_uri": "https://localhost:8080/",
          "height": 66,
          "referenced_widgets": [
            "cd45463000194330a5af51105a566d25",
            "cffd3514f2c245a6837ea4519a3dcb73",
            "9dbf4382f83c4703bd3bfb680f5512e7",
            "1bd5f55fbf6a427293258813190537bb",
            "6f93f6099179484ea483fd7035fc58af",
            "6a0ef1686621461c88c9948f926b57de",
            "67168e9cd2bc47acb8b520ff43dad735",
            "5a2b4db43081413ca7ed88a2125bc48f",
            "c1d0a4f7f79d470d99da325dbe14d018",
            "e472ae0a1107474d9924c5d2bc55e73b",
            "a6ec473432994dadb050416dacd9dd9f"
          ]
        },
        "id": "p6VYwsZtxMP5",
        "outputId": "d4cca159-eb72-46f9-e66f-bb00b4b0247e"
      },
      "outputs": [
        {
          "name": "stderr",
          "output_type": "stream",
          "text": [
            "Downloading: \"https://download.pytorch.org/models/efficientnet_b6_lukemelas-c76e70fd.pth\" to /root/.cache/torch/hub/checkpoints/efficientnet_b6_lukemelas-c76e70fd.pth\n"
          ]
        },
        {
          "data": {
            "application/vnd.jupyter.widget-view+json": {
              "model_id": "cd45463000194330a5af51105a566d25",
              "version_major": 2,
              "version_minor": 0
            },
            "text/plain": [
              "  0%|          | 0.00/165M [00:00<?, ?B/s]"
            ]
          },
          "metadata": {},
          "output_type": "display_data"
        }
      ],
      "source": [
        "model_e = models.efficientnet_b6(pretrained = True)"
      ]
    },
    {
      "cell_type": "code",
      "execution_count": null,
      "metadata": {
        "id": "7n28VHESmM2t"
      },
      "outputs": [],
      "source": [
        "model_e.classifier[1] = nn.Linear(2304,4)\n",
        "\n",
        "model_e = model_e.to(device)\n",
        "\n",
        "criterion = nn.CrossEntropyLoss()\n",
        "\n",
        "# Observe that all parameters are being optimized\n",
        "optimizer_ft = torch.optim.SGD(model_e.parameters(), lr=0.001, momentum=0.9)\n",
        "\n",
        "# Decay LR by a factor of 0.1 every 7 epochs\n",
        "exp_lr_scheduler = torch.optim.lr_scheduler.StepLR(optimizer_ft, step_size=7, gamma=0.1)"
      ]
    },
    {
      "cell_type": "code",
      "execution_count": null,
      "metadata": {
        "colab": {
          "base_uri": "https://localhost:8080/"
        },
        "id": "8n-kixKJlSZl",
        "outputId": "320bbbef-e754-4b84-e705-4d63b87f0adb"
      },
      "outputs": [
        {
          "name": "stdout",
          "output_type": "stream",
          "text": [
            "Epoch 0/24\n",
            "----------\n",
            "Train Loss: 1.1717 Acc: 0.4974\n",
            "Validation Loss: 1.3412 Acc: 0.4358\n",
            "\n",
            "Epoch 1/24\n",
            "----------\n",
            "Train Loss: 0.9858 Acc: 0.5917\n",
            "Validation Loss: 1.2198 Acc: 0.4472\n",
            "\n",
            "Epoch 2/24\n",
            "----------\n",
            "Train Loss: 0.9187 Acc: 0.6056\n",
            "Validation Loss: 1.1687 Acc: 0.4560\n",
            "\n",
            "Epoch 3/24\n",
            "----------\n",
            "Train Loss: 0.8927 Acc: 0.6194\n",
            "Validation Loss: 1.1745 Acc: 0.4775\n",
            "\n",
            "Epoch 4/24\n",
            "----------\n",
            "Train Loss: 0.8371 Acc: 0.6377\n",
            "Validation Loss: 1.1772 Acc: 0.4580\n",
            "\n",
            "Epoch 5/24\n",
            "----------\n",
            "Train Loss: 0.8020 Acc: 0.6647\n",
            "Validation Loss: 1.1675 Acc: 0.4338\n",
            "\n",
            "Epoch 6/24\n",
            "----------\n",
            "Train Loss: 0.7833 Acc: 0.6808\n",
            "Validation Loss: 1.3562 Acc: 0.3840\n",
            "\n",
            "Epoch 7/24\n",
            "----------\n",
            "Train Loss: 0.7385 Acc: 0.6991\n",
            "Validation Loss: 1.2889 Acc: 0.4351\n",
            "\n",
            "Epoch 8/24\n",
            "----------\n",
            "Train Loss: 0.7290 Acc: 0.6983\n",
            "Validation Loss: 1.2986 Acc: 0.4412\n",
            "\n",
            "Epoch 9/24\n",
            "----------\n",
            "Train Loss: 0.7365 Acc: 0.6954\n",
            "Validation Loss: 1.2589 Acc: 0.4432\n",
            "\n",
            "Epoch 10/24\n",
            "----------\n",
            "Train Loss: 0.7047 Acc: 0.6983\n",
            "Validation Loss: 1.2718 Acc: 0.4378\n",
            "\n",
            "Epoch 11/24\n",
            "----------\n",
            "Train Loss: 0.7180 Acc: 0.7115\n",
            "Validation Loss: 1.2982 Acc: 0.4358\n",
            "\n",
            "Epoch 12/24\n",
            "----------\n",
            "Train Loss: 0.7205 Acc: 0.7005\n",
            "Validation Loss: 1.2562 Acc: 0.4358\n",
            "\n",
            "Epoch 13/24\n",
            "----------\n",
            "Train Loss: 0.7288 Acc: 0.7144\n",
            "Validation Loss: 1.2776 Acc: 0.4324\n",
            "\n",
            "Epoch 14/24\n",
            "----------\n",
            "Train Loss: 0.7034 Acc: 0.7129\n",
            "Validation Loss: 1.2790 Acc: 0.4264\n",
            "\n",
            "Epoch 15/24\n",
            "----------\n",
            "Train Loss: 0.7160 Acc: 0.7115\n",
            "Validation Loss: 1.2622 Acc: 0.4291\n",
            "\n",
            "Epoch 16/24\n",
            "----------\n",
            "Train Loss: 0.6950 Acc: 0.7253\n",
            "Validation Loss: 1.2915 Acc: 0.4317\n",
            "\n",
            "Epoch 17/24\n",
            "----------\n",
            "Train Loss: 0.6910 Acc: 0.7020\n",
            "Validation Loss: 1.3001 Acc: 0.4270\n",
            "\n",
            "Epoch 18/24\n",
            "----------\n",
            "Train Loss: 0.7171 Acc: 0.7042\n",
            "Validation Loss: 1.2920 Acc: 0.4291\n",
            "\n",
            "Epoch 19/24\n",
            "----------\n",
            "Train Loss: 0.7302 Acc: 0.6910\n",
            "Validation Loss: 1.2924 Acc: 0.4338\n",
            "\n",
            "Epoch 20/24\n",
            "----------\n",
            "Train Loss: 0.7016 Acc: 0.7137\n",
            "Validation Loss: 1.2758 Acc: 0.4317\n",
            "\n",
            "Epoch 21/24\n",
            "----------\n",
            "Train Loss: 0.7056 Acc: 0.7180\n",
            "Validation Loss: 1.2707 Acc: 0.4304\n",
            "\n",
            "Epoch 22/24\n",
            "----------\n",
            "Train Loss: 0.6785 Acc: 0.7268\n",
            "Validation Loss: 1.2439 Acc: 0.4338\n",
            "\n",
            "Epoch 23/24\n",
            "----------\n",
            "Train Loss: 0.7015 Acc: 0.7122\n",
            "Validation Loss: 1.2769 Acc: 0.4291\n",
            "\n",
            "Epoch 24/24\n",
            "----------\n",
            "Train Loss: 0.7027 Acc: 0.7093\n",
            "Validation Loss: 1.2676 Acc: 0.4317\n",
            "\n",
            "Training complete in 37m 38s\n",
            "Best val Acc: 0.477471\n"
          ]
        }
      ],
      "source": [
        "model_e = train_model(model_e, criterion, optimizer_ft, exp_lr_scheduler,\n",
        "                       num_epochs=25)"
      ]
    },
    {
      "cell_type": "code",
      "execution_count": null,
      "metadata": {
        "colab": {
          "base_uri": "https://localhost:8080/",
          "height": 581
        },
        "id": "kr7aw6jgmaCj",
        "outputId": "ffb8fbdd-f30f-4a01-887c-1ab3b2240004"
      },
      "outputs": [
        {
          "data": {
            "image/png": "[encoded data removed]",
            "text/plain": [
              "<Figure size 432x288 with 1 Axes>"
            ]
          },
          "metadata": {},
          "output_type": "display_data"
        },
        {
          "data": {
            "image/png": "[encoded data removed]",
            "text/plain": [
              "<Figure size 432x288 with 1 Axes>"
            ]
          },
          "metadata": {},
          "output_type": "display_data"
        },
        {
          "data": {
            "image/png": "[encoded data removed]",
            "text/plain": [
              "<Figure size 432x288 with 1 Axes>"
            ]
          },
          "metadata": {},
          "output_type": "display_data"
        },
        {
          "data": {
            "image/png": "[encoded data removed]",
            "text/plain": [
              "<Figure size 432x288 with 1 Axes>"
            ]
          },
          "metadata": {},
          "output_type": "display_data"
        },
        {
          "data": {
            "image/png": "[encoded data removed]",
            "text/plain": [
              "<Figure size 432x288 with 1 Axes>"
            ]
          },
          "metadata": {},
          "output_type": "display_data"
        },
        {
          "data": {
            "image/png": "[encoded data removed]",
            "text/plain": [
              "<Figure size 432x288 with 1 Axes>"
            ]
          },
          "metadata": {},
          "output_type": "display_data"
        }
      ],
      "source": [
        "visualize_model(model_e)"
      ]
    }
  ],
  "metadata": {
    "accelerator": "GPU",
    "colab": {
      "collapsed_sections": [
        "ibCjyiqAoQsT",
        "baX6CqaLn7js",
        "EZhLyUPioHDK",
        "DvcJR9jECm5p",
        "mDWtaLmaCq1c",
        "bZmt8WZnwJh3",
        "wbsWaC26wMc7"
      ],
      "name": "course project.ipynb",
      "provenance": [],
      "mount_file_id": "17BlBbKlkEwvhAt-K7zgwcy9UPcLon0i1",
      "authorship_tag": "ABX9TyNlisGkgt5niYXp1lnwqzrS",
      "include_colab_link": true
    },
    "kernelspec": {
      "display_name": "Python 3",
      "name": "python3"
    },
    "language_info": {
      "name": "python"
    },
    "widgets": {
      "application/vnd.jupyter.widget-state+json": {
        "1bd5f55fbf6a427293258813190537bb": {
          "model_module": "@jupyter-widgets/controls",
          "model_module_version": "1.5.0",
          "model_name": "HTMLModel",
          "state": {
            "_dom_classes": [],
            "_model_module": "@jupyter-widgets/controls",
            "_model_module_version": "1.5.0",
            "_model_name": "HTMLModel",
            "_view_count": null,
            "_view_module": "@jupyter-widgets/controls",
            "_view_module_version": "1.5.0",
            "_view_name": "HTMLView",
            "description": "",
            "description_tooltip": null,
            "layout": "IPY_MODEL_e472ae0a1107474d9924c5d2bc55e73b",
            "placeholder": "​",
            "style": "IPY_MODEL_a6ec473432994dadb050416dacd9dd9f",
            "value": " 165M/165M [00:03&lt;00:00, 63.4MB/s]"
          }
        },
        "5a2b4db43081413ca7ed88a2125bc48f": {
          "model_module": "@jupyter-widgets/base",
          "model_module_version": "1.2.0",
          "model_name": "LayoutModel",
          "state": {
            "_model_module": "@jupyter-widgets/base",
            "_model_module_version": "1.2.0",
            "_model_name": "LayoutModel",
            "_view_count": null,
            "_view_module": "@jupyter-widgets/base",
            "_view_module_version": "1.2.0",
            "_view_name": "LayoutView",
            "align_content": null,
            "align_items": null,
            "align_self": null,
            "border": null,
            "bottom": null,
            "display": null,
            "flex": null,
            "flex_flow": null,
            "grid_area": null,
            "grid_auto_columns": null,
            "grid_auto_flow": null,
            "grid_auto_rows": null,
            "grid_column": null,
            "grid_gap": null,
            "grid_row": null,
            "grid_template_areas": null,
            "grid_template_columns": null,
            "grid_template_rows": null,
            "height": null,
            "justify_content": null,
            "justify_items": null,
            "left": null,
            "margin": null,
            "max_height": null,
            "max_width": null,
            "min_height": null,
            "min_width": null,
            "object_fit": null,
            "object_position": null,
            "order": null,
            "overflow": null,
            "overflow_x": null,
            "overflow_y": null,
            "padding": null,
            "right": null,
            "top": null,
            "visibility": null,
            "width": null
          }
        },
        "67168e9cd2bc47acb8b520ff43dad735": {
          "model_module": "@jupyter-widgets/controls",
          "model_module_version": "1.5.0",
          "model_name": "DescriptionStyleModel",
          "state": {
            "_model_module": "@jupyter-widgets/controls",
            "_model_module_version": "1.5.0",
            "_model_name": "DescriptionStyleModel",
            "_view_count": null,
            "_view_module": "@jupyter-widgets/base",
            "_view_module_version": "1.2.0",
            "_view_name": "StyleView",
            "description_width": ""
          }
        },
        "6a0ef1686621461c88c9948f926b57de": {
          "model_module": "@jupyter-widgets/base",
          "model_module_version": "1.2.0",
          "model_name": "LayoutModel",
          "state": {
            "_model_module": "@jupyter-widgets/base",
            "_model_module_version": "1.2.0",
            "_model_name": "LayoutModel",
            "_view_count": null,
            "_view_module": "@jupyter-widgets/base",
            "_view_module_version": "1.2.0",
            "_view_name": "LayoutView",
            "align_content": null,
            "align_items": null,
            "align_self": null,
            "border": null,
            "bottom": null,
            "display": null,
            "flex": null,
            "flex_flow": null,
            "grid_area": null,
            "grid_auto_columns": null,
            "grid_auto_flow": null,
            "grid_auto_rows": null,
            "grid_column": null,
            "grid_gap": null,
            "grid_row": null,
            "grid_template_areas": null,
            "grid_template_columns": null,
            "grid_template_rows": null,
            "height": null,
            "justify_content": null,
            "justify_items": null,
            "left": null,
            "margin": null,
            "max_height": null,
            "max_width": null,
            "min_height": null,
            "min_width": null,
            "object_fit": null,
            "object_position": null,
            "order": null,
            "overflow": null,
            "overflow_x": null,
            "overflow_y": null,
            "padding": null,
            "right": null,
            "top": null,
            "visibility": null,
            "width": null
          }
        },
        "6f93f6099179484ea483fd7035fc58af": {
          "model_module": "@jupyter-widgets/base",
          "model_module_version": "1.2.0",
          "model_name": "LayoutModel",
          "state": {
            "_model_module": "@jupyter-widgets/base",
            "_model_module_version": "1.2.0",
            "_model_name": "LayoutModel",
            "_view_count": null,
            "_view_module": "@jupyter-widgets/base",
            "_view_module_version": "1.2.0",
            "_view_name": "LayoutView",
            "align_content": null,
            "align_items": null,
            "align_self": null,
            "border": null,
            "bottom": null,
            "display": null,
            "flex": null,
            "flex_flow": null,
            "grid_area": null,
            "grid_auto_columns": null,
            "grid_auto_flow": null,
            "grid_auto_rows": null,
            "grid_column": null,
            "grid_gap": null,
            "grid_row": null,
            "grid_template_areas": null,
            "grid_template_columns": null,
            "grid_template_rows": null,
            "height": null,
            "justify_content": null,
            "justify_items": null,
            "left": null,
            "margin": null,
            "max_height": null,
            "max_width": null,
            "min_height": null,
            "min_width": null,
            "object_fit": null,
            "object_position": null,
            "order": null,
            "overflow": null,
            "overflow_x": null,
            "overflow_y": null,
            "padding": null,
            "right": null,
            "top": null,
            "visibility": null,
            "width": null
          }
        },
        "9dbf4382f83c4703bd3bfb680f5512e7": {
          "model_module": "@jupyter-widgets/controls",
          "model_module_version": "1.5.0",
          "model_name": "FloatProgressModel",
          "state": {
            "_dom_classes": [],
            "_model_module": "@jupyter-widgets/controls",
            "_model_module_version": "1.5.0",
            "_model_name": "FloatProgressModel",
            "_view_count": null,
            "_view_module": "@jupyter-widgets/controls",
            "_view_module_version": "1.5.0",
            "_view_name": "ProgressView",
            "bar_style": "success",
            "description": "",
            "description_tooltip": null,
            "layout": "IPY_MODEL_5a2b4db43081413ca7ed88a2125bc48f",
            "max": 173394125,
            "min": 0,
            "orientation": "horizontal",
            "style": "IPY_MODEL_c1d0a4f7f79d470d99da325dbe14d018",
            "value": 173394125
          }
        },
        "a6ec473432994dadb050416dacd9dd9f": {
          "model_module": "@jupyter-widgets/controls",
          "model_module_version": "1.5.0",
          "model_name": "DescriptionStyleModel",
          "state": {
            "_model_module": "@jupyter-widgets/controls",
            "_model_module_version": "1.5.0",
            "_model_name": "DescriptionStyleModel",
            "_view_count": null,
            "_view_module": "@jupyter-widgets/base",
            "_view_module_version": "1.2.0",
            "_view_name": "StyleView",
            "description_width": ""
          }
        },
        "c1d0a4f7f79d470d99da325dbe14d018": {
          "model_module": "@jupyter-widgets/controls",
          "model_module_version": "1.5.0",
          "model_name": "ProgressStyleModel",
          "state": {
            "_model_module": "@jupyter-widgets/controls",
            "_model_module_version": "1.5.0",
            "_model_name": "ProgressStyleModel",
            "_view_count": null,
            "_view_module": "@jupyter-widgets/base",
            "_view_module_version": "1.2.0",
            "_view_name": "StyleView",
            "bar_color": null,
            "description_width": ""
          }
        },
        "cd45463000194330a5af51105a566d25": {
          "model_module": "@jupyter-widgets/controls",
          "model_module_version": "1.5.0",
          "model_name": "HBoxModel",
          "state": {
            "_dom_classes": [],
            "_model_module": "@jupyter-widgets/controls",
            "_model_module_version": "1.5.0",
            "_model_name": "HBoxModel",
            "_view_count": null,
            "_view_module": "@jupyter-widgets/controls",
            "_view_module_version": "1.5.0",
            "_view_name": "HBoxView",
            "box_style": "",
            "children": [
              "IPY_MODEL_cffd3514f2c245a6837ea4519a3dcb73",
              "IPY_MODEL_9dbf4382f83c4703bd3bfb680f5512e7",
              "IPY_MODEL_1bd5f55fbf6a427293258813190537bb"
            ],
            "layout": "IPY_MODEL_6f93f6099179484ea483fd7035fc58af"
          }
        },
        "cffd3514f2c245a6837ea4519a3dcb73": {
          "model_module": "@jupyter-widgets/controls",
          "model_module_version": "1.5.0",
          "model_name": "HTMLModel",
          "state": {
            "_dom_classes": [],
            "_model_module": "@jupyter-widgets/controls",
            "_model_module_version": "1.5.0",
            "_model_name": "HTMLModel",
            "_view_count": null,
            "_view_module": "@jupyter-widgets/controls",
            "_view_module_version": "1.5.0",
            "_view_name": "HTMLView",
            "description": "",
            "description_tooltip": null,
            "layout": "IPY_MODEL_6a0ef1686621461c88c9948f926b57de",
            "placeholder": "​",
            "style": "IPY_MODEL_67168e9cd2bc47acb8b520ff43dad735",
            "value": "100%"
          }
        },
        "e472ae0a1107474d9924c5d2bc55e73b": {
          "model_module": "@jupyter-widgets/base",
          "model_module_version": "1.2.0",
          "model_name": "LayoutModel",
          "state": {
            "_model_module": "@jupyter-widgets/base",
            "_model_module_version": "1.2.0",
            "_model_name": "LayoutModel",
            "_view_count": null,
            "_view_module": "@jupyter-widgets/base",
            "_view_module_version": "1.2.0",
            "_view_name": "LayoutView",
            "align_content": null,
            "align_items": null,
            "align_self": null,
            "border": null,
            "bottom": null,
            "display": null,
            "flex": null,
            "flex_flow": null,
            "grid_area": null,
            "grid_auto_columns": null,
            "grid_auto_flow": null,
            "grid_auto_rows": null,
            "grid_column": null,
            "grid_gap": null,
            "grid_row": null,
            "grid_template_areas": null,
            "grid_template_columns": null,
            "grid_template_rows": null,
            "height": null,
            "justify_content": null,
            "justify_items": null,
            "left": null,
            "margin": null,
            "max_height": null,
            "max_width": null,
            "min_height": null,
            "min_width": null,
            "object_fit": null,
            "object_position": null,
            "order": null,
            "overflow": null,
            "overflow_x": null,
            "overflow_y": null,
            "padding": null,
            "right": null,
            "top": null,
            "visibility": null,
            "width": null
          }
        },
        "c88a47ace59a4afdbb4130dbfe02dbc8": {
          "model_module": "@jupyter-widgets/controls",
          "model_name": "HBoxModel",
          "model_module_version": "1.5.0",
          "state": {
            "_dom_classes": [],
            "_model_module": "@jupyter-widgets/controls",
            "_model_module_version": "1.5.0",
            "_model_name": "HBoxModel",
            "_view_count": null,
            "_view_module": "@jupyter-widgets/controls",
            "_view_module_version": "1.5.0",
            "_view_name": "HBoxView",
            "box_style": "",
            "children": [
              "IPY_MODEL_749ebd9557814a208d41e722f2c78492",
              "IPY_MODEL_09d9a1dd29cc4bf2aec7e12a63233e09",
              "IPY_MODEL_a806d667ceb446139aaafd22cfb23f43"
            ],
            "layout": "IPY_MODEL_22b822e95bd144f4893f6d4b2d877231"
          }
        },
        "749ebd9557814a208d41e722f2c78492": {
          "model_module": "@jupyter-widgets/controls",
          "model_name": "HTMLModel",
          "model_module_version": "1.5.0",
          "state": {
            "_dom_classes": [],
            "_model_module": "@jupyter-widgets/controls",
            "_model_module_version": "1.5.0",
            "_model_name": "HTMLModel",
            "_view_count": null,
            "_view_module": "@jupyter-widgets/controls",
            "_view_module_version": "1.5.0",
            "_view_name": "HTMLView",
            "description": "",
            "description_tooltip": null,
            "layout": "IPY_MODEL_6e1e4a637e2e404e93d1d31ea4878e54",
            "placeholder": "​",
            "style": "IPY_MODEL_349c24ea27e9491fa600e6e7205a5943",
            "value": "100%"
          }
        },
        "09d9a1dd29cc4bf2aec7e12a63233e09": {
          "model_module": "@jupyter-widgets/controls",
          "model_name": "FloatProgressModel",
          "model_module_version": "1.5.0",
          "state": {
            "_dom_classes": [],
            "_model_module": "@jupyter-widgets/controls",
            "_model_module_version": "1.5.0",
            "_model_name": "FloatProgressModel",
            "_view_count": null,
            "_view_module": "@jupyter-widgets/controls",
            "_view_module_version": "1.5.0",
            "_view_name": "ProgressView",
            "bar_style": "success",
            "description": "",
            "description_tooltip": null,
            "layout": "IPY_MODEL_6ec8922c62ec4bd6adb3623437d8cb86",
            "max": 32342954,
            "min": 0,
            "orientation": "horizontal",
            "style": "IPY_MODEL_06c8e29365314e72950b636eb102e18b",
            "value": 32342954
          }
        },
        "a806d667ceb446139aaafd22cfb23f43": {
          "model_module": "@jupyter-widgets/controls",
          "model_name": "HTMLModel",
          "model_module_version": "1.5.0",
          "state": {
            "_dom_classes": [],
            "_model_module": "@jupyter-widgets/controls",
            "_model_module_version": "1.5.0",
            "_model_name": "HTMLModel",
            "_view_count": null,
            "_view_module": "@jupyter-widgets/controls",
            "_view_module_version": "1.5.0",
            "_view_name": "HTMLView",
            "description": "",
            "description_tooltip": null,
            "layout": "IPY_MODEL_7353f8943dfc4362b3fd82d778debd70",
            "placeholder": "​",
            "style": "IPY_MODEL_7679574ed15a4727a03ff5306085d775",
            "value": " 30.8M/30.8M [00:00&lt;00:00, 124MB/s]"
          }
        },
        "22b822e95bd144f4893f6d4b2d877231": {
          "model_module": "@jupyter-widgets/base",
          "model_name": "LayoutModel",
          "model_module_version": "1.2.0",
          "state": {
            "_model_module": "@jupyter-widgets/base",
            "_model_module_version": "1.2.0",
            "_model_name": "LayoutModel",
            "_view_count": null,
            "_view_module": "@jupyter-widgets/base",
            "_view_module_version": "1.2.0",
            "_view_name": "LayoutView",
            "align_content": null,
            "align_items": null,
            "align_self": null,
            "border": null,
            "bottom": null,
            "display": null,
            "flex": null,
            "flex_flow": null,
            "grid_area": null,
            "grid_auto_columns": null,
            "grid_auto_flow": null,
            "grid_auto_rows": null,
            "grid_column": null,
            "grid_gap": null,
            "grid_row": null,
            "grid_template_areas": null,
            "grid_template_columns": null,
            "grid_template_rows": null,
            "height": null,
            "justify_content": null,
            "justify_items": null,
            "left": null,
            "margin": null,
            "max_height": null,
            "max_width": null,
            "min_height": null,
            "min_width": null,
            "object_fit": null,
            "object_position": null,
            "order": null,
            "overflow": null,
            "overflow_x": null,
            "overflow_y": null,
            "padding": null,
            "right": null,
            "top": null,
            "visibility": null,
            "width": null
          }
        },
        "6e1e4a637e2e404e93d1d31ea4878e54": {
          "model_module": "@jupyter-widgets/base",
          "model_name": "LayoutModel",
          "model_module_version": "1.2.0",
          "state": {
            "_model_module": "@jupyter-widgets/base",
            "_model_module_version": "1.2.0",
            "_model_name": "LayoutModel",
            "_view_count": null,
            "_view_module": "@jupyter-widgets/base",
            "_view_module_version": "1.2.0",
            "_view_name": "LayoutView",
            "align_content": null,
            "align_items": null,
            "align_self": null,
            "border": null,
            "bottom": null,
            "display": null,
            "flex": null,
            "flex_flow": null,
            "grid_area": null,
            "grid_auto_columns": null,
            "grid_auto_flow": null,
            "grid_auto_rows": null,
            "grid_column": null,
            "grid_gap": null,
            "grid_row": null,
            "grid_template_areas": null,
            "grid_template_columns": null,
            "grid_template_rows": null,
            "height": null,
            "justify_content": null,
            "justify_items": null,
            "left": null,
            "margin": null,
            "max_height": null,
            "max_width": null,
            "min_height": null,
            "min_width": null,
            "object_fit": null,
            "object_position": null,
            "order": null,
            "overflow": null,
            "overflow_x": null,
            "overflow_y": null,
            "padding": null,
            "right": null,
            "top": null,
            "visibility": null,
            "width": null
          }
        },
        "349c24ea27e9491fa600e6e7205a5943": {
          "model_module": "@jupyter-widgets/controls",
          "model_name": "DescriptionStyleModel",
          "model_module_version": "1.5.0",
          "state": {
            "_model_module": "@jupyter-widgets/controls",
            "_model_module_version": "1.5.0",
            "_model_name": "DescriptionStyleModel",
            "_view_count": null,
            "_view_module": "@jupyter-widgets/base",
            "_view_module_version": "1.2.0",
            "_view_name": "StyleView",
            "description_width": ""
          }
        },
        "6ec8922c62ec4bd6adb3623437d8cb86": {
          "model_module": "@jupyter-widgets/base",
          "model_name": "LayoutModel",
          "model_module_version": "1.2.0",
          "state": {
            "_model_module": "@jupyter-widgets/base",
            "_model_module_version": "1.2.0",
            "_model_name": "LayoutModel",
            "_view_count": null,
            "_view_module": "@jupyter-widgets/base",
            "_view_module_version": "1.2.0",
            "_view_name": "LayoutView",
            "align_content": null,
            "align_items": null,
            "align_self": null,
            "border": null,
            "bottom": null,
            "display": null,
            "flex": null,
            "flex_flow": null,
            "grid_area": null,
            "grid_auto_columns": null,
            "grid_auto_flow": null,
            "grid_auto_rows": null,
            "grid_column": null,
            "grid_gap": null,
            "grid_row": null,
            "grid_template_areas": null,
            "grid_template_columns": null,
            "grid_template_rows": null,
            "height": null,
            "justify_content": null,
            "justify_items": null,
            "left": null,
            "margin": null,
            "max_height": null,
            "max_width": null,
            "min_height": null,
            "min_width": null,
            "object_fit": null,
            "object_position": null,
            "order": null,
            "overflow": null,
            "overflow_x": null,
            "overflow_y": null,
            "padding": null,
            "right": null,
            "top": null,
            "visibility": null,
            "width": null
          }
        },
        "06c8e29365314e72950b636eb102e18b": {
          "model_module": "@jupyter-widgets/controls",
          "model_name": "ProgressStyleModel",
          "model_module_version": "1.5.0",
          "state": {
            "_model_module": "@jupyter-widgets/controls",
            "_model_module_version": "1.5.0",
            "_model_name": "ProgressStyleModel",
            "_view_count": null,
            "_view_module": "@jupyter-widgets/base",
            "_view_module_version": "1.2.0",
            "_view_name": "StyleView",
            "bar_color": null,
            "description_width": ""
          }
        },
        "7353f8943dfc4362b3fd82d778debd70": {
          "model_module": "@jupyter-widgets/base",
          "model_name": "LayoutModel",
          "model_module_version": "1.2.0",
          "state": {
            "_model_module": "@jupyter-widgets/base",
            "_model_module_version": "1.2.0",
            "_model_name": "LayoutModel",
            "_view_count": null,
            "_view_module": "@jupyter-widgets/base",
            "_view_module_version": "1.2.0",
            "_view_name": "LayoutView",
            "align_content": null,
            "align_items": null,
            "align_self": null,
            "border": null,
            "bottom": null,
            "display": null,
            "flex": null,
            "flex_flow": null,
            "grid_area": null,
            "grid_auto_columns": null,
            "grid_auto_flow": null,
            "grid_auto_rows": null,
            "grid_column": null,
            "grid_gap": null,
            "grid_row": null,
            "grid_template_areas": null,
            "grid_template_columns": null,
            "grid_template_rows": null,
            "height": null,
            "justify_content": null,
            "justify_items": null,
            "left": null,
            "margin": null,
            "max_height": null,
            "max_width": null,
            "min_height": null,
            "min_width": null,
            "object_fit": null,
            "object_position": null,
            "order": null,
            "overflow": null,
            "overflow_x": null,
            "overflow_y": null,
            "padding": null,
            "right": null,
            "top": null,
            "visibility": null,
            "width": null
          }
        },
        "7679574ed15a4727a03ff5306085d775": {
          "model_module": "@jupyter-widgets/controls",
          "model_name": "DescriptionStyleModel",
          "model_module_version": "1.5.0",
          "state": {
            "_model_module": "@jupyter-widgets/controls",
            "_model_module_version": "1.5.0",
            "_model_name": "DescriptionStyleModel",
            "_view_count": null,
            "_view_module": "@jupyter-widgets/base",
            "_view_module_version": "1.2.0",
            "_view_name": "StyleView",
            "description_width": ""
          }
        }
      }
    }
  },
  "nbformat": 4,
  "nbformat_minor": 0
}